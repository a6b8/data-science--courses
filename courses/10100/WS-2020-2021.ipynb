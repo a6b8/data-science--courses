{
 "cells": [
  {
   "cell_type": "markdown",
   "metadata": {},
   "source": [
    "# WS 2020/2021"
   ]
  },
  {
   "cell_type": "markdown",
   "metadata": {},
   "source": [
    "## Aufgabe 1 (Python)"
   ]
  },
  {
   "cell_type": "markdown",
   "metadata": {},
   "source": [
    "### (a)"
   ]
  },
  {
   "cell_type": "code",
   "execution_count": 1,
   "metadata": {
    "ExecuteTime": {
     "end_time": "2020-12-14T14:56:12.671365Z",
     "start_time": "2020-12-14T14:56:12.665244Z"
    }
   },
   "outputs": [
    {
     "name": "stdout",
     "output_type": "stream",
     "text": [
      "Result:\t\t['Hallo', 'Welt', 'hier']\n"
     ]
    }
   ],
   "source": [
    "r = 'Hallo Welt hier bin ich'.split()[:-2]\n",
    "print( \"Result:\\t\\t\" + str( r ) )"
   ]
  },
  {
   "cell_type": "markdown",
   "metadata": {},
   "source": [
    "### (b)"
   ]
  },
  {
   "cell_type": "code",
   "execution_count": 2,
   "metadata": {
    "ExecuteTime": {
     "end_time": "2020-12-15T12:24:23.844389Z",
     "start_time": "2020-12-15T12:24:23.822759Z"
    }
   },
   "outputs": [
    {
     "name": "stdout",
     "output_type": "stream",
     "text": [
      "Result:\t\t['Hallo', 'welt', 'hier', 'bin', 'ich']\n",
      "Result:\t\twelt\n"
     ]
    }
   ],
   "source": [
    "r = [ x for x in 'Hallo welt hier bin ich'.split() ]\n",
    "print( \"Result:\\t\\t\" + str( r ) )\n",
    "\n",
    "r = max( [ x for x in 'Hallo welt hier bin ich'.split() ] )\n",
    "print( \"Result:\\t\\t\" + str( r ) )"
   ]
  },
  {
   "cell_type": "markdown",
   "metadata": {},
   "source": [
    "### (c)"
   ]
  },
  {
   "cell_type": "code",
   "execution_count": 3,
   "metadata": {
    "ExecuteTime": {
     "end_time": "2020-12-14T14:56:13.354743Z",
     "start_time": "2020-12-14T14:56:13.347063Z"
    }
   },
   "outputs": [
    {
     "name": "stdout",
     "output_type": "stream",
     "text": [
      "Result:\t\t48\n"
     ]
    }
   ],
   "source": [
    "r = ( 12 + 12 ) * 2\n",
    "print( \"Result:\\t\\t\" + str( r ) )"
   ]
  },
  {
   "cell_type": "markdown",
   "metadata": {},
   "source": [
    "### (d)"
   ]
  },
  {
   "cell_type": "code",
   "execution_count": 4,
   "metadata": {
    "ExecuteTime": {
     "end_time": "2020-12-14T14:56:13.873518Z",
     "start_time": "2020-12-14T14:56:13.659132Z"
    }
   },
   "outputs": [
    {
     "name": "stdout",
     "output_type": "stream",
     "text": [
      "Result:\t\t\n"
     ]
    },
    {
     "ename": "TypeError",
     "evalue": "<lambda>() missing 1 required positional argument: 'y'",
     "output_type": "error",
     "traceback": [
      "\u001b[0;31m---------------------------------------------------------------------------\u001b[0m",
      "\u001b[0;31mTypeError\u001b[0m                                 Traceback (most recent call last)",
      "\u001b[0;32m<ipython-input-4-3a0c6eede412>\u001b[0m in \u001b[0;36m<module>\u001b[0;34m\u001b[0m\n\u001b[1;32m      1\u001b[0m \u001b[0mprint\u001b[0m\u001b[0;34m(\u001b[0m \u001b[0;34m\"Result:\\t\\t\"\u001b[0m\u001b[0;34m)\u001b[0m\u001b[0;34m\u001b[0m\u001b[0;34m\u001b[0m\u001b[0m\n\u001b[0;32m----> 2\u001b[0;31m \u001b[0;34m(\u001b[0m \u001b[0;32mlambda\u001b[0m \u001b[0mx\u001b[0m\u001b[0;34m,\u001b[0m \u001b[0my\u001b[0m\u001b[0;34m:\u001b[0m \u001b[0mx\u001b[0m \u001b[0;34m+\u001b[0m \u001b[0;36m2\u001b[0m \u001b[0;34m)\u001b[0m\u001b[0;34m(\u001b[0m \u001b[0;36m10\u001b[0m \u001b[0;34m)\u001b[0m\u001b[0;34m\u001b[0m\u001b[0;34m\u001b[0m\u001b[0m\n\u001b[0m",
      "\u001b[0;31mTypeError\u001b[0m: <lambda>() missing 1 required positional argument: 'y'"
     ]
    }
   ],
   "source": [
    "print( \"Result:\\t\\t\")\n",
    "( lambda x, y: x + 2 )( 10 )   "
   ]
  },
  {
   "cell_type": "markdown",
   "metadata": {},
   "source": [
    "### (e)"
   ]
  },
  {
   "cell_type": "code",
   "execution_count": 5,
   "metadata": {
    "ExecuteTime": {
     "end_time": "2020-12-14T14:56:13.994460Z",
     "start_time": "2020-12-14T14:56:13.984066Z"
    }
   },
   "outputs": [
    {
     "name": "stdout",
     "output_type": "stream",
     "text": [
      "Result:\t\t[1, 2]\n"
     ]
    }
   ],
   "source": [
    "r = [ 1 ] + [ 2 ]\n",
    "print( \"Result:\\t\\t\" + str( r ) )"
   ]
  },
  {
   "cell_type": "markdown",
   "metadata": {},
   "source": [
    "### (f)"
   ]
  },
  {
   "cell_type": "code",
   "execution_count": 3,
   "metadata": {
    "ExecuteTime": {
     "end_time": "2020-12-15T12:26:47.237434Z",
     "start_time": "2020-12-15T12:26:47.229662Z"
    }
   },
   "outputs": [
    {
     "name": "stdout",
     "output_type": "stream",
     "text": [
      "Result:\t\t1+21+2\n"
     ]
    }
   ],
   "source": [
    "r = ( 1 + 1 ) * '1+2'\n",
    "print( \"Result:\\t\\t\" + str( r ) )"
   ]
  },
  {
   "cell_type": "markdown",
   "metadata": {},
   "source": [
    "### (g)"
   ]
  },
  {
   "cell_type": "code",
   "execution_count": 7,
   "metadata": {
    "ExecuteTime": {
     "end_time": "2020-12-14T14:56:14.664917Z",
     "start_time": "2020-12-14T14:56:14.652820Z"
    }
   },
   "outputs": [
    {
     "name": "stdout",
     "output_type": "stream",
     "text": [
      "Result:\t\t10000000000\n",
      "Result:\t\t10\n"
     ]
    }
   ],
   "source": [
    "r = str( 10 ** 10 )\n",
    "print( \"Result:\\t\\t\" + r )\n",
    "\n",
    "r = str( 10 ** 10 )[ :2 ]\n",
    "print( \"Result:\\t\\t\" + r )"
   ]
  },
  {
   "cell_type": "markdown",
   "metadata": {},
   "source": [
    "### (h)"
   ]
  },
  {
   "cell_type": "code",
   "execution_count": 8,
   "metadata": {
    "ExecuteTime": {
     "end_time": "2020-12-14T14:56:15.487665Z",
     "start_time": "2020-12-14T14:56:15.480221Z"
    }
   },
   "outputs": [
    {
     "name": "stdout",
     "output_type": "stream",
     "text": [
      "Result:\t\tollah\n"
     ]
    }
   ],
   "source": [
    "r = 'hallo'[::-1]\n",
    "print( \"Result:\\t\\t\" + str( r ) )"
   ]
  },
  {
   "cell_type": "markdown",
   "metadata": {},
   "source": [
    "## Aufgabe 2 (R lang)"
   ]
  },
  {
   "cell_type": "markdown",
   "metadata": {},
   "source": [
    "### (a)"
   ]
  },
  {
   "cell_type": "code",
   "execution_count": 1,
   "metadata": {
    "ExecuteTime": {
     "end_time": "2020-12-15T12:27:47.234723Z",
     "start_time": "2020-12-15T12:27:46.980Z"
    }
   },
   "outputs": [
    {
     "name": "stdout",
     "output_type": "stream",
     "text": [
      "Result:\t\t 0 4"
     ]
    }
   ],
   "source": [
    "r = c( 3, 5 ) - c( 3, 1 )\n",
    "cat( \"Result:\\t\\t\", r )"
   ]
  },
  {
   "cell_type": "markdown",
   "metadata": {
    "ExecuteTime": {
     "end_time": "2020-12-14T08:20:56.857557Z",
     "start_time": "2020-12-14T08:20:56.834Z"
    }
   },
   "source": [
    "### (b)"
   ]
  },
  {
   "cell_type": "code",
   "execution_count": 2,
   "metadata": {
    "ExecuteTime": {
     "end_time": "2020-12-14T14:56:24.283112Z",
     "start_time": "2020-12-14T14:56:24.165Z"
    }
   },
   "outputs": [
    {
     "name": "stdout",
     "output_type": "stream",
     "text": [
      "Result:\t\t TRUE FALSE"
     ]
    }
   ],
   "source": [
    "r = c( 1, 5 ) %in% c( 1, 2, 0, 4, 1, 7, 9 )\n",
    "cat( \"Result:\\t\\t\", r )"
   ]
  },
  {
   "cell_type": "markdown",
   "metadata": {},
   "source": [
    "### (c)"
   ]
  },
  {
   "cell_type": "code",
   "execution_count": 3,
   "metadata": {
    "ExecuteTime": {
     "end_time": "2020-12-14T14:56:24.541517Z",
     "start_time": "2020-12-14T14:56:24.518Z"
    }
   },
   "outputs": [
    {
     "name": "stdout",
     "output_type": "stream",
     "text": [
      "Result:\t\t 0 3 0 33"
     ]
    }
   ],
   "source": [
    "r = c( 2, 1, 4, 11 ) * c( 0, 3 )\n",
    "cat( \"Result:\\t\\t\", r )"
   ]
  },
  {
   "cell_type": "markdown",
   "metadata": {},
   "source": [
    "### (d)"
   ]
  },
  {
   "cell_type": "code",
   "execution_count": 4,
   "metadata": {
    "ExecuteTime": {
     "end_time": "2020-12-14T14:56:24.896568Z",
     "start_time": "2020-12-14T14:56:24.850Z"
    }
   },
   "outputs": [
    {
     "name": "stdout",
     "output_type": "stream",
     "text": [
      "Result 1:6:\t 1 2 3 4 5 6 \n",
      "Result 1:2:\t 1 2 \n",
      "Result:\t\t 1 1 3 2 5 3"
     ]
    }
   ],
   "source": [
    "r = 1:6\n",
    "cat( \"Result 1:6:\\t\", r, \"\\n\" )\n",
    "\n",
    "r = 1:2\n",
    "cat( \"Result 1:2:\\t\", r, \"\\n\" )\n",
    "\n",
    "r = 1:6 / 1:2\n",
    "cat( \"Result:\\t\\t\", r )"
   ]
  },
  {
   "cell_type": "markdown",
   "metadata": {},
   "source": [
    "### (e)"
   ]
  },
  {
   "cell_type": "code",
   "execution_count": 5,
   "metadata": {
    "ExecuteTime": {
     "end_time": "2020-12-14T14:56:25.257329Z",
     "start_time": "2020-12-14T14:56:25.196Z"
    }
   },
   "outputs": [
    {
     "name": "stdout",
     "output_type": "stream",
     "text": [
      "Result (1:10):\t 1 2 3 4 5 6 7 8 9 10 \n",
      "Result 1:5*2:\t 2 4 6 8 10 \n",
      "Result:\t\t 2 4 6 8 10 \n",
      "Result:\t\t 4 8 12 16 20"
     ]
    }
   ],
   "source": [
    "r = ( 1:10 )\n",
    "cat( \"Result (1:10):\\t\", r, \"\\n\" )\n",
    "\n",
    "r = 1:5 * 2\n",
    "cat( \"Result 1:5*2:\\t\", r, \"\\n\" )\n",
    "\n",
    "r = ( 1:10 )[ 1:5 * 2 ]\n",
    "cat( \"Result:\\t\\t\", r, \"\\n\" )\n",
    "\n",
    "r = ( 1:10 )[ 1:5 * 2 ] * 2\n",
    "cat( \"Result:\\t\\t\", r )"
   ]
  },
  {
   "cell_type": "markdown",
   "metadata": {},
   "source": [
    "### (f)"
   ]
  },
  {
   "cell_type": "code",
   "execution_count": 6,
   "metadata": {
    "ExecuteTime": {
     "end_time": "2020-12-14T14:56:25.672605Z",
     "start_time": "2020-12-14T14:56:25.542Z"
    }
   },
   "outputs": [
    {
     "name": "stdout",
     "output_type": "stream",
     "text": [
      "Result:\n",
      "[[1]]\n",
      " [1] \"H\" \"a\" \"l\" \"l\" \"i\" \"H\" \"a\" \"l\" \"l\" \"o\"\n",
      "\n",
      "Result:\n",
      "\n",
      "H a i l o \n",
      "2 2 1 4 1 \n"
     ]
    }
   ],
   "source": [
    "r = strsplit( \"HalliHallo\", \"\" )\n",
    "cat( \"Result:\\n\" ) \n",
    "print( r )\n",
    "\n",
    "r = table( strsplit( \"HalliHallo\", \"\" ) )\n",
    "cat(\"Result:\\n\" )\n",
    "print( r )"
   ]
  },
  {
   "cell_type": "markdown",
   "metadata": {
    "ExecuteTime": {
     "end_time": "2020-12-14T08:34:45.581475Z",
     "start_time": "2020-12-14T08:34:45.549Z"
    }
   },
   "source": [
    "### (g)"
   ]
  },
  {
   "cell_type": "code",
   "execution_count": 7,
   "metadata": {
    "ExecuteTime": {
     "end_time": "2020-12-14T14:56:25.934503Z",
     "start_time": "2020-12-14T14:56:25.888Z"
    }
   },
   "outputs": [
    {
     "name": "stdout",
     "output_type": "stream",
     "text": [
      "Result:\n"
     ]
    },
    {
     "data": {
      "text/html": [
       "<table>\n",
       "<tbody>\n",
       "\t<tr><td>1 </td><td>3 </td><td>5 </td><td>7 </td><td> 9</td></tr>\n",
       "\t<tr><td>2 </td><td>4 </td><td>6 </td><td>8 </td><td>10</td></tr>\n",
       "</tbody>\n",
       "</table>\n"
      ],
      "text/latex": [
       "\\begin{tabular}{lllll}\n",
       "\t 1  & 3  & 5  & 7  &  9\\\\\n",
       "\t 2  & 4  & 6  & 8  & 10\\\\\n",
       "\\end{tabular}\n"
      ],
      "text/markdown": [
       "\n",
       "| 1  | 3  | 5  | 7  |  9 |\n",
       "| 2  | 4  | 6  | 8  | 10 |\n",
       "\n"
      ],
      "text/plain": [
       "     [,1] [,2] [,3] [,4] [,5]\n",
       "[1,] 1    3    5    7     9  \n",
       "[2,] 2    4    6    8    10  "
      ]
     },
     "metadata": {},
     "output_type": "display_data"
    }
   ],
   "source": [
    "cat( \"Result:\\n\" )\n",
    "matrix( 1:10, ncol=5 )"
   ]
  },
  {
   "cell_type": "markdown",
   "metadata": {},
   "source": [
    "### (h)"
   ]
  },
  {
   "cell_type": "code",
   "execution_count": 8,
   "metadata": {
    "ExecuteTime": {
     "end_time": "2020-12-14T14:56:26.491956Z",
     "start_time": "2020-12-14T14:56:26.435Z"
    }
   },
   "outputs": [
    {
     "name": "stdout",
     "output_type": "stream",
     "text": [
      "Result:\t\t 1 2 3 1 2 2 \n",
      "Result 1:\n"
     ]
    },
    {
     "data": {
      "text/plain": [
       "\n",
       "1 2 3 \n",
       "2 3 1 "
      ]
     },
     "metadata": {},
     "output_type": "display_data"
    },
    {
     "name": "stdout",
     "output_type": "stream",
     "text": [
      "Result 2:\n"
     ]
    },
    {
     "data": {
      "text/plain": [
       "\n",
       " 1  2  3 \n",
       " 8 12  4 "
      ]
     },
     "metadata": {},
     "output_type": "display_data"
    }
   ],
   "source": [
    "r = c( 1, 2, 3, 1, 2, 2 )\n",
    "cat( \"Result:\\t\\t\", r, \"\\n\" )\n",
    "\n",
    "cat( \"Result 1:\\n\" )\n",
    "table( c( 1, 2, 3, 1, 2, 2 ) )\n",
    "\n",
    "cat( \"Result 2:\\n\" )\n",
    "table( c( 1, 2, 3, 1, 2, 2 ) ) * 4 "
   ]
  },
  {
   "cell_type": "markdown",
   "metadata": {},
   "source": [
    "### (i)"
   ]
  },
  {
   "cell_type": "code",
   "execution_count": 9,
   "metadata": {
    "ExecuteTime": {
     "end_time": "2020-12-14T14:56:27.702860Z",
     "start_time": "2020-12-14T14:56:27.664Z"
    }
   },
   "outputs": [
    {
     "name": "stdout",
     "output_type": "stream",
     "text": [
      "Result:\t\t 4 5 6"
     ]
    }
   ],
   "source": [
    "r = sapply( c( 1, 2, 3 ), function( x ) x + 3 )\n",
    "cat( \"Result:\\t\\t\", r)"
   ]
  },
  {
   "cell_type": "markdown",
   "metadata": {},
   "source": [
    "### (j)"
   ]
  },
  {
   "cell_type": "code",
   "execution_count": 14,
   "metadata": {
    "ExecuteTime": {
     "end_time": "2020-12-15T12:44:28.168139Z",
     "start_time": "2020-12-15T12:44:28.133Z"
    }
   },
   "outputs": [
    {
     "name": "stdout",
     "output_type": "stream",
     "text": [
      "rep:\t\t A A A A \n",
      "factor:\t\t 1 1 1 1 2 2 2 2 2 2 \n",
      "Result:\t\t 4 10"
     ]
    }
   ],
   "source": [
    "r = rep( \"A\", 4 )\n",
    "cat( \"rep:\\t\\t\", r, \"\\n\" )\n",
    "\n",
    "r = factor( c( rep( \"A\", 4 ), rep( \"B\", 6 ) ) )\n",
    "cat( \"factor:\\t\\t\", r, \"\\n\" )\n",
    "           \n",
    "r = tapply( 1:10, factor( c( rep( \"A\", 4 ), rep( \"B\", 6 ) ) ), max )\n",
    "cat( \"Result:\\t\\t\", r )"
   ]
  },
  {
   "cell_type": "markdown",
   "metadata": {},
   "source": [
    "## Aufgabe 3 (Numpy)"
   ]
  },
  {
   "cell_type": "code",
   "execution_count": 13,
   "metadata": {
    "ExecuteTime": {
     "end_time": "2020-12-15T12:55:56.131840Z",
     "start_time": "2020-12-15T12:55:56.123876Z"
    }
   },
   "outputs": [],
   "source": [
    "#!pip3 install numpy\n",
    "#!pip3 install pandas\n",
    "#!pip3 install matplotlib\n",
    "\n",
    "import numpy as np\n",
    "import pandas as pd\n",
    "%matplotlib inline"
   ]
  },
  {
   "cell_type": "markdown",
   "metadata": {},
   "source": [
    "### (a)"
   ]
  },
  {
   "cell_type": "code",
   "execution_count": 22,
   "metadata": {
    "ExecuteTime": {
     "end_time": "2020-12-15T12:59:14.754366Z",
     "start_time": "2020-12-15T12:59:14.744128Z"
    }
   },
   "outputs": [
    {
     "name": "stdout",
     "output_type": "stream",
     "text": [
      "Arange:\t\t[ 0  1  2  3  4  5  6  7  8  9 10]\n",
      "Result 1:\t[  0   1   4   9  16  25  36  49  64  81 100]\n",
      "Result 2:\t[  0   4  16  36  64 100]\n"
     ]
    }
   ],
   "source": [
    "r = np.arange( 11 )\n",
    "print( \"Arange:\\t\\t\" + str( r ) )\n",
    "\n",
    "r = np.arange( 11 )**2\n",
    "print( \"Result 1:\\t\" + str( r ) )\n",
    "\n",
    "rr = r[ r%2 == 0 ]\n",
    "print( \"Result 2:\\t\" + str( rr ) )"
   ]
  },
  {
   "cell_type": "markdown",
   "metadata": {},
   "source": [
    "### (b)"
   ]
  },
  {
   "cell_type": "code",
   "execution_count": 46,
   "metadata": {
    "ExecuteTime": {
     "end_time": "2020-12-15T13:08:37.086202Z",
     "start_time": "2020-12-15T13:08:37.064134Z"
    }
   },
   "outputs": [
    {
     "name": "stdout",
     "output_type": "stream",
     "text": [
      "Arange:\t\t[0 1 2 3 4]...\n",
      "Result:\t\t[12 24 48 60 84]...\n"
     ]
    }
   ],
   "source": [
    "r = np.arange( 1000 )\n",
    "print( \"Arange:\\t\\t\" + str( r[:5] ) + '...' )\n",
    "\n",
    "r = r[ ( r%3 == 0 ) & ( r%4 == 0 ) & ( r%9 != 0 ) ]\n",
    "print( \"Result:\\t\\t\" + str( r[:5] ) + '...') "
   ]
  },
  {
   "cell_type": "markdown",
   "metadata": {},
   "source": [
    "### (c)"
   ]
  },
  {
   "cell_type": "code",
   "execution_count": 47,
   "metadata": {
    "ExecuteTime": {
     "end_time": "2020-12-15T13:08:37.922056Z",
     "start_time": "2020-12-15T13:08:37.909467Z"
    }
   },
   "outputs": [
    {
     "name": "stdout",
     "output_type": "stream",
     "text": [
      "Arange:\t\t[0 1 2 3 4]...\n",
      "Boolean:\t[False  True False False False]...\n",
      "Result:\t\t91\n"
     ]
    }
   ],
   "source": [
    "r = np.arange( 1000 )\n",
    "print( \"Arange:\\t\\t\" + str( r[:5] ) + '...' )\n",
    "\n",
    "r = ( ( r%10 == 1 ) & ( r%11 != 0 ) )\n",
    "print( \"Boolean:\\t\" + str( r[:5] ) + '...' )\n",
    "\n",
    "r =  ( ( r%10 == 1 ) & ( r%11 != 0 ) ).sum()\n",
    "print( \"Result:\\t\\t\" + str( r ) )"
   ]
  },
  {
   "cell_type": "markdown",
   "metadata": {},
   "source": [
    "## Aufgabe 4 (Numpy)"
   ]
  },
  {
   "cell_type": "markdown",
   "metadata": {},
   "source": [
    "### (a)"
   ]
  },
  {
   "cell_type": "code",
   "execution_count": 65,
   "metadata": {
    "ExecuteTime": {
     "end_time": "2020-12-15T13:12:18.156540Z",
     "start_time": "2020-12-15T13:12:18.150368Z"
    }
   },
   "outputs": [
    {
     "name": "stdout",
     "output_type": "stream",
     "text": [
      "Values:\t\t[553 838 429 305 323] ...\n",
      "Result:\t\t[23 28 38 27]\n"
     ]
    }
   ],
   "source": [
    "r = np.random.randint( 0, 1000, 100)\n",
    "print( \"Values:\\t\\t\" + str( r[:5] ) + ' ...' )\n",
    "\n",
    "r = r[ r < 50 ]\n",
    "print( \"Result:\\t\\t\" + str( r ) )"
   ]
  },
  {
   "cell_type": "markdown",
   "metadata": {},
   "source": [
    "### (b)"
   ]
  },
  {
   "cell_type": "code",
   "execution_count": 66,
   "metadata": {
    "ExecuteTime": {
     "end_time": "2020-12-15T13:12:19.133057Z",
     "start_time": "2020-12-15T13:12:19.125248Z"
    }
   },
   "outputs": [
    {
     "name": "stdout",
     "output_type": "stream",
     "text": [
      "Values:\t\t[617 928 527  62 570] ...\n",
      "Result:\t\t[928 352 864  64 804] ...\n"
     ]
    }
   ],
   "source": [
    "r = np.random.randint( 0, 1000, 100)\n",
    "print( \"Values:\\t\\t\" + str( r[:5] ) + ' ...' )\n",
    "\n",
    "r = r[ r ** 2 % 16 == 0 ]\n",
    "print( \"Result:\\t\\t\" + str( r[:5] ) + ' ...' )"
   ]
  },
  {
   "cell_type": "markdown",
   "metadata": {},
   "source": [
    "### (c)"
   ]
  },
  {
   "cell_type": "code",
   "execution_count": 72,
   "metadata": {
    "ExecuteTime": {
     "end_time": "2020-12-15T13:14:10.448753Z",
     "start_time": "2020-12-15T13:14:10.439558Z"
    }
   },
   "outputs": [
    {
     "name": "stdout",
     "output_type": "stream",
     "text": [
      "Values:\t\t[922 253 241 572 580] ...\n",
      "Selektion:\t[774 992 147 960  74] ...\n",
      "Selektion:\t568.1\n"
     ]
    }
   ],
   "source": [
    "r = np.random.randint( 0, 1000, 100)\n",
    "print( \"Values:\\t\\t\" + str( r[:5] ) + ' ...' )\n",
    "\n",
    "r = x[ -10: ]\n",
    "print( \"Selektion:\\t\" + str( r[:5] ) + ' ...' )\n",
    "\n",
    "r = x[ -10: ].mean()\n",
    "print( \"Selektion:\\t\" + str( r ) )"
   ]
  },
  {
   "cell_type": "markdown",
   "metadata": {},
   "source": [
    "### (d)"
   ]
  },
  {
   "cell_type": "code",
   "execution_count": 78,
   "metadata": {
    "ExecuteTime": {
     "end_time": "2020-12-15T13:15:48.106978Z",
     "start_time": "2020-12-15T13:15:48.097852Z"
    }
   },
   "outputs": [
    {
     "name": "stdout",
     "output_type": "stream",
     "text": [
      "Values:\t\t[664 231 606 232 468] ...\n",
      "Result:\t\t[ 184.56 -248.44  126.56 -247.44  -11.44] ...\n"
     ]
    }
   ],
   "source": [
    "r = np.random.randint( 0, 1000, 100)\n",
    "print( \"Values:\\t\\t\" + str( r[:5] ) + ' ...' )\n",
    "\n",
    "rr = r - r.mean()\n",
    "print( \"Result:\\t\\t\" + str( rr[:5] ) + ' ...' )"
   ]
  },
  {
   "cell_type": "markdown",
   "metadata": {},
   "source": [
    "### (e)"
   ]
  },
  {
   "cell_type": "code",
   "execution_count": 80,
   "metadata": {
    "ExecuteTime": {
     "end_time": "2020-12-15T13:17:13.861240Z",
     "start_time": "2020-12-15T13:17:13.851242Z"
    }
   },
   "outputs": [
    {
     "name": "stdout",
     "output_type": "stream",
     "text": [
      "Values:\t\t[154 312 252 458 943] ...\n",
      "Result:\t\t[ True  True  True  True  True] ...\n"
     ]
    }
   ],
   "source": [
    "r = np.random.randint( 0, 1000, 100)\n",
    "print( \"Values:\\t\\t\" + str( r[:5] ) + ' ...' )\n",
    "\n",
    "rr = np.absolute ( r - r.mean() ) > 10\n",
    "print( \"Result:\\t\\t\" + str( rr[:5] ) + ' ...' )"
   ]
  },
  {
   "cell_type": "markdown",
   "metadata": {},
   "source": [
    "### (f)"
   ]
  },
  {
   "cell_type": "code",
   "execution_count": 95,
   "metadata": {
    "ExecuteTime": {
     "end_time": "2020-12-15T13:23:31.293857Z",
     "start_time": "2020-12-15T13:23:31.284081Z"
    }
   },
   "outputs": [
    {
     "name": "stdout",
     "output_type": "stream",
     "text": [
      "Values:\t\t[377 523 413 546 925] ...\n",
      "np.quantile:\t[276.25 770.25]\n",
      "iqr:\t\t494.0\n",
      "Result:\t\t3\n"
     ]
    }
   ],
   "source": [
    "r = np.random.randint( 0, 1000, 100)\n",
    "print( \"Values:\\t\\t\" + str( r[:5] ) + ' ...' )\n",
    "\n",
    "rr = np.quantile( r, [ 0.25, 0.75 ] )\n",
    "print( \"np.quantile:\\t\" + str( rr ) )\n",
    "\n",
    "iqr = rr[ 1 ] - rr[ 0 ]\n",
    "print( \"iqr:\\t\\t\" + str( iqr ) )\n",
    "\n",
    "r = ( np.absolute( r - r.mean() ) > iqr ).sum()\n",
    "print( \"Result:\\t\\t\" + str( r ) )"
   ]
  },
  {
   "cell_type": "markdown",
   "metadata": {},
   "source": [
    "### (g)"
   ]
  },
  {
   "cell_type": "code",
   "execution_count": 104,
   "metadata": {
    "ExecuteTime": {
     "end_time": "2020-12-15T13:25:55.217193Z",
     "start_time": "2020-12-15T13:25:55.209776Z"
    }
   },
   "outputs": [
    {
     "name": "stdout",
     "output_type": "stream",
     "text": [
      "Values:\t\t[ 56 979  49 153 455] ...\n",
      "Result:\t\t[False False False False False] ...\n",
      "Result:\t\t1\n"
     ]
    }
   ],
   "source": [
    "r = np.random.randint( 0, 1000, 100 )\n",
    "print( \"Values:\\t\\t\" + str( r[:5] ) + ' ...' )\n",
    "\n",
    "r = x[1:] == x[:-1]\n",
    "print( \"Result:\\t\\t\" + str( r[:5] ) + ' ...' )\n",
    "\n",
    "r = ( x[1:] == x[:-1] ).sum()\n",
    "print( \"Result:\\t\\t\" + str( r ) )"
   ]
  },
  {
   "cell_type": "markdown",
   "metadata": {
    "ExecuteTime": {
     "end_time": "2020-12-15T13:24:06.165374Z",
     "start_time": "2020-12-15T13:24:06.156310Z"
    }
   },
   "source": [
    "## Aufgabe 5 (List Comprehension)"
   ]
  },
  {
   "cell_type": "markdown",
   "metadata": {
    "ExecuteTime": {
     "end_time": "2020-12-15T14:32:25.227159Z",
     "start_time": "2020-12-15T14:32:25.224445Z"
    }
   },
   "source": [
    "### (a)"
   ]
  },
  {
   "cell_type": "code",
   "execution_count": 127,
   "metadata": {
    "ExecuteTime": {
     "end_time": "2020-12-15T14:42:12.142163Z",
     "start_time": "2020-12-15T14:42:12.122442Z"
    }
   },
   "outputs": [
    {
     "name": "stdout",
     "output_type": "stream",
     "text": [
      "Result:\t\t['\\n', '\\n']\n"
     ]
    }
   ],
   "source": [
    "path = './../../sources/bibel.txt'\n",
    "r = open( path, \"r\", encoding=\"latin-1\" ).readlines()[ -2: ] \n",
    "print( \"Result:\\t\\t\" + str( r ) )"
   ]
  },
  {
   "cell_type": "markdown",
   "metadata": {},
   "source": [
    "### (b)"
   ]
  },
  {
   "cell_type": "code",
   "execution_count": 129,
   "metadata": {
    "ExecuteTime": {
     "end_time": "2020-12-15T14:43:06.749748Z",
     "start_time": "2020-12-15T14:43:06.715985Z"
    }
   },
   "outputs": [
    {
     "name": "stdout",
     "output_type": "stream",
     "text": [
      "Result:\t\tFinsternis\n"
     ]
    }
   ],
   "source": [
    "path = './../../sources/bibel.txt'\n",
    "r = open( path, \"r\", encoding=\"latin-1\" ).readlines()[ 3 ].split()[ -1 ] \n",
    "print( \"Result:\\t\\t\" + str( r ) )"
   ]
  },
  {
   "cell_type": "markdown",
   "metadata": {},
   "source": [
    "### (c)"
   ]
  },
  {
   "cell_type": "code",
   "execution_count": 135,
   "metadata": {
    "ExecuteTime": {
     "end_time": "2020-12-15T14:45:20.114975Z",
     "start_time": "2020-12-15T14:45:20.076504Z"
    }
   },
   "outputs": [
    {
     "name": "stdout",
     "output_type": "stream",
     "text": [
      "Result:\t\t['Am Anfang schuf Gott Himmel und Erde.\\n', 'Und die Erde war wüst und leer, und es war finster auf der Tiefe; und der Geist Gottes schwebte auf dem Wasser.\\n', 'Und Gott sprach Es werde Licht! und es ward Licht.\\n', 'und nannte das Licht Tag und die Finsternis Nacht. Da ward aus Abend und Morgen der erste Tag.\\n', 'Und Gott sprach Es werde eine Feste zwischen den Wassern, und die sei ein Unterschied zwischen den Wassern.\\n'] ...\n"
     ]
    }
   ],
   "source": [
    "path = './../../sources/bibel.txt'\n",
    "r = [ line for line in open( path, \"r\", encoding=\"latin-1\" ) if len( line ) > 1 and line[-2] in \",;.?!\" ]\n",
    "print( \"Result:\\t\\t\" + str( r[:5] ) + ' ...' )"
   ]
  },
  {
   "cell_type": "markdown",
   "metadata": {},
   "source": [
    "### (d)"
   ]
  },
  {
   "cell_type": "code",
   "execution_count": 137,
   "metadata": {
    "ExecuteTime": {
     "end_time": "2020-12-15T14:46:22.070730Z",
     "start_time": "2020-12-15T14:46:22.026997Z"
    }
   },
   "outputs": [
    {
     "name": "stdout",
     "output_type": "stream",
     "text": [
      "Result:\t\t['Am Anfang schuf Gott Himmel und Erde.\\n', 'Also ward vollendet Himmel und Erde mit ihrem ganzen Heer.\\n', 'Also ist Himmel und Erde geworden, da sie geschaffen sind, zu der Zeit, da Gott der HErr Erde und Himmel machte.\\n'] ...\n"
     ]
    }
   ],
   "source": [
    "path = './../../sources/bibel.txt'\n",
    "r = [ line for line in open( path, \"r\", encoding=\"latin-1\" ) if line.startswith('A')][:3]\n",
    "print( \"Result:\\t\\t\" + str( r[:5] ) + ' ...' )"
   ]
  },
  {
   "cell_type": "markdown",
   "metadata": {},
   "source": [
    "### (e)"
   ]
  },
  {
   "cell_type": "code",
   "execution_count": 140,
   "metadata": {
    "ExecuteTime": {
     "end_time": "2020-12-15T14:47:37.307618Z",
     "start_time": "2020-12-15T14:47:37.238500Z"
    }
   },
   "outputs": [
    {
     "name": "stdout",
     "output_type": "stream",
     "text": [
      "Result:\t\t['Am Anfang schuf Gott Himmel und Erde.\\n', 'Und die Erde war wüst und leer, und es war finster auf der Tiefe; und der Geist Gottes schwebte auf dem Wasser.\\n', 'Und Gott sprach Es werde Licht! und es ward Licht.\\n', 'Und Gott sah, dass das Licht gut war. Da schied Gott das Licht von der Finsternis\\n'] ...\n"
     ]
    }
   ],
   "source": [
    "path = './../../sources/bibel.txt'\n",
    "r = [ line for line in open( path, \"r\", encoding=\"latin-1\" ) if len( line ) > 10 ][:4]\n",
    "print( \"Result:\\t\\t\" + str( r[:5] ) + ' ...' )"
   ]
  },
  {
   "cell_type": "markdown",
   "metadata": {},
   "source": [
    "### (f)"
   ]
  },
  {
   "cell_type": "code",
   "execution_count": 155,
   "metadata": {
    "ExecuteTime": {
     "end_time": "2020-12-15T14:53:35.176319Z",
     "start_time": "2020-12-15T14:53:35.050078Z"
    }
   },
   "outputs": [
    {
     "name": "stdout",
     "output_type": "stream",
     "text": [
      "List:\t\t[(38, 0), (112, 1), (51, 2), (82, 3), (95, 4)] ...\n",
      "Max:\t\t(450, 12829)\n",
      "Result:\t\t12829\n"
     ]
    }
   ],
   "source": [
    "path = './../../sources/bibel.txt'\n",
    "r = [ ( len( line ), i ) for i, line in enumerate( open( path, \"r\", encoding=\"latin-1\" ) ) ]\n",
    "print( \"List:\\t\\t\" + str( r[:5] ) + ' ...' )\n",
    "\n",
    "r = max( [ ( len( line ), i ) for i, line in enumerate( open( path, \"r\", encoding=\"latin-1\" ) ) ] ) \n",
    "print( \"Max:\\t\\t\" + str( r ) )\n",
    "\n",
    "r = max( [ ( len( line ), i ) for i, line in enumerate( open( path, \"r\", encoding=\"latin-1\" ) ) ] )[ 1 ]\n",
    "print( \"Result:\\t\\t\" + str( r ) )"
   ]
  },
  {
   "cell_type": "markdown",
   "metadata": {},
   "source": [
    "### (g)"
   ]
  },
  {
   "cell_type": "code",
   "execution_count": 161,
   "metadata": {
    "ExecuteTime": {
     "end_time": "2020-12-15T14:56:47.587925Z",
     "start_time": "2020-12-15T14:56:47.284646Z"
    }
   },
   "outputs": [
    {
     "name": "stdout",
     "output_type": "stream",
     "text": [
      "Max:\t\t['möge.<RF>Wörtlich', 'siebenundsiebzigmal.', 'hundertunddreißig'] ...\n",
      "Result:\t\t818\n"
     ]
    }
   ],
   "source": [
    "r = [ w for w in open( path, \"r\", encoding=\"latin-1\" ).read().split() if len( w ) > 15 ]\n",
    "print( \"Max:\\t\\t\" + str( r[:3] ) + ' ...' )\n",
    "\n",
    "r = len( [ w for w in open( path, \"r\", encoding=\"latin-1\" ).read().split() if len( w ) > 15 ] )\n",
    "print( \"Result:\\t\\t\" + str( r ) )"
   ]
  },
  {
   "cell_type": "markdown",
   "metadata": {},
   "source": [
    "### (h)"
   ]
  },
  {
   "cell_type": "code",
   "execution_count": 167,
   "metadata": {
    "ExecuteTime": {
     "end_time": "2020-12-15T14:59:16.720669Z",
     "start_time": "2020-12-15T14:59:16.558795Z"
    }
   },
   "outputs": [
    {
     "name": "stdout",
     "output_type": "stream",
     "text": [
      "Result:\t\t22676\n"
     ]
    }
   ],
   "source": [
    "r = len( [ _ for line in open( path, \"r\", encoding=\"latin-1\" ) if len( line.split()) > 15 ] )\n",
    "print( \"Result:\\t\\t\" + str( r ) )"
   ]
  },
  {
   "cell_type": "markdown",
   "metadata": {},
   "source": [
    "### (i)"
   ]
  },
  {
   "cell_type": "code",
   "execution_count": 171,
   "metadata": {
    "ExecuteTime": {
     "end_time": "2020-12-15T15:01:13.175897Z",
     "start_time": "2020-12-15T15:01:13.023067Z"
    }
   },
   "outputs": [
    {
     "name": "stdout",
     "output_type": "stream",
     "text": [
      "Result:\t\tUnd darnach, spricht der HErr, will ich Zedekia, den König Judas, samt seinen Knechten und dem Volk, das in dieser Stadt vor der Pestilenz, vor Schwert und Hunger übrigbleiben wird, geben in die Hände Nebukadnezars, des Königs zu Babel, und in die Hände ihrer Feinde, und in die Hände derer, die ihnen nach dem Leben stehen, dass er sie mit der Schärfe des Schwerts also schlage, dass kein Schonen noch Gnade noch Barmherzigkeit da sei.\n",
      "\n"
     ]
    }
   ],
   "source": [
    "r = max( [ (len(line.split()), line)  for line in open( path, \"r\", encoding=\"latin-1\" ) ] )[ 1 ]\n",
    "print( \"Result:\\t\\t\" + str( r ) )"
   ]
  },
  {
   "cell_type": "markdown",
   "metadata": {},
   "source": [
    "### (j)"
   ]
  },
  {
   "cell_type": "code",
   "execution_count": null,
   "metadata": {},
   "outputs": [],
   "source": []
  },
  {
   "cell_type": "markdown",
   "metadata": {},
   "source": [
    "### (k)"
   ]
  },
  {
   "cell_type": "code",
   "execution_count": 172,
   "metadata": {
    "ExecuteTime": {
     "end_time": "2020-12-15T15:03:37.051333Z",
     "start_time": "2020-12-15T15:03:37.023619Z"
    }
   },
   "outputs": [
    {
     "name": "stdout",
     "output_type": "stream",
     "text": [
      "Result:\t\t[31173, 31174]\n"
     ]
    }
   ],
   "source": [
    "r = [ i for i, line in enumerate( open( path, \"r\", encoding=\"latin-1\" ) ) if len(line) <= 1 ]\n",
    "print( \"Result:\\t\\t\" + str( r ) )"
   ]
  },
  {
   "cell_type": "markdown",
   "metadata": {},
   "source": [
    "## Aufgabe 7 (Numpy)"
   ]
  },
  {
   "cell_type": "markdown",
   "metadata": {},
   "source": [
    "### (a)"
   ]
  },
  {
   "cell_type": "code",
   "execution_count": 177,
   "metadata": {
    "ExecuteTime": {
     "end_time": "2020-12-15T15:08:17.338578Z",
     "start_time": "2020-12-15T15:08:17.332596Z"
    }
   },
   "outputs": [
    {
     "name": "stdout",
     "output_type": "stream",
     "text": [
      "Result:\n",
      "[[7 6 1 3 6 6]\n",
      " [3 3 2 4 7 9]\n",
      " [6 5 8 3 6 9]\n",
      " [3 1 7 7 9 9]\n",
      " [5 1 2 3 8 7]\n",
      " [5 3 2 5 6 8]\n",
      " [5 4 3 9 6 1]\n",
      " [2 7 4 9 4 7]\n",
      " [7 8 2 9 5 6]]\n"
     ]
    }
   ],
   "source": [
    "r = np.random.randint( 1, 10, 54 ).reshape( 9, 6 )\n",
    "print( \"Result:\\n\" + str( r ) )"
   ]
  },
  {
   "cell_type": "markdown",
   "metadata": {},
   "source": [
    "### (b)"
   ]
  },
  {
   "cell_type": "code",
   "execution_count": 183,
   "metadata": {
    "ExecuteTime": {
     "end_time": "2020-12-15T15:09:20.075963Z",
     "start_time": "2020-12-15T15:09:20.067144Z"
    }
   },
   "outputs": [
    {
     "name": "stdout",
     "output_type": "stream",
     "text": [
      "Result:\t\t6\n"
     ]
    }
   ],
   "source": [
    "r = np.random.randint( 1, 10, 54 ).reshape( 9, 6 )\n",
    "\n",
    "rr = ( r==1 ).sum()\n",
    "print( \"Result:\\t\\t\" + str( rr ) )"
   ]
  },
  {
   "cell_type": "markdown",
   "metadata": {},
   "source": [
    "### (c)"
   ]
  },
  {
   "cell_type": "code",
   "execution_count": 189,
   "metadata": {
    "ExecuteTime": {
     "end_time": "2020-12-15T15:10:34.520911Z",
     "start_time": "2020-12-15T15:10:34.513873Z"
    }
   },
   "outputs": [
    {
     "name": "stdout",
     "output_type": "stream",
     "text": [
      "Result:\t\t2\n"
     ]
    }
   ],
   "source": [
    "r = np.random.randint( 1, 10, 54 ).reshape( 9, 6 )\n",
    "rr = ( r[ :, 3 ] == 1 ).sum()\n",
    "print( \"Result:\\t\\t\" + str( rr ) )"
   ]
  },
  {
   "cell_type": "markdown",
   "metadata": {},
   "source": [
    "### (d)"
   ]
  },
  {
   "cell_type": "code",
   "execution_count": 207,
   "metadata": {
    "ExecuteTime": {
     "end_time": "2020-12-15T15:15:23.516774Z",
     "start_time": "2020-12-15T15:15:23.509817Z"
    }
   },
   "outputs": [
    {
     "name": "stdout",
     "output_type": "stream",
     "text": [
      "Result:\n",
      "[[9 1 9 4 2 9]\n",
      " [8 7 8 1 4 9]\n",
      " [4 4 7 1 1 8]\n",
      " [6 5 1 3 7 7]]\n"
     ]
    }
   ],
   "source": [
    "r = np.random.randint( 1, 10, 54 ).reshape( 9, 6 )\n",
    "r = r[ r[ :, 3 ] < 5, : ]\n",
    "print( \"Result:\\n\" + str( r ) )"
   ]
  },
  {
   "cell_type": "markdown",
   "metadata": {},
   "source": [
    "### (e)"
   ]
  },
  {
   "cell_type": "code",
   "execution_count": 209,
   "metadata": {
    "ExecuteTime": {
     "end_time": "2020-12-15T15:15:27.405762Z",
     "start_time": "2020-12-15T15:15:27.398752Z"
    }
   },
   "outputs": [
    {
     "name": "stdout",
     "output_type": "stream",
     "text": [
      "Result:\n",
      "[[8 5 7]\n",
      " [5 2 3]\n",
      " [2 1 4]\n",
      " [2 1 4]\n",
      " [1 8 9]\n",
      " [4 8 9]\n",
      " [7 1 2]\n",
      " [5 9 6]\n",
      " [2 2 1]]\n"
     ]
    }
   ],
   "source": [
    "r = np.random.randint( 1, 10, 54 ).reshape( 9, 6 )\n",
    "r = r[ :, r[ -1, : ] < 5 ]\n",
    "print( \"Result:\\n\" + str( r ) )"
   ]
  },
  {
   "cell_type": "markdown",
   "metadata": {},
   "source": [
    "## Aufgabe 8 (Pandas)"
   ]
  },
  {
   "cell_type": "markdown",
   "metadata": {},
   "source": [
    "### (a)"
   ]
  },
  {
   "cell_type": "code",
   "execution_count": null,
   "metadata": {},
   "outputs": [],
   "source": [
    "df.loc[ df[\"stgEnde\"] == \"S\", \"stgEnde\" ] = \"y\""
   ]
  },
  {
   "cell_type": "markdown",
   "metadata": {},
   "source": [
    "### (b)"
   ]
  },
  {
   "cell_type": "code",
   "execution_count": null,
   "metadata": {},
   "outputs": [],
   "source": [
    "( df.frm == \"B\" ).sum()"
   ]
  },
  {
   "cell_type": "markdown",
   "metadata": {},
   "source": [
    "### (c)"
   ]
  },
  {
   "cell_type": "code",
   "execution_count": null,
   "metadata": {},
   "outputs": [],
   "source": [
    "( df.avg > 30.0 ).sum()"
   ]
  },
  {
   "cell_type": "markdown",
   "metadata": {},
   "source": [
    "### (d)"
   ]
  },
  {
   "cell_type": "code",
   "execution_count": null,
   "metadata": {},
   "outputs": [],
   "source": [
    "df.hzb /= 10\n",
    "df.iloc[ ( df.avg - df.hzb ).abs().argmax(), : ]"
   ]
  },
  {
   "cell_type": "markdown",
   "metadata": {},
   "source": [
    "### (e)"
   ]
  },
  {
   "cell_type": "code",
   "execution_count": null,
   "metadata": {},
   "outputs": [],
   "source": [
    "df.groupby('stgName').count().mtknr.plot(kind=\"bar\")"
   ]
  },
  {
   "cell_type": "markdown",
   "metadata": {},
   "source": [
    "### (f)"
   ]
  },
  {
   "cell_type": "code",
   "execution_count": null,
   "metadata": {},
   "outputs": [],
   "source": [
    "df.groupby(\"geschl\").avg.mean()"
   ]
  },
  {
   "cell_type": "markdown",
   "metadata": {},
   "source": [
    "### (g)"
   ]
  },
  {
   "cell_type": "code",
   "execution_count": null,
   "metadata": {},
   "outputs": [],
   "source": [
    "df.groupby(\"stgName\").avg.mean()"
   ]
  },
  {
   "cell_type": "markdown",
   "metadata": {},
   "source": [
    "### (h)"
   ]
  },
  {
   "cell_type": "code",
   "execution_count": null,
   "metadata": {},
   "outputs": [],
   "source": [
    "df.avg.plot(kind=\"hist\")"
   ]
  },
  {
   "cell_type": "markdown",
   "metadata": {},
   "source": [
    "## Aufgabe 9 (Pandas)"
   ]
  },
  {
   "cell_type": "markdown",
   "metadata": {},
   "source": [
    "### (a)"
   ]
  },
  {
   "cell_type": "code",
   "execution_count": null,
   "metadata": {},
   "outputs": [],
   "source": [
    "mtcars.index[ mtcars.hp < 60 ]"
   ]
  },
  {
   "cell_type": "markdown",
   "metadata": {},
   "source": [
    "### (b)"
   ]
  },
  {
   "cell_type": "code",
   "execution_count": null,
   "metadata": {},
   "outputs": [],
   "source": [
    "mtcars[ mtcars.hp > 150 ]].mpg.mean() < mtcars[mtcars.hp < 100].mpg.mean()"
   ]
  },
  {
   "cell_type": "markdown",
   "metadata": {},
   "source": [
    "### (c)"
   ]
  },
  {
   "cell_type": "code",
   "execution_count": null,
   "metadata": {},
   "outputs": [],
   "source": [
    "mtcars.groupby('cyl').mpg.mean()"
   ]
  },
  {
   "cell_type": "markdown",
   "metadata": {},
   "source": [
    "### (d)"
   ]
  },
  {
   "cell_type": "code",
   "execution_count": null,
   "metadata": {},
   "outputs": [],
   "source": [
    "mtcars2 = mtcars\n",
    "mtcars2.wt *= 0.45"
   ]
  }
 ],
 "metadata": {
  "kernelspec": {
   "display_name": "Python 3",
   "language": "python",
   "name": "python3"
  },
  "language_info": {
   "codemirror_mode": {
    "name": "ipython",
    "version": 3
   },
   "file_extension": ".py",
   "mimetype": "text/x-python",
   "name": "python",
   "nbconvert_exporter": "python",
   "pygments_lexer": "ipython3",
   "version": "3.6.10"
  },
  "toc": {
   "base_numbering": 1,
   "nav_menu": {},
   "number_sections": true,
   "sideBar": true,
   "skip_h1_title": false,
   "title_cell": "Table of Contents",
   "title_sidebar": "Contents",
   "toc_cell": false,
   "toc_position": {},
   "toc_section_display": true,
   "toc_window_display": true
  }
 },
 "nbformat": 4,
 "nbformat_minor": 4
}
