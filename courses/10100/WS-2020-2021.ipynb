{
 "cells": [
  {
   "cell_type": "markdown",
   "metadata": {},
   "source": [
    "# WS 2020/2021"
   ]
  },
  {
   "cell_type": "markdown",
   "metadata": {},
   "source": [
    "## Aufgabe 1 (Python)"
   ]
  },
  {
   "cell_type": "markdown",
   "metadata": {},
   "source": [
    "### (a)"
   ]
  },
  {
   "cell_type": "code",
   "execution_count": 1,
   "metadata": {
    "ExecuteTime": {
     "end_time": "2020-12-14T14:56:12.671365Z",
     "start_time": "2020-12-14T14:56:12.665244Z"
    }
   },
   "outputs": [
    {
     "name": "stdout",
     "output_type": "stream",
     "text": [
      "Result:\t\t['Hallo', 'Welt', 'hier']\n"
     ]
    }
   ],
   "source": [
    "r = 'Hallo Welt hier bin ich'.split()[:-2]\n",
    "print( \"Result:\\t\\t\" + str( r ) )"
   ]
  },
  {
   "cell_type": "markdown",
   "metadata": {},
   "source": [
    "### (b)"
   ]
  },
  {
   "cell_type": "code",
   "execution_count": 2,
   "metadata": {
    "ExecuteTime": {
     "end_time": "2020-12-14T14:56:13.024818Z",
     "start_time": "2020-12-14T14:56:13.011548Z"
    }
   },
   "outputs": [
    {
     "name": "stdout",
     "output_type": "stream",
     "text": [
      "Result:\t\t['Hallo', 'Welt', 'hier', 'bin', 'ich']\n",
      "Result:\t\tich\n"
     ]
    }
   ],
   "source": [
    "r = [ x for x in 'Hallo Welt hier bin ich'.split() ]\n",
    "print( \"Result:\\t\\t\" + str( r ) )\n",
    "\n",
    "r = max( [ x for x in 'Hallo Welt hier bin ich'.split() ] )\n",
    "print( \"Result:\\t\\t\" + str( r ) )"
   ]
  },
  {
   "cell_type": "markdown",
   "metadata": {},
   "source": [
    "### (c)"
   ]
  },
  {
   "cell_type": "code",
   "execution_count": 3,
   "metadata": {
    "ExecuteTime": {
     "end_time": "2020-12-14T14:56:13.354743Z",
     "start_time": "2020-12-14T14:56:13.347063Z"
    }
   },
   "outputs": [
    {
     "name": "stdout",
     "output_type": "stream",
     "text": [
      "Result:\t\t48\n"
     ]
    }
   ],
   "source": [
    "r = ( 12 + 12 ) * 2\n",
    "print( \"Result:\\t\\t\" + str( r ) )"
   ]
  },
  {
   "cell_type": "markdown",
   "metadata": {},
   "source": [
    "### (d)"
   ]
  },
  {
   "cell_type": "code",
   "execution_count": 4,
   "metadata": {
    "ExecuteTime": {
     "end_time": "2020-12-14T14:56:13.873518Z",
     "start_time": "2020-12-14T14:56:13.659132Z"
    }
   },
   "outputs": [
    {
     "name": "stdout",
     "output_type": "stream",
     "text": [
      "Result:\t\t\n"
     ]
    },
    {
     "ename": "TypeError",
     "evalue": "<lambda>() missing 1 required positional argument: 'y'",
     "output_type": "error",
     "traceback": [
      "\u001b[0;31m---------------------------------------------------------------------------\u001b[0m",
      "\u001b[0;31mTypeError\u001b[0m                                 Traceback (most recent call last)",
      "\u001b[0;32m<ipython-input-4-3a0c6eede412>\u001b[0m in \u001b[0;36m<module>\u001b[0;34m\u001b[0m\n\u001b[1;32m      1\u001b[0m \u001b[0mprint\u001b[0m\u001b[0;34m(\u001b[0m \u001b[0;34m\"Result:\\t\\t\"\u001b[0m\u001b[0;34m)\u001b[0m\u001b[0;34m\u001b[0m\u001b[0;34m\u001b[0m\u001b[0m\n\u001b[0;32m----> 2\u001b[0;31m \u001b[0;34m(\u001b[0m \u001b[0;32mlambda\u001b[0m \u001b[0mx\u001b[0m\u001b[0;34m,\u001b[0m \u001b[0my\u001b[0m\u001b[0;34m:\u001b[0m \u001b[0mx\u001b[0m \u001b[0;34m+\u001b[0m \u001b[0;36m2\u001b[0m \u001b[0;34m)\u001b[0m\u001b[0;34m(\u001b[0m \u001b[0;36m10\u001b[0m \u001b[0;34m)\u001b[0m\u001b[0;34m\u001b[0m\u001b[0;34m\u001b[0m\u001b[0m\n\u001b[0m",
      "\u001b[0;31mTypeError\u001b[0m: <lambda>() missing 1 required positional argument: 'y'"
     ]
    }
   ],
   "source": [
    "print( \"Result:\\t\\t\")\n",
    "( lambda x, y: x + 2 )( 10 )   "
   ]
  },
  {
   "cell_type": "markdown",
   "metadata": {},
   "source": [
    "### (e)"
   ]
  },
  {
   "cell_type": "code",
   "execution_count": 5,
   "metadata": {
    "ExecuteTime": {
     "end_time": "2020-12-14T14:56:13.994460Z",
     "start_time": "2020-12-14T14:56:13.984066Z"
    }
   },
   "outputs": [
    {
     "name": "stdout",
     "output_type": "stream",
     "text": [
      "Result:\t\t[1, 2]\n"
     ]
    }
   ],
   "source": [
    "r = [ 1 ] + [ 2 ]\n",
    "print( \"Result:\\t\\t\" + str( r ) )"
   ]
  },
  {
   "cell_type": "markdown",
   "metadata": {},
   "source": [
    "### (f)"
   ]
  },
  {
   "cell_type": "code",
   "execution_count": 6,
   "metadata": {
    "ExecuteTime": {
     "end_time": "2020-12-14T14:56:14.322956Z",
     "start_time": "2020-12-14T14:56:14.308471Z"
    }
   },
   "outputs": [
    {
     "name": "stdout",
     "output_type": "stream",
     "text": [
      "Result:\t\t1,21,2\n"
     ]
    }
   ],
   "source": [
    "r = ( 1 + 1 ) * '1,2'\n",
    "print( \"Result:\\t\\t\" + str( r ) )"
   ]
  },
  {
   "cell_type": "markdown",
   "metadata": {},
   "source": [
    "### (g)"
   ]
  },
  {
   "cell_type": "code",
   "execution_count": 7,
   "metadata": {
    "ExecuteTime": {
     "end_time": "2020-12-14T14:56:14.664917Z",
     "start_time": "2020-12-14T14:56:14.652820Z"
    }
   },
   "outputs": [
    {
     "name": "stdout",
     "output_type": "stream",
     "text": [
      "Result:\t\t10000000000\n",
      "Result:\t\t10\n"
     ]
    }
   ],
   "source": [
    "r = str( 10 ** 10 )\n",
    "print( \"Result:\\t\\t\" + r )\n",
    "\n",
    "r = str( 10 ** 10 )[ :2 ]\n",
    "print( \"Result:\\t\\t\" + r )"
   ]
  },
  {
   "cell_type": "markdown",
   "metadata": {},
   "source": [
    "### (h)"
   ]
  },
  {
   "cell_type": "code",
   "execution_count": 8,
   "metadata": {
    "ExecuteTime": {
     "end_time": "2020-12-14T14:56:15.487665Z",
     "start_time": "2020-12-14T14:56:15.480221Z"
    }
   },
   "outputs": [
    {
     "name": "stdout",
     "output_type": "stream",
     "text": [
      "Result:\t\tollah\n"
     ]
    }
   ],
   "source": [
    "r = 'hallo'[::-1]\n",
    "print( \"Result:\\t\\t\" + str( r ) )"
   ]
  },
  {
   "cell_type": "markdown",
   "metadata": {},
   "source": [
    "## Aufgabe 2 (R lang)"
   ]
  },
  {
   "cell_type": "markdown",
   "metadata": {},
   "source": [
    "### (a)"
   ]
  },
  {
   "cell_type": "code",
   "execution_count": 1,
   "metadata": {
    "ExecuteTime": {
     "end_time": "2020-12-14T14:56:23.932112Z",
     "start_time": "2020-12-14T14:56:23.832Z"
    }
   },
   "outputs": [
    {
     "name": "stdout",
     "output_type": "stream",
     "text": [
      "Result:\t\t 6 6"
     ]
    }
   ],
   "source": [
    "r = c( 3, 5 ) + c( 3, 1 )\n",
    "cat( \"Result:\\t\\t\", r )"
   ]
  },
  {
   "cell_type": "markdown",
   "metadata": {
    "ExecuteTime": {
     "end_time": "2020-12-14T08:20:56.857557Z",
     "start_time": "2020-12-14T08:20:56.834Z"
    }
   },
   "source": [
    "### (b)"
   ]
  },
  {
   "cell_type": "code",
   "execution_count": 2,
   "metadata": {
    "ExecuteTime": {
     "end_time": "2020-12-14T14:56:24.283112Z",
     "start_time": "2020-12-14T14:56:24.165Z"
    }
   },
   "outputs": [
    {
     "name": "stdout",
     "output_type": "stream",
     "text": [
      "Result:\t\t TRUE FALSE"
     ]
    }
   ],
   "source": [
    "r = c( 1, 5 ) %in% c( 1, 2, 0, 4, 1, 7, 9 )\n",
    "cat( \"Result:\\t\\t\", r )"
   ]
  },
  {
   "cell_type": "markdown",
   "metadata": {},
   "source": [
    "### (c)"
   ]
  },
  {
   "cell_type": "code",
   "execution_count": 3,
   "metadata": {
    "ExecuteTime": {
     "end_time": "2020-12-14T14:56:24.541517Z",
     "start_time": "2020-12-14T14:56:24.518Z"
    }
   },
   "outputs": [
    {
     "name": "stdout",
     "output_type": "stream",
     "text": [
      "Result:\t\t 0 3 0 33"
     ]
    }
   ],
   "source": [
    "r = c( 2, 1, 4, 11 ) * c( 0, 3 )\n",
    "cat( \"Result:\\t\\t\", r )"
   ]
  },
  {
   "cell_type": "markdown",
   "metadata": {},
   "source": [
    "### (d)"
   ]
  },
  {
   "cell_type": "code",
   "execution_count": 4,
   "metadata": {
    "ExecuteTime": {
     "end_time": "2020-12-14T14:56:24.896568Z",
     "start_time": "2020-12-14T14:56:24.850Z"
    }
   },
   "outputs": [
    {
     "name": "stdout",
     "output_type": "stream",
     "text": [
      "Result 1:6:\t 1 2 3 4 5 6 \n",
      "Result 1:2:\t 1 2 \n",
      "Result:\t\t 1 1 3 2 5 3"
     ]
    }
   ],
   "source": [
    "r = 1:6\n",
    "cat( \"Result 1:6:\\t\", r, \"\\n\" )\n",
    "\n",
    "r = 1:2\n",
    "cat( \"Result 1:2:\\t\", r, \"\\n\" )\n",
    "\n",
    "r = 1:6 / 1:2\n",
    "cat( \"Result:\\t\\t\", r )"
   ]
  },
  {
   "cell_type": "markdown",
   "metadata": {},
   "source": [
    "### (e)"
   ]
  },
  {
   "cell_type": "code",
   "execution_count": 5,
   "metadata": {
    "ExecuteTime": {
     "end_time": "2020-12-14T14:56:25.257329Z",
     "start_time": "2020-12-14T14:56:25.196Z"
    }
   },
   "outputs": [
    {
     "name": "stdout",
     "output_type": "stream",
     "text": [
      "Result (1:10):\t 1 2 3 4 5 6 7 8 9 10 \n",
      "Result 1:5*2:\t 2 4 6 8 10 \n",
      "Result:\t\t 2 4 6 8 10 \n",
      "Result:\t\t 4 8 12 16 20"
     ]
    }
   ],
   "source": [
    "r = ( 1:10 )\n",
    "cat( \"Result (1:10):\\t\", r, \"\\n\" )\n",
    "\n",
    "r = 1:5 * 2\n",
    "cat( \"Result 1:5*2:\\t\", r, \"\\n\" )\n",
    "\n",
    "r = ( 1:10 )[ 1:5 * 2 ]\n",
    "cat( \"Result:\\t\\t\", r, \"\\n\" )\n",
    "\n",
    "r = ( 1:10 )[ 1:5 * 2 ] * 2\n",
    "cat( \"Result:\\t\\t\", r )"
   ]
  },
  {
   "cell_type": "markdown",
   "metadata": {},
   "source": [
    "### (f)"
   ]
  },
  {
   "cell_type": "code",
   "execution_count": 6,
   "metadata": {
    "ExecuteTime": {
     "end_time": "2020-12-14T14:56:25.672605Z",
     "start_time": "2020-12-14T14:56:25.542Z"
    }
   },
   "outputs": [
    {
     "name": "stdout",
     "output_type": "stream",
     "text": [
      "Result:\n",
      "[[1]]\n",
      " [1] \"H\" \"a\" \"l\" \"l\" \"i\" \"H\" \"a\" \"l\" \"l\" \"o\"\n",
      "\n",
      "Result:\n",
      "\n",
      "H a i l o \n",
      "2 2 1 4 1 \n"
     ]
    }
   ],
   "source": [
    "r = strsplit( \"HalliHallo\", \"\" )\n",
    "cat( \"Result:\\n\" ) \n",
    "print( r )\n",
    "\n",
    "r = table( strsplit( \"HalliHallo\", \"\" ) )\n",
    "cat(\"Result:\\n\" )\n",
    "print( r )"
   ]
  },
  {
   "cell_type": "markdown",
   "metadata": {
    "ExecuteTime": {
     "end_time": "2020-12-14T08:34:45.581475Z",
     "start_time": "2020-12-14T08:34:45.549Z"
    }
   },
   "source": [
    "### (g)"
   ]
  },
  {
   "cell_type": "code",
   "execution_count": 7,
   "metadata": {
    "ExecuteTime": {
     "end_time": "2020-12-14T14:56:25.934503Z",
     "start_time": "2020-12-14T14:56:25.888Z"
    }
   },
   "outputs": [
    {
     "name": "stdout",
     "output_type": "stream",
     "text": [
      "Result:\n"
     ]
    },
    {
     "data": {
      "text/html": [
       "<table>\n",
       "<tbody>\n",
       "\t<tr><td>1 </td><td>3 </td><td>5 </td><td>7 </td><td> 9</td></tr>\n",
       "\t<tr><td>2 </td><td>4 </td><td>6 </td><td>8 </td><td>10</td></tr>\n",
       "</tbody>\n",
       "</table>\n"
      ],
      "text/latex": [
       "\\begin{tabular}{lllll}\n",
       "\t 1  & 3  & 5  & 7  &  9\\\\\n",
       "\t 2  & 4  & 6  & 8  & 10\\\\\n",
       "\\end{tabular}\n"
      ],
      "text/markdown": [
       "\n",
       "| 1  | 3  | 5  | 7  |  9 |\n",
       "| 2  | 4  | 6  | 8  | 10 |\n",
       "\n"
      ],
      "text/plain": [
       "     [,1] [,2] [,3] [,4] [,5]\n",
       "[1,] 1    3    5    7     9  \n",
       "[2,] 2    4    6    8    10  "
      ]
     },
     "metadata": {},
     "output_type": "display_data"
    }
   ],
   "source": [
    "cat( \"Result:\\n\" )\n",
    "matrix( 1:10, ncol=5 )"
   ]
  },
  {
   "cell_type": "markdown",
   "metadata": {},
   "source": [
    "### (h)"
   ]
  },
  {
   "cell_type": "code",
   "execution_count": 8,
   "metadata": {
    "ExecuteTime": {
     "end_time": "2020-12-14T14:56:26.491956Z",
     "start_time": "2020-12-14T14:56:26.435Z"
    }
   },
   "outputs": [
    {
     "name": "stdout",
     "output_type": "stream",
     "text": [
      "Result:\t\t 1 2 3 1 2 2 \n",
      "Result 1:\n"
     ]
    },
    {
     "data": {
      "text/plain": [
       "\n",
       "1 2 3 \n",
       "2 3 1 "
      ]
     },
     "metadata": {},
     "output_type": "display_data"
    },
    {
     "name": "stdout",
     "output_type": "stream",
     "text": [
      "Result 2:\n"
     ]
    },
    {
     "data": {
      "text/plain": [
       "\n",
       " 1  2  3 \n",
       " 8 12  4 "
      ]
     },
     "metadata": {},
     "output_type": "display_data"
    }
   ],
   "source": [
    "r = c( 1, 2, 3, 1, 2, 2 )\n",
    "cat( \"Result:\\t\\t\", r, \"\\n\" )\n",
    "\n",
    "cat( \"Result 1:\\n\" )\n",
    "table( c( 1, 2, 3, 1, 2, 2 ) )\n",
    "\n",
    "cat( \"Result 2:\\n\" )\n",
    "table( c( 1, 2, 3, 1, 2, 2 ) ) * 4 "
   ]
  },
  {
   "cell_type": "markdown",
   "metadata": {},
   "source": [
    "### (i)"
   ]
  },
  {
   "cell_type": "code",
   "execution_count": 9,
   "metadata": {
    "ExecuteTime": {
     "end_time": "2020-12-14T14:56:27.702860Z",
     "start_time": "2020-12-14T14:56:27.664Z"
    }
   },
   "outputs": [
    {
     "name": "stdout",
     "output_type": "stream",
     "text": [
      "Result:\t\t 4 5 6"
     ]
    }
   ],
   "source": [
    "r = sapply( c( 1, 2, 3 ), function( x ) x + 3 )\n",
    "cat( \"Result:\\t\\t\", r)"
   ]
  },
  {
   "cell_type": "markdown",
   "metadata": {},
   "source": [
    "### (j)"
   ]
  },
  {
   "cell_type": "code",
   "execution_count": 10,
   "metadata": {
    "ExecuteTime": {
     "end_time": "2020-12-14T14:56:28.820730Z",
     "start_time": "2020-12-14T14:56:28.796Z"
    }
   },
   "outputs": [
    {
     "name": "stdout",
     "output_type": "stream",
     "text": [
      "Result:\t\t 1 1 1 1 2 2 2 2 2 2"
     ]
    }
   ],
   "source": [
    "r = tapply( 1:10, factor( c( rep( \"A\", 4 ), rep( \"B\", 6 ) ) ) )\n",
    "cat( \"Result:\\t\\t\", r )"
   ]
  },
  {
   "cell_type": "markdown",
   "metadata": {},
   "source": [
    "## Aufgabe 3"
   ]
  },
  {
   "cell_type": "markdown",
   "metadata": {},
   "source": [
    "### (a)"
   ]
  },
  {
   "cell_type": "code",
   "execution_count": null,
   "metadata": {},
   "outputs": [],
   "source": []
  },
  {
   "cell_type": "markdown",
   "metadata": {},
   "source": [
    "### (b)"
   ]
  },
  {
   "cell_type": "code",
   "execution_count": null,
   "metadata": {},
   "outputs": [],
   "source": []
  },
  {
   "cell_type": "markdown",
   "metadata": {},
   "source": [
    "### (c)"
   ]
  },
  {
   "cell_type": "code",
   "execution_count": null,
   "metadata": {},
   "outputs": [],
   "source": []
  }
 ],
 "metadata": {
  "kernelspec": {
   "display_name": "R",
   "language": "R",
   "name": "ir"
  },
  "language_info": {
   "codemirror_mode": "r",
   "file_extension": ".r",
   "mimetype": "text/x-r-source",
   "name": "R",
   "pygments_lexer": "r",
   "version": "3.6.1"
  },
  "toc": {
   "base_numbering": 1,
   "nav_menu": {},
   "number_sections": true,
   "sideBar": true,
   "skip_h1_title": false,
   "title_cell": "Table of Contents",
   "title_sidebar": "Contents",
   "toc_cell": false,
   "toc_position": {},
   "toc_section_display": true,
   "toc_window_display": true
  }
 },
 "nbformat": 4,
 "nbformat_minor": 4
}
