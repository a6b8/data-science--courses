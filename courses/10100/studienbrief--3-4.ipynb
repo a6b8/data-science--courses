{
 "cells": [
  {
   "cell_type": "markdown",
   "metadata": {},
   "source": [
    "# Studienbrief 3"
   ]
  },
  {
   "cell_type": "markdown",
   "metadata": {},
   "source": [
    "## pandas"
   ]
  },
  {
   "cell_type": "code",
   "execution_count": 1,
   "metadata": {
    "ExecuteTime": {
     "end_time": "2020-12-16T20:52:28.833163Z",
     "start_time": "2020-12-16T20:52:28.310162Z"
    }
   },
   "outputs": [],
   "source": [
    "import pandas as pd"
   ]
  },
  {
   "cell_type": "code",
   "execution_count": 21,
   "metadata": {
    "ExecuteTime": {
     "end_time": "2020-12-16T20:58:55.172756Z",
     "start_time": "2020-12-16T20:58:55.151106Z"
    }
   },
   "outputs": [],
   "source": [
    "kanzler = pd.DataFrame( {\n",
    "    'Jahre': [ 5, 8, 6, 7, 13 ],\n",
    "    'Name': [ 'Brandt', 'Schmidt', 'Kohl', 'Schröder', 'Merkel' ],\n",
    "    'Partei': [ 'SPD','SPD', 'CDU', 'SPD', 'CDU'],\n",
    "    'Start': [ 1969, 1974, 1982, 1998, 2005 ]\n",
    "})\n",
    "\n",
    "kanzler.index = [ 'Eins', 'Zwei', 'Drei', 'Vier', 'Fünf']"
   ]
  },
  {
   "cell_type": "markdown",
   "metadata": {},
   "source": [
    "### sort_index()"
   ]
  },
  {
   "cell_type": "code",
   "execution_count": 12,
   "metadata": {
    "ExecuteTime": {
     "end_time": "2020-12-16T20:54:31.313098Z",
     "start_time": "2020-12-16T20:54:31.300984Z"
    }
   },
   "outputs": [
    {
     "data": {
      "text/html": [
       "<div>\n",
       "<style scoped>\n",
       "    .dataframe tbody tr th:only-of-type {\n",
       "        vertical-align: middle;\n",
       "    }\n",
       "\n",
       "    .dataframe tbody tr th {\n",
       "        vertical-align: top;\n",
       "    }\n",
       "\n",
       "    .dataframe thead th {\n",
       "        text-align: right;\n",
       "    }\n",
       "</style>\n",
       "<table border=\"1\" class=\"dataframe\">\n",
       "  <thead>\n",
       "    <tr style=\"text-align: right;\">\n",
       "      <th></th>\n",
       "      <th>Jahre</th>\n",
       "      <th>Name</th>\n",
       "      <th>Partei</th>\n",
       "      <th>Start</th>\n",
       "    </tr>\n",
       "  </thead>\n",
       "  <tbody>\n",
       "    <tr>\n",
       "      <th>Drei</th>\n",
       "      <td>6</td>\n",
       "      <td>Kohl</td>\n",
       "      <td>CDU</td>\n",
       "      <td>1982</td>\n",
       "    </tr>\n",
       "    <tr>\n",
       "      <th>Eins</th>\n",
       "      <td>5</td>\n",
       "      <td>Brandt</td>\n",
       "      <td>SPD</td>\n",
       "      <td>1969</td>\n",
       "    </tr>\n",
       "    <tr>\n",
       "      <th>Fünf</th>\n",
       "      <td>13</td>\n",
       "      <td>Merkel</td>\n",
       "      <td>CDU</td>\n",
       "      <td>2005</td>\n",
       "    </tr>\n",
       "    <tr>\n",
       "      <th>Vier</th>\n",
       "      <td>7</td>\n",
       "      <td>Schröder</td>\n",
       "      <td>SPD</td>\n",
       "      <td>1998</td>\n",
       "    </tr>\n",
       "    <tr>\n",
       "      <th>Zwei</th>\n",
       "      <td>8</td>\n",
       "      <td>Schmidt</td>\n",
       "      <td>SPD</td>\n",
       "      <td>1974</td>\n",
       "    </tr>\n",
       "  </tbody>\n",
       "</table>\n",
       "</div>"
      ],
      "text/plain": [
       "      Jahre      Name Partei  Start\n",
       "Drei      6      Kohl    CDU   1982\n",
       "Eins      5    Brandt    SPD   1969\n",
       "Fünf     13    Merkel    CDU   2005\n",
       "Vier      7  Schröder    SPD   1998\n",
       "Zwei      8   Schmidt    SPD   1974"
      ]
     },
     "execution_count": 12,
     "metadata": {},
     "output_type": "execute_result"
    }
   ],
   "source": [
    "kanzler.sort_index()\n",
    "\n",
    "#kanzler.sort_index( axis=1, ascending=False)"
   ]
  },
  {
   "cell_type": "markdown",
   "metadata": {},
   "source": [
    "### sort_values()"
   ]
  },
  {
   "cell_type": "code",
   "execution_count": 183,
   "metadata": {
    "ExecuteTime": {
     "end_time": "2020-12-17T09:16:25.413720Z",
     "start_time": "2020-12-17T09:16:25.390492Z"
    }
   },
   "outputs": [
    {
     "data": {
      "text/html": [
       "<div>\n",
       "<style scoped>\n",
       "    .dataframe tbody tr th:only-of-type {\n",
       "        vertical-align: middle;\n",
       "    }\n",
       "\n",
       "    .dataframe tbody tr th {\n",
       "        vertical-align: top;\n",
       "    }\n",
       "\n",
       "    .dataframe thead th {\n",
       "        text-align: right;\n",
       "    }\n",
       "</style>\n",
       "<table border=\"1\" class=\"dataframe\">\n",
       "  <thead>\n",
       "    <tr style=\"text-align: right;\">\n",
       "      <th></th>\n",
       "      <th>Jahre</th>\n",
       "      <th>Name</th>\n",
       "      <th>Partei</th>\n",
       "      <th>Start</th>\n",
       "    </tr>\n",
       "  </thead>\n",
       "  <tbody>\n",
       "    <tr>\n",
       "      <th>4</th>\n",
       "      <td>13</td>\n",
       "      <td>Merkel</td>\n",
       "      <td>CDU</td>\n",
       "      <td>2005</td>\n",
       "    </tr>\n",
       "    <tr>\n",
       "      <th>1</th>\n",
       "      <td>8</td>\n",
       "      <td>Schmidt</td>\n",
       "      <td>SPD</td>\n",
       "      <td>1974</td>\n",
       "    </tr>\n",
       "    <tr>\n",
       "      <th>3</th>\n",
       "      <td>7</td>\n",
       "      <td>Schröder</td>\n",
       "      <td>SPD</td>\n",
       "      <td>1998</td>\n",
       "    </tr>\n",
       "    <tr>\n",
       "      <th>2</th>\n",
       "      <td>6</td>\n",
       "      <td>Kohl</td>\n",
       "      <td>CDU</td>\n",
       "      <td>1982</td>\n",
       "    </tr>\n",
       "    <tr>\n",
       "      <th>0</th>\n",
       "      <td>5</td>\n",
       "      <td>Brandt</td>\n",
       "      <td>SPD</td>\n",
       "      <td>1969</td>\n",
       "    </tr>\n",
       "  </tbody>\n",
       "</table>\n",
       "</div>"
      ],
      "text/plain": [
       "   Jahre      Name Partei  Start\n",
       "4     13    Merkel    CDU   2005\n",
       "1      8   Schmidt    SPD   1974\n",
       "3      7  Schröder    SPD   1998\n",
       "2      6      Kohl    CDU   1982\n",
       "0      5    Brandt    SPD   1969"
      ]
     },
     "execution_count": 183,
     "metadata": {},
     "output_type": "execute_result"
    }
   ],
   "source": [
    "kanzler.sort_values( 'Jahre', ascending=False )"
   ]
  },
  {
   "cell_type": "markdown",
   "metadata": {},
   "source": [
    "### concat"
   ]
  },
  {
   "cell_type": "code",
   "execution_count": 22,
   "metadata": {
    "ExecuteTime": {
     "end_time": "2020-12-16T20:58:57.590923Z",
     "start_time": "2020-12-16T20:58:57.568866Z"
    }
   },
   "outputs": [
    {
     "data": {
      "text/html": [
       "<div>\n",
       "<style scoped>\n",
       "    .dataframe tbody tr th:only-of-type {\n",
       "        vertical-align: middle;\n",
       "    }\n",
       "\n",
       "    .dataframe tbody tr th {\n",
       "        vertical-align: top;\n",
       "    }\n",
       "\n",
       "    .dataframe thead th {\n",
       "        text-align: right;\n",
       "    }\n",
       "</style>\n",
       "<table border=\"1\" class=\"dataframe\">\n",
       "  <thead>\n",
       "    <tr style=\"text-align: right;\">\n",
       "      <th></th>\n",
       "      <th>Jahre</th>\n",
       "      <th>Name</th>\n",
       "      <th>Partei</th>\n",
       "      <th>Start</th>\n",
       "      <th>Rücktritt</th>\n",
       "    </tr>\n",
       "  </thead>\n",
       "  <tbody>\n",
       "    <tr>\n",
       "      <th>0</th>\n",
       "      <td>5</td>\n",
       "      <td>Brandt</td>\n",
       "      <td>SPD</td>\n",
       "      <td>1969</td>\n",
       "      <td>NaN</td>\n",
       "    </tr>\n",
       "    <tr>\n",
       "      <th>1</th>\n",
       "      <td>8</td>\n",
       "      <td>Schmidt</td>\n",
       "      <td>SPD</td>\n",
       "      <td>1974</td>\n",
       "      <td>NaN</td>\n",
       "    </tr>\n",
       "    <tr>\n",
       "      <th>2</th>\n",
       "      <td>6</td>\n",
       "      <td>Kohl</td>\n",
       "      <td>CDU</td>\n",
       "      <td>1982</td>\n",
       "      <td>NaN</td>\n",
       "    </tr>\n",
       "    <tr>\n",
       "      <th>3</th>\n",
       "      <td>7</td>\n",
       "      <td>Schröder</td>\n",
       "      <td>SPD</td>\n",
       "      <td>1998</td>\n",
       "      <td>NaN</td>\n",
       "    </tr>\n",
       "    <tr>\n",
       "      <th>4</th>\n",
       "      <td>13</td>\n",
       "      <td>Merkel</td>\n",
       "      <td>CDU</td>\n",
       "      <td>2005</td>\n",
       "      <td>NaN</td>\n",
       "    </tr>\n",
       "    <tr>\n",
       "      <th>0</th>\n",
       "      <td>14</td>\n",
       "      <td>Adenauer</td>\n",
       "      <td>CDU</td>\n",
       "      <td>1949</td>\n",
       "      <td>False</td>\n",
       "    </tr>\n",
       "    <tr>\n",
       "      <th>1</th>\n",
       "      <td>3</td>\n",
       "      <td>Erhard</td>\n",
       "      <td>FDP</td>\n",
       "      <td>1963</td>\n",
       "      <td>True</td>\n",
       "    </tr>\n",
       "  </tbody>\n",
       "</table>\n",
       "</div>"
      ],
      "text/plain": [
       "   Jahre      Name Partei  Start Rücktritt\n",
       "0      5    Brandt    SPD   1969       NaN\n",
       "1      8   Schmidt    SPD   1974       NaN\n",
       "2      6      Kohl    CDU   1982       NaN\n",
       "3      7  Schröder    SPD   1998       NaN\n",
       "4     13    Merkel    CDU   2005       NaN\n",
       "0     14  Adenauer    CDU   1949     False\n",
       "1      3    Erhard    FDP   1963      True"
      ]
     },
     "execution_count": 22,
     "metadata": {},
     "output_type": "execute_result"
    }
   ],
   "source": [
    "kanzler = pd.DataFrame( {\n",
    "    'Jahre': [ 5, 8, 6, 7, 13 ],\n",
    "    'Name': [ 'Brandt', 'Schmidt', 'Kohl', 'Schröder', 'Merkel' ],\n",
    "    'Partei': [ 'SPD','SPD', 'CDU', 'SPD', 'CDU' ],\n",
    "    'Start': [ 1969, 1974, 1982, 1998, 2005 ]\n",
    "})\n",
    "\n",
    "kanzler2 = pd.DataFrame( {\n",
    "    'Jahre': [ 14, 3 ],\n",
    "    'Name': [ 'Adenauer', 'Erhard' ],\n",
    "    'Partei': [ 'CDU', 'FDP' ],\n",
    "    'Rücktritt': [ False, True ],\n",
    "    'Start': [ 1949, 1963 ]\n",
    "} )\n",
    "\n",
    "pd.concat( [ kanzler, kanzler2 ] )"
   ]
  },
  {
   "cell_type": "markdown",
   "metadata": {},
   "source": [
    "### concat - inner"
   ]
  },
  {
   "cell_type": "code",
   "execution_count": 23,
   "metadata": {
    "ExecuteTime": {
     "end_time": "2020-12-16T20:59:58.832453Z",
     "start_time": "2020-12-16T20:59:58.809700Z"
    }
   },
   "outputs": [
    {
     "data": {
      "text/html": [
       "<div>\n",
       "<style scoped>\n",
       "    .dataframe tbody tr th:only-of-type {\n",
       "        vertical-align: middle;\n",
       "    }\n",
       "\n",
       "    .dataframe tbody tr th {\n",
       "        vertical-align: top;\n",
       "    }\n",
       "\n",
       "    .dataframe thead th {\n",
       "        text-align: right;\n",
       "    }\n",
       "</style>\n",
       "<table border=\"1\" class=\"dataframe\">\n",
       "  <thead>\n",
       "    <tr style=\"text-align: right;\">\n",
       "      <th></th>\n",
       "      <th>Jahre</th>\n",
       "      <th>Name</th>\n",
       "      <th>Partei</th>\n",
       "      <th>Start</th>\n",
       "    </tr>\n",
       "  </thead>\n",
       "  <tbody>\n",
       "    <tr>\n",
       "      <th>0</th>\n",
       "      <td>5</td>\n",
       "      <td>Brandt</td>\n",
       "      <td>SPD</td>\n",
       "      <td>1969</td>\n",
       "    </tr>\n",
       "    <tr>\n",
       "      <th>1</th>\n",
       "      <td>8</td>\n",
       "      <td>Schmidt</td>\n",
       "      <td>SPD</td>\n",
       "      <td>1974</td>\n",
       "    </tr>\n",
       "    <tr>\n",
       "      <th>2</th>\n",
       "      <td>6</td>\n",
       "      <td>Kohl</td>\n",
       "      <td>CDU</td>\n",
       "      <td>1982</td>\n",
       "    </tr>\n",
       "    <tr>\n",
       "      <th>3</th>\n",
       "      <td>7</td>\n",
       "      <td>Schröder</td>\n",
       "      <td>SPD</td>\n",
       "      <td>1998</td>\n",
       "    </tr>\n",
       "    <tr>\n",
       "      <th>4</th>\n",
       "      <td>13</td>\n",
       "      <td>Merkel</td>\n",
       "      <td>CDU</td>\n",
       "      <td>2005</td>\n",
       "    </tr>\n",
       "    <tr>\n",
       "      <th>0</th>\n",
       "      <td>14</td>\n",
       "      <td>Adenauer</td>\n",
       "      <td>CDU</td>\n",
       "      <td>1949</td>\n",
       "    </tr>\n",
       "    <tr>\n",
       "      <th>1</th>\n",
       "      <td>3</td>\n",
       "      <td>Erhard</td>\n",
       "      <td>FDP</td>\n",
       "      <td>1963</td>\n",
       "    </tr>\n",
       "  </tbody>\n",
       "</table>\n",
       "</div>"
      ],
      "text/plain": [
       "   Jahre      Name Partei  Start\n",
       "0      5    Brandt    SPD   1969\n",
       "1      8   Schmidt    SPD   1974\n",
       "2      6      Kohl    CDU   1982\n",
       "3      7  Schröder    SPD   1998\n",
       "4     13    Merkel    CDU   2005\n",
       "0     14  Adenauer    CDU   1949\n",
       "1      3    Erhard    FDP   1963"
      ]
     },
     "execution_count": 23,
     "metadata": {},
     "output_type": "execute_result"
    }
   ],
   "source": [
    "kanzler = pd.DataFrame( {\n",
    "    'Jahre': [ 5, 8, 6, 7, 13 ],\n",
    "    'Name': [ 'Brandt', 'Schmidt', 'Kohl', 'Schröder', 'Merkel' ],\n",
    "    'Partei': [ 'SPD','SPD', 'CDU', 'SPD', 'CDU' ],\n",
    "    'Start': [ 1969, 1974, 1982, 1998, 2005 ]\n",
    "})\n",
    "\n",
    "kanzler2 = pd.DataFrame( {\n",
    "    'Jahre': [ 14, 3 ],\n",
    "    'Name': [ 'Adenauer', 'Erhard' ],\n",
    "    'Partei': [ 'CDU', 'FDP' ],\n",
    "    'Rücktritt': [ False, True ],\n",
    "    'Start': [ 1949, 1963 ]\n",
    "} )\n",
    "\n",
    "pd.concat( [ kanzler, kanzler2 ], join='inner' )"
   ]
  },
  {
   "cell_type": "markdown",
   "metadata": {},
   "source": [
    "### merge"
   ]
  },
  {
   "cell_type": "code",
   "execution_count": 25,
   "metadata": {
    "ExecuteTime": {
     "end_time": "2020-12-16T21:02:27.357538Z",
     "start_time": "2020-12-16T21:02:27.339841Z"
    }
   },
   "outputs": [
    {
     "data": {
      "text/html": [
       "<div>\n",
       "<style scoped>\n",
       "    .dataframe tbody tr th:only-of-type {\n",
       "        vertical-align: middle;\n",
       "    }\n",
       "\n",
       "    .dataframe tbody tr th {\n",
       "        vertical-align: top;\n",
       "    }\n",
       "\n",
       "    .dataframe thead th {\n",
       "        text-align: right;\n",
       "    }\n",
       "</style>\n",
       "<table border=\"1\" class=\"dataframe\">\n",
       "  <thead>\n",
       "    <tr style=\"text-align: right;\">\n",
       "      <th></th>\n",
       "      <th>Jahre</th>\n",
       "      <th>Name</th>\n",
       "      <th>Partei</th>\n",
       "      <th>Start</th>\n",
       "      <th>weibl</th>\n",
       "    </tr>\n",
       "  </thead>\n",
       "  <tbody>\n",
       "    <tr>\n",
       "      <th>0</th>\n",
       "      <td>5</td>\n",
       "      <td>Brandt</td>\n",
       "      <td>SPD</td>\n",
       "      <td>1969</td>\n",
       "      <td>False</td>\n",
       "    </tr>\n",
       "    <tr>\n",
       "      <th>1</th>\n",
       "      <td>6</td>\n",
       "      <td>Kohl</td>\n",
       "      <td>CDU</td>\n",
       "      <td>1982</td>\n",
       "      <td>False</td>\n",
       "    </tr>\n",
       "    <tr>\n",
       "      <th>2</th>\n",
       "      <td>7</td>\n",
       "      <td>Schröder</td>\n",
       "      <td>SPD</td>\n",
       "      <td>1998</td>\n",
       "      <td>False</td>\n",
       "    </tr>\n",
       "    <tr>\n",
       "      <th>3</th>\n",
       "      <td>13</td>\n",
       "      <td>Merkel</td>\n",
       "      <td>CDU</td>\n",
       "      <td>2005</td>\n",
       "      <td>True</td>\n",
       "    </tr>\n",
       "  </tbody>\n",
       "</table>\n",
       "</div>"
      ],
      "text/plain": [
       "   Jahre      Name Partei  Start  weibl\n",
       "0      5    Brandt    SPD   1969  False\n",
       "1      6      Kohl    CDU   1982  False\n",
       "2      7  Schröder    SPD   1998  False\n",
       "3     13    Merkel    CDU   2005   True"
      ]
     },
     "execution_count": 25,
     "metadata": {},
     "output_type": "execute_result"
    }
   ],
   "source": [
    "kanzler = pd.DataFrame( {\n",
    "    'Jahre': [ 5, 8, 6, 7, 13 ],\n",
    "    'Name': [ 'Brandt', 'Schmidt', 'Kohl', 'Schröder', 'Merkel' ],\n",
    "    'Partei': [ 'SPD','SPD', 'CDU', 'SPD', 'CDU' ],\n",
    "    'Start': [ 1969, 1974, 1982, 1998, 2005 ]\n",
    "} )\n",
    "\n",
    "kanzler3 = pd.DataFrame( {\n",
    "    'Name': [ 'Brandt', 'Kohl', 'Schröder', 'Merkel' ],\n",
    "    'weibl': [ False, False, False, True ]\n",
    "} )\n",
    "\n",
    "kanzler.merge( kanzler3, on='Name')"
   ]
  },
  {
   "cell_type": "markdown",
   "metadata": {},
   "source": [
    "### rename"
   ]
  },
  {
   "cell_type": "code",
   "execution_count": 28,
   "metadata": {
    "ExecuteTime": {
     "end_time": "2020-12-16T21:04:43.406008Z",
     "start_time": "2020-12-16T21:04:43.383050Z"
    }
   },
   "outputs": [
    {
     "data": {
      "text/html": [
       "<div>\n",
       "<style scoped>\n",
       "    .dataframe tbody tr th:only-of-type {\n",
       "        vertical-align: middle;\n",
       "    }\n",
       "\n",
       "    .dataframe tbody tr th {\n",
       "        vertical-align: top;\n",
       "    }\n",
       "\n",
       "    .dataframe thead th {\n",
       "        text-align: right;\n",
       "    }\n",
       "</style>\n",
       "<table border=\"1\" class=\"dataframe\">\n",
       "  <thead>\n",
       "    <tr style=\"text-align: right;\">\n",
       "      <th></th>\n",
       "      <th>Years</th>\n",
       "      <th>Name</th>\n",
       "      <th>Party</th>\n",
       "      <th>Start</th>\n",
       "    </tr>\n",
       "  </thead>\n",
       "  <tbody>\n",
       "    <tr>\n",
       "      <th>0</th>\n",
       "      <td>5</td>\n",
       "      <td>Brandt</td>\n",
       "      <td>SPD</td>\n",
       "      <td>1969</td>\n",
       "    </tr>\n",
       "    <tr>\n",
       "      <th>1</th>\n",
       "      <td>8</td>\n",
       "      <td>Schmidt</td>\n",
       "      <td>SPD</td>\n",
       "      <td>1974</td>\n",
       "    </tr>\n",
       "    <tr>\n",
       "      <th>2</th>\n",
       "      <td>6</td>\n",
       "      <td>Kohl</td>\n",
       "      <td>CDU</td>\n",
       "      <td>1982</td>\n",
       "    </tr>\n",
       "    <tr>\n",
       "      <th>3</th>\n",
       "      <td>7</td>\n",
       "      <td>Schröder</td>\n",
       "      <td>SPD</td>\n",
       "      <td>1998</td>\n",
       "    </tr>\n",
       "    <tr>\n",
       "      <th>4</th>\n",
       "      <td>13</td>\n",
       "      <td>Merkel</td>\n",
       "      <td>CDU</td>\n",
       "      <td>2005</td>\n",
       "    </tr>\n",
       "  </tbody>\n",
       "</table>\n",
       "</div>"
      ],
      "text/plain": [
       "   Years      Name Party  Start\n",
       "0      5    Brandt   SPD   1969\n",
       "1      8   Schmidt   SPD   1974\n",
       "2      6      Kohl   CDU   1982\n",
       "3      7  Schröder   SPD   1998\n",
       "4     13    Merkel   CDU   2005"
      ]
     },
     "execution_count": 28,
     "metadata": {},
     "output_type": "execute_result"
    }
   ],
   "source": [
    "kanzler = pd.DataFrame( {\n",
    "    'Jahre': [ 5, 8, 6, 7, 13 ],\n",
    "    'Name': [ 'Brandt', 'Schmidt', 'Kohl', 'Schröder', 'Merkel' ],\n",
    "    'Partei': [ 'SPD','SPD', 'CDU', 'SPD', 'CDU' ],\n",
    "    'Start': [ 1969, 1974, 1982, 1998, 2005 ]\n",
    "} )\n",
    "\n",
    "kanzler.rename( columns={ 'Jahre': 'Years', 'Partei': 'Party'} )"
   ]
  },
  {
   "cell_type": "markdown",
   "metadata": {},
   "source": [
    "### unique"
   ]
  },
  {
   "cell_type": "code",
   "execution_count": 189,
   "metadata": {
    "ExecuteTime": {
     "end_time": "2020-12-17T09:24:27.750352Z",
     "start_time": "2020-12-17T09:24:27.732182Z"
    }
   },
   "outputs": [
    {
     "name": "stdout",
     "output_type": "stream",
     "text": [
      "Parteien:\t\t['SPD', 'CDU']\n",
      "Parteien:\t\t['Brandt', 'Schmidt', 'Kohl', 'Schröder', 'Merkel']\n"
     ]
    }
   ],
   "source": [
    "r = list( kanzler.Partei.unique() )\n",
    "print( \"Parteien:\\t\\t\" + str( r ) )\n",
    "\n",
    "r = list( kanzler.Name.unique() )\n",
    "print( \"Parteien:\\t\\t\" + str( r ) )"
   ]
  },
  {
   "cell_type": "markdown",
   "metadata": {},
   "source": [
    "### T"
   ]
  },
  {
   "cell_type": "code",
   "execution_count": 191,
   "metadata": {
    "ExecuteTime": {
     "end_time": "2020-12-17T09:25:09.797034Z",
     "start_time": "2020-12-17T09:25:09.760928Z"
    }
   },
   "outputs": [
    {
     "data": {
      "text/html": [
       "<div>\n",
       "<style scoped>\n",
       "    .dataframe tbody tr th:only-of-type {\n",
       "        vertical-align: middle;\n",
       "    }\n",
       "\n",
       "    .dataframe tbody tr th {\n",
       "        vertical-align: top;\n",
       "    }\n",
       "\n",
       "    .dataframe thead th {\n",
       "        text-align: right;\n",
       "    }\n",
       "</style>\n",
       "<table border=\"1\" class=\"dataframe\">\n",
       "  <thead>\n",
       "    <tr style=\"text-align: right;\">\n",
       "      <th></th>\n",
       "      <th>0</th>\n",
       "      <th>1</th>\n",
       "      <th>2</th>\n",
       "      <th>3</th>\n",
       "      <th>4</th>\n",
       "    </tr>\n",
       "  </thead>\n",
       "  <tbody>\n",
       "    <tr>\n",
       "      <th>Jahre</th>\n",
       "      <td>5</td>\n",
       "      <td>8</td>\n",
       "      <td>6</td>\n",
       "      <td>7</td>\n",
       "      <td>13</td>\n",
       "    </tr>\n",
       "    <tr>\n",
       "      <th>Name</th>\n",
       "      <td>Brandt</td>\n",
       "      <td>Schmidt</td>\n",
       "      <td>Kohl</td>\n",
       "      <td>Schröder</td>\n",
       "      <td>Merkel</td>\n",
       "    </tr>\n",
       "    <tr>\n",
       "      <th>Partei</th>\n",
       "      <td>SPD</td>\n",
       "      <td>SPD</td>\n",
       "      <td>CDU</td>\n",
       "      <td>SPD</td>\n",
       "      <td>CDU</td>\n",
       "    </tr>\n",
       "    <tr>\n",
       "      <th>Start</th>\n",
       "      <td>1969</td>\n",
       "      <td>1974</td>\n",
       "      <td>1982</td>\n",
       "      <td>1998</td>\n",
       "      <td>2005</td>\n",
       "    </tr>\n",
       "  </tbody>\n",
       "</table>\n",
       "</div>"
      ],
      "text/plain": [
       "             0        1     2         3       4\n",
       "Jahre        5        8     6         7      13\n",
       "Name    Brandt  Schmidt  Kohl  Schröder  Merkel\n",
       "Partei     SPD      SPD   CDU       SPD     CDU\n",
       "Start     1969     1974  1982      1998    2005"
      ]
     },
     "execution_count": 191,
     "metadata": {},
     "output_type": "execute_result"
    }
   ],
   "source": [
    "kanzler.T"
   ]
  },
  {
   "cell_type": "markdown",
   "metadata": {},
   "source": [
    "### .str"
   ]
  },
  {
   "cell_type": "code",
   "execution_count": 45,
   "metadata": {
    "ExecuteTime": {
     "end_time": "2020-12-17T06:02:39.874227Z",
     "start_time": "2020-12-17T06:02:39.852833Z"
    }
   },
   "outputs": [
    {
     "data": {
      "text/plain": [
       "0    6\n",
       "1    7\n",
       "2    4\n",
       "3    8\n",
       "4    6\n",
       "Name: Name, dtype: int64"
      ]
     },
     "execution_count": 45,
     "metadata": {},
     "output_type": "execute_result"
    }
   ],
   "source": [
    "kanzler.Name.str.len()"
   ]
  },
  {
   "cell_type": "code",
   "execution_count": 192,
   "metadata": {
    "ExecuteTime": {
     "end_time": "2020-12-17T09:26:01.060251Z",
     "start_time": "2020-12-17T09:26:01.044112Z"
    }
   },
   "outputs": [
    {
     "data": {
      "text/plain": [
       "0    False\n",
       "1     True\n",
       "2    False\n",
       "3     True\n",
       "4    False\n",
       "Name: Name, dtype: bool"
      ]
     },
     "execution_count": 192,
     "metadata": {},
     "output_type": "execute_result"
    }
   ],
   "source": [
    "kanzler.Name.str.startswith( 'S' )"
   ]
  },
  {
   "cell_type": "code",
   "execution_count": 52,
   "metadata": {
    "ExecuteTime": {
     "end_time": "2020-12-17T06:03:49.392150Z",
     "start_time": "2020-12-17T06:03:49.379431Z"
    }
   },
   "outputs": [
    {
     "data": {
      "text/plain": [
       "0    False\n",
       "1    False\n",
       "2    False\n",
       "3    False\n",
       "4     True\n",
       "Name: Name, dtype: bool"
      ]
     },
     "execution_count": 52,
     "metadata": {},
     "output_type": "execute_result"
    }
   ],
   "source": [
    "kanzler.Name.str.contains( 'erke' )"
   ]
  },
  {
   "cell_type": "markdown",
   "metadata": {},
   "source": [
    "### date_range"
   ]
  },
  {
   "cell_type": "code",
   "execution_count": 62,
   "metadata": {
    "ExecuteTime": {
     "end_time": "2020-12-17T06:12:49.595745Z",
     "start_time": "2020-12-17T06:12:49.589235Z"
    }
   },
   "outputs": [
    {
     "name": "stdout",
     "output_type": "stream",
     "text": [
      "Result:\t\tDatetimeIndex(['2018-09-30', '2018-10-14', '2018-10-28', '2018-11-11'], dtype='datetime64[ns]', freq='2W-SUN')\n"
     ]
    }
   ],
   "source": [
    "a = pd.date_range( '20180930', freq='2W', periods=4 )\n",
    "print( \"Result:\\t\\t\" + str( a ) )"
   ]
  },
  {
   "cell_type": "code",
   "execution_count": 63,
   "metadata": {
    "ExecuteTime": {
     "end_time": "2020-12-17T06:12:57.013779Z",
     "start_time": "2020-12-17T06:12:56.997157Z"
    }
   },
   "outputs": [
    {
     "data": {
      "text/html": [
       "<div>\n",
       "<style scoped>\n",
       "    .dataframe tbody tr th:only-of-type {\n",
       "        vertical-align: middle;\n",
       "    }\n",
       "\n",
       "    .dataframe tbody tr th {\n",
       "        vertical-align: top;\n",
       "    }\n",
       "\n",
       "    .dataframe thead th {\n",
       "        text-align: right;\n",
       "    }\n",
       "</style>\n",
       "<table border=\"1\" class=\"dataframe\">\n",
       "  <thead>\n",
       "    <tr style=\"text-align: right;\">\n",
       "      <th></th>\n",
       "      <th>Aufgaben</th>\n",
       "    </tr>\n",
       "  </thead>\n",
       "  <tbody>\n",
       "    <tr>\n",
       "      <th>2018-09-30</th>\n",
       "      <td>Mathe</td>\n",
       "    </tr>\n",
       "    <tr>\n",
       "      <th>2018-10-07</th>\n",
       "      <td>Deutsch</td>\n",
       "    </tr>\n",
       "    <tr>\n",
       "      <th>2018-10-14</th>\n",
       "      <td>Mathe</td>\n",
       "    </tr>\n",
       "    <tr>\n",
       "      <th>2018-10-21</th>\n",
       "      <td>Englisch</td>\n",
       "    </tr>\n",
       "    <tr>\n",
       "      <th>2018-10-28</th>\n",
       "      <td>Englisch</td>\n",
       "    </tr>\n",
       "    <tr>\n",
       "      <th>2018-11-04</th>\n",
       "      <td>Französisch</td>\n",
       "    </tr>\n",
       "    <tr>\n",
       "      <th>2018-11-11</th>\n",
       "      <td>Mathe</td>\n",
       "    </tr>\n",
       "  </tbody>\n",
       "</table>\n",
       "</div>"
      ],
      "text/plain": [
       "               Aufgaben\n",
       "2018-09-30        Mathe\n",
       "2018-10-07      Deutsch\n",
       "2018-10-14        Mathe\n",
       "2018-10-21     Englisch\n",
       "2018-10-28     Englisch\n",
       "2018-11-04  Französisch\n",
       "2018-11-11        Mathe"
      ]
     },
     "execution_count": 63,
     "metadata": {},
     "output_type": "execute_result"
    }
   ],
   "source": [
    "df1 = pd.DataFrame( \n",
    "    { 'Aufgaben': [ 'Mathe', 'Deutsch', 'Mathe', 'Englisch', 'Englisch', 'Französisch', 'Mathe' ] },\n",
    "    index=pd.date_range( '20180930', freq='W', periods=7 )\n",
    ")\n",
    "\n",
    "df1"
   ]
  },
  {
   "cell_type": "code",
   "execution_count": 56,
   "metadata": {
    "ExecuteTime": {
     "end_time": "2020-12-17T06:07:56.552691Z",
     "start_time": "2020-12-17T06:07:56.530069Z"
    }
   },
   "outputs": [
    {
     "data": {
      "text/html": [
       "<div>\n",
       "<style scoped>\n",
       "    .dataframe tbody tr th:only-of-type {\n",
       "        vertical-align: middle;\n",
       "    }\n",
       "\n",
       "    .dataframe tbody tr th {\n",
       "        vertical-align: top;\n",
       "    }\n",
       "\n",
       "    .dataframe thead th {\n",
       "        text-align: right;\n",
       "    }\n",
       "</style>\n",
       "<table border=\"1\" class=\"dataframe\">\n",
       "  <thead>\n",
       "    <tr style=\"text-align: right;\">\n",
       "      <th></th>\n",
       "      <th>Aufgaben</th>\n",
       "    </tr>\n",
       "  </thead>\n",
       "  <tbody>\n",
       "    <tr>\n",
       "      <th>2018-09-30</th>\n",
       "      <td>Mathe</td>\n",
       "    </tr>\n",
       "    <tr>\n",
       "      <th>2018-10-07</th>\n",
       "      <td>Deutsch</td>\n",
       "    </tr>\n",
       "    <tr>\n",
       "      <th>2018-10-14</th>\n",
       "      <td>Mathe</td>\n",
       "    </tr>\n",
       "    <tr>\n",
       "      <th>2018-10-21</th>\n",
       "      <td>Englisch</td>\n",
       "    </tr>\n",
       "    <tr>\n",
       "      <th>2018-10-28</th>\n",
       "      <td>Englisch</td>\n",
       "    </tr>\n",
       "    <tr>\n",
       "      <th>2018-11-04</th>\n",
       "      <td>Französisch</td>\n",
       "    </tr>\n",
       "    <tr>\n",
       "      <th>2018-11-11</th>\n",
       "      <td>Mathe</td>\n",
       "    </tr>\n",
       "  </tbody>\n",
       "</table>\n",
       "</div>"
      ],
      "text/plain": [
       "               Aufgaben\n",
       "2018-09-30        Mathe\n",
       "2018-10-07      Deutsch\n",
       "2018-10-14        Mathe\n",
       "2018-10-21     Englisch\n",
       "2018-10-28     Englisch\n",
       "2018-11-04  Französisch\n",
       "2018-11-11        Mathe"
      ]
     },
     "execution_count": 56,
     "metadata": {},
     "output_type": "execute_result"
    }
   ],
   "source": [
    "df2 = pd.DataFrame( \n",
    "    { \n",
    "        'Wetter': [ 'Sonnig', 'Gewitter', 'Wolkig', 'Sonnig' ], \n",
    "        'Temp': [ 30, 24, 18, 33 ] \n",
    "    },\n",
    "    index=pd.date_range( '20180930', freq='2W', periods=4 )\n",
    ")"
   ]
  },
  {
   "cell_type": "markdown",
   "metadata": {},
   "source": [
    "### merge"
   ]
  },
  {
   "cell_type": "code",
   "execution_count": 122,
   "metadata": {
    "ExecuteTime": {
     "end_time": "2020-12-17T07:48:44.416118Z",
     "start_time": "2020-12-17T07:48:44.394490Z"
    }
   },
   "outputs": [
    {
     "data": {
      "text/html": [
       "<div>\n",
       "<style scoped>\n",
       "    .dataframe tbody tr th:only-of-type {\n",
       "        vertical-align: middle;\n",
       "    }\n",
       "\n",
       "    .dataframe tbody tr th {\n",
       "        vertical-align: top;\n",
       "    }\n",
       "\n",
       "    .dataframe thead th {\n",
       "        text-align: right;\n",
       "    }\n",
       "</style>\n",
       "<table border=\"1\" class=\"dataframe\">\n",
       "  <thead>\n",
       "    <tr style=\"text-align: right;\">\n",
       "      <th></th>\n",
       "      <th>Aufgaben</th>\n",
       "      <th>Wetter</th>\n",
       "      <th>Temp</th>\n",
       "    </tr>\n",
       "  </thead>\n",
       "  <tbody>\n",
       "    <tr>\n",
       "      <th>2018-09-30</th>\n",
       "      <td>Mathe</td>\n",
       "      <td>Sonnig</td>\n",
       "      <td>30.0</td>\n",
       "    </tr>\n",
       "    <tr>\n",
       "      <th>2018-10-07</th>\n",
       "      <td>Deutsch</td>\n",
       "      <td>NaN</td>\n",
       "      <td>NaN</td>\n",
       "    </tr>\n",
       "    <tr>\n",
       "      <th>2018-10-14</th>\n",
       "      <td>Mathe</td>\n",
       "      <td>Gewitter</td>\n",
       "      <td>24.0</td>\n",
       "    </tr>\n",
       "    <tr>\n",
       "      <th>2018-10-21</th>\n",
       "      <td>Englisch</td>\n",
       "      <td>NaN</td>\n",
       "      <td>NaN</td>\n",
       "    </tr>\n",
       "    <tr>\n",
       "      <th>2018-10-28</th>\n",
       "      <td>Englisch</td>\n",
       "      <td>Wolkig</td>\n",
       "      <td>18.0</td>\n",
       "    </tr>\n",
       "    <tr>\n",
       "      <th>2018-11-04</th>\n",
       "      <td>Französisch</td>\n",
       "      <td>NaN</td>\n",
       "      <td>NaN</td>\n",
       "    </tr>\n",
       "    <tr>\n",
       "      <th>2018-11-11</th>\n",
       "      <td>Mathe</td>\n",
       "      <td>Sonnig</td>\n",
       "      <td>33.0</td>\n",
       "    </tr>\n",
       "  </tbody>\n",
       "</table>\n",
       "</div>"
      ],
      "text/plain": [
       "               Aufgaben    Wetter  Temp\n",
       "2018-09-30        Mathe    Sonnig  30.0\n",
       "2018-10-07      Deutsch       NaN   NaN\n",
       "2018-10-14        Mathe  Gewitter  24.0\n",
       "2018-10-21     Englisch       NaN   NaN\n",
       "2018-10-28     Englisch    Wolkig  18.0\n",
       "2018-11-04  Französisch       NaN   NaN\n",
       "2018-11-11        Mathe    Sonnig  33.0"
      ]
     },
     "execution_count": 122,
     "metadata": {},
     "output_type": "execute_result"
    }
   ],
   "source": [
    "df1 = pd.DataFrame( \n",
    "    { 'Aufgaben': [ 'Mathe', 'Deutsch', 'Mathe', 'Englisch', 'Englisch', 'Französisch', 'Mathe' ] },\n",
    "    index=pd.date_range( '20180930', freq='W', periods=7 )\n",
    ")\n",
    "\n",
    "df2 = pd.DataFrame( \n",
    "    { \n",
    "        'Wetter': [ 'Sonnig', 'Gewitter', 'Wolkig', 'Sonnig' ], \n",
    "        'Temp': [ 30, 24, 18, 33 ] \n",
    "    },\n",
    "    index=pd.date_range( '20180930', freq='2W', periods=4 )\n",
    ")\n",
    "\n",
    "df3 = pd.merge( df1, df2, left_index=True, right_index=True, how='outer')\n",
    "\n",
    "df3"
   ]
  },
  {
   "cell_type": "markdown",
   "metadata": {},
   "source": [
    "### dropna"
   ]
  },
  {
   "cell_type": "code",
   "execution_count": 74,
   "metadata": {
    "ExecuteTime": {
     "end_time": "2020-12-17T07:39:15.744762Z",
     "start_time": "2020-12-17T07:39:15.736362Z"
    }
   },
   "outputs": [
    {
     "data": {
      "text/plain": [
       "2018-09-30    30.0\n",
       "2018-10-14    24.0\n",
       "2018-10-28    18.0\n",
       "2018-11-11    33.0\n",
       "Name: Temp, dtype: float64"
      ]
     },
     "execution_count": 74,
     "metadata": {},
     "output_type": "execute_result"
    }
   ],
   "source": [
    "df3.Temp.dropna()"
   ]
  },
  {
   "cell_type": "markdown",
   "metadata": {},
   "source": [
    "### fillna"
   ]
  },
  {
   "cell_type": "code",
   "execution_count": 75,
   "metadata": {
    "ExecuteTime": {
     "end_time": "2020-12-17T07:39:53.428598Z",
     "start_time": "2020-12-17T07:39:53.418976Z"
    }
   },
   "outputs": [
    {
     "data": {
      "text/plain": [
       "2018-09-30         30\n",
       "2018-10-07    Unknown\n",
       "2018-10-14         24\n",
       "2018-10-21    Unknown\n",
       "2018-10-28         18\n",
       "2018-11-04    Unknown\n",
       "2018-11-11         33\n",
       "Name: Temp, dtype: object"
      ]
     },
     "execution_count": 75,
     "metadata": {},
     "output_type": "execute_result"
    }
   ],
   "source": [
    "df3.Temp.fillna( 'Unknown' )"
   ]
  },
  {
   "cell_type": "markdown",
   "metadata": {},
   "source": [
    "### isnull"
   ]
  },
  {
   "cell_type": "code",
   "execution_count": 79,
   "metadata": {
    "ExecuteTime": {
     "end_time": "2020-12-17T07:40:49.740072Z",
     "start_time": "2020-12-17T07:40:49.731631Z"
    }
   },
   "outputs": [
    {
     "data": {
      "text/plain": [
       "2018-09-30    False\n",
       "2018-10-07     True\n",
       "2018-10-14    False\n",
       "2018-10-21     True\n",
       "2018-10-28    False\n",
       "2018-11-04     True\n",
       "2018-11-11    False\n",
       "Name: Temp, dtype: bool"
      ]
     },
     "execution_count": 79,
     "metadata": {},
     "output_type": "execute_result"
    }
   ],
   "source": [
    "df3.Temp.isnull()"
   ]
  },
  {
   "cell_type": "markdown",
   "metadata": {},
   "source": [
    "### sum"
   ]
  },
  {
   "cell_type": "code",
   "execution_count": 198,
   "metadata": {
    "ExecuteTime": {
     "end_time": "2020-12-17T09:31:49.055188Z",
     "start_time": "2020-12-17T09:31:49.043589Z"
    }
   },
   "outputs": [
    {
     "data": {
      "text/plain": [
       "3"
      ]
     },
     "execution_count": 198,
     "metadata": {},
     "output_type": "execute_result"
    }
   ],
   "source": [
    "df3.Temp.isnull().sum()"
   ]
  },
  {
   "cell_type": "markdown",
   "metadata": {},
   "source": [
    "### copy"
   ]
  },
  {
   "cell_type": "code",
   "execution_count": 127,
   "metadata": {
    "ExecuteTime": {
     "end_time": "2020-12-17T07:49:45.380562Z",
     "start_time": "2020-12-17T07:49:45.365104Z"
    }
   },
   "outputs": [
    {
     "data": {
      "text/html": [
       "<div>\n",
       "<style scoped>\n",
       "    .dataframe tbody tr th:only-of-type {\n",
       "        vertical-align: middle;\n",
       "    }\n",
       "\n",
       "    .dataframe tbody tr th {\n",
       "        vertical-align: top;\n",
       "    }\n",
       "\n",
       "    .dataframe thead th {\n",
       "        text-align: right;\n",
       "    }\n",
       "</style>\n",
       "<table border=\"1\" class=\"dataframe\">\n",
       "  <thead>\n",
       "    <tr style=\"text-align: right;\">\n",
       "      <th></th>\n",
       "      <th>Aufgaben</th>\n",
       "      <th>Wetter</th>\n",
       "      <th>Temp</th>\n",
       "    </tr>\n",
       "  </thead>\n",
       "  <tbody>\n",
       "    <tr>\n",
       "      <th>2018-09-30</th>\n",
       "      <td>Mathe</td>\n",
       "      <td>Sonnig</td>\n",
       "      <td>30.0</td>\n",
       "    </tr>\n",
       "    <tr>\n",
       "      <th>2018-10-07</th>\n",
       "      <td>Deutsch</td>\n",
       "      <td>NaN</td>\n",
       "      <td>50.0</td>\n",
       "    </tr>\n",
       "    <tr>\n",
       "      <th>2018-10-14</th>\n",
       "      <td>Mathe</td>\n",
       "      <td>Gewitter</td>\n",
       "      <td>24.0</td>\n",
       "    </tr>\n",
       "    <tr>\n",
       "      <th>2018-10-21</th>\n",
       "      <td>Englisch</td>\n",
       "      <td>NaN</td>\n",
       "      <td>50.0</td>\n",
       "    </tr>\n",
       "    <tr>\n",
       "      <th>2018-10-28</th>\n",
       "      <td>Englisch</td>\n",
       "      <td>Wolkig</td>\n",
       "      <td>18.0</td>\n",
       "    </tr>\n",
       "    <tr>\n",
       "      <th>2018-11-04</th>\n",
       "      <td>Französisch</td>\n",
       "      <td>NaN</td>\n",
       "      <td>50.0</td>\n",
       "    </tr>\n",
       "    <tr>\n",
       "      <th>2018-11-11</th>\n",
       "      <td>Mathe</td>\n",
       "      <td>Sonnig</td>\n",
       "      <td>33.0</td>\n",
       "    </tr>\n",
       "  </tbody>\n",
       "</table>\n",
       "</div>"
      ],
      "text/plain": [
       "               Aufgaben    Wetter  Temp\n",
       "2018-09-30        Mathe    Sonnig  30.0\n",
       "2018-10-07      Deutsch       NaN  50.0\n",
       "2018-10-14        Mathe  Gewitter  24.0\n",
       "2018-10-21     Englisch       NaN  50.0\n",
       "2018-10-28     Englisch    Wolkig  18.0\n",
       "2018-11-04  Französisch       NaN  50.0\n",
       "2018-11-11        Mathe    Sonnig  33.0"
      ]
     },
     "execution_count": 127,
     "metadata": {},
     "output_type": "execute_result"
    }
   ],
   "source": [
    "df4 = df3.copy()\n",
    "df4.Temp = df4.Temp.fillna( 50 )\n",
    "\n",
    "df4"
   ]
  },
  {
   "cell_type": "markdown",
   "metadata": {},
   "source": [
    "### dtypes"
   ]
  },
  {
   "cell_type": "code",
   "execution_count": 128,
   "metadata": {
    "ExecuteTime": {
     "end_time": "2020-12-17T07:51:02.982524Z",
     "start_time": "2020-12-17T07:51:02.973297Z"
    }
   },
   "outputs": [
    {
     "data": {
      "text/plain": [
       "Aufgaben     object\n",
       "Wetter       object\n",
       "Temp        float64\n",
       "dtype: object"
      ]
     },
     "execution_count": 128,
     "metadata": {},
     "output_type": "execute_result"
    }
   ],
   "source": [
    "df4.dtypes"
   ]
  },
  {
   "cell_type": "markdown",
   "metadata": {},
   "source": [
    "### astype"
   ]
  },
  {
   "cell_type": "code",
   "execution_count": 148,
   "metadata": {
    "ExecuteTime": {
     "end_time": "2020-12-17T07:58:44.861961Z",
     "start_time": "2020-12-17T07:58:44.854859Z"
    }
   },
   "outputs": [
    {
     "name": "stdout",
     "output_type": "stream",
     "text": [
      "Before:\t\tfloat64\n",
      "To String:\tobject\n"
     ]
    }
   ],
   "source": [
    "df5 = df3.copy()\n",
    "print( \"Before:\\t\\t\" + str( df5.Temp.dtypes ) ) \n",
    "\n",
    "df5.Temp = df5.Temp.astype( str )\n",
    "print( \"To String:\\t\" + str( df5.Temp.dtypes ) )"
   ]
  },
  {
   "cell_type": "markdown",
   "metadata": {},
   "source": [
    "### apply"
   ]
  },
  {
   "cell_type": "code",
   "execution_count": 170,
   "metadata": {
    "ExecuteTime": {
     "end_time": "2020-12-17T09:04:38.932647Z",
     "start_time": "2020-12-17T09:04:38.917453Z"
    }
   },
   "outputs": [
    {
     "name": "stdout",
     "output_type": "stream",
     "text": [
      "Before:\n",
      "\n",
      "           Aufgaben    Wetter  Temp\n",
      "2018-09-30    Mathe    Sonnig  30.0\n",
      "2018-10-07  Deutsch       NaN   0.0\n",
      "2018-10-14    Mathe  Gewitter  24.0\n",
      "\n",
      "After:\n",
      "\n",
      "           Aufgaben    Wetter  Temp\n",
      "2018-09-30    Mathe    Sonnig    30\n",
      "2018-10-07  Deutsch       NaN     0\n",
      "2018-10-14    Mathe  Gewitter    24\n"
     ]
    }
   ],
   "source": [
    "df5 = df3.copy()\n",
    "df5.Temp = df5.Temp.fillna( 0 )\n",
    "\n",
    "print( \"Before:\\n\")\n",
    "print( df5.head( 3 ) ) \n",
    "\n",
    "df5.Temp = df5.Temp.apply( lambda x: int( x ) )\n",
    "\n",
    "print( \"\\nAfter:\\n\")\n",
    "print( df5.head( 3 ) ) "
   ]
  },
  {
   "cell_type": "markdown",
   "metadata": {},
   "source": [
    "### groupby"
   ]
  },
  {
   "cell_type": "code",
   "execution_count": 180,
   "metadata": {
    "ExecuteTime": {
     "end_time": "2020-12-17T09:12:17.633889Z",
     "start_time": "2020-12-17T09:12:17.628489Z"
    }
   },
   "outputs": [],
   "source": [
    "df5 = df3.copy()\n",
    "df5.Temp = df5.Temp.fillna( 0 )\n",
    "\n",
    "a = df5.groupby( 'Aufgaben' )\n",
    "\n",
    "?"
   ]
  },
  {
   "cell_type": "code",
   "execution_count": 182,
   "metadata": {
    "ExecuteTime": {
     "end_time": "2020-12-17T09:12:28.942447Z",
     "start_time": "2020-12-17T09:12:28.920294Z"
    }
   },
   "outputs": [
    {
     "data": {
      "text/plain": [
       "[('Deutsch',\n",
       "             Aufgaben Wetter  Temp\n",
       "  2018-10-07  Deutsch    NaN   0.0),\n",
       " ('Englisch',\n",
       "              Aufgaben  Wetter  Temp\n",
       "  2018-10-21  Englisch     NaN   0.0\n",
       "  2018-10-28  Englisch  Wolkig  18.0),\n",
       " ('Französisch',\n",
       "                 Aufgaben Wetter  Temp\n",
       "  2018-11-04  Französisch    NaN   0.0),\n",
       " ('Mathe',\n",
       "             Aufgaben    Wetter  Temp\n",
       "  2018-09-30    Mathe    Sonnig  30.0\n",
       "  2018-10-14    Mathe  Gewitter  24.0\n",
       "  2018-11-11    Mathe    Sonnig  33.0)]"
      ]
     },
     "execution_count": 182,
     "metadata": {},
     "output_type": "execute_result"
    }
   ],
   "source": [
    "##"
   ]
  },
  {
   "cell_type": "code",
   "execution_count": null,
   "metadata": {},
   "outputs": [],
   "source": []
  }
 ],
 "metadata": {
  "kernelspec": {
   "display_name": "Python 3",
   "language": "python",
   "name": "python3"
  },
  "language_info": {
   "codemirror_mode": {
    "name": "ipython",
    "version": 3
   },
   "file_extension": ".py",
   "mimetype": "text/x-python",
   "name": "python",
   "nbconvert_exporter": "python",
   "pygments_lexer": "ipython3",
   "version": "3.6.10"
  },
  "toc": {
   "base_numbering": 1,
   "nav_menu": {},
   "number_sections": true,
   "sideBar": true,
   "skip_h1_title": false,
   "title_cell": "Table of Contents",
   "title_sidebar": "Contents",
   "toc_cell": false,
   "toc_position": {},
   "toc_section_display": true,
   "toc_window_display": true
  }
 },
 "nbformat": 4,
 "nbformat_minor": 4
}
