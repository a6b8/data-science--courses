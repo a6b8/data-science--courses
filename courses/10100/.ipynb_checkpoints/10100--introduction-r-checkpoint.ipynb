{
 "cells": [
  {
   "cell_type": "markdown",
   "metadata": {},
   "source": [
    "# Vektoren"
   ]
  },
  {
   "cell_type": "code",
   "execution_count": 367,
   "metadata": {
    "ExecuteTime": {
     "end_time": "2020-12-15T01:00:17.763024Z",
     "start_time": "2020-12-15T01:00:17.570Z"
    }
   },
   "outputs": [
    {
     "name": "stderr",
     "output_type": "stream",
     "text": [
      "Vektor (Boolean Long):\t\tTRUE, FALSE, TRUE, FALSE, FALSE\n",
      "Vektor (Boolean Short):\t\tTRUE, FALSE, TRUE, FALSE, FALSE\n",
      "class:\t\t\t\tlogical\n",
      "is 1:\t\t\t\tlogical, vector\n",
      "is 2:\t\t\t\tcharacter, vector, data.frameRowLabels, SuperClassMethod\n",
      "Vektor:\t\t\t\t23.4, 2, 11.2, 10.4, 8.8\n",
      "Not Available:\t\t\t10, NA, 5, NA\n",
      "Type:\t\t\t\tnumeric vector\n",
      "Broadcast:\t\t\t0.1 NA 0.05 NA\n",
      "Calulate (1):\t\t\t9 18 27\n",
      "Calulate (2):\t\t\t30 60 90\n",
      "Calulate (3):\t\t\t1 4 3 8\n",
      "Add Index:\t\t\t\n"
     ]
    },
    {
     "data": {
      "text/html": [
       "<dl class=dl-horizontal>\n",
       "\t<dt>CDU</dt>\n",
       "\t\t<dd>15</dd>\n",
       "\t<dt>SPD</dt>\n",
       "\t\t<dd>25</dd>\n",
       "\t<dt>FDP</dt>\n",
       "\t\t<dd>5</dd>\n",
       "\t<dt>Gruene</dt>\n",
       "\t\t<dd>20</dd>\n",
       "\t<dt>Linke</dt>\n",
       "\t\t<dd>10</dd>\n",
       "</dl>\n"
      ],
      "text/latex": [
       "\\begin{description*}\n",
       "\\item[CDU] 15\n",
       "\\item[SPD] 25\n",
       "\\item[FDP] 5\n",
       "\\item[Gruene] 20\n",
       "\\item[Linke] 10\n",
       "\\end{description*}\n"
      ],
      "text/markdown": [
       "CDU\n",
       ":   15SPD\n",
       ":   25FDP\n",
       ":   5Gruene\n",
       ":   20Linke\n",
       ":   10\n",
       "\n"
      ],
      "text/plain": [
       "   CDU    SPD    FDP Gruene  Linke \n",
       "    15     25      5     20     10 "
      ]
     },
     "metadata": {},
     "output_type": "display_data"
    },
    {
     "name": "stderr",
     "output_type": "stream",
     "text": [
      "Zahlenvektoren:\t\t\t1 2 3 4 5 6 7 8 9 10\n",
      "seq (1/5):\t\t\t1 1.25 1.5 1.75 2\n",
      "seq (length=9):\t\t\t1 1.125 1.25 1.375 1.5 1.625 1.75 1.875 2\n",
      "length:\t\t\t\t7\n",
      "sum:\t\t\t\t36\n",
      "mean:\t\t\t\t5.14285714285714\n",
      "var:\t\t\t\t9.14285714285714\n",
      "sd:\t\t\t\t3.02371578407382\n",
      "median:\t\t\t\t5\n",
      "by index:\t\t\t1\n",
      "set by index:\t\t\t10 2 3 4 5 6 7 8 9\n"
     ]
    }
   ],
   "source": [
    "v <- c( TRUE, FALSE, TRUE, FALSE, FALSE)\n",
    "message( \"Vektor (Boolean Long):\\t\\t\",  paste( v,collapse=\", \") )\n",
    "\n",
    "v <- c( T, F, T, F, F)\n",
    "message( \"Vektor (Boolean Short):\\t\\t\",  paste( v,collapse=\", \") )\n",
    "\n",
    "v <- class( c( TRUE ) )\n",
    "message( \"class:\\t\\t\\t\\t\",  paste( v,collapse=\", \") )\n",
    "\n",
    "v <- is( c( TRUE ) )\n",
    "message( \"is 1:\\t\\t\\t\\t\",  paste( v,collapse=\", \") )\n",
    "\n",
    "v <- is( c( 'A', NA ) )\n",
    "message( \"is 2:\\t\\t\\t\\t\",  paste( v,collapse=\", \") )\n",
    "\n",
    "v <- c( 23.4, 2, 11.2, 10.4, 8.8 )\n",
    "message( \"Vektor:\\t\\t\\t\\t\",  paste( v,collapse=\", \") )\n",
    "\n",
    "v <- c( 10, NA, 5, NA )\n",
    "message( \"Not Available:\\t\\t\\t\",  paste( v,collapse=\", \") )\n",
    "\n",
    "r <- is( v )\n",
    "message( \"Type:\\t\\t\\t\\t\", paste( r, collapse=\" \" ) )\n",
    "\n",
    "r <- v / 100\n",
    "message( \"Broadcast:\\t\\t\\t\", paste( r, collapse=\" \" ) )\n",
    "\n",
    "r <- c( 10, 20, 30 ) - c( 1, 2, 3 )\n",
    "message( \"Calulate (1):\\t\\t\\t\", paste( r, collapse=\" \" ) )\n",
    "\n",
    "r <- 3 * c( 10, 20, 30 )\n",
    "message( \"Calulate (2):\\t\\t\\t\", paste( r, collapse=\" \" ) )\n",
    "\n",
    "r <- c( 1, 2 ) * c( 1, 2, 3, 4 )\n",
    "message( \"Calulate (3):\\t\\t\\t\", paste( r, collapse=\" \" ) )\n",
    "\n",
    "v <- c( 15, 25, 5, 20, 10)\n",
    "names( v ) = c('CDU', 'SPD', 'FDP', 'Gruene', 'Linke')\n",
    "message( \"Add Index:\\t\\t\\t\" )\n",
    "\n",
    "v\n",
    "\n",
    "\n",
    "r <- 1:10\n",
    "message( \"Zahlenvektoren:\\t\\t\\t\", paste( r, collapse=\" \" ) )\n",
    "\n",
    "r <- seq( 1, 2, by= 1 / 4 )\n",
    "message( \"seq (1/5):\\t\\t\\t\", paste( r, collapse=\" \" ) )\n",
    "\n",
    "r <- seq( 1, 2, length=9 )\n",
    "message( \"seq (length=9):\\t\\t\\t\", paste( r, collapse=\" \" ) )\n",
    "\n",
    "r <- length( c( 1, 2, 4, 5, 7, 8, 9 ) )\n",
    "message( \"length:\\t\\t\\t\\t\", paste( r, collapse=\" \" ) )\n",
    "\n",
    "r <- sum( c( 1, 2, 4, 5, 7, 8, 9 ) )\n",
    "message( \"sum:\\t\\t\\t\\t\", paste( r, collapse=\" \" ) )\n",
    "\n",
    "r <- mean( c( 1, 2, 4, 5, 7, 8, 9 ) )\n",
    "message( \"mean:\\t\\t\\t\\t\", paste( r, collapse=\" \" ) )\n",
    "\n",
    "r <- var( c( 1, 2, 4, 5, 7, 8, 9 ) )\n",
    "message( \"var:\\t\\t\\t\\t\", paste( r, collapse=\" \" ) )\n",
    "\n",
    "r <- sd( c( 1, 2, 4, 5, 7, 8, 9 ) )\n",
    "message( \"sd:\\t\\t\\t\\t\", paste( r, collapse=\" \" ) )\n",
    "\n",
    "r <- median( c( 1, 2, 4, 5, 7, 8, 9 ) )\n",
    "message( \"median:\\t\\t\\t\\t\", paste( r, collapse=\" \" ) )\n",
    "\n",
    "r <- c( 1, 2, 3, 4, 5, 6, 7, 8, 9 )[ 1 ]\n",
    "message( \"by index:\\t\\t\\t\", paste( r, collapse=\" \" ) )\n",
    "\n",
    "r <- c( 1, 2, 3, 4, 5, 6, 7, 8, 9 )\n",
    "r[ 1 ] = 10\n",
    "message( \"set by index:\\t\\t\\t\", paste( r, collapse=\" \" ) )"
   ]
  },
  {
   "cell_type": "code",
   "execution_count": 329,
   "metadata": {
    "ExecuteTime": {
     "end_time": "2020-12-15T00:52:01.777989Z",
     "start_time": "2020-12-15T00:52:01.723Z"
    }
   },
   "outputs": [
    {
     "name": "stderr",
     "output_type": "stream",
     "text": [
      "indizierung (vektor)\t\t2 4 8\n",
      "indizierung (vektor)\t\t2 2 2\n",
      "indizierung (vektor & na)\t2 4 8 NA\n",
      "indizierung (l:r)\t\t1 2 3 4\n",
      "indizierung (außer)\t\t2 3 4 5 6 7 8 9\n",
      "indizierung (vektor außer)\t5 6 7 8 9\n"
     ]
    }
   ],
   "source": [
    "r <- c( 1, 2, 3, 4, 5, 6, 7, 8, 9 )[ c( 2, 4, 8 ) ]\n",
    "message( \"indizierung (vektor)\\t\\t\", paste( r, collapse=\" \" ) )\n",
    "\n",
    "r <- c( 1, 2, 3, 4, 5, 6, 7, 8, 9 )[ c( 2, 2, 2 ) ]\n",
    "message( \"indizierung (vektor)\\t\\t\", paste( r, collapse=\" \" ) )\n",
    "\n",
    "r <- c( 1, 2, 3, 4, 5, 6, 7, 8, 9 )[ c( 2, 4, 8, 16 ) ]\n",
    "message( \"indizierung (vektor & na)\\t\", paste( r, collapse=\" \" ) )\n",
    "\n",
    "r <- c( 1, 2, 3, 4, 5, 6, 7, 8, 9 )[1:4]\n",
    "message( \"indizierung (l:r)\\t\\t\", paste( r, collapse=\" \" ) )\n",
    "\n",
    "r <- c( 1, 2, 3, 4, 5, 6, 7, 8, 9 )[ -1 ]\n",
    "message( \"indizierung (außer)\\t\\t\", paste( r, collapse=\" \" ) )\n",
    "\n",
    "r <- c( 1, 2, 3, 4, 5, 6, 7, 8, 9 )[ -c( 1, 2, 3, 4 ) ]\n",
    "message( \"indizierung (vektor außer)\\t\", paste( r, collapse=\" \" ) )"
   ]
  },
  {
   "cell_type": "code",
   "execution_count": 330,
   "metadata": {
    "ExecuteTime": {
     "end_time": "2020-12-15T00:52:02.514125Z",
     "start_time": "2020-12-15T00:52:02.451Z"
    }
   },
   "outputs": [
    {
     "name": "stderr",
     "output_type": "stream",
     "text": [
      "Mit Namen:\n"
     ]
    },
    {
     "data": {
      "text/html": [
       "<dl class=dl-horizontal>\n",
       "\t<dt>CDU</dt>\n",
       "\t\t<dd>15</dd>\n",
       "\t<dt>SPD</dt>\n",
       "\t\t<dd>28</dd>\n",
       "\t<dt>Grüne</dt>\n",
       "\t\t<dd>32</dd>\n",
       "\t<dt>Afd</dt>\n",
       "\t\t<dd>5</dd>\n",
       "\t<dt>Linke</dt>\n",
       "\t\t<dd>20</dd>\n",
       "</dl>\n"
      ],
      "text/latex": [
       "\\begin{description*}\n",
       "\\item[CDU] 15\n",
       "\\item[SPD] 28\n",
       "\\item[Grüne] 32\n",
       "\\item[Afd] 5\n",
       "\\item[Linke] 20\n",
       "\\end{description*}\n"
      ],
      "text/markdown": [
       "CDU\n",
       ":   15SPD\n",
       ":   28Grüne\n",
       ":   32Afd\n",
       ":   5Linke\n",
       ":   20\n",
       "\n"
      ],
      "text/plain": [
       "  CDU   SPD Grüne   Afd Linke \n",
       "   15    28    32     5    20 "
      ]
     },
     "metadata": {},
     "output_type": "display_data"
    },
    {
     "name": "stderr",
     "output_type": "stream",
     "text": [
      "Selektion (Vektor):\n"
     ]
    },
    {
     "data": {
      "text/html": [
       "<dl class=dl-horizontal>\n",
       "\t<dt>SPD</dt>\n",
       "\t\t<dd>28</dd>\n",
       "\t<dt>Grüne</dt>\n",
       "\t\t<dd>32</dd>\n",
       "</dl>\n"
      ],
      "text/latex": [
       "\\begin{description*}\n",
       "\\item[SPD] 28\n",
       "\\item[Grüne] 32\n",
       "\\end{description*}\n"
      ],
      "text/markdown": [
       "SPD\n",
       ":   28Grüne\n",
       ":   32\n",
       "\n"
      ],
      "text/plain": [
       "  SPD Grüne \n",
       "   28    32 "
      ]
     },
     "metadata": {},
     "output_type": "display_data"
    },
    {
     "name": "stderr",
     "output_type": "stream",
     "text": [
      "Selektion (Boolean):\n"
     ]
    },
    {
     "data": {
      "text/html": [
       "<dl class=dl-horizontal>\n",
       "\t<dt>CDU</dt>\n",
       "\t\t<dd>15</dd>\n",
       "\t<dt>Grüne</dt>\n",
       "\t\t<dd>32</dd>\n",
       "\t<dt>Linke</dt>\n",
       "\t\t<dd>20</dd>\n",
       "</dl>\n"
      ],
      "text/latex": [
       "\\begin{description*}\n",
       "\\item[CDU] 15\n",
       "\\item[Grüne] 32\n",
       "\\item[Linke] 20\n",
       "\\end{description*}\n"
      ],
      "text/markdown": [
       "CDU\n",
       ":   15Grüne\n",
       ":   32Linke\n",
       ":   20\n",
       "\n"
      ],
      "text/plain": [
       "  CDU Grüne Linke \n",
       "   15    32    20 "
      ]
     },
     "metadata": {},
     "output_type": "display_data"
    },
    {
     "name": "stderr",
     "output_type": "stream",
     "text": [
      "Selektion (Boolean ! Operator):\n"
     ]
    },
    {
     "data": {
      "text/html": [
       "<dl class=dl-horizontal>\n",
       "\t<dt>SPD</dt>\n",
       "\t\t<dd>28</dd>\n",
       "\t<dt>Afd</dt>\n",
       "\t\t<dd>5</dd>\n",
       "</dl>\n"
      ],
      "text/latex": [
       "\\begin{description*}\n",
       "\\item[SPD] 28\n",
       "\\item[Afd] 5\n",
       "\\end{description*}\n"
      ],
      "text/markdown": [
       "SPD\n",
       ":   28Afd\n",
       ":   5\n",
       "\n"
      ],
      "text/plain": [
       "SPD Afd \n",
       " 28   5 "
      ]
     },
     "metadata": {},
     "output_type": "display_data"
    }
   ],
   "source": [
    "v <- c( 15, 28, 32, 5, 20 )\n",
    "names( v ) = c('CDU', 'SPD','Grüne', 'Afd', 'Linke' )\n",
    "message( \"Mit Namen:\" )\n",
    "v\n",
    "\n",
    "message( \"Selektion (Vektor):\" )\n",
    "v[ c( 'SPD', 'Grüne' ) ]\n",
    "\n",
    "message( \"Selektion (Boolean):\" )\n",
    "v[ c( TRUE, FALSE, TRUE, FALSE, TRUE ) ]\n",
    "\n",
    "message( \"Selektion (Boolean ! Operator):\" )\n",
    "v[ !c( TRUE, FALSE, TRUE, FALSE, TRUE ) ]"
   ]
  },
  {
   "cell_type": "code",
   "execution_count": 331,
   "metadata": {
    "ExecuteTime": {
     "end_time": "2020-12-15T00:52:03.312149Z",
     "start_time": "2020-12-15T00:52:03.249Z"
    }
   },
   "outputs": [
    {
     "name": "stdout",
     "output_type": "stream",
     "text": [
      "Result sum (NA default):\t NA \n",
      "Result sum (na.rm=T):\t\t 6 \n",
      "Result mean (NA default):\t NA \n",
      "Result mean (na.rm=T):\t\t 2 \n",
      "Is NA?:\t\t\t\t FALSE FALSE FALSE TRUE FALSE \n",
      "Is NA? (Selektion):\t\t 1 4 10 13"
     ]
    }
   ],
   "source": [
    "r <- sum( c( 1, 4, 10, NA, 13 ) )\n",
    "cat( \"Result sum (NA default):\\t\", r, \"\\n\" )\n",
    "\n",
    "r <- sum( c( 1, 2, 3, NA), na.rm=T)\n",
    "cat( \"Result sum (na.rm=T):\\t\\t\", r, \"\\n\" )\n",
    "\n",
    "r <- mean( c( 1, 4, 10, NA, 13 ) )\n",
    "cat( \"Result mean (NA default):\\t\", r, \"\\n\" )\n",
    "\n",
    "r <- mean( c( 1, 2, 3, NA), na.rm=TRUE)\n",
    "cat( \"Result mean (na.rm=T):\\t\\t\", r, \"\\n\" )\n",
    "\n",
    "r <- is.na( c( 1, 4, 10, NA, 13 ) )\n",
    "cat( \"Is NA?:\\t\\t\\t\\t\", r, \"\\n\"  )\n",
    "\n",
    "tmp <- c( 1, 4, 10, NA, 13 )\n",
    "r <- tmp[ !is.na( tmp ) ] \n",
    "cat( \"Is NA? (Selektion):\\t\\t\", r )"
   ]
  },
  {
   "cell_type": "code",
   "execution_count": 332,
   "metadata": {
    "ExecuteTime": {
     "end_time": "2020-12-15T00:52:04.013307Z",
     "start_time": "2020-12-15T00:52:03.943Z"
    }
   },
   "outputs": [
    {
     "name": "stdout",
     "output_type": "stream",
     "text": [
      "Matrizen:"
     ]
    },
    {
     "data": {
      "text/html": [
       "<table>\n",
       "<tbody>\n",
       "\t<tr><td>1 </td><td> 7</td><td>13</td><td>19</td></tr>\n",
       "\t<tr><td>2 </td><td> 8</td><td>14</td><td>20</td></tr>\n",
       "\t<tr><td>3 </td><td> 9</td><td>15</td><td>21</td></tr>\n",
       "\t<tr><td>4 </td><td>10</td><td>16</td><td>22</td></tr>\n",
       "\t<tr><td>5 </td><td>11</td><td>17</td><td>23</td></tr>\n",
       "\t<tr><td>6 </td><td>12</td><td>18</td><td>24</td></tr>\n",
       "</tbody>\n",
       "</table>\n"
      ],
      "text/latex": [
       "\\begin{tabular}{llll}\n",
       "\t 1  &  7 & 13 & 19\\\\\n",
       "\t 2  &  8 & 14 & 20\\\\\n",
       "\t 3  &  9 & 15 & 21\\\\\n",
       "\t 4  & 10 & 16 & 22\\\\\n",
       "\t 5  & 11 & 17 & 23\\\\\n",
       "\t 6  & 12 & 18 & 24\\\\\n",
       "\\end{tabular}\n"
      ],
      "text/markdown": [
       "\n",
       "| 1  |  7 | 13 | 19 |\n",
       "| 2  |  8 | 14 | 20 |\n",
       "| 3  |  9 | 15 | 21 |\n",
       "| 4  | 10 | 16 | 22 |\n",
       "| 5  | 11 | 17 | 23 |\n",
       "| 6  | 12 | 18 | 24 |\n",
       "\n"
      ],
      "text/plain": [
       "     [,1] [,2] [,3] [,4]\n",
       "[1,] 1     7   13   19  \n",
       "[2,] 2     8   14   20  \n",
       "[3,] 3     9   15   21  \n",
       "[4,] 4    10   16   22  \n",
       "[5,] 5    11   17   23  \n",
       "[6,] 6    12   18   24  "
      ]
     },
     "metadata": {},
     "output_type": "display_data"
    },
    {
     "name": "stdout",
     "output_type": "stream",
     "text": [
      "rownames:"
     ]
    },
    {
     "data": {
      "text/html": [
       "<table>\n",
       "<tbody>\n",
       "\t<tr><th scope=row>A</th><td>1 </td><td> 7</td><td>13</td><td>19</td></tr>\n",
       "\t<tr><th scope=row>B</th><td>2 </td><td> 8</td><td>14</td><td>20</td></tr>\n",
       "\t<tr><th scope=row>C</th><td>3 </td><td> 9</td><td>15</td><td>21</td></tr>\n",
       "\t<tr><th scope=row>D</th><td>4 </td><td>10</td><td>16</td><td>22</td></tr>\n",
       "\t<tr><th scope=row>E</th><td>5 </td><td>11</td><td>17</td><td>23</td></tr>\n",
       "\t<tr><th scope=row>F</th><td>6 </td><td>12</td><td>18</td><td>24</td></tr>\n",
       "</tbody>\n",
       "</table>\n"
      ],
      "text/latex": [
       "\\begin{tabular}{r|llll}\n",
       "\tA & 1  &  7 & 13 & 19\\\\\n",
       "\tB & 2  &  8 & 14 & 20\\\\\n",
       "\tC & 3  &  9 & 15 & 21\\\\\n",
       "\tD & 4  & 10 & 16 & 22\\\\\n",
       "\tE & 5  & 11 & 17 & 23\\\\\n",
       "\tF & 6  & 12 & 18 & 24\\\\\n",
       "\\end{tabular}\n"
      ],
      "text/markdown": [
       "\n",
       "| A | 1  |  7 | 13 | 19 |\n",
       "| B | 2  |  8 | 14 | 20 |\n",
       "| C | 3  |  9 | 15 | 21 |\n",
       "| D | 4  | 10 | 16 | 22 |\n",
       "| E | 5  | 11 | 17 | 23 |\n",
       "| F | 6  | 12 | 18 | 24 |\n",
       "\n"
      ],
      "text/plain": [
       "  [,1] [,2] [,3] [,4]\n",
       "A 1     7   13   19  \n",
       "B 2     8   14   20  \n",
       "C 3     9   15   21  \n",
       "D 4    10   16   22  \n",
       "E 5    11   17   23  \n",
       "F 6    12   18   24  "
      ]
     },
     "metadata": {},
     "output_type": "display_data"
    },
    {
     "name": "stdout",
     "output_type": "stream",
     "text": [
      "colnames:"
     ]
    },
    {
     "data": {
      "text/html": [
       "<table>\n",
       "<thead><tr><th></th><th scope=col>Eins</th><th scope=col>Zwei</th><th scope=col>Drei</th><th scope=col>Vier</th></tr></thead>\n",
       "<tbody>\n",
       "\t<tr><th scope=row>A</th><td>1 </td><td> 7</td><td>13</td><td>19</td></tr>\n",
       "\t<tr><th scope=row>B</th><td>2 </td><td> 8</td><td>14</td><td>20</td></tr>\n",
       "\t<tr><th scope=row>C</th><td>3 </td><td> 9</td><td>15</td><td>21</td></tr>\n",
       "\t<tr><th scope=row>D</th><td>4 </td><td>10</td><td>16</td><td>22</td></tr>\n",
       "\t<tr><th scope=row>E</th><td>5 </td><td>11</td><td>17</td><td>23</td></tr>\n",
       "\t<tr><th scope=row>F</th><td>6 </td><td>12</td><td>18</td><td>24</td></tr>\n",
       "</tbody>\n",
       "</table>\n"
      ],
      "text/latex": [
       "\\begin{tabular}{r|llll}\n",
       "  & Eins & Zwei & Drei & Vier\\\\\n",
       "\\hline\n",
       "\tA & 1  &  7 & 13 & 19\\\\\n",
       "\tB & 2  &  8 & 14 & 20\\\\\n",
       "\tC & 3  &  9 & 15 & 21\\\\\n",
       "\tD & 4  & 10 & 16 & 22\\\\\n",
       "\tE & 5  & 11 & 17 & 23\\\\\n",
       "\tF & 6  & 12 & 18 & 24\\\\\n",
       "\\end{tabular}\n"
      ],
      "text/markdown": [
       "\n",
       "| <!--/--> | Eins | Zwei | Drei | Vier |\n",
       "|---|---|---|---|---|\n",
       "| A | 1  |  7 | 13 | 19 |\n",
       "| B | 2  |  8 | 14 | 20 |\n",
       "| C | 3  |  9 | 15 | 21 |\n",
       "| D | 4  | 10 | 16 | 22 |\n",
       "| E | 5  | 11 | 17 | 23 |\n",
       "| F | 6  | 12 | 18 | 24 |\n",
       "\n"
      ],
      "text/plain": [
       "  Eins Zwei Drei Vier\n",
       "A 1     7   13   19  \n",
       "B 2     8   14   20  \n",
       "C 3     9   15   21  \n",
       "D 4    10   16   22  \n",
       "E 5    11   17   23  \n",
       "F 6    12   18   24  "
      ]
     },
     "metadata": {},
     "output_type": "display_data"
    }
   ],
   "source": [
    "r <- matrix( 1:24, nrow=6, ncol=4 )\n",
    "cat( \"Matrizen:\" )\n",
    "r\n",
    "\n",
    "cat( \"rownames:\" )\n",
    "rownames( r ) <- c( 'A', 'B', 'C', 'D', 'E', 'F' )\n",
    "r\n",
    "\n",
    "cat( \"colnames:\" )\n",
    "colnames( r ) <- c( 'Eins', 'Zwei', 'Drei', 'Vier' )\n",
    "r"
   ]
  },
  {
   "cell_type": "code",
   "execution_count": 333,
   "metadata": {
    "ExecuteTime": {
     "end_time": "2020-12-15T00:52:04.685061Z",
     "start_time": "2020-12-15T00:52:04.627Z"
    }
   },
   "outputs": [
    {
     "data": {
      "text/html": [
       "<table>\n",
       "<thead><tr><th></th><th scope=col>Eins</th><th scope=col>Zwei</th><th scope=col>Drei</th><th scope=col>Vier</th></tr></thead>\n",
       "<tbody>\n",
       "\t<tr><th scope=row>A</th><td>1 </td><td> 7</td><td>13</td><td>19</td></tr>\n",
       "\t<tr><th scope=row>B</th><td>2 </td><td> 8</td><td>14</td><td>20</td></tr>\n",
       "\t<tr><th scope=row>C</th><td>3 </td><td> 9</td><td>15</td><td>21</td></tr>\n",
       "\t<tr><th scope=row>D</th><td>4 </td><td>10</td><td>16</td><td>22</td></tr>\n",
       "\t<tr><th scope=row>E</th><td>5 </td><td>11</td><td>17</td><td>23</td></tr>\n",
       "\t<tr><th scope=row>F</th><td>6 </td><td>12</td><td>18</td><td>24</td></tr>\n",
       "</tbody>\n",
       "</table>\n"
      ],
      "text/latex": [
       "\\begin{tabular}{r|llll}\n",
       "  & Eins & Zwei & Drei & Vier\\\\\n",
       "\\hline\n",
       "\tA & 1  &  7 & 13 & 19\\\\\n",
       "\tB & 2  &  8 & 14 & 20\\\\\n",
       "\tC & 3  &  9 & 15 & 21\\\\\n",
       "\tD & 4  & 10 & 16 & 22\\\\\n",
       "\tE & 5  & 11 & 17 & 23\\\\\n",
       "\tF & 6  & 12 & 18 & 24\\\\\n",
       "\\end{tabular}\n"
      ],
      "text/markdown": [
       "\n",
       "| <!--/--> | Eins | Zwei | Drei | Vier |\n",
       "|---|---|---|---|---|\n",
       "| A | 1  |  7 | 13 | 19 |\n",
       "| B | 2  |  8 | 14 | 20 |\n",
       "| C | 3  |  9 | 15 | 21 |\n",
       "| D | 4  | 10 | 16 | 22 |\n",
       "| E | 5  | 11 | 17 | 23 |\n",
       "| F | 6  | 12 | 18 | 24 |\n",
       "\n"
      ],
      "text/plain": [
       "  Eins Zwei Drei Vier\n",
       "A 1     7   13   19  \n",
       "B 2     8   14   20  \n",
       "C 3     9   15   21  \n",
       "D 4    10   16   22  \n",
       "E 5    11   17   23  \n",
       "F 6    12   18   24  "
      ]
     },
     "metadata": {},
     "output_type": "display_data"
    },
    {
     "name": "stdout",
     "output_type": "stream",
     "text": [
      "Selektion [ 1, ]"
     ]
    },
    {
     "data": {
      "text/html": [
       "<dl class=dl-horizontal>\n",
       "\t<dt>Eins</dt>\n",
       "\t\t<dd>1</dd>\n",
       "\t<dt>Zwei</dt>\n",
       "\t\t<dd>7</dd>\n",
       "\t<dt>Drei</dt>\n",
       "\t\t<dd>13</dd>\n",
       "\t<dt>Vier</dt>\n",
       "\t\t<dd>19</dd>\n",
       "</dl>\n"
      ],
      "text/latex": [
       "\\begin{description*}\n",
       "\\item[Eins] 1\n",
       "\\item[Zwei] 7\n",
       "\\item[Drei] 13\n",
       "\\item[Vier] 19\n",
       "\\end{description*}\n"
      ],
      "text/markdown": [
       "Eins\n",
       ":   1Zwei\n",
       ":   7Drei\n",
       ":   13Vier\n",
       ":   19\n",
       "\n"
      ],
      "text/plain": [
       "Eins Zwei Drei Vier \n",
       "   1    7   13   19 "
      ]
     },
     "metadata": {},
     "output_type": "display_data"
    },
    {
     "name": "stdout",
     "output_type": "stream",
     "text": [
      "Selektion [ ,3]"
     ]
    },
    {
     "data": {
      "text/html": [
       "<dl class=dl-horizontal>\n",
       "\t<dt>A</dt>\n",
       "\t\t<dd>13</dd>\n",
       "\t<dt>B</dt>\n",
       "\t\t<dd>14</dd>\n",
       "\t<dt>C</dt>\n",
       "\t\t<dd>15</dd>\n",
       "\t<dt>D</dt>\n",
       "\t\t<dd>16</dd>\n",
       "\t<dt>E</dt>\n",
       "\t\t<dd>17</dd>\n",
       "\t<dt>F</dt>\n",
       "\t\t<dd>18</dd>\n",
       "</dl>\n"
      ],
      "text/latex": [
       "\\begin{description*}\n",
       "\\item[A] 13\n",
       "\\item[B] 14\n",
       "\\item[C] 15\n",
       "\\item[D] 16\n",
       "\\item[E] 17\n",
       "\\item[F] 18\n",
       "\\end{description*}\n"
      ],
      "text/markdown": [
       "A\n",
       ":   13B\n",
       ":   14C\n",
       ":   15D\n",
       ":   16E\n",
       ":   17F\n",
       ":   18\n",
       "\n"
      ],
      "text/plain": [
       " A  B  C  D  E  F \n",
       "13 14 15 16 17 18 "
      ]
     },
     "metadata": {},
     "output_type": "display_data"
    }
   ],
   "source": [
    "r <- matrix( 1:24, nrow=6, ncol=4)\n",
    "rownames( r ) <- c( 'A', 'B', 'C', 'D', 'E', 'F' )\n",
    "colnames( r ) <- c( 'Eins', 'Zwei', 'Drei', 'Vier' )\n",
    "\n",
    "r\n",
    "\n",
    "cat( \"Selektion [ 1, ]\" )\n",
    "r[ 1, ]\n",
    "\n",
    "cat( \"Selektion [ ,3]\" )\n",
    "r[ ,3 ]"
   ]
  },
  {
   "cell_type": "code",
   "execution_count": 334,
   "metadata": {
    "ExecuteTime": {
     "end_time": "2020-12-15T00:52:05.471427Z",
     "start_time": "2020-12-15T00:52:05.403Z"
    }
   },
   "outputs": [
    {
     "data": {
      "text/html": [
       "<table>\n",
       "<thead><tr><th></th><th scope=col>Eins</th><th scope=col>Zwei</th><th scope=col>Drei</th><th scope=col>Vier</th></tr></thead>\n",
       "<tbody>\n",
       "\t<tr><th scope=row>A</th><td>1 </td><td> 7</td><td>13</td><td>19</td></tr>\n",
       "\t<tr><th scope=row>B</th><td>2 </td><td> 8</td><td>14</td><td>20</td></tr>\n",
       "\t<tr><th scope=row>C</th><td>3 </td><td> 9</td><td>15</td><td>21</td></tr>\n",
       "\t<tr><th scope=row>D</th><td>4 </td><td>10</td><td>16</td><td>22</td></tr>\n",
       "\t<tr><th scope=row>E</th><td>5 </td><td>11</td><td>17</td><td>23</td></tr>\n",
       "\t<tr><th scope=row>F</th><td>6 </td><td>12</td><td>18</td><td>24</td></tr>\n",
       "</tbody>\n",
       "</table>\n"
      ],
      "text/latex": [
       "\\begin{tabular}{r|llll}\n",
       "  & Eins & Zwei & Drei & Vier\\\\\n",
       "\\hline\n",
       "\tA & 1  &  7 & 13 & 19\\\\\n",
       "\tB & 2  &  8 & 14 & 20\\\\\n",
       "\tC & 3  &  9 & 15 & 21\\\\\n",
       "\tD & 4  & 10 & 16 & 22\\\\\n",
       "\tE & 5  & 11 & 17 & 23\\\\\n",
       "\tF & 6  & 12 & 18 & 24\\\\\n",
       "\\end{tabular}\n"
      ],
      "text/markdown": [
       "\n",
       "| <!--/--> | Eins | Zwei | Drei | Vier |\n",
       "|---|---|---|---|---|\n",
       "| A | 1  |  7 | 13 | 19 |\n",
       "| B | 2  |  8 | 14 | 20 |\n",
       "| C | 3  |  9 | 15 | 21 |\n",
       "| D | 4  | 10 | 16 | 22 |\n",
       "| E | 5  | 11 | 17 | 23 |\n",
       "| F | 6  | 12 | 18 | 24 |\n",
       "\n"
      ],
      "text/plain": [
       "  Eins Zwei Drei Vier\n",
       "A 1     7   13   19  \n",
       "B 2     8   14   20  \n",
       "C 3     9   15   21  \n",
       "D 4    10   16   22  \n",
       "E 5    11   17   23  \n",
       "F 6    12   18   24  "
      ]
     },
     "metadata": {},
     "output_type": "display_data"
    },
    {
     "name": "stdout",
     "output_type": "stream",
     "text": [
      "Selection (Boolean) [F, F, T, F, F, T]:\t 3 6 9 12 15 18 21 24 \n",
      "Selection (Boolean) [F, F, T]:\t\t 3 6 9 12 15 18 21 24 \n",
      "Selection (Boolean) [F, F, T, T, T]:\t 3 4 5 8 9 10 13 14 15 18 19 20 23 24 \n",
      "\n",
      "Selection (Rows & Columns):\t \n"
     ]
    },
    {
     "data": {
      "text/html": [
       "<table>\n",
       "<thead><tr><th></th><th scope=col>Eins</th><th scope=col>Vier</th></tr></thead>\n",
       "<tbody>\n",
       "\t<tr><th scope=row>C</th><td>3 </td><td>21</td></tr>\n",
       "\t<tr><th scope=row>F</th><td>6 </td><td>24</td></tr>\n",
       "</tbody>\n",
       "</table>\n"
      ],
      "text/latex": [
       "\\begin{tabular}{r|ll}\n",
       "  & Eins & Vier\\\\\n",
       "\\hline\n",
       "\tC & 3  & 21\\\\\n",
       "\tF & 6  & 24\\\\\n",
       "\\end{tabular}\n"
      ],
      "text/markdown": [
       "\n",
       "| <!--/--> | Eins | Vier |\n",
       "|---|---|---|\n",
       "| C | 3  | 21 |\n",
       "| F | 6  | 24 |\n",
       "\n"
      ],
      "text/plain": [
       "  Eins Vier\n",
       "C 3    21  \n",
       "F 6    24  "
      ]
     },
     "metadata": {},
     "output_type": "display_data"
    }
   ],
   "source": [
    "r <- matrix( 1:24, nrow=6, ncol=4)\n",
    "rownames( r ) <- c( 'A', 'B', 'C', 'D', 'E', 'F' )\n",
    "colnames( r ) <- c( 'Eins', 'Zwei', 'Drei', 'Vier' )\n",
    "\n",
    "r\n",
    "\n",
    "rr <- r[ c( F, F, T, F, F, T ) ]\n",
    "cat( \"Selection (Boolean) [F, F, T, F, F, T]:\\t\", rr, \"\\n\" )\n",
    "\n",
    "rr <- r[ c( F, F, T )]\n",
    "cat( \"Selection (Boolean) [F, F, T]:\\t\\t\", rr, \"\\n\" )\n",
    "\n",
    "rr <- r[ c( F, F, T, T, T )]\n",
    "cat( \"Selection (Boolean) [F, F, T, T, T]:\\t\", rr, \"\\n\" )\n",
    "\n",
    "cat( \"\\nSelection (Rows & Columns):\\t\", \"\\n\" )\n",
    "r[c(F,F,T), c(\"Eins\", \"Vier\" ) ]"
   ]
  },
  {
   "cell_type": "code",
   "execution_count": 335,
   "metadata": {
    "ExecuteTime": {
     "end_time": "2020-12-15T00:52:06.439376Z",
     "start_time": "2020-12-15T00:52:06.351Z"
    }
   },
   "outputs": [
    {
     "data": {
      "text/html": [
       "<table>\n",
       "<thead><tr><th></th><th scope=col>Eins</th><th scope=col>Zwei</th><th scope=col>Drei</th><th scope=col>Vier</th></tr></thead>\n",
       "<tbody>\n",
       "\t<tr><th scope=row>A</th><td>1 </td><td> 7</td><td>13</td><td>19</td></tr>\n",
       "\t<tr><th scope=row>B</th><td>2 </td><td> 8</td><td>14</td><td>20</td></tr>\n",
       "\t<tr><th scope=row>C</th><td>3 </td><td> 9</td><td>15</td><td>21</td></tr>\n",
       "\t<tr><th scope=row>D</th><td>4 </td><td>10</td><td>16</td><td>22</td></tr>\n",
       "\t<tr><th scope=row>E</th><td>5 </td><td>11</td><td>17</td><td>23</td></tr>\n",
       "\t<tr><th scope=row>F</th><td>6 </td><td>12</td><td>18</td><td>24</td></tr>\n",
       "</tbody>\n",
       "</table>\n"
      ],
      "text/latex": [
       "\\begin{tabular}{r|llll}\n",
       "  & Eins & Zwei & Drei & Vier\\\\\n",
       "\\hline\n",
       "\tA & 1  &  7 & 13 & 19\\\\\n",
       "\tB & 2  &  8 & 14 & 20\\\\\n",
       "\tC & 3  &  9 & 15 & 21\\\\\n",
       "\tD & 4  & 10 & 16 & 22\\\\\n",
       "\tE & 5  & 11 & 17 & 23\\\\\n",
       "\tF & 6  & 12 & 18 & 24\\\\\n",
       "\\end{tabular}\n"
      ],
      "text/markdown": [
       "\n",
       "| <!--/--> | Eins | Zwei | Drei | Vier |\n",
       "|---|---|---|---|---|\n",
       "| A | 1  |  7 | 13 | 19 |\n",
       "| B | 2  |  8 | 14 | 20 |\n",
       "| C | 3  |  9 | 15 | 21 |\n",
       "| D | 4  | 10 | 16 | 22 |\n",
       "| E | 5  | 11 | 17 | 23 |\n",
       "| F | 6  | 12 | 18 | 24 |\n",
       "\n"
      ],
      "text/plain": [
       "  Eins Zwei Drei Vier\n",
       "A 1     7   13   19  \n",
       "B 2     8   14   20  \n",
       "C 3     9   15   21  \n",
       "D 4    10   16   22  \n",
       "E 5    11   17   23  \n",
       "F 6    12   18   24  "
      ]
     },
     "metadata": {},
     "output_type": "display_data"
    },
    {
     "name": "stdout",
     "output_type": "stream",
     "text": [
      "apply (1 Zeile, sum):\t\t\t 40 44 48 52 56 60 \n",
      "apply (2 Spalte, sum):\t\t\t 21 57 93 129 \n",
      "apply (2 Spalte & Selektion, sum):\t 21 129 \n",
      "sapply (Alle, function):\t\t 2 3 4 5 6 7 8 9 10 11 12 13 14 15 16 17 18 19 20 21 22 23 24 25 \n",
      "\n",
      "tapply:\n",
      "data:\t\t 1 2 3 4 5 6 7 8 9 10 \n",
      "struct:\t\t a b a b a b a a a c \n",
      "Result sum:\n"
     ]
    },
    {
     "data": {
      "text/html": [
       "<dl class=dl-horizontal>\n",
       "\t<dt>a</dt>\n",
       "\t\t<dd>33</dd>\n",
       "\t<dt>b</dt>\n",
       "\t\t<dd>12</dd>\n",
       "\t<dt>c</dt>\n",
       "\t\t<dd>10</dd>\n",
       "</dl>\n"
      ],
      "text/latex": [
       "\\begin{description*}\n",
       "\\item[a] 33\n",
       "\\item[b] 12\n",
       "\\item[c] 10\n",
       "\\end{description*}\n"
      ],
      "text/markdown": [
       "a\n",
       ":   33b\n",
       ":   12c\n",
       ":   10\n",
       "\n"
      ],
      "text/plain": [
       " a  b  c \n",
       "33 12 10 "
      ]
     },
     "metadata": {},
     "output_type": "display_data"
    }
   ],
   "source": [
    "m <- matrix( 1:24, nrow=6, ncol=4 )\n",
    "rownames( m ) <- c( 'A', 'B', 'C', 'D', 'E', 'F' )\n",
    "colnames( m ) <- c( 'Eins', 'Zwei', 'Drei', 'Vier' )\n",
    "m\n",
    "\n",
    "r <- apply( m, 1, sum )\n",
    "cat( \"apply (1 Zeile, sum):\\t\\t\\t\", r, \"\\n\" )\n",
    "\n",
    "r <- apply( m, 2, sum )\n",
    "cat( \"apply (2 Spalte, sum):\\t\\t\\t\", r, \"\\n\" )\n",
    "\n",
    "r <- apply( m, 2, sum )[ c('Eins', 'Vier' ) ]\n",
    "cat( \"apply (2 Spalte & Selektion, sum):\\t\", r, \"\\n\" )\n",
    "     \n",
    "r <- sapply( m, function( x ) x + 1 )\n",
    "cat( \"sapply (Alle, function):\\t\\t\", r, \"\\n\" )\n",
    "           \n",
    "cat( \"\\ntapply:\\n\")\n",
    "           \n",
    "data <- c( 1, 2, 3, 4, 5, 6, 7, 8, 9, 10 )\n",
    "cat( \"data:\\t\\t\", data, \"\\n\" )\n",
    "\n",
    "selector <- c( 'a', 'b', 'a', 'b', 'a', 'b', 'a', 'a', 'a', 'c' )\n",
    "cat( \"struct:\\t\\t\", struct, \"\\n\" )\n",
    "\n",
    "cat( \"Result sum:\\n\" )\n",
    "tapply( data, struct, sum )"
   ]
  },
  {
   "cell_type": "code",
   "execution_count": 368,
   "metadata": {
    "ExecuteTime": {
     "end_time": "2020-12-15T01:00:34.575013Z",
     "start_time": "2020-12-15T01:00:34.537Z"
    }
   },
   "outputs": [
    {
     "name": "stdout",
     "output_type": "stream",
     "text": [
      "Result:\t\t 5 & TRUE & 6.4 \n",
      "Result:\t\t 9 \n"
     ]
    }
   ],
   "source": [
    "a <- 5; b <- TRUE; c <- 6.4\n",
    "r <- paste( a, '&', b, '&', c )\n",
    "cat( \"Result:\\t\\t\", r, \"\\n\" )\n",
    "\n",
    "r <- nchar( c( \"Statistik\" )[ 1 ] )\n",
    "cat( \"Result:\\t\\t\", r, \"\\n\" )\n",
    "\n",
    "r <- matrix( 1:24, nrow=6, ncol=4)\n",
    "rownames( r ) <- c( 'A', 'B', 'C', 'D', 'E', 'F' )\n",
    "colnames( r ) <- c( 'Eins', 'Zwei', 'Drei', 'Vier' )"
   ]
  },
  {
   "cell_type": "code",
   "execution_count": 337,
   "metadata": {
    "ExecuteTime": {
     "end_time": "2020-12-15T00:52:11.699969Z",
     "start_time": "2020-12-15T00:52:11.680Z"
    }
   },
   "outputs": [
    {
     "ename": "ERROR",
     "evalue": "Error in parse(text = x, srcfile = src): <text>:2:0: unerwartetes Ende der Eingabe\n1: match( x=\"Stat\", table=c('Eins', 'Zwei', 'Drei')) ??\n   ^\n",
     "output_type": "error",
     "traceback": [
      "Error in parse(text = x, srcfile = src): <text>:2:0: unerwartetes Ende der Eingabe\n1: match( x=\"Stat\", table=c('Eins', 'Zwei', 'Drei')) ??\n   ^\nTraceback:\n"
     ]
    }
   ],
   "source": [
    "match( x=\"Stat\", table=c('Eins', 'Zwei', 'Drei')) ??"
   ]
  },
  {
   "cell_type": "code",
   "execution_count": 369,
   "metadata": {
    "ExecuteTime": {
     "end_time": "2020-12-15T01:00:39.074168Z",
     "start_time": "2020-12-15T01:00:39.047Z"
    }
   },
   "outputs": [
    {
     "name": "stdout",
     "output_type": "stream",
     "text": [
      "Result:\t\t Tue Dec 15 02:00:39 2020 \n",
      "Result:\t\t c(\"Tue\", \"Dec\", \"15\", \"02:00:39\", \"2020\") \n"
     ]
    }
   ],
   "source": [
    "r <- date()\n",
    "cat( \"Result:\\t\\t\", r, \"\\n\")\n",
    "\n",
    "r <- strsplit( date(), ' ' )\n",
    "cat( \"Result:\\t\\t\", toString( r ), \"\\n\")"
   ]
  },
  {
   "cell_type": "code",
   "execution_count": 370,
   "metadata": {
    "ExecuteTime": {
     "end_time": "2020-12-15T01:00:43.296988Z",
     "start_time": "2020-12-15T01:00:43.247Z"
    }
   },
   "outputs": [
    {
     "data": {
      "text/html": [
       "<table>\n",
       "<thead><tr><th scope=col>Sepal.Length</th><th scope=col>Sepal.Width</th><th scope=col>Petal.Length</th></tr></thead>\n",
       "<tbody>\n",
       "\t<tr><td>5.1</td><td>3.5</td><td>1.4</td></tr>\n",
       "\t<tr><td>4.9</td><td>3.0</td><td>1.4</td></tr>\n",
       "\t<tr><td>4.7</td><td>3.2</td><td>1.3</td></tr>\n",
       "\t<tr><td>4.6</td><td>3.1</td><td>1.5</td></tr>\n",
       "\t<tr><td>5.0</td><td>3.6</td><td>1.4</td></tr>\n",
       "\t<tr><td>5.4</td><td>3.9</td><td>1.7</td></tr>\n",
       "</tbody>\n",
       "</table>\n"
      ],
      "text/latex": [
       "\\begin{tabular}{r|lll}\n",
       " Sepal.Length & Sepal.Width & Petal.Length\\\\\n",
       "\\hline\n",
       "\t 5.1 & 3.5 & 1.4\\\\\n",
       "\t 4.9 & 3.0 & 1.4\\\\\n",
       "\t 4.7 & 3.2 & 1.3\\\\\n",
       "\t 4.6 & 3.1 & 1.5\\\\\n",
       "\t 5.0 & 3.6 & 1.4\\\\\n",
       "\t 5.4 & 3.9 & 1.7\\\\\n",
       "\\end{tabular}\n"
      ],
      "text/markdown": [
       "\n",
       "| Sepal.Length | Sepal.Width | Petal.Length |\n",
       "|---|---|---|\n",
       "| 5.1 | 3.5 | 1.4 |\n",
       "| 4.9 | 3.0 | 1.4 |\n",
       "| 4.7 | 3.2 | 1.3 |\n",
       "| 4.6 | 3.1 | 1.5 |\n",
       "| 5.0 | 3.6 | 1.4 |\n",
       "| 5.4 | 3.9 | 1.7 |\n",
       "\n"
      ],
      "text/plain": [
       "  Sepal.Length Sepal.Width Petal.Length\n",
       "1 5.1          3.5         1.4         \n",
       "2 4.9          3.0         1.4         \n",
       "3 4.7          3.2         1.3         \n",
       "4 4.6          3.1         1.5         \n",
       "5 5.0          3.6         1.4         \n",
       "6 5.4          3.9         1.7         "
      ]
     },
     "metadata": {},
     "output_type": "display_data"
    },
    {
     "data": {
      "text/html": [
       "<table>\n",
       "<thead><tr><th></th><th scope=col>Sepal.Length</th><th scope=col>Sepal.Width</th><th scope=col>Petal.Length</th><th scope=col>Petal.Width</th><th scope=col>Species</th></tr></thead>\n",
       "<tbody>\n",
       "\t<tr><th scope=row>51</th><td>7.0       </td><td>3.2       </td><td>4.7       </td><td>1.4       </td><td>versicolor</td></tr>\n",
       "\t<tr><th scope=row>52</th><td>6.4       </td><td>3.2       </td><td>4.5       </td><td>1.5       </td><td>versicolor</td></tr>\n",
       "\t<tr><th scope=row>53</th><td>6.9       </td><td>3.1       </td><td>4.9       </td><td>1.5       </td><td>versicolor</td></tr>\n",
       "\t<tr><th scope=row>55</th><td>6.5       </td><td>2.8       </td><td>4.6       </td><td>1.5       </td><td>versicolor</td></tr>\n",
       "\t<tr><th scope=row>57</th><td>6.3       </td><td>3.3       </td><td>4.7       </td><td>1.6       </td><td>versicolor</td></tr>\n",
       "\t<tr><th scope=row>59</th><td>6.6       </td><td>2.9       </td><td>4.6       </td><td>1.3       </td><td>versicolor</td></tr>\n",
       "</tbody>\n",
       "</table>\n"
      ],
      "text/latex": [
       "\\begin{tabular}{r|lllll}\n",
       "  & Sepal.Length & Sepal.Width & Petal.Length & Petal.Width & Species\\\\\n",
       "\\hline\n",
       "\t51 & 7.0        & 3.2        & 4.7        & 1.4        & versicolor\\\\\n",
       "\t52 & 6.4        & 3.2        & 4.5        & 1.5        & versicolor\\\\\n",
       "\t53 & 6.9        & 3.1        & 4.9        & 1.5        & versicolor\\\\\n",
       "\t55 & 6.5        & 2.8        & 4.6        & 1.5        & versicolor\\\\\n",
       "\t57 & 6.3        & 3.3        & 4.7        & 1.6        & versicolor\\\\\n",
       "\t59 & 6.6        & 2.9        & 4.6        & 1.3        & versicolor\\\\\n",
       "\\end{tabular}\n"
      ],
      "text/markdown": [
       "\n",
       "| <!--/--> | Sepal.Length | Sepal.Width | Petal.Length | Petal.Width | Species |\n",
       "|---|---|---|---|---|---|\n",
       "| 51 | 7.0        | 3.2        | 4.7        | 1.4        | versicolor |\n",
       "| 52 | 6.4        | 3.2        | 4.5        | 1.5        | versicolor |\n",
       "| 53 | 6.9        | 3.1        | 4.9        | 1.5        | versicolor |\n",
       "| 55 | 6.5        | 2.8        | 4.6        | 1.5        | versicolor |\n",
       "| 57 | 6.3        | 3.3        | 4.7        | 1.6        | versicolor |\n",
       "| 59 | 6.6        | 2.9        | 4.6        | 1.3        | versicolor |\n",
       "\n"
      ],
      "text/plain": [
       "   Sepal.Length Sepal.Width Petal.Length Petal.Width Species   \n",
       "51 7.0          3.2         4.7          1.4         versicolor\n",
       "52 6.4          3.2         4.5          1.5         versicolor\n",
       "53 6.9          3.1         4.9          1.5         versicolor\n",
       "55 6.5          2.8         4.6          1.5         versicolor\n",
       "57 6.3          3.3         4.7          1.6         versicolor\n",
       "59 6.6          2.9         4.6          1.3         versicolor"
      ]
     },
     "metadata": {},
     "output_type": "display_data"
    },
    {
     "name": "stdout",
     "output_type": "stream",
     "text": [
      "Result (Sepal.Length):\t\t numeric vector \n",
      "Result (Species):\t\t factor integer oldClass double numeric vector data.frameRowLabels \n"
     ]
    }
   ],
   "source": [
    "# iris$Sepal.Length\n",
    "head( iris[1:3] )\n",
    "\n",
    "head( iris[ iris$Sepal.Length > 6, ] )\n",
    "\n",
    "r <- is( iris$Sepal.Length )\n",
    "cat( \"Result (Sepal.Length):\\t\\t\", r, \"\\n\")\n",
    "\n",
    "r <- is( iris$Species )\n",
    "cat( \"Result (Species):\\t\\t\", r, \"\\n\")"
   ]
  },
  {
   "cell_type": "code",
   "execution_count": 409,
   "metadata": {
    "ExecuteTime": {
     "end_time": "2020-12-15T01:11:40.963636Z",
     "start_time": "2020-12-15T01:11:40.862Z"
    }
   },
   "outputs": [
    {
     "data": {
      "text/html": [
       "<table>\n",
       "<thead><tr><th scope=col>v1</th><th scope=col>v2</th><th scope=col>v3</th></tr></thead>\n",
       "<tbody>\n",
       "\t<tr><td>A    </td><td>10   </td><td>FALSE</td></tr>\n",
       "\t<tr><td>B    </td><td>20   </td><td>FALSE</td></tr>\n",
       "\t<tr><td>C    </td><td> 4   </td><td> TRUE</td></tr>\n",
       "</tbody>\n",
       "</table>\n"
      ],
      "text/latex": [
       "\\begin{tabular}{r|lll}\n",
       " v1 & v2 & v3\\\\\n",
       "\\hline\n",
       "\t A     & 10    & FALSE\\\\\n",
       "\t B     & 20    & FALSE\\\\\n",
       "\t C     &  4    &  TRUE\\\\\n",
       "\\end{tabular}\n"
      ],
      "text/markdown": [
       "\n",
       "| v1 | v2 | v3 |\n",
       "|---|---|---|\n",
       "| A     | 10    | FALSE |\n",
       "| B     | 20    | FALSE |\n",
       "| C     |  4    |  TRUE |\n",
       "\n"
      ],
      "text/plain": [
       "  v1 v2 v3   \n",
       "1 A  10 FALSE\n",
       "2 B  20 FALSE\n",
       "3 C   4  TRUE"
      ]
     },
     "metadata": {},
     "output_type": "display_data"
    },
    {
     "name": "stdout",
     "output_type": "stream",
     "text": [
      "is 1:\t\t data.frame \n",
      "is 2:\t\t data.frame list oldClass vector listOrNULL \n",
      "names:\t\t Sepal.Length Sepal.Width Petal.Length Petal.Width Species \n",
      "\n",
      "cbind:"
     ]
    },
    {
     "data": {
      "text/html": [
       "<table>\n",
       "<tbody>\n",
       "\t<tr><td>11</td><td>21</td><td>41</td></tr>\n",
       "\t<tr><td>12</td><td>22</td><td>42</td></tr>\n",
       "\t<tr><td>13</td><td>23</td><td>43</td></tr>\n",
       "\t<tr><td>14</td><td>24</td><td>44</td></tr>\n",
       "</tbody>\n",
       "</table>\n"
      ],
      "text/latex": [
       "\\begin{tabular}{lll}\n",
       "\t 11 & 21 & 41\\\\\n",
       "\t 12 & 22 & 42\\\\\n",
       "\t 13 & 23 & 43\\\\\n",
       "\t 14 & 24 & 44\\\\\n",
       "\\end{tabular}\n"
      ],
      "text/markdown": [
       "\n",
       "| 11 | 21 | 41 |\n",
       "| 12 | 22 | 42 |\n",
       "| 13 | 23 | 43 |\n",
       "| 14 | 24 | 44 |\n",
       "\n"
      ],
      "text/plain": [
       "     [,1] [,2] [,3]\n",
       "[1,] 11   21   41  \n",
       "[2,] 12   22   42  \n",
       "[3,] 13   23   43  \n",
       "[4,] 14   24   44  "
      ]
     },
     "metadata": {},
     "output_type": "display_data"
    },
    {
     "name": "stdout",
     "output_type": "stream",
     "text": [
      "\n",
      "tail:"
     ]
    },
    {
     "data": {
      "text/html": [
       "<table>\n",
       "<thead><tr><th></th><th scope=col>Sepal.Length</th><th scope=col>Sepal.Width</th><th scope=col>Petal.Length</th><th scope=col>Petal.Width</th><th scope=col>Species</th></tr></thead>\n",
       "<tbody>\n",
       "\t<tr><th scope=row>146</th><td>6.7      </td><td>3        </td><td>5.2      </td><td>2.3      </td><td>virginica</td></tr>\n",
       "\t<tr><th scope=row>147</th><td>6.3      </td><td>2.5      </td><td>5        </td><td>1.9      </td><td>virginica</td></tr>\n",
       "\t<tr><th scope=row>148</th><td>6.5      </td><td>3        </td><td>5.2      </td><td>2        </td><td>virginica</td></tr>\n",
       "\t<tr><th scope=row>149</th><td>6.2      </td><td>3.4      </td><td>5.4      </td><td>2.3      </td><td>virginica</td></tr>\n",
       "\t<tr><th scope=row>150</th><td>5.9      </td><td>3        </td><td>5.1      </td><td>1.8      </td><td>virginica</td></tr>\n",
       "\t<tr><th scope=row>151</th><td>1        </td><td>2        </td><td>3        </td><td>4        </td><td>virginica</td></tr>\n",
       "</tbody>\n",
       "</table>\n"
      ],
      "text/latex": [
       "\\begin{tabular}{r|lllll}\n",
       "  & Sepal.Length & Sepal.Width & Petal.Length & Petal.Width & Species\\\\\n",
       "\\hline\n",
       "\t146 & 6.7       & 3         & 5.2       & 2.3       & virginica\\\\\n",
       "\t147 & 6.3       & 2.5       & 5         & 1.9       & virginica\\\\\n",
       "\t148 & 6.5       & 3         & 5.2       & 2         & virginica\\\\\n",
       "\t149 & 6.2       & 3.4       & 5.4       & 2.3       & virginica\\\\\n",
       "\t150 & 5.9       & 3         & 5.1       & 1.8       & virginica\\\\\n",
       "\t151 & 1         & 2         & 3         & 4         & virginica\\\\\n",
       "\\end{tabular}\n"
      ],
      "text/markdown": [
       "\n",
       "| <!--/--> | Sepal.Length | Sepal.Width | Petal.Length | Petal.Width | Species |\n",
       "|---|---|---|---|---|---|\n",
       "| 146 | 6.7       | 3         | 5.2       | 2.3       | virginica |\n",
       "| 147 | 6.3       | 2.5       | 5         | 1.9       | virginica |\n",
       "| 148 | 6.5       | 3         | 5.2       | 2         | virginica |\n",
       "| 149 | 6.2       | 3.4       | 5.4       | 2.3       | virginica |\n",
       "| 150 | 5.9       | 3         | 5.1       | 1.8       | virginica |\n",
       "| 151 | 1         | 2         | 3         | 4         | virginica |\n",
       "\n"
      ],
      "text/plain": [
       "    Sepal.Length Sepal.Width Petal.Length Petal.Width Species  \n",
       "146 6.7          3           5.2          2.3         virginica\n",
       "147 6.3          2.5         5            1.9         virginica\n",
       "148 6.5          3           5.2          2           virginica\n",
       "149 6.2          3.4         5.4          2.3         virginica\n",
       "150 5.9          3           5.1          1.8         virginica\n",
       "151 1            2           3            4           virginica"
      ]
     },
     "metadata": {},
     "output_type": "display_data"
    }
   ],
   "source": [
    "v1 <- c( 'A', 'B', 'C' )\n",
    "v2 <- c( 10, 20, 4 )\n",
    "v3 <- c( F, F, T )\n",
    "r <- data.frame( v1, v2, v3 )\n",
    "r\n",
    "\n",
    "rr <- class( r )\n",
    "cat( \"is 1:\\t\\t\", rr, \"\\n\" )\n",
    "\n",
    "rr <- is( r )\n",
    "cat( \"is 2:\\t\\t\", rr, \"\\n\" )\n",
    "\n",
    "rr <- names( iris )\n",
    "cat( \"names:\\t\\t\", rr, \"\\n\" )\n",
    "\n",
    "cat( \"\\ncbind:\")\n",
    "cbind( 11:14, 21:24, 41:44 )\n",
    "\n",
    "cat( \"\\ntail:\")\n",
    "tail( rbind( iris, c( 1:4, \"virginica\") ) )"
   ]
  },
  {
   "cell_type": "code",
   "execution_count": null,
   "metadata": {
    "ExecuteTime": {
     "end_time": "2020-12-15T01:31:46.319474Z",
     "start_time": "2020-12-15T01:31:46.254Z"
    }
   },
   "outputs": [],
   "source": [
    "\n",
    "\n",
    "\n"
   ]
  },
  {
   "cell_type": "markdown",
   "metadata": {
    "ExecuteTime": {
     "end_time": "2020-12-15T02:10:47.138176Z",
     "start_time": "2020-12-15T02:10:47.126Z"
    }
   },
   "source": [
    "# Plotten"
   ]
  },
  {
   "cell_type": "code",
   "execution_count": 472,
   "metadata": {
    "ExecuteTime": {
     "end_time": "2020-12-15T02:16:30.303607Z",
     "start_time": "2020-12-15T02:16:30.284Z"
    }
   },
   "outputs": [],
   "source": [
    "set_plot_dimensions <- function(width_choice, height_choice) {\n",
    "    options(\n",
    "        repr.plot.width=width_choice, \n",
    "        repr.plot.height=height_choice\n",
    "    \n",
    "    )\n",
    "}\n",
    "\n",
    "set_plot_dimensions( 4, 3 )"
   ]
  },
  {
   "cell_type": "code",
   "execution_count": 473,
   "metadata": {
    "ExecuteTime": {
     "end_time": "2020-12-15T02:16:32.786834Z",
     "start_time": "2020-12-15T02:16:32.719Z"
    }
   },
   "outputs": [
    {
     "name": "stdout",
     "output_type": "stream",
     "text": [
      "x:\t\t -3.141593 -3.041593 -2.941593 -2.841593 -2.741593 ...\n",
      "y:\t\t -1.224647e-16 -0.09983342 -0.1986693 -0.2955202 -0.3894183 ...\n"
     ]
    },
    {
     "data": {
      "image/png": "[encoded data removed]",
      "text/plain": [
       "plot without title"
      ]
     },
     "metadata": {},
     "output_type": "display_data"
    }
   ],
   "source": [
    "x <- seq( -pi, pi, 0.1 )\n",
    "y <- sin( x )\n",
    "\n",
    "cat( \"x:\\t\\t\", x[1:5], \"...\\n\")\n",
    "cat( \"y:\\t\\t\", y[1:5], \"...\\n\")\n",
    "plot( x, y, type='l' )"
   ]
  },
  {
   "cell_type": "code",
   "execution_count": 474,
   "metadata": {
    "ExecuteTime": {
     "end_time": "2020-12-15T02:16:35.866762Z",
     "start_time": "2020-12-15T02:16:35.811Z"
    }
   },
   "outputs": [
    {
     "name": "stdout",
     "output_type": "stream",
     "text": [
      "x:\t\t -2 -1.9 -1.8 -1.7 -1.6 ...\n",
      "y:\t\t 4 3.61 3.24 2.89 2.56 ...\n"
     ]
    },
    {
     "data": {
      "image/png": "[encoded data removed]",
      "text/plain": [
       "plot without title"
      ]
     },
     "metadata": {},
     "output_type": "display_data"
    }
   ],
   "source": [
    "x <- seq( -2, 2, 0.1 )\n",
    "y <- x^2\n",
    "cat( \"x:\\t\\t\", x[1:5], \"...\\n\")\n",
    "cat( \"y:\\t\\t\", y[1:5], \"...\\n\")\n",
    "plot( x, y )"
   ]
  },
  {
   "cell_type": "code",
   "execution_count": 483,
   "metadata": {
    "ExecuteTime": {
     "end_time": "2020-12-15T02:19:14.326627Z",
     "start_time": "2020-12-15T02:19:14.267Z"
    }
   },
   "outputs": [
    {
     "name": "stdout",
     "output_type": "stream",
     "text": [
      "x:\t\t -2 -1.9 -1.8 -1.7 -1.6 ...\n",
      "y:\t\t -18 -16.079 -14.312 -12.693 -11.216 ...\n"
     ]
    },
    {
     "data": {
      "image/png": "[encoded data removed]",
      "text/plain": [
       "Plot with title “Die Funktion x^3-2*x^2-2”"
      ]
     },
     "metadata": {},
     "output_type": "display_data"
    }
   ],
   "source": [
    "x <- seq( -2, 2, 0.1 )\n",
    "y <- x ^ 3 - 2 * x ^ 2 - 2\n",
    "cat( \"x:\\t\\t\", x[1:5], \"...\\n\")\n",
    "cat( \"y:\\t\\t\", y[1:5], \"...\\n\")\n",
    "plot( x, y, type='l', lwd=5, col='green', main='Die Funktion x^3-2*x^2-2')"
   ]
  },
  {
   "cell_type": "code",
   "execution_count": 489,
   "metadata": {
    "ExecuteTime": {
     "end_time": "2020-12-15T02:21:18.361541Z",
     "start_time": "2020-12-15T02:21:18.325Z"
    }
   },
   "outputs": [
    {
     "ename": "ERROR",
     "evalue": "Error in plot.window(...): axis style \"s\" unimplemented\n",
     "output_type": "error",
     "traceback": [
      "Error in plot.window(...): axis style \"s\" unimplemented\nTraceback:\n",
      "1. plot(x, y, type = \"l\", lwd = 5, col = \"green\", main = \"Die Funktion x^3-2*x^2-2\", \n .     xaxs = \"s\")",
      "2. plot.default(x, y, type = \"l\", lwd = 5, col = \"green\", main = \"Die Funktion x^3-2*x^2-2\", \n .     xaxs = \"s\")",
      "3. localWindow(xlim, ylim, log, asp, ...)",
      "4. plot.window(...)"
     ]
    },
    {
     "data": {
      "image/png": "[encoded data removed]",
      "text/plain": [
       "plot without title"
      ]
     },
     "metadata": {},
     "output_type": "display_data"
    }
   ],
   "source": [
    "plot( x, y, type='l', lwd=5, col='green', main='Die Funktion x^3-2*x^2-2', xaxs='s')"
   ]
  },
  {
   "cell_type": "code",
   "execution_count": 88,
   "metadata": {
    "ExecuteTime": {
     "end_time": "2020-12-11T06:32:11.304284Z",
     "start_time": "2020-12-11T06:32:11.278Z"
    }
   },
   "outputs": [
    {
     "ename": "ERROR",
     "evalue": "Error in eval(expr, envir, enclos): Objekt 'w' nicht gefunden\n",
     "output_type": "error",
     "traceback": [
      "Error in eval(expr, envir, enclos): Objekt 'w' nicht gefunden\nTraceback:\n"
     ]
    }
   ],
   "source": [
    "w"
   ]
  },
  {
   "cell_type": "code",
   "execution_count": null,
   "metadata": {},
   "outputs": [],
   "source": []
  }
 ],
 "metadata": {
  "kernelspec": {
   "display_name": "R",
   "language": "R",
   "name": "ir"
  },
  "language_info": {
   "codemirror_mode": "r",
   "file_extension": ".r",
   "mimetype": "text/x-r-source",
   "name": "R",
   "pygments_lexer": "r",
   "version": "3.6.1"
  },
  "toc": {
   "base_numbering": 1,
   "nav_menu": {},
   "number_sections": true,
   "sideBar": true,
   "skip_h1_title": false,
   "title_cell": "Table of Contents",
   "title_sidebar": "Contents",
   "toc_cell": false,
   "toc_position": {},
   "toc_section_display": true,
   "toc_window_display": true
  }
 },
 "nbformat": 4,
 "nbformat_minor": 4
}
