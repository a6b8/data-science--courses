{
 "cells": [
  {
   "cell_type": "markdown",
   "metadata": {},
   "source": [
    "# Studienbrief 1"
   ]
  },
  {
   "cell_type": "markdown",
   "metadata": {
    "ExecuteTime": {
     "end_time": "2020-12-16T04:42:57.117044Z",
     "start_time": "2020-12-16T04:42:56.859530Z"
    }
   },
   "source": [
    "## Ausdruck vs. Kommandos"
   ]
  },
  {
   "cell_type": "code",
   "execution_count": 21,
   "metadata": {
    "ExecuteTime": {
     "end_time": "2020-12-16T04:52:50.601527Z",
     "start_time": "2020-12-16T04:52:50.591637Z"
    }
   },
   "outputs": [
    {
     "name": "stdout",
     "output_type": "stream",
     "text": [
      "Value:\t\t[9, 74, 3, 1, 3, 10, 100, 1]\n",
      "sorted():\t[9, 74, 3, 1, 3, 10, 100, 1]\n",
      ".sort():\t[1, 1, 3, 3, 9, 10, 74, 100]\n"
     ]
    }
   ],
   "source": [
    "v = [ 9, 74, 3, 1, 3, 10, 100, 1 ]\n",
    "print( \"Value:\\t\\t\" + str( v ) )\n",
    "sorted( v )\n",
    "print( \"sorted():\\t\" + str( v ) )\n",
    "v.sort()\n",
    "print( \".sort():\\t\" + str( v ) )"
   ]
  },
  {
   "cell_type": "markdown",
   "metadata": {
    "ExecuteTime": {
     "end_time": "2020-12-16T04:49:48.550943Z",
     "start_time": "2020-12-16T04:49:48.534271Z"
    }
   },
   "source": [
    "## lambda\n",
    "\n",
    "\n"
   ]
  },
  {
   "cell_type": "code",
   "execution_count": 19,
   "metadata": {
    "ExecuteTime": {
     "end_time": "2020-12-16T04:51:52.835113Z",
     "start_time": "2020-12-16T04:51:52.822189Z"
    }
   },
   "outputs": [
    {
     "name": "stdout",
     "output_type": "stream",
     "text": [
      "Result:\t\t12strstr\n"
     ]
    }
   ],
   "source": [
    "f = lambda x, y, z: str( x ) + str( y ) + 2 * str( z )\n",
    "r = f( 1, 2, 'str' )\n",
    "print( \"Result:\\t\\t\" + str( r ) )"
   ]
  },
  {
   "cell_type": "code",
   "execution_count": 28,
   "metadata": {
    "ExecuteTime": {
     "end_time": "2020-12-16T04:56:26.626271Z",
     "start_time": "2020-12-16T04:56:26.618857Z"
    }
   },
   "outputs": [
    {
     "name": "stdout",
     "output_type": "stream",
     "text": [
      "Result:\t\t32\n"
     ]
    }
   ],
   "source": [
    "f = ( lambda x, y, z: x( y, z( y ) ) )( lambda x, y: x + 2 * y, 10, lambda x: x + 1 )\n",
    "print( \"Result:\\t\\t\" + str( f ) )"
   ]
  },
  {
   "cell_type": "markdown",
   "metadata": {
    "ExecuteTime": {
     "end_time": "2020-12-16T04:56:52.720673Z",
     "start_time": "2020-12-16T04:56:52.705439Z"
    }
   },
   "source": [
    "## map"
   ]
  },
  {
   "cell_type": "markdown",
   "metadata": {},
   "source": [
    "### default"
   ]
  },
  {
   "cell_type": "code",
   "execution_count": 53,
   "metadata": {
    "ExecuteTime": {
     "end_time": "2020-12-16T05:05:17.694375Z",
     "start_time": "2020-12-16T05:05:17.677306Z"
    }
   },
   "outputs": [
    {
     "name": "stdout",
     "output_type": "stream",
     "text": [
      "map():\t\t\t\t[102, 202, 302, 402]\n",
      "list copmprehension:\t\t[102, 202, 302, 402]\n",
      "list copmprehension (if):\t[302, 322]\n"
     ]
    }
   ],
   "source": [
    "r = map( lambda x: x + 2, [ 100, 200, 300, 400 ] )\n",
    "print( \"map():\\t\\t\\t\\t\" + str( list( r ) ) )\n",
    "\n",
    "f = lambda x: x + 2\n",
    "r = [ f( x ) for x in [ 100, 200, 300, 400 ] if x ]\n",
    "print( \"list copmprehension:\\t\\t\" + str( list( r ) ) )\n",
    "\n",
    "f = lambda x: x + 2\n",
    "r = [ f( x ) for x in [ 100, 200, 300, 320, 400 ] if x > 200 and x < 400 ]\n",
    "print( \"list copmprehension (if):\\t\" + str( list( r ) ) )"
   ]
  },
  {
   "cell_type": "markdown",
   "metadata": {
    "ExecuteTime": {
     "end_time": "2020-12-16T04:59:46.744433Z",
     "start_time": "2020-12-16T04:59:46.710721Z"
    }
   },
   "source": [
    "### *"
   ]
  },
  {
   "cell_type": "code",
   "execution_count": 63,
   "metadata": {
    "ExecuteTime": {
     "end_time": "2020-12-16T05:08:52.158655Z",
     "start_time": "2020-12-16T05:08:52.149299Z"
    }
   },
   "outputs": [
    {
     "name": "stdout",
     "output_type": "stream",
     "text": [
      "map list (one variable) :\t[2, 3, 5, 6]\n",
      "map list (multiple variables):\t[4, 6, 9, 11]\n"
     ]
    }
   ],
   "source": [
    "def mapL( f, *l ):\n",
    "    return list( map( f, *l ) )\n",
    "\n",
    "r = mapL( lambda x: x, [ 2, 3, 5, 6 ] )\n",
    "print( \"map list (one variable) :\\t\" + str( list( r ) ) )\n",
    "\n",
    "r = mapL( lambda x, y: x + y, [ 2, 3, 5, 6 ], [ 2, 3, 4, 5 ] )\n",
    "print( \"map list (multiple variables):\\t\" + str( list( r ) ) )"
   ]
  },
  {
   "cell_type": "markdown",
   "metadata": {
    "ExecuteTime": {
     "end_time": "2020-12-16T05:09:16.436638Z",
     "start_time": "2020-12-16T05:09:16.425921Z"
    }
   },
   "source": [
    "## open"
   ]
  },
  {
   "cell_type": "code",
   "execution_count": 21,
   "metadata": {
    "ExecuteTime": {
     "end_time": "2020-12-16T06:34:22.412117Z",
     "start_time": "2020-12-16T06:34:22.012822Z"
    }
   },
   "outputs": [
    {
     "name": "stdout",
     "output_type": "stream",
     "text": [
      "Lines:\t\t\t\t31175\n",
      "Words:\t\t\t\t697655\n",
      "Unique Words:\t\t\t45708\n"
     ]
    }
   ],
   "source": [
    "path = './../../sources/bibel.txt'\n",
    "f = open( path, \"r\", encoding=\"latin-1\" ).readlines()\n",
    "\n",
    "r = len( f )\n",
    "print( \"Lines:\\t\\t\\t\\t\" + str( r ) )\n",
    "\n",
    "tmp = [ line.split( ' ' ) for line in f ]\n",
    "flatten = lambda lines: [word for line in lines for word in line]\n",
    "words = flatten( tmp )\n",
    "r = len( words )\n",
    "print( \"Words:\\t\\t\\t\\t\" + str( r ) )\n",
    "\n",
    "unique = list( set( words ) )\n",
    "r = len( unique )\n",
    "print( \"Unique Words:\\t\\t\\t\" + str( r ) )"
   ]
  },
  {
   "cell_type": "markdown",
   "metadata": {
    "ExecuteTime": {
     "end_time": "2020-12-16T06:19:15.082149Z",
     "start_time": "2020-12-16T06:19:14.742956Z"
    }
   },
   "source": [
    "## string operatoren"
   ]
  },
  {
   "cell_type": "code",
   "execution_count": 22,
   "metadata": {
    "ExecuteTime": {
     "end_time": "2020-12-16T06:34:36.086235Z",
     "start_time": "2020-12-16T06:34:34.931479Z"
    }
   },
   "outputs": [
    {
     "name": "stdout",
     "output_type": "stream",
     "text": [
      "Mentions of 'Gott':\t\t1551\n",
      "Bigger then 20 Characters :\t206\n",
      "startwith 'Go' :\t\t4818\n",
      "endswith 'an' :\t\t\t5825\n",
      "isalpha? :\t\t\t586922\n",
      "isupper? :\t\t\t84\n",
      "islower? :\t\t\t503545\n"
     ]
    }
   ],
   "source": [
    "path = './../../sources/bibel.txt'\n",
    "f = open( path, \"r\", encoding=\"latin-1\" ).readlines()\n",
    "\n",
    "r = len( [ _ for line in f if 'Gott' in line.split(' ') ] )\n",
    "print( \"Mentions of 'Gott':\\t\\t\" + str( r ) )\n",
    "\n",
    "r = len( [ word for line in f for word in line.split( ' ' ) if len( word ) > 20 ] )\n",
    "print( \"Bigger then 20 Characters :\\t\" + str( r ) )\n",
    "\n",
    "r = len( [ word for line in f for word in line.split( ' ' ) if word.startswith( 'Go' ) ] ) \n",
    "print( \"startwith 'Go' :\\t\\t\" + str( r ) )\n",
    "\n",
    "r = len( [ word for line in f for word in line.split( ' ' ) if word.endswith( 'an' ) ] ) \n",
    "print( \"endswith 'an' :\\t\\t\\t\" + str( r ) )\n",
    "\n",
    "r = len( [ word for line in f for word in line.split( ' ' ) if word.isalpha() ] ) \n",
    "print( \"isalpha? :\\t\\t\\t\" + str( r ) )\n",
    "\n",
    "r = len( [ word for line in f for word in line.split( ' ' ) if word.isupper() ] ) \n",
    "print( \"isupper? :\\t\\t\\t\" + str( r ) )\n",
    "\n",
    "r = len( [ word for line in f for word in line.split( ' ' ) if word.islower() ] ) \n",
    "print( \"islower? :\\t\\t\\t\" + str( r ) )"
   ]
  },
  {
   "cell_type": "markdown",
   "metadata": {
    "ExecuteTime": {
     "end_time": "2020-12-16T06:29:39.282650Z",
     "start_time": "2020-12-16T06:29:39.270765Z"
    }
   },
   "source": [
    "## filter"
   ]
  },
  {
   "cell_type": "code",
   "execution_count": 36,
   "metadata": {
    "ExecuteTime": {
     "end_time": "2020-12-16T06:38:48.588001Z",
     "start_time": "2020-12-16T06:38:48.582100Z"
    }
   },
   "outputs": [
    {
     "name": "stdout",
     "output_type": "stream",
     "text": [
      "filter modulo2 :\t\t\t[3, 6, 9, 12]\n"
     ]
    }
   ],
   "source": [
    "r = list( filter( lambda x : x % 3 == 0, [ 1, 2, 3, 4, 5, 6, 7, 8, 9, 10, 11, 12, 13 ] ) )\n",
    "print( \"filter modulo2 :\\t\\t\\t\" + str( r ) )"
   ]
  },
  {
   "cell_type": "markdown",
   "metadata": {
    "ExecuteTime": {
     "end_time": "2020-12-16T06:39:47.174075Z",
     "start_time": "2020-12-16T06:39:47.170273Z"
    }
   },
   "source": [
    "## any"
   ]
  },
  {
   "cell_type": "code",
   "execution_count": 44,
   "metadata": {
    "ExecuteTime": {
     "end_time": "2020-12-16T06:42:51.947241Z",
     "start_time": "2020-12-16T06:42:51.905925Z"
    }
   },
   "outputs": [
    {
     "name": "stdout",
     "output_type": "stream",
     "text": [
      " all:\t\t\tTrue\n"
     ]
    }
   ],
   "source": [
    "path = './../../sources/bibel.txt'\n",
    "f = open( path, \"r\", encoding=\"latin-1\" ).readlines()\n",
    "r = all( list( map( lambda x: x.endswith('\\n'), f) ) ) \n",
    "print( \" all:\\t\\t\\t\" + str( r ) )"
   ]
  },
  {
   "cell_type": "markdown",
   "metadata": {},
   "source": [
    "## list comprehension"
   ]
  },
  {
   "cell_type": "code",
   "execution_count": 51,
   "metadata": {
    "ExecuteTime": {
     "end_time": "2020-12-16T06:46:22.714432Z",
     "start_time": "2020-12-16T06:46:22.704288Z"
    }
   },
   "outputs": [
    {
     "name": "stdout",
     "output_type": "stream",
     "text": [
      "Result 1:\t\t['h', 'a', 'l']\n",
      "Result 2:\t\t[('h', 1), ('h', 2), ('a', 1), ('a', 2), ('l', 1), ('l', 2)]\n"
     ]
    }
   ],
   "source": [
    "r = [ x for x in \"hal\" ] \n",
    "print( \"Result 1:\\t\\t\" + str( r ) )\n",
    "\n",
    "r = [ ( x, y ) for x in \"hal\" for y in [ 1, 2 ] ] \n",
    "print( \"Result 2:\\t\\t\" + str( r ) )"
   ]
  },
  {
   "cell_type": "code",
   "execution_count": 89,
   "metadata": {
    "ExecuteTime": {
     "end_time": "2020-12-16T06:56:52.013366Z",
     "start_time": "2020-12-16T06:56:52.000786Z"
    }
   },
   "outputs": [
    {
     "name": "stdout",
     "output_type": "stream",
     "text": [
      "Array:\t\t\t[[4, 1, 2], [4, 2, 10], [7, 4, 9]]\n",
      "Sort:\t\t\t[[1, 2, 4], [2, 4, 10], [4, 7, 9]]\n",
      "Flatten:\t\t[4, 1, 2, 4, 2, 10, 7, 4, 9]\n",
      "Flatten (if):\t\t[4, 2, 4, 2, 10, 4]\n",
      "Flatten (if & modify):\t[28, 14, 28, 14, 70, 28]\n"
     ]
    }
   ],
   "source": [
    "a = [ [ 4, 1, 2 ], [ 4, 2, 10 ], [ 7, 4, 9 ] ]\n",
    "print( \"Array:\\t\\t\\t\" + str( a ) )\n",
    "\n",
    "r = [ sorted( li ) for li in a ]\n",
    "print( \"Sort:\\t\\t\\t\" + str( r ) )\n",
    "\n",
    "r = [ sta for li in a for sta in li ]\n",
    "print( \"Flatten:\\t\\t\" + str( r ) )\n",
    "\n",
    "r = [ sta for li in a for sta in li if sta%2 == 0 ]\n",
    "print( \"Flatten (if):\\t\\t\" + str( r ) )\n",
    "\n",
    "r = [ sta * 7 for li in a for sta in li if sta%2 == 0 ]\n",
    "print( \"Flatten (if & modify):\\t\" + str( r ) )"
   ]
  },
  {
   "cell_type": "markdown",
   "metadata": {
    "ExecuteTime": {
     "end_time": "2020-12-16T06:53:00.344397Z",
     "start_time": "2020-12-16T06:53:00.338873Z"
    }
   },
   "source": [
    "## zip"
   ]
  },
  {
   "cell_type": "code",
   "execution_count": 105,
   "metadata": {
    "ExecuteTime": {
     "end_time": "2020-12-16T07:00:45.311671Z",
     "start_time": "2020-12-16T07:00:45.304662Z"
    }
   },
   "outputs": [
    {
     "name": "stdout",
     "output_type": "stream",
     "text": [
      "zip:\t\t\t[(1, 10), (2, 11), (3, 12), (4, 13)]\n",
      "zip (add lists):\t[11, 13, 15, 17]\n"
     ]
    }
   ],
   "source": [
    "a = [ 1, 2, 3, 4 ]\n",
    "b = [ 10, 11, 12, 13 ]\n",
    "\n",
    "r = list( zip( a, b ) )\n",
    "print( \"zip:\\t\\t\\t\" + str( r ) )\n",
    "\n",
    "r = [ x + y for x, y in zip( a, b )]\n",
    "print( \"zip (add lists):\\t\" + str( r ) )"
   ]
  },
  {
   "cell_type": "code",
   "execution_count": null,
   "metadata": {},
   "outputs": [],
   "source": []
  }
 ],
 "metadata": {
  "kernelspec": {
   "display_name": "Python 3",
   "language": "python",
   "name": "python3"
  },
  "language_info": {
   "codemirror_mode": {
    "name": "ipython",
    "version": 3
   },
   "file_extension": ".py",
   "mimetype": "text/x-python",
   "name": "python",
   "nbconvert_exporter": "python",
   "pygments_lexer": "ipython3",
   "version": "3.6.10"
  },
  "toc": {
   "base_numbering": 1,
   "nav_menu": {},
   "number_sections": true,
   "sideBar": true,
   "skip_h1_title": false,
   "title_cell": "Table of Contents",
   "title_sidebar": "Contents",
   "toc_cell": false,
   "toc_position": {},
   "toc_section_display": true,
   "toc_window_display": true
  }
 },
 "nbformat": 4,
 "nbformat_minor": 4
}
