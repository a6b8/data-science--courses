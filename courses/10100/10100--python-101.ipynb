{
 "cells": [
  {
   "cell_type": "markdown",
   "metadata": {},
   "source": [
    "\n"
   ]
  },
  {
   "cell_type": "markdown",
   "metadata": {},
   "source": [
    "# Indexing"
   ]
  },
  {
   "cell_type": "markdown",
   "metadata": {},
   "source": [
    "## ```string```"
   ]
  },
  {
   "cell_type": "code",
   "execution_count": 1,
   "metadata": {
    "ExecuteTime": {
     "end_time": "2020-12-10T03:42:01.485934Z",
     "start_time": "2020-12-10T03:42:01.470431Z"
    }
   },
   "outputs": [
    {
     "name": "stdout",
     "output_type": "stream",
     "text": [
      "Firt 5 Characters 1: \t\t\tHello\n",
      "First 5 Characters 2: \t\t\tHello\n",
      "Last 6 Characters: \t\t\tWorld\n",
      "Last 6 Characters (2er Schritten): \tWrd\n",
      "All Characters Backwards: \t\tdlroW olleH\n"
     ]
    }
   ],
   "source": [
    "a = \"Hello World\"\n",
    "print( \"Firt 5 Characters 1: \\t\\t\\t\" + a[ 0:5 ] )\n",
    "print( \"First 5 Characters 2: \\t\\t\\t\" + a[ :5 ] )\n",
    "print( \"Last 6 Characters: \\t\\t\\t\" + a[ 6: ] )\n",
    "print( \"Last 6 Characters (2er Schritten): \\t\" + a[ 6::2 ] ) ## Schrittweite\n",
    "print( \"All Characters Backwards: \\t\\t\" + a[ ::-1 ] ) ## String Rückwärts"
   ]
  },
  {
   "cell_type": "markdown",
   "metadata": {},
   "source": [
    "## ```list```"
   ]
  },
  {
   "cell_type": "code",
   "execution_count": 2,
   "metadata": {
    "ExecuteTime": {
     "end_time": "2020-12-10T03:42:01.502134Z",
     "start_time": "2020-12-10T03:42:01.490767Z"
    }
   },
   "outputs": [
    {
     "name": "stdout",
     "output_type": "stream",
     "text": [
      "::-1 \t['dir?', 'es', 'geht', 'wie', 'Welt', 'Hallo']\n",
      "::-2\t['dir?', 'geht', 'Welt']\n"
     ]
    }
   ],
   "source": [
    "b = 'Hallo Welt wie geht es dir?'\n",
    "b = b.split()\n",
    "print( \"::-1 \\t\" + str( b[ ::-1] ) )  ## Rückwärts\n",
    "print( \"::-2\\t\" + str( b[ ::-2] ) )  ## Rückwärts jeder zweite Wert"
   ]
  },
  {
   "cell_type": "markdown",
   "metadata": {},
   "source": [
    "# Datatyps"
   ]
  },
  {
   "cell_type": "markdown",
   "metadata": {},
   "source": [
    "### `None`"
   ]
  },
  {
   "cell_type": "code",
   "execution_count": 3,
   "metadata": {
    "ExecuteTime": {
     "end_time": "2020-12-10T03:42:01.543202Z",
     "start_time": "2020-12-10T03:42:01.521835Z"
    }
   },
   "outputs": [
    {
     "name": "stdout",
     "output_type": "stream",
     "text": [
      "Class:\t<class 'NoneType'>\n",
      "Logic\n",
      " and\t-|\t\tNone\n",
      " and\t|-\t\tNone\n",
      " or\t-|\t\tTrue\n",
      " or\t|-\t\tTrue\n",
      " ==\t|-\t\tTrue\n",
      " ==\t-|\t\tTrue\n"
     ]
    }
   ],
   "source": [
    "a = None\n",
    "r = type( a )\n",
    "print( \"Class:\\t\" + str( r ) )\n",
    "\n",
    "print( 'Logic')\n",
    "\n",
    "tests = [ \n",
    "    ( \"and\\t-|\", True and a), \n",
    "    ( \"and\\t|-\", a and True ), \n",
    "    ( \"or\\t-|\", True or a), \n",
    "    ( \"or\\t|-\", a or True ),  \n",
    "    ( \"==\\t|-\", a == None ), \n",
    "    ( \"==\\t-|\", None == a ) \n",
    "]\n",
    "for i in range( 0, len( tests ) ):\n",
    "    print( ' ' + tests[ i ][ 0 ] + \"\\t\\t\" + str( tests[ i ][ 1 ] ) )"
   ]
  },
  {
   "cell_type": "markdown",
   "metadata": {
    "ExecuteTime": {
     "end_time": "2020-12-01T09:02:45.378370Z",
     "start_time": "2020-12-01T09:02:45.202870Z"
    }
   },
   "source": [
    "### `int`"
   ]
  },
  {
   "cell_type": "code",
   "execution_count": 4,
   "metadata": {
    "ExecuteTime": {
     "end_time": "2020-12-10T03:42:01.565262Z",
     "start_time": "2020-12-10T03:42:01.550917Z"
    }
   },
   "outputs": [
    {
     "name": "stdout",
     "output_type": "stream",
     "text": [
      "Class:\t\t<class 'int'>\n",
      "Length:\t\t4\n",
      "Result:\t\t1616.0\n",
      "Result:\t\t1616\n"
     ]
    }
   ],
   "source": [
    "value = 2**50000\n",
    "r = type( value )\n",
    "print( \"Class:\\t\\t\" + str ( r ) ) \n",
    "\n",
    "r = len( str( a ) )\n",
    "print( \"Length:\\t\\t\" + str( r ) )\n",
    "\n",
    "r = 3232 / 2\n",
    "print( \"Result:\\t\\t\" + str( r ) ) ## Division\n",
    "\n",
    "r = 3232 // 2\n",
    "print( \"Result:\\t\\t\" + str( r ) ) ## Ganzzahlen Division"
   ]
  },
  {
   "cell_type": "markdown",
   "metadata": {
    "ExecuteTime": {
     "end_time": "2020-12-01T09:17:40.403653Z",
     "start_time": "2020-12-01T09:17:40.399549Z"
    }
   },
   "source": [
    "### `float`"
   ]
  },
  {
   "cell_type": "code",
   "execution_count": 5,
   "metadata": {
    "ExecuteTime": {
     "end_time": "2020-12-10T03:42:01.577058Z",
     "start_time": "2020-12-10T03:42:01.569758Z"
    }
   },
   "outputs": [
    {
     "name": "stdout",
     "output_type": "stream",
     "text": [
      "Class:\t<class 'float'>\n"
     ]
    }
   ],
   "source": [
    "a = type( 1.34 )\n",
    "print( \"Class:\\t\" + str( a ) )"
   ]
  },
  {
   "cell_type": "markdown",
   "metadata": {
    "ExecuteTime": {
     "end_time": "2020-12-01T09:19:53.242706Z",
     "start_time": "2020-12-01T09:19:53.235798Z"
    }
   },
   "source": [
    "### `bool`"
   ]
  },
  {
   "cell_type": "code",
   "execution_count": 6,
   "metadata": {
    "ExecuteTime": {
     "end_time": "2020-12-10T03:42:01.641080Z",
     "start_time": "2020-12-10T03:42:01.583747Z"
    }
   },
   "outputs": [
    {
     "name": "stdout",
     "output_type": "stream",
     "text": [
      "Class: \t\t\t<class 'bool'>\n",
      "Logic\n",
      " And\n",
      "  0:\t\t\tFalse\n",
      "  1:\t\t\tFalse\n",
      "  2:\t\t\tFalse\n",
      "  3:\t\t\tTrue\n",
      " Or\n",
      "  0:\t\t\tFalse\n",
      "  1:\t\t\tTrue\n",
      "  2:\t\t\tTrue\n",
      "  3:\t\t\tTrue\n",
      "Lazy Evaluation: \tFalse\n"
     ]
    }
   ],
   "source": [
    "a = True\n",
    "print( \"Class: \\t\\t\\t\" + str( type( a ) ) )\n",
    "\n",
    "ands = [ False and False, True and False, False and True, True and True ] \n",
    "print( \"Logic\")\n",
    "print( \" And\")\n",
    "for i in range( 0, len( ands ) ):\n",
    "    print( '  ' + str( i ) + \":\\t\\t\\t\" + str( ands[ i ] ) ) \n",
    "\n",
    "ors = [ False or False, True or False, False or True, True or True ] \n",
    "print( \" Or\")\n",
    "for i in range( 0, len( ors ) ):\n",
    "    print( '  ' + str( i ) + \":\\t\\t\\t\" + str( ors[ i ] ) ) \n",
    "\n",
    "r = ( 3 > 4 ) and ( 1 / 0 > 10000 ) # Erste ist false, bricht ab und gibt false zurück. Sonst error\n",
    "print( \"Lazy Evaluation: \\t\" + str( r ) )"
   ]
  },
  {
   "cell_type": "markdown",
   "metadata": {
    "ExecuteTime": {
     "end_time": "2020-12-01T09:34:11.038382Z",
     "start_time": "2020-12-01T09:34:11.024914Z"
    }
   },
   "source": [
    "### `str`"
   ]
  },
  {
   "cell_type": "code",
   "execution_count": 7,
   "metadata": {
    "ExecuteTime": {
     "end_time": "2020-12-10T03:42:01.659628Z",
     "start_time": "2020-12-10T03:42:01.646013Z"
    }
   },
   "outputs": [
    {
     "name": "stdout",
     "output_type": "stream",
     "text": [
      "Class: \t\t\t<class 'str'>\n",
      "Letzter Buchstabe 1: \td\n",
      "Letzter Buchstabe 2: \td\n",
      "Split <-> Join: \th--e--l--l--o\n"
     ]
    }
   ],
   "source": [
    "a = \"Hello World\"\n",
    "print( \"Class: \\t\\t\\t\" + str( type( a ) ) )\n",
    "\n",
    "r = a[ len( a ) - 1 ]\n",
    "print( \"Letzter Buchstabe 1: \\t\" + str( r ) )\n",
    "\n",
    "r = a[ -1 ]\n",
    "print( \"Letzter Buchstabe 2: \\t\" + str( r ) )\n",
    "\n",
    "a = 'h e l l o'.split()\n",
    "r = '--'.join( [ str( x ) for x in a ] ) \n",
    "\n",
    "print( \"Split <-> Join: \\t\" + str( r ) )"
   ]
  },
  {
   "cell_type": "markdown",
   "metadata": {
    "ExecuteTime": {
     "end_time": "2020-12-01T10:08:45.146987Z",
     "start_time": "2020-12-01T10:08:45.140106Z"
    }
   },
   "source": [
    "### `list`"
   ]
  },
  {
   "cell_type": "code",
   "execution_count": 8,
   "metadata": {
    "ExecuteTime": {
     "end_time": "2020-12-10T03:42:01.692658Z",
     "start_time": "2020-12-10T03:42:01.669690Z"
    }
   },
   "outputs": [
    {
     "name": "stdout",
     "output_type": "stream",
     "text": [
      "Class: \t\t\t\t<class 'list'>\n",
      "List with Function inside 1: \to\n",
      "List with Function inside 2: \t5\n",
      "\n",
      "Start ID:\t\t\t140259157773440\n",
      " ID (.append ):\t\t\t140259157773440\n",
      " ID (+):\t\t\t140259157773760\n",
      " Result:\t\t\t[1, 2, 3, 4, 'append', 'plus']\n"
     ]
    }
   ],
   "source": [
    "a = [ 0, \"test\", False ] \n",
    "print( \"Class: \\t\\t\\t\\t\" + str( type( a ) ) )\n",
    "\n",
    "l = [ 1, 2, 'h e l l o'.split() ] \n",
    "r = l[ -1 ][ -1 ]\n",
    "print( \"List with Function inside 1: \\t\" + str( r ) )\n",
    "\n",
    "a = 'Hello'\n",
    "l = [ type, len, dir ]\n",
    "r = l[ 1 ]( a )\n",
    "print( \"List with Function inside 2: \\t\" + str( r ) )\n",
    "\n",
    "a = [ 1, 2, 3, 4 ]\n",
    "print( \"\\nStart ID:\\t\\t\\t\" + str( id( a ) ) )\n",
    "\n",
    "a.append( 'append' )\n",
    "print( ' ID (.append ):\\t\\t\\t' + str( id( a ) ) )\n",
    "\n",
    "a = a + [ 'plus' ]\n",
    "print( ' ID (+):\\t\\t\\t' + str( id( a ) ) )\n",
    "print( ' Result:\\t\\t\\t' + str ( a ) )"
   ]
  },
  {
   "cell_type": "markdown",
   "metadata": {
    "ExecuteTime": {
     "end_time": "2020-12-01T10:53:57.772835Z",
     "start_time": "2020-12-01T10:53:57.767583Z"
    }
   },
   "source": [
    "### `tuple`"
   ]
  },
  {
   "cell_type": "code",
   "execution_count": 9,
   "metadata": {
    "ExecuteTime": {
     "end_time": "2020-12-10T03:42:01.713276Z",
     "start_time": "2020-12-10T03:42:01.702710Z"
    }
   },
   "outputs": [
    {
     "name": "stdout",
     "output_type": "stream",
     "text": [
      "Tuple:\t\t\t\t(1, 2, ['h', 'e', 'l', 'l', 'o'])\n",
      "Class:\t\t\t\t<class 'tuple'>\n",
      "List with Function inside 1: \to\n"
     ]
    }
   ],
   "source": [
    "t = ( 1, 2, 'h e l l o'.split() )\n",
    "print( \"Tuple:\\t\\t\\t\\t\" + str( t ) )\n",
    "print( \"Class:\\t\\t\\t\\t\" + str( type( t ) ) )\n",
    "\n",
    "r = t[ -1 ][ -1 ]\n",
    "print( \"List with Function inside 1: \\t\" + str( r ) )"
   ]
  },
  {
   "cell_type": "markdown",
   "metadata": {},
   "source": [
    "### `dict`"
   ]
  },
  {
   "cell_type": "code",
   "execution_count": 10,
   "metadata": {
    "ExecuteTime": {
     "end_time": "2020-12-10T03:42:01.736320Z",
     "start_time": "2020-12-10T03:42:01.718859Z"
    }
   },
   "outputs": [
    {
     "name": "stdout",
     "output_type": "stream",
     "text": [
      "Class: \t\t\t<class 'dict'>\n",
      "Select: \t\ta\n",
      "Keys: \t\t\t['jack', 'guido', 'irv', 'children', 'array', 'array_w_objects']\n",
      "Select with Variable:\t412\n",
      "With Array: \t\t42\n"
     ]
    }
   ],
   "source": [
    "a = { \n",
    "    'jack': 4098, \n",
    "    'guido': 4127, \n",
    "    'irv': 412,\n",
    "    'children': {\n",
    "        'name': 'a',\n",
    "    },\n",
    "    'array': [ 1, 3, 4, 5, 6 ],\n",
    "    'array_w_objects': [ \n",
    "        {},\n",
    "        { \n",
    "            'test': 42\n",
    "        }\n",
    "    ]\n",
    "}\n",
    "\n",
    "print( \"Class: \\t\\t\\t\" + str( type( a ) ) )\n",
    "\n",
    "r = a['children']['name']\n",
    "print( \"Select: \\t\\t\" + str( r ) )\n",
    "\n",
    "r = [ *a ]\n",
    "print( \"Keys: \\t\\t\\t\" + str( r ) )\n",
    "\n",
    "rr = a[ r[ 2 ] ]\n",
    "print( \"Select with Variable:\\t\" + str( rr ) )\n",
    "\n",
    "r = a['array_w_objects'][ 1 ]['test']\n",
    "print( \"With Array: \\t\\t\" + str( r ) )"
   ]
  },
  {
   "cell_type": "markdown",
   "metadata": {},
   "source": [
    "# Functional Programming"
   ]
  },
  {
   "cell_type": "markdown",
   "metadata": {},
   "source": [
    "## `lambda`"
   ]
  },
  {
   "cell_type": "code",
   "execution_count": 11,
   "metadata": {
    "ExecuteTime": {
     "end_time": "2020-12-10T03:42:01.777279Z",
     "start_time": "2020-12-10T03:42:01.741957Z"
    }
   },
   "outputs": [
    {
     "name": "stdout",
     "output_type": "stream",
     "text": [
      "One Time\n",
      " Anyomous Function:\t\t\t7\n",
      " Anyomous Function - function inside:\t13\n",
      " Anyomous Function - lambda inside:\t 8\n",
      "\n",
      "Multiuse\n",
      " As variable:\t\t\t\t7\n",
      " As parameter:\t\t\t\t [4, 7, 10, 13]\n"
     ]
    }
   ],
   "source": [
    "print( 'One Time' )\n",
    "r = ( lambda x, y, z: x * y + z )( 1, 3, 4 )\n",
    "print( \" Anyomous Function:\\t\\t\\t\" + str( r ) )\n",
    "\n",
    "r = ( lambda x, y, z : x( y ) + z )( len, [ 1, 2, 3 ] , 10 )\n",
    "print( \" Anyomous Function - function inside:\\t\" + str( r ) )\n",
    "\n",
    "r = ( lambda x, y, z: z( x, x, y ) + y)( 1, 2, lambda x, y, z: 2 * x + 2 * y + z )\n",
    "print( \" Anyomous Function - lambda inside:\\t\", str( r ) )\n",
    "\n",
    "print( \"\\nMultiuse\" )\n",
    "lamb = lambda x, y, z: x * y + z\n",
    "r = lamb( 1, 3, 4 )\n",
    "print( \" As variable:\\t\\t\\t\\t\" + str( r ) )\n",
    "\n",
    "def mapL( f, *l ): \n",
    "    return list( map( f, *l ) )\n",
    "r = mapL( lambda x, y: 2 * x + y , [ 1, 2, 3, 4 ], [ 2, 3, 4, 5 ] )\n",
    "print( \" As parameter:\\t\\t\\t\\t\", str( r ) )"
   ]
  },
  {
   "cell_type": "markdown",
   "metadata": {
    "ExecuteTime": {
     "end_time": "2020-12-01T11:44:37.958049Z",
     "start_time": "2020-12-01T11:44:37.949052Z"
    }
   },
   "source": [
    "## `map`"
   ]
  },
  {
   "cell_type": "code",
   "execution_count": 12,
   "metadata": {
    "ExecuteTime": {
     "end_time": "2020-12-10T03:42:01.804431Z",
     "start_time": "2020-12-10T03:42:01.783444Z"
    }
   },
   "outputs": [
    {
     "name": "stdout",
     "output_type": "stream",
     "text": [
      "Values:\t\t[23, 45, 67, 89]\n",
      "Function:\t[33, 55, 77, 99]\n",
      "Lambda:\t\t[33, 55, 77, 99]\n",
      "\n",
      ".split() & .join()\n",
      " 1. das ist ein Text\n",
      " 2. der ueber mehere Zeilen \n",
      " 3. geht und somit keine\n",
      " 4. Bedeutung hat.\n",
      "\n",
      ".sum()\t\t37\n",
      ".max():\t\t9\n"
     ]
    }
   ],
   "source": [
    "values = [ 23, 45, 67, 89 ]\n",
    "print( \"Values:\\t\\t\" + str( values ) )\n",
    "\n",
    "def func( x ): \n",
    "    return x + 10\n",
    "\n",
    "r = list( map( func, values ) )\n",
    "print( \"Function:\\t\" +  str( r ) ) \n",
    "\n",
    "r = list( map( lambda x: x + 10, values) )\n",
    "print( \"Lambda:\\t\\t\" + str( r ) ) \n",
    "\n",
    "s = \"\"\"das ist ein Text\n",
    "der ueber mehere Zeilen \n",
    "geht und somit keine\n",
    "Bedeutung hat.\n",
    "\"\"\"\n",
    "\n",
    "lines = s.split( \"\\n\" )\n",
    "r = list( map( lambda zeile, i: ' ' + str( i ) + \". \" + zeile, lines, range( 1, len( lines ) ) ) )\n",
    "rr = \"\\n\".join( r )\n",
    "print( \"\\n.split() & .join()\" )\n",
    "print( rr )\n",
    "\n",
    "r1, r2 = [ 5, 2, 0, 1 ], [ 7, 0, 5, 2 ]\n",
    "r = sum( map( lambda x, y: x * y, r1, r2 ) )\n",
    "print( \"\\n.sum()\\t\\t\" + str( r ))\n",
    "\n",
    "r = max( list( map( len, s.split() ) ) )\n",
    "print(\".max():\\t\\t\" + str( r ))"
   ]
  },
  {
   "cell_type": "markdown",
   "metadata": {},
   "source": [
    "## `filter`"
   ]
  },
  {
   "cell_type": "code",
   "execution_count": 1,
   "metadata": {
    "ExecuteTime": {
     "end_time": "2020-12-15T14:40:21.079349Z",
     "start_time": "2020-12-15T14:40:20.853740Z"
    }
   },
   "outputs": [
    {
     "name": "stdout",
     "output_type": "stream",
     "text": [
      "Result:\t\t['tausendsiebenhundertfünfundsiebzig', 'tausendsiebenhundertfünfundsiebzig'] ...\n",
      "Len:\t\t2\n"
     ]
    }
   ],
   "source": [
    "path = './../../sources/bibel.txt'\n",
    "file = open( path, \"r\", encoding=\"latin-1\" ).read()\n",
    "woerter = file.split()\n",
    "\n",
    "r = list( filter( lambda w: len( w ) > 32, woerter ) )\n",
    "print( \"Result:\\t\\t\" + str( r[:3] ) + ' ...' )\n",
    "\n",
    "r = len( r )\n",
    "print( \"Len:\\t\\t\" + str( r ) )"
   ]
  },
  {
   "cell_type": "markdown",
   "metadata": {
    "ExecuteTime": {
     "end_time": "2020-12-01T23:19:39.061770Z",
     "start_time": "2020-12-01T23:19:39.052087Z"
    }
   },
   "source": [
    "## `reduce`"
   ]
  },
  {
   "cell_type": "code",
   "execution_count": 14,
   "metadata": {
    "ExecuteTime": {
     "end_time": "2020-12-10T03:42:02.044990Z",
     "start_time": "2020-12-10T03:42:02.037154Z"
    }
   },
   "outputs": [
    {
     "name": "stdout",
     "output_type": "stream",
     "text": [
      "Result:\t\t10\n",
      "Result:\t\t10\n"
     ]
    }
   ],
   "source": [
    "from functools import reduce\n",
    "\n",
    "def add( x1, x2 ):\n",
    "    return x1 + x2\n",
    "r = reduce( add, [1, 2, 3, 4] )\n",
    "print( \"Result:\\t\\t\" + str( r ) )\n",
    "\n",
    "r = reduce( lambda x1, x2: x1 + x2, [1, 2, 3, 4] )\n",
    "print( \"Result:\\t\\t\" + str( r ) )"
   ]
  },
  {
   "cell_type": "markdown",
   "metadata": {},
   "source": [
    "## List Comprehensions"
   ]
  },
  {
   "cell_type": "markdown",
   "metadata": {},
   "source": [
    "### `sequ`"
   ]
  },
  {
   "cell_type": "markdown",
   "metadata": {
    "ExecuteTime": {
     "end_time": "2020-12-01T23:20:52.980922Z",
     "start_time": "2020-12-01T23:20:52.950917Z"
    }
   },
   "source": [
    "```python\n",
    "[ <expr> for <id> in <sequ> ]\n",
    "```"
   ]
  },
  {
   "cell_type": "code",
   "execution_count": 15,
   "metadata": {
    "ExecuteTime": {
     "end_time": "2020-12-10T03:42:02.064573Z",
     "start_time": "2020-12-10T03:42:02.050356Z"
    }
   },
   "outputs": [
    {
     "name": "stdout",
     "output_type": "stream",
     "text": [
      ".split(): \t\t[5, 5]\n",
      "range(10):\t\t[0, 1, 4, 9, 16, 25, 36, 49, 64, 81]\n"
     ]
    }
   ],
   "source": [
    "r = [ len( x ) for x in 'Hello World'.split() ]\n",
    "print( \".split(): \\t\\t\" + str( r ) ) \n",
    "\n",
    "r =  [ x**2 for x in range( 10 ) ]\n",
    "print( \"range(10):\\t\\t\" + str( r ) )"
   ]
  },
  {
   "cell_type": "markdown",
   "metadata": {},
   "source": [
    "### `boolEx`"
   ]
  },
  {
   "cell_type": "markdown",
   "metadata": {
    "ExecuteTime": {
     "end_time": "2020-12-01T23:28:03.991371Z",
     "start_time": "2020-12-01T23:28:03.978415Z"
    }
   },
   "source": [
    "```python\n",
    " [ <expr> for <id> in <sequ> [ if <boolExp> ] ]\n",
    "```"
   ]
  },
  {
   "cell_type": "code",
   "execution_count": 16,
   "metadata": {
    "ExecuteTime": {
     "end_time": "2020-12-10T03:42:02.077655Z",
     "start_time": "2020-12-10T03:42:02.067913Z"
    }
   },
   "outputs": [
    {
     "name": "stdout",
     "output_type": "stream",
     "text": [
      ".islower():\t\t['here', 'am']\n",
      ".islower() && len()\t[4, 2]\n"
     ]
    }
   ],
   "source": [
    "r = [ x for x in 'Hello World here I am'.split() if x.islower() ]\n",
    "print( \".islower():\\t\\t\" + str( r ) )\n",
    "\n",
    "r = [ len( x ) for x in 'Hello World here I am'.split()  if x.islower() ]\n",
    "print( \".islower() && len()\\t\" + str( r ) )"
   ]
  },
  {
   "cell_type": "markdown",
   "metadata": {
    "ExecuteTime": {
     "end_time": "2020-12-09T01:47:56.140845Z",
     "start_time": "2020-12-09T01:47:56.137285Z"
    }
   },
   "source": [
    "### `sequ && boolExp` ..."
   ]
  },
  {
   "cell_type": "markdown",
   "metadata": {
    "ExecuteTime": {
     "end_time": "2020-12-01T23:32:09.761661Z",
     "start_time": "2020-12-01T23:32:09.749016Z"
    }
   },
   "source": [
    "```python\n",
    "[ <expr> for <id> in <sequ> [ if <boolExp> ] [for <id> in <sequ> [if <boolExp> ] ]* ]\n",
    "```"
   ]
  },
  {
   "cell_type": "code",
   "execution_count": 17,
   "metadata": {
    "ExecuteTime": {
     "end_time": "2020-12-10T03:42:02.114781Z",
     "start_time": "2020-12-10T03:42:02.082244Z"
    }
   },
   "outputs": [
    {
     "name": "stdout",
     "output_type": "stream",
     "text": [
      "2 Dimensions\n",
      " First:\t\t['e', 'l', 'l', 'o']\n",
      " Second (1):\t[(1, 'e'), (1, 'l'), (1, 'l'), (1, 'o')]\n",
      " Second (2):\t[(1, 'e'), (1, 'l'), (1, 'l'), (1, 'o'), (2, 'e'), (2, 'l'), (2, 'l'), (2, 'o')]\n",
      " Result:\t[(1, 'e'), (1, 'l'), (1, 'l'), (1, 'o'), (2, 'e'), (2, 'l'), (2, 'l'), (2, 'o'), (3, 'e')] ...\n",
      "3 Dimensions\n",
      " First:\t\t[0, 1, 2, 3, 4, 5, 6, 7, 8, 9, 10, 11, 12, 13, 14, 15, 16, 17, 18, 19]\n",
      " Second:\t['H', 'H', 'H', 'H', 'H', 'H', 'H', 'H', 'H', 'H', 'H', 'H', 'H', 'H', 'H'] ...\n",
      " Third:\t\t[('H', 'W', 0), ('H', 'W', 1), ('H', 'W', 2), ('H', 'W', 3), ('H', 'W', 4)] ...\n",
      " Result:\t500\n"
     ]
    }
   ],
   "source": [
    "print( \"2 Dimensions\")\n",
    "\n",
    "r = [ y for y in \"Hello\" if y.islower() ]\n",
    "print(\" First:\\t\\t\" + str( r ) )\n",
    "\n",
    "r = [ ( x, y ) for x in [ 1 ] for y in \"Hello\" if y.islower() ]\n",
    "print( \" Second (1):\\t\" + str( r ) )\n",
    "\n",
    "r = [ ( x, y ) for x in [ 1, 2 ] for y in \"Hello\" if y.islower() ]\n",
    "print( \" Second (2):\\t\" + str( r ) )\n",
    "\n",
    "r = [ ( x, y ) for x in [ 1, 2, 3 ] for y in \"Hello\" if y.islower() ]\n",
    "print( \" Result:\\t\" + str( r[ :9 ] ) + ' ...'  )\n",
    "\n",
    "\n",
    "print( \"3 Dimensions\" )\n",
    "\n",
    "r = [ z for z in range( 20 ) ]\n",
    "print( \" First:\\t\\t\" + str( r ) )\n",
    "\n",
    "r = [ x for x in \"Hello\" for y in \"World\" for z in range( 20 ) ]\n",
    "print( \" Second:\\t\" + str( r[ :15 ] ) + ' ...' )\n",
    "\n",
    "r = [ (x, y, z ) for x in \"Hello\" for y in \"World\" for z in range( 20 ) ]\n",
    "print( \" Third:\\t\\t\" +  str( r[ :5 ] ) + ' ...' )\n",
    "\n",
    "r = len( [ (x, y, z ) for x in \"Hello\" for y in \"World\" for z in range( 20 ) ] )\n",
    "print( \" Result:\\t\" +  str( r ) )"
   ]
  },
  {
   "cell_type": "markdown",
   "metadata": {},
   "source": [
    "# Commands"
   ]
  },
  {
   "cell_type": "markdown",
   "metadata": {},
   "source": [
    "## `open`"
   ]
  },
  {
   "cell_type": "code",
   "execution_count": 18,
   "metadata": {
    "ExecuteTime": {
     "end_time": "2020-12-10T03:42:02.748684Z",
     "start_time": "2020-12-10T03:42:02.117461Z"
    }
   },
   "outputs": [
    {
     "name": "stdout",
     "output_type": "stream",
     "text": [
      "Max:\t\t34\n",
      "Word:\t\ttausendsiebenhundertfünfundsiebzig\n"
     ]
    }
   ],
   "source": [
    "path = './../../sources/bibel.txt'\n",
    "file = open( path, \"r\", encoding=\"latin-1\" ).read()\n",
    "lines = file.split()\n",
    "\n",
    "r = max( list( map( len, lines ) ) )\n",
    "print( \"Max:\\t\\t\" + str( r ) )\n",
    "\n",
    "r = max( list( map( lambda w: ( len( w ) , w ), lines ) ) )[ 1 ] \n",
    "print( \"Word:\\t\\t\" + str( r ) )"
   ]
  },
  {
   "cell_type": "markdown",
   "metadata": {},
   "source": [
    "## `print`"
   ]
  },
  {
   "cell_type": "code",
   "execution_count": 19,
   "metadata": {
    "ExecuteTime": {
     "end_time": "2020-12-10T03:42:02.762994Z",
     "start_time": "2020-12-10T03:42:02.751983Z"
    }
   },
   "outputs": [
    {
     "name": "stdout",
     "output_type": "stream",
     "text": [
      "One Line: \t0 1 2 \n",
      "Multiline: \t\n",
      "\t\t0\n",
      "\t\t1\n",
      "\t\t2\n"
     ]
    }
   ],
   "source": [
    "print( \"One Line: \\t\", end=\"\")\n",
    "for i in range( 0, 3 ): \n",
    "    print( str( i ) + \" \" , end=\"\")\n",
    "\n",
    "print( \"\\nMultiline: \\t\")\n",
    "for i in range( 0, 3 ): \n",
    "    print( \"\\t\\t\" + str( i ) )"
   ]
  },
  {
   "cell_type": "markdown",
   "metadata": {},
   "source": [
    "## `max`"
   ]
  },
  {
   "cell_type": "code",
   "execution_count": 20,
   "metadata": {
    "ExecuteTime": {
     "end_time": "2020-12-10T03:42:02.780440Z",
     "start_time": "2020-12-10T03:42:02.765714Z"
    }
   },
   "outputs": [
    {
     "name": "stdout",
     "output_type": "stream",
     "text": [
      "List: \t\t\t\t\t34\n",
      "Tuple: \t\t\t\t\t434\n",
      "List of Tuples (default): \t\t(3323, 'sswsw')\n",
      "List of Tuples ( key = lambda): \t(2332, 'sswsw', 23324)\n"
     ]
    }
   ],
   "source": [
    "r = max( [ 1, 2, 34, 5, 5 ] )\n",
    "print( \"List: \\t\\t\\t\\t\\t\" + str( r ) )\n",
    "\n",
    "r = max( ( 2, 3, 4, 5, 6, 434, 89, 5 ) )\n",
    "print( \"Tuple: \\t\\t\\t\\t\\t\" + str( r ) )\n",
    "\n",
    "r = max( [ ( 23, \"sswsw\" ), ( 2233, \"sswsw\" ), ( 2332, \"sswsw\" ), ( 2322, \"sswsw\" ), ( 3323, \"sswsw\" ) ] )\n",
    "print( \"List of Tuples (default): \\t\\t\" + str ( r ) )\n",
    "\n",
    "r = max( [ ( 23, \"sswsw\",2 ), ( 2233, \"sswsw\",3 ), ( 2332, \"sswsw\",23324 ) ], key=lambda x:x[ 2 ] )\n",
    "print( \"List of Tuples ( key = lambda): \\t\" + str ( r ) )"
   ]
  },
  {
   "cell_type": "markdown",
   "metadata": {},
   "source": [
    "## `%timeit`"
   ]
  },
  {
   "cell_type": "code",
   "execution_count": 21,
   "metadata": {
    "ExecuteTime": {
     "end_time": "2020-12-10T03:42:04.324682Z",
     "start_time": "2020-12-10T03:42:02.783394Z"
    }
   },
   "outputs": [
    {
     "name": "stdout",
     "output_type": "stream",
     "text": [
      "17.3 ns ± 2.54 ns per loop (mean ± std. dev. of 7 runs, 10000000 loops each)\n"
     ]
    }
   ],
   "source": [
    "%timeit 2 * 10"
   ]
  },
  {
   "cell_type": "markdown",
   "metadata": {},
   "source": [
    "## `plt.plot`"
   ]
  },
  {
   "cell_type": "code",
   "execution_count": 22,
   "metadata": {
    "ExecuteTime": {
     "end_time": "2020-12-10T03:42:05.242830Z",
     "start_time": "2020-12-10T03:42:04.328713Z"
    }
   },
   "outputs": [
    {
     "data": {
      "text/plain": [
       "[<matplotlib.lines.Line2D at 0x7f90a31a2bd0>]"
      ]
     },
     "execution_count": 22,
     "metadata": {},
     "output_type": "execute_result"
    },
    {
     "data": {
      "image/png": "[encoded data removed]",
      "text/plain": [
       "<Figure size 432x288 with 1 Axes>"
      ]
     },
     "metadata": {
      "needs_background": "light"
     },
     "output_type": "display_data"
    }
   ],
   "source": [
    "import matplotlib.pyplot as plt\n",
    "\n",
    "plt.plot( [ 1, 2, 3, 4 ], [ 10, 4, 100, 12 ], 'x', color='red' )"
   ]
  },
  {
   "cell_type": "code",
   "execution_count": 23,
   "metadata": {
    "ExecuteTime": {
     "end_time": "2020-12-10T03:42:05.264596Z",
     "start_time": "2020-12-10T03:42:05.252997Z"
    }
   },
   "outputs": [],
   "source": [
    "s = \"\"\"das ist ein Text\n",
    "der ueber mehere Zeilen \n",
    "geht und somit keine\n",
    "Bedeutung hat.\n",
    "\"\"\""
   ]
  },
  {
   "cell_type": "code",
   "execution_count": 24,
   "metadata": {
    "ExecuteTime": {
     "end_time": "2020-12-10T03:42:05.326035Z",
     "start_time": "2020-12-10T03:42:05.295307Z"
    }
   },
   "outputs": [
    {
     "data": {
      "text/plain": [
       "'0. das ist ein Text\\n1. der ueber mehere Zeilen \\n2. geht und somit keine\\n3. Bedeutung hat.'"
      ]
     },
     "execution_count": 24,
     "metadata": {},
     "output_type": "execute_result"
    }
   ],
   "source": [
    "lines = s.splitlines()\n",
    "\"\\n\".join( list( map( lambda zeile, i: str( i ) + '. ' + zeile, lines, range( 0, len( lines ) ) ) ) )"
   ]
  },
  {
   "cell_type": "markdown",
   "metadata": {
    "ExecuteTime": {
     "end_time": "2020-12-01T11:09:28.741291Z",
     "start_time": "2020-12-01T11:09:28.737668Z"
    }
   },
   "source": [
    "## `for`"
   ]
  },
  {
   "cell_type": "code",
   "execution_count": 25,
   "metadata": {
    "ExecuteTime": {
     "end_time": "2020-12-10T03:42:05.344076Z",
     "start_time": "2020-12-10T03:42:05.331955Z"
    }
   },
   "outputs": [
    {
     "name": "stdout",
     "output_type": "stream",
     "text": [
      "Array: \t\t\t1 2 3 \n",
      "Array (range): \t\t233 234 \n",
      "Array (Tuple): \t\t(c:x, v:1) (c:y, v:2) (c:z, v:3) "
     ]
    }
   ],
   "source": [
    "print( \"Array: \\t\\t\\t\", end='' )\n",
    "for i in [ 1, 2, 3 ]: print( str( i ) + ' ', end='')\n",
    "\n",
    "print( \"\\nArray (range): \\t\\t\", end='' )\n",
    "for i in range( 233, 235 ): print( str( i ) + ' ', end='' )\n",
    "\n",
    "print( \"\\nArray (Tuple): \\t\\t\", end='' )\n",
    "for a, b in [ ( \"x\", 1 ), ( \"y\", 2 ), ( \"z\", 3 ) ]:\n",
    "    s = '(c:' +  a  + ', v:' + str( b ) + ') '\n",
    "    print( s, end=\"\" )"
   ]
  },
  {
   "cell_type": "markdown",
   "metadata": {},
   "source": [
    "## `if`"
   ]
  },
  {
   "cell_type": "code",
   "execution_count": 26,
   "metadata": {
    "ExecuteTime": {
     "end_time": "2020-12-10T03:42:05.365413Z",
     "start_time": "2020-12-10T03:42:05.350191Z"
    }
   },
   "outputs": [
    {
     "name": "stdout",
     "output_type": "stream",
     "text": [
      "One Line\n",
      " 0:\t100\n",
      " 1:\t20\n",
      "Multiline\n",
      " 0:\tB\n",
      " 1:\tA\n",
      " 2:\tC\n",
      " 3:\tC\n",
      " 4:\tA\n"
     ]
    }
   ],
   "source": [
    "texts = [ 'Hallo Welt ich bin hier und schreibe', 'Hallo Welt' ]\n",
    "\n",
    "print( 'One Line' )\n",
    "\n",
    "for i in range( 0, len( texts ) ):\n",
    "    r = ( 100 if len( texts[ i ] ) > 10 else 20 )\n",
    "    print( \" \" + str( i ) + \":\\t\" + str( r ) )\n",
    "\n",
    "tuples = [ (), ( 'g' ), ( 'g', 1 ), ( 'g', 1, 1, 3, 4, 5 ), ( 'g' ) ]\n",
    "print( \"Multiline\" )\n",
    "for i in range( 0, len( tuples ) ): \n",
    "    t = tuples[ i ]    \n",
    "    print( \" \" + str( i ) + \":\\t\", end='' )\n",
    "    if len( t ) == 1 :\n",
    "        print( 'A' )\n",
    "    elif len( t ) == 0:\n",
    "        print( 'B' )\n",
    "    else:\n",
    "        print( 'C' )"
   ]
  },
  {
   "cell_type": "markdown",
   "metadata": {},
   "source": [
    "## `def`"
   ]
  },
  {
   "cell_type": "code",
   "execution_count": 27,
   "metadata": {
    "ExecuteTime": {
     "end_time": "2020-12-10T03:42:05.383176Z",
     "start_time": "2020-12-10T03:42:05.369113Z"
    },
    "scrolled": false
   },
   "outputs": [
    {
     "name": "stdout",
     "output_type": "stream",
     "text": [
      "Arguments (Required):\t\t\toptions: [-1]\t val: -1\n",
      "Arguments (Required and options): \toptions: [10]\t val: -1\n",
      "Arguments (Required and val): \t\toptions: [-1]\t val: 50\n",
      "Arguments (Required, options and val): \toptions: [10]\t val: 50\n"
     ]
    }
   ],
   "source": [
    "def short( x ): return x + 10\n",
    "\n",
    "def test( x, y, z, options = [ -1 ], val = -1 ):\n",
    "    return \"options: \" + str( options ) + \"\\t val: \" + str( val )\n",
    "\n",
    "r = test( 2, 3, 4 )\n",
    "print( \"Arguments (Required):\\t\\t\\t\" + str ( r ) )\n",
    "\n",
    "r = test( 2, 3, 4, [ 10 ] )\n",
    "print( \"Arguments (Required and options): \\t\" + str( r ) )\n",
    "\n",
    "r = test( 2, 3, 4, val = 50 )\n",
    "print( \"Arguments (Required and val): \\t\\t\" + str( r ) )\n",
    "\n",
    "r = test( 2, 3, 4, options = [ 10 ], val = 50 )\n",
    "print( \"Arguments (Required, options and val): \\t\" + str( r ) )"
   ]
  },
  {
   "cell_type": "markdown",
   "metadata": {},
   "source": [
    "## ```enumerate```"
   ]
  },
  {
   "cell_type": "code",
   "execution_count": 28,
   "metadata": {
    "ExecuteTime": {
     "end_time": "2020-12-10T03:42:05.434821Z",
     "start_time": "2020-12-10T03:42:05.385958Z"
    }
   },
   "outputs": [
    {
     "name": "stdout",
     "output_type": "stream",
     "text": [
      "Enumerate List:\t\t[(0, 'apple'), (1, 'banana'), (2, 'grapes'), (3, 'pear')]\n",
      "Enumerate:\t\t[31173, 31174]\n"
     ]
    }
   ],
   "source": [
    "my_list = [ 'apple', 'banana', 'grapes', 'pear' ]\n",
    "r = list( enumerate( my_list ) )\n",
    "print( \"Enumerate List:\\t\\t\" + str( r ) ) \n",
    "\n",
    "path = './../../sources/bibel.txt'\n",
    "r = [ i for i, zeile in enumerate( open( path, encoding=\"latin-1\" ) ) if len( zeile ) <= 1 ]\n",
    "print( \"Enumerate:\\t\\t\" + str( r ) )"
   ]
  },
  {
   "cell_type": "markdown",
   "metadata": {
    "ExecuteTime": {
     "end_time": "2020-12-01T23:57:49.787221Z",
     "start_time": "2020-12-01T23:57:49.455511Z"
    }
   },
   "source": [
    "## `zip`"
   ]
  },
  {
   "cell_type": "code",
   "execution_count": 29,
   "metadata": {
    "ExecuteTime": {
     "end_time": "2020-12-10T03:42:05.485689Z",
     "start_time": "2020-12-10T03:42:05.438690Z"
    }
   },
   "outputs": [
    {
     "name": "stdout",
     "output_type": "stream",
     "text": [
      "zip():\t\t\t[('H', 'W'), ('e', 'o'), ('l', 'r'), ('l', 'l'), ('o', 'd')]\n",
      "zip() short - long:\t[('a', 'a'), ('b', 'b'), ('c', 'c'), ('d', 'd'), ('e', 'e'), ('f', 'f'), ('g', 'g')]\n",
      "zip() long - short:\t[('a', 'a'), ('b', 'b'), ('c', 'c'), ('d', 'd'), ('e', 'e'), ('f', 'f'), ('g', 'g')]\n"
     ]
    }
   ],
   "source": [
    "r = list( zip( \"Hello\", \"World\" ) )\n",
    "print( \"zip():\\t\\t\\t\" + str( r ) )\n",
    "\n",
    "r = list( zip( \"abcdefg\", \"abcdefghijklmnopqrstuvwxyz\" ) )\n",
    "print( \"zip() short - long:\\t\" + str( r ) )\n",
    "\n",
    "r = list( zip( \"abcdefghijklmnopqrstuvwxyz\", \"abcdefg\" ) )\n",
    "print( \"zip() long - short:\\t\" + str( r ) )"
   ]
  },
  {
   "cell_type": "markdown",
   "metadata": {},
   "source": [
    "## `dir`"
   ]
  },
  {
   "cell_type": "code",
   "execution_count": 30,
   "metadata": {
    "ExecuteTime": {
     "end_time": "2020-12-10T03:42:05.506746Z",
     "start_time": "2020-12-10T03:42:05.492646Z"
    }
   },
   "outputs": [
    {
     "name": "stdout",
     "output_type": "stream",
     "text": [
      "All Methods (53): \t[ __add__, __class__, __contains__, __delattr__ ... ]\n",
      "Public Methods (45): \t[ capitalize, casefold, center, count ... ]\n"
     ]
    }
   ],
   "source": [
    "a = dir( str )\n",
    "\n",
    "aa = '[ '\n",
    "for i in range( 0, 4 ):\n",
    "    aa = aa + str( a[ i ] ) + ', '\n",
    "aa = aa[ 0 : len( aa ) - 2 ] + ' ... ]'\n",
    "\n",
    "print( \"All Methods (\" + str( len( aa ) ) + \"): \\t\" + aa ) \n",
    "\n",
    "r = [ item for item in a if not( item.startswith( '__' ) ) ]\n",
    "\n",
    "aa = '[ '\n",
    "for i in range( 0, 4 ):\n",
    "    aa = aa + str( r[ i ] ) + ', '\n",
    "aa = aa[ 0 : len( aa ) - 2 ] + ' ... ]'\n",
    "\n",
    "print( \"Public Methods (\" + str( len( r ) )  + \"): \\t\" + str( aa ) )"
   ]
  },
  {
   "cell_type": "markdown",
   "metadata": {
    "ExecuteTime": {
     "end_time": "2020-12-10T03:09:07.684915Z",
     "start_time": "2020-12-10T03:09:07.520250Z"
    }
   },
   "source": [
    "# Numpy"
   ]
  },
  {
   "cell_type": "code",
   "execution_count": 31,
   "metadata": {
    "ExecuteTime": {
     "end_time": "2020-12-10T03:42:05.516610Z",
     "start_time": "2020-12-10T03:42:05.510204Z"
    }
   },
   "outputs": [],
   "source": [
    "import numpy as np"
   ]
  },
  {
   "cell_type": "markdown",
   "metadata": {},
   "source": [
    "## 1 Dimensional Array"
   ]
  },
  {
   "cell_type": "code",
   "execution_count": 32,
   "metadata": {
    "ExecuteTime": {
     "end_time": "2020-12-10T03:42:05.533555Z",
     "start_time": "2020-12-10T03:42:05.520512Z"
    }
   },
   "outputs": [
    {
     "name": "stdout",
     "output_type": "stream",
     "text": [
      "Numpy Array:\t[  4   1  10  11  12  13  20 100]\n",
      "Class: \t\t<class 'numpy.ndarray'>\n",
      "DType: \t\tint64\n",
      "Shape: \t\t(8,)\n",
      "Dimensonal: \t1\n"
     ]
    }
   ],
   "source": [
    "a = np.array( [ 4, 1, 10, 11, 12, 13, 20, 100 ] )\n",
    "print( \"Numpy Array:\\t\" + str( a ) )\n",
    "print( \"Class: \\t\\t\" + str( type( a ) ) )\n",
    "print( \"DType: \\t\\t\" + str( a.dtype ) )\n",
    "print( \"Shape: \\t\\t\" + str( a.shape ) )\n",
    "print( \"Dimensonal: \\t\" + str( a.ndim ) )"
   ]
  },
  {
   "cell_type": "markdown",
   "metadata": {},
   "source": [
    "### Operators"
   ]
  },
  {
   "cell_type": "code",
   "execution_count": 33,
   "metadata": {
    "ExecuteTime": {
     "end_time": "2020-12-10T03:42:05.552143Z",
     "start_time": "2020-12-10T03:42:05.536119Z"
    }
   },
   "outputs": [
    {
     "name": "stdout",
     "output_type": "stream",
     "text": [
      "Array [int64]:\t\t\t\t\t[  4   1  10  11  12  13  20 100]\n",
      "Addieren mit Zahl (2) [int64]:\t\t\t[  6   3  12  13  14  15  22 102]\n",
      "Vektorisieren & Casting [float64]:\t\t[0.25 1.   0.1  0.09 0.08 0.08 0.05 0.01]\n",
      "Addieren mit Array (gleiche Länge) [int64]:\t[  5   4  14  16  18  20  28 109]\n"
     ]
    }
   ],
   "source": [
    "r = a\n",
    "print( \"Array [\" + str( r.dtype ) + \"]:\\t\\t\\t\\t\\t\" + str( r ) )\n",
    "r = a + 2\n",
    "print( \"Addieren mit Zahl (2) [\" + str( r.dtype ) + \"]:\\t\\t\\t\" + str( r  ) ) \n",
    "r = ( 1 / a ).round( 2 )\n",
    "print( \"Vektorisieren & Casting [\" + str( r.dtype ) + \"]:\\t\\t\" + str( r ) )\n",
    "r = a + np.array( [ 1, 3, 4, 5, 6, 7, 8, 9 ] )\n",
    "print( \"Addieren mit Array (gleiche Länge) [\" + str( r.dtype ) + \"]:\\t\" + str( r ) )"
   ]
  },
  {
   "cell_type": "code",
   "execution_count": 34,
   "metadata": {
    "ExecuteTime": {
     "end_time": "2020-12-10T03:42:29.954766Z",
     "start_time": "2020-12-10T03:42:05.564664Z"
    }
   },
   "outputs": [
    {
     "name": "stdout",
     "output_type": "stream",
     "text": [
      "List Comprehension: \n",
      "- 3.18 µs ± 30.7 ns per loop (mean ± std. dev. of 7 runs, 100000 loops each)\n",
      "Numpy Array langsam (mit for-loop): \n",
      "- 12.9 µs ± 37.9 ns per loop (mean ± std. dev. of 7 runs, 100000 loops each)\n",
      "Numpy Array schnell  (np.arange): \n",
      "- 1.14 µs ± 126 ns per loop (mean ± std. dev. of 7 runs, 1000000 loops each)\n",
      "Numpy Array schnell  (np.arange): \n",
      "- 2.24 µs ± 1.07 µs per loop (mean ± std. dev. of 7 runs, 100000 loops each)\n"
     ]
    }
   ],
   "source": [
    "test = 10**2\n",
    "print( \"List Comprehension: \" )\n",
    "print( \"- \", end = '' )\n",
    "%timeit [ i for i in range( test ) ]\n",
    "print( \"Numpy Array langsam (mit for-loop): \" )\n",
    "print( \"- \", end = '' )\n",
    "%timeit np.array( range( test ) )\n",
    "print( \"Numpy Array schnell  (np.arange): \" )\n",
    "print( \"- \", end = '' )\n",
    "%timeit np.array( np.arange( test ) )\n",
    "print( \"Numpy Array schnell  (np.arange): \" )\n",
    "print( \"- \", end = '' )\n",
    "%timeit np.array( np.arange( test )**2 )"
   ]
  },
  {
   "cell_type": "markdown",
   "metadata": {},
   "source": [
    "### Compare Operators"
   ]
  },
  {
   "cell_type": "code",
   "execution_count": 35,
   "metadata": {
    "ExecuteTime": {
     "end_time": "2020-12-10T03:42:29.966521Z",
     "start_time": "2020-12-10T03:42:29.957947Z"
    }
   },
   "outputs": [
    {
     "name": "stdout",
     "output_type": "stream",
     "text": [
      "Numpy Array:\t\t[  4   1  10  11  12  13  20 100]\n",
      "Compare (single):\t[False False False False False False False  True]\n",
      "Compare (all):\t\tFalse\n"
     ]
    }
   ],
   "source": [
    "test = 20\n",
    "a = np.array( [ 4, 1, 10, 11, 12, 13, 20, 100 ] )\n",
    "print( \"Numpy Array:\\t\\t\" + str( a ) )\n",
    "\n",
    "r = a > test\n",
    "print( \"Compare (single):\\t\" + str( r ) )\n",
    "\n",
    "r = ( a > test ).all()\n",
    "print( \"Compare (all):\\t\\t\" + str( r ) )"
   ]
  },
  {
   "cell_type": "markdown",
   "metadata": {},
   "source": [
    "### Indexing"
   ]
  },
  {
   "cell_type": "code",
   "execution_count": 36,
   "metadata": {
    "ExecuteTime": {
     "end_time": "2020-12-10T03:42:29.985669Z",
     "start_time": "2020-12-10T03:42:29.969397Z"
    }
   },
   "outputs": [
    {
     "name": "stdout",
     "output_type": "stream",
     "text": [
      "Numpy Array:\t\t[  4   1  10  11  12  13  20 100]\n",
      "- Index (Indexes):\t[0, 2, 4, 5]\n",
      "  Result:\t\t[ 4 10 12 13]\n",
      "- Boolean (Indexes):\t[False, True, False, True, False, True, False, True]\n",
      "  Result:\t\t[  1  11  13 100]\n",
      "- Operatoren (Indexes):\t[False False False False False False False  True]\n",
      "  Result:\t\t[100]\n"
     ]
    }
   ],
   "source": [
    "a = np.array( [ 4, 1, 10, 11, 12, 13, 20, 100 ] )\n",
    "print( \"Numpy Array:\\t\\t\" + str( a ) )\n",
    "\n",
    "indexes = [ 0, 2, 4, 5 ]\n",
    "r = a[ indexes ]\n",
    "print( \"- Index (Indexes):\\t\" + str( indexes ) )\n",
    "print( \"  Result:\\t\\t\" + str( r ) )\n",
    "\n",
    "booleans = [ False, True, False, True, False, True, False, True ]\n",
    "r = a[ booleans ]\n",
    "print( \"- Boolean (Indexes):\\t\" + str( booleans ) )\n",
    "print( \"  Result:\\t\\t\" + str( r ) )\n",
    "\n",
    "booleans = a > 20\n",
    "r = a[ booleans ]\n",
    "print( \"- Operatoren (Indexes):\\t\" + str( booleans ) )\n",
    "print( \"  Result:\\t\\t\" + str( r ) )"
   ]
  },
  {
   "cell_type": "markdown",
   "metadata": {},
   "source": [
    "### Plotten"
   ]
  },
  {
   "cell_type": "code",
   "execution_count": 37,
   "metadata": {
    "ExecuteTime": {
     "end_time": "2020-12-10T03:42:30.000454Z",
     "start_time": "2020-12-10T03:42:29.990285Z"
    }
   },
   "outputs": [],
   "source": [
    "import matplotlib.pyplot as plt\n",
    "%matplotlib inline\n",
    "\n",
    "c = 'white'\n",
    "\n",
    "plt.rcParams.update( {\n",
    "    'font.family': 'monospace',\n",
    "    'text.color' : c,\n",
    "    'axes.labelcolor' : c,\n",
    "    'xtick.color': c,\n",
    "    'ytick.color': c,\n",
    "    'axes.facecolor': \"none\",\n",
    "    'lines.color': 'white'\n",
    "} )"
   ]
  },
  {
   "cell_type": "code",
   "execution_count": 38,
   "metadata": {
    "ExecuteTime": {
     "end_time": "2020-12-10T03:42:30.363239Z",
     "start_time": "2020-12-10T03:42:30.004364Z"
    }
   },
   "outputs": [
    {
     "data": {
      "text/plain": [
       "[<matplotlib.lines.Line2D at 0x7f90a50a82d0>]"
      ]
     },
     "execution_count": 38,
     "metadata": {},
     "output_type": "execute_result"
    },
    {
     "data": {
      "image/png": "[encoded data removed]",
      "text/plain": [
       "<Figure size 432x288 with 1 Axes>"
      ]
     },
     "metadata": {
      "needs_background": "dark"
     },
     "output_type": "display_data"
    }
   ],
   "source": [
    "anzahl = 200\n",
    "x = np.linspace( -2, 2, anzahl )\n",
    "y = x ** 3 - np.sin(x) * x ** 2 - np.sin( 1 / x )\n",
    "\n",
    "plt.plot( x, y, color='white' )"
   ]
  },
  {
   "cell_type": "markdown",
   "metadata": {},
   "source": [
    "## Multidimensioanl Array"
   ]
  },
  {
   "cell_type": "markdown",
   "metadata": {},
   "source": [
    "### Create"
   ]
  },
  {
   "cell_type": "code",
   "execution_count": 39,
   "metadata": {
    "ExecuteTime": {
     "end_time": "2020-12-10T03:42:30.381747Z",
     "start_time": "2020-12-10T03:42:30.366155Z"
    }
   },
   "outputs": [
    {
     "name": "stdout",
     "output_type": "stream",
     "text": [
      "Numpy Array: \t\n",
      " [ 0  2  4  6  8 10 12 14 16 18 20 22 24 26 28 30 32 34 36 38 40 42 44 46\n",
      " 48 50 52 54 56 58 60 62 64 66 68 70 72 74 76 78 80 82]\n",
      "Reshape: \t\n",
      " [[ 0  2  4  6  8 10 12]\n",
      " [14 16 18 20 22 24 26]\n",
      " [28 30 32 34 36 38 40]\n",
      " [42 44 46 48 50 52 54]\n",
      " [56 58 60 62 64 66 68]\n",
      " [70 72 74 76 78 80 82]]\n",
      "Auswahl (Zeile): \t\n",
      " [[ 0  2  4  6  8 10 12]\n",
      " [14 16 18 20 22 24 26]\n",
      " [42 44 46 48 50 52 54]]\n",
      "Auswahl (Zeilen & Spalten): \t\n",
      " [[ 8 10 12]\n",
      " [22 24 26]\n",
      " [50 52 54]]\n"
     ]
    }
   ],
   "source": [
    "b = np.array( np.arange( 42 ) ) * 2\n",
    "print( \"Numpy Array: \\t\" )\n",
    "print( \" \" + str( b ) )\n",
    "\n",
    "m = b.reshape( ( 6, 7 ) )\n",
    "print( \"Reshape: \\t\" ) \n",
    "print( \" \" + str( m ) )\n",
    "\n",
    "r = m[ [ 0, 1, 3 ] ]\n",
    "print( \"Auswahl (Zeile): \\t\" ) \n",
    "print( \" \" + str( r ) )\n",
    "\n",
    "r = m[ [ 0, 1, 3 ], -3: ]\n",
    "print( \"Auswahl (Zeilen & Spalten): \\t\" ) \n",
    "print( \" \" + str( r ) )"
   ]
  },
  {
   "cell_type": "markdown",
   "metadata": {},
   "source": [
    "### Indexing"
   ]
  },
  {
   "cell_type": "code",
   "execution_count": 62,
   "metadata": {
    "ExecuteTime": {
     "end_time": "2020-12-10T04:16:10.669247Z",
     "start_time": "2020-12-10T04:16:10.657892Z"
    }
   },
   "outputs": [
    {
     "name": "stdout",
     "output_type": "stream",
     "text": [
      "numpyArray[ Reihen, Spalten ]\n",
      "Multidimensionales Array: \t\n",
      " [[ 0  2  4  6  8 10 12]\n",
      " [14 16 18 20 22 24 26]\n",
      " [28 30 32 34 36 38 40]\n",
      " [42 44 46 48 50 52 54]\n",
      " [56 58 60 62 64 66 68]\n",
      " [70 72 74 76 78 80 82]]\n",
      "Zeilen (1:3): \t\n",
      " [[14 16 18 20 22 24 26]\n",
      " [28 30 32 34 36 38 40]]\n",
      "Spalte (1:3): \t\n",
      " [[ 2  4]\n",
      " [16 18]\n",
      " [30 32]\n",
      " [44 46]\n",
      " [58 60]\n",
      " [72 74]]\n",
      "Spalte (1:3) - 1 Condition: \t\n",
      " [[44 46]\n",
      " [58 60]\n",
      " [72 74]]\n",
      "Spalte (1:3) - 2 Conditions: \t\n",
      " [[44 46]\n",
      " [58 60]]\n"
     ]
    }
   ],
   "source": [
    "b = ( np.array( np.arange( 42 ) ) * 2 ).reshape( 6, 7 )\n",
    "print( \"numpyArray[ Reihen, Spalten ]\")\n",
    "print( \"Multidimensionales Array: \\t\" )\n",
    "print( \" \" + str( b ) )\n",
    "\n",
    "r = m[ 1:3, : ]\n",
    "print( \"Zeilen (1:3): \\t\" )\n",
    "print( \" \" + str( r ) )\n",
    "\n",
    "r = m[ :, 1:3 ]\n",
    "print( \"Spalte (1:3): \\t\" )\n",
    "print( \" \" + str( r ) )\n",
    "\n",
    "r = m[ m[ :, 0 ] > 40, 1:3 ]\n",
    "print( \"Spalte (1:3) - 1 Condition: \\t\" )\n",
    "print( \" \" + str( r ) )\n",
    "\n",
    "r = m[ np.logical_and( m[ :, 0 ] > 40 , m[ :, 0 ] < 60 ), 1:3 ]\n",
    "print( \"Spalte (1:3) - 2 Conditions: \\t\" )\n",
    "print( \" \" + str( r ) )"
   ]
  },
  {
   "cell_type": "markdown",
   "metadata": {},
   "source": [
    "### AlongAxis"
   ]
  },
  {
   "cell_type": "code",
   "execution_count": 41,
   "metadata": {
    "ExecuteTime": {
     "end_time": "2020-12-10T03:42:30.425956Z",
     "start_time": "2020-12-10T03:42:30.410243Z"
    }
   },
   "outputs": [
    {
     "name": "stdout",
     "output_type": "stream",
     "text": [
      "Multidimensionales Array: \t\n",
      " [[ 0  2  4  6  8 10 12]\n",
      " [14 16 18 20 22 24 26]\n",
      " [28 30 32 34 36 38 40]\n",
      " [42 44 46 48 50 52 54]\n",
      " [56 58 60 62 64 66 68]\n",
      " [70 72 74 76 78 80 82]]\n",
      "Minimum Spaltenweise: \t\n",
      " [ 0  2  4  6  8 10 12]\n",
      "Mittelwert Spaltenweise: \t\n",
      " [35. 37. 39. 41. 43. 45. 47.]\n"
     ]
    }
   ],
   "source": [
    "b = ( np.array( np.arange( 42 ) ) * 2 ).reshape( 6, 7 )\n",
    "print( \"Multidimensionales Array: \\t\" )\n",
    "print( \" \" + str( b ) )\n",
    "\n",
    "r = np.apply_along_axis( np.min, 0, m )\n",
    "print( \"Minimum Spaltenweise: \\t\" )\n",
    "print( \" \" + str( r ) )\n",
    "\n",
    "r = np.apply_along_axis( np.mean, 0, m )\n",
    "print( \"Mittelwert Spaltenweise: \\t\" )\n",
    "print( \" \" + str( r ) )"
   ]
  },
  {
   "cell_type": "markdown",
   "metadata": {},
   "source": [
    "## Other"
   ]
  },
  {
   "cell_type": "markdown",
   "metadata": {},
   "source": [
    "### ```randint```"
   ]
  },
  {
   "cell_type": "code",
   "execution_count": 42,
   "metadata": {
    "ExecuteTime": {
     "end_time": "2020-12-10T03:42:30.439346Z",
     "start_time": "2020-12-10T03:42:30.432979Z"
    }
   },
   "outputs": [],
   "source": [
    "from numpy.random import randint"
   ]
  },
  {
   "cell_type": "code",
   "execution_count": 43,
   "metadata": {
    "ExecuteTime": {
     "end_time": "2020-12-10T03:42:30.454863Z",
     "start_time": "2020-12-10T03:42:30.442947Z"
    }
   },
   "outputs": [
    {
     "name": "stdout",
     "output_type": "stream",
     "text": [
      "Zufallswerte: \t\t\t[235 560 680   3 600 560  61 665 372 238]\n",
      "Einzigartige Zufallswerte: \t[3, 680, 235, 238, 560, 372, 600, 665, 61]\n"
     ]
    }
   ],
   "source": [
    "a = randint( 1, 700, 10 )\n",
    "print( \"Zufallswerte: \\t\\t\\t\" + str( a ) )\n",
    "\n",
    "r = list( set( a ) )\n",
    "print( \"Einzigartige Zufallswerte: \\t\" + str( r ) )"
   ]
  },
  {
   "cell_type": "markdown",
   "metadata": {},
   "source": [
    "# Pandas"
   ]
  },
  {
   "cell_type": "code",
   "execution_count": 44,
   "metadata": {
    "ExecuteTime": {
     "end_time": "2020-12-10T03:42:31.017953Z",
     "start_time": "2020-12-10T03:42:30.459678Z"
    }
   },
   "outputs": [],
   "source": [
    "import pandas as pd\n",
    "from pandas import Series, DataFrame"
   ]
  },
  {
   "cell_type": "code",
   "execution_count": 63,
   "metadata": {
    "ExecuteTime": {
     "end_time": "2020-12-10T04:18:24.035411Z",
     "start_time": "2020-12-10T04:18:24.023251Z"
    }
   },
   "outputs": [
    {
     "name": "stdout",
     "output_type": "stream",
     "text": [
      "Pandas: \n",
      "0    10.00\n",
      "1    20.00\n",
      "2     3.00\n",
      "3    23.32\n",
      "4    32.30\n",
      "dtype: float64\n",
      "\n",
      "Ändern des Indexes:\n",
      "CDU      10.00\n",
      "SPD      20.00\n",
      "AFD       3.00\n",
      "FDP      23.32\n",
      "Grüne    32.30\n",
      "dtype: float64\n",
      "\n"
     ]
    }
   ],
   "source": [
    "a = Series( [ 10, 20, 3, 23.32, 32.3 ] )\n",
    "print( \"Pandas: \\n\" + str( a ) + \"\\n\" )\n",
    "\n",
    "a.index = [\"CDU\", \"SPD\", \"AFD\", \"FDP\", \"Grüne\"]\n",
    "print( \"Ändern des Indexes:\\n\" + str( a ) + \"\\n\" )"
   ]
  },
  {
   "cell_type": "markdown",
   "metadata": {},
   "source": [
    "### Indexing"
   ]
  },
  {
   "cell_type": "code",
   "execution_count": 64,
   "metadata": {
    "ExecuteTime": {
     "end_time": "2020-12-10T04:18:30.377701Z",
     "start_time": "2020-12-10T04:18:30.367323Z"
    }
   },
   "outputs": [
    {
     "name": "stdout",
     "output_type": "stream",
     "text": [
      "Vektorisiert:\n",
      "CDU      0.1000\n",
      "SPD      0.2000\n",
      "AFD      0.0300\n",
      "FDP      0.2332\n",
      "Grüne    0.3230\n",
      "dtype: float64\n",
      "\n",
      "Auswahl SPD: \t20.0\n",
      "\n",
      "Mit Condition: \n",
      "CDU    10.0\n",
      "AFD     3.0\n",
      "dtype: float64\n"
     ]
    }
   ],
   "source": [
    "r = a / 100\n",
    "print( \"Vektorisiert:\\n\" + str( r ) + \"\\n\" )\n",
    "\n",
    "r = a[ \"SPD\" ]\n",
    "print( \"Auswahl SPD: \\t\" + str( r ) )\n",
    "\n",
    "r = a[ a < 15 ]\n",
    "print( \"\\nMit Condition: \\n\" + str( r ) )"
   ]
  },
  {
   "cell_type": "markdown",
   "metadata": {},
   "source": [
    "### Plotten"
   ]
  },
  {
   "cell_type": "code",
   "execution_count": 47,
   "metadata": {
    "ExecuteTime": {
     "end_time": "2020-12-10T03:42:31.381653Z",
     "start_time": "2020-12-10T03:42:31.109652Z"
    }
   },
   "outputs": [
    {
     "data": {
      "text/plain": [
       "<matplotlib.axes._subplots.AxesSubplot at 0x7f90a6cb7d90>"
      ]
     },
     "execution_count": 47,
     "metadata": {},
     "output_type": "execute_result"
    },
    {
     "data": {
      "image/png": "[encoded data removed]",
      "text/plain": [
       "<Figure size 432x288 with 1 Axes>"
      ]
     },
     "metadata": {
      "needs_background": "dark"
     },
     "output_type": "display_data"
    }
   ],
   "source": [
    "c = [ 'black', 'red', 'blue', 'yellow', 'green' ]\n",
    "a.plot( kind=\"bar\", color=c )"
   ]
  },
  {
   "cell_type": "code",
   "execution_count": 48,
   "metadata": {
    "ExecuteTime": {
     "end_time": "2020-12-10T03:42:31.513869Z",
     "start_time": "2020-12-10T03:42:31.384793Z"
    }
   },
   "outputs": [
    {
     "data": {
      "text/plain": [
       "<matplotlib.axes._subplots.AxesSubplot at 0x7f90a6d53550>"
      ]
     },
     "execution_count": 48,
     "metadata": {},
     "output_type": "execute_result"
    },
    {
     "data": {
      "image/png": "[encoded data removed]",
      "text/plain": [
       "<Figure size 432x288 with 1 Axes>"
      ]
     },
     "metadata": {},
     "output_type": "display_data"
    }
   ],
   "source": [
    "a.plot( kind=\"pie\", colors=c )"
   ]
  },
  {
   "cell_type": "markdown",
   "metadata": {},
   "source": [
    "## Dataframes"
   ]
  },
  {
   "cell_type": "code",
   "execution_count": 49,
   "metadata": {
    "ExecuteTime": {
     "end_time": "2020-12-10T03:42:31.553010Z",
     "start_time": "2020-12-10T03:42:31.516852Z"
    }
   },
   "outputs": [
    {
     "name": "stdout",
     "output_type": "stream",
     "text": [
      "Class Variables:\n",
      " Name:\tobject\n",
      " Alter:\tint64\n",
      " Lebt:\tbool\n",
      "\n",
      "All:\n"
     ]
    },
    {
     "data": {
      "text/html": [
       "<div>\n",
       "<style scoped>\n",
       "    .dataframe tbody tr th:only-of-type {\n",
       "        vertical-align: middle;\n",
       "    }\n",
       "\n",
       "    .dataframe tbody tr th {\n",
       "        vertical-align: top;\n",
       "    }\n",
       "\n",
       "    .dataframe thead th {\n",
       "        text-align: right;\n",
       "    }\n",
       "</style>\n",
       "<table border=\"1\" class=\"dataframe\">\n",
       "  <thead>\n",
       "    <tr style=\"text-align: right;\">\n",
       "      <th></th>\n",
       "      <th>Name</th>\n",
       "      <th>Alter</th>\n",
       "      <th>Lebt</th>\n",
       "    </tr>\n",
       "  </thead>\n",
       "  <tbody>\n",
       "    <tr>\n",
       "      <th>0</th>\n",
       "      <td>Alan Turing</td>\n",
       "      <td>104</td>\n",
       "      <td>True</td>\n",
       "    </tr>\n",
       "    <tr>\n",
       "      <th>1</th>\n",
       "      <td>George Orwell</td>\n",
       "      <td>110</td>\n",
       "      <td>False</td>\n",
       "    </tr>\n",
       "    <tr>\n",
       "      <th>2</th>\n",
       "      <td>Marie Curie</td>\n",
       "      <td>140</td>\n",
       "      <td>False</td>\n",
       "    </tr>\n",
       "    <tr>\n",
       "      <th>3</th>\n",
       "      <td>Albert Einstein</td>\n",
       "      <td>150</td>\n",
       "      <td>False</td>\n",
       "    </tr>\n",
       "    <tr>\n",
       "      <th>4</th>\n",
       "      <td>Otto Meier</td>\n",
       "      <td>20</td>\n",
       "      <td>True</td>\n",
       "    </tr>\n",
       "  </tbody>\n",
       "</table>\n",
       "</div>"
      ],
      "text/plain": [
       "              Name  Alter   Lebt\n",
       "0      Alan Turing    104   True\n",
       "1    George Orwell    110  False\n",
       "2      Marie Curie    140  False\n",
       "3  Albert Einstein    150  False\n",
       "4       Otto Meier     20   True"
      ]
     },
     "execution_count": 49,
     "metadata": {},
     "output_type": "execute_result"
    }
   ],
   "source": [
    "df = DataFrame( {\n",
    "    \"Name\" : [ \"Alan Turing\", \"George Orwell\", \"Marie Curie\", \"Albert Einstein\", \"Otto Meier\" ],\n",
    "    \"Alter\" : [ 104, 110, 140, 150, 20 ],\n",
    "    \"Lebt\" : [ True, False, False, False, True ]\n",
    "} )\n",
    "\n",
    "print( \"Class Variables:\" )\n",
    "for key in df.keys():\n",
    "    print( ' ' + str( key ) + \":\\t\" + str( df[ key ].dtype ) + \"\" )\n",
    " \n",
    "print( \"\\nAll:\")\n",
    "df"
   ]
  },
  {
   "cell_type": "markdown",
   "metadata": {},
   "source": [
    "## Indexing"
   ]
  },
  {
   "cell_type": "code",
   "execution_count": 50,
   "metadata": {
    "ExecuteTime": {
     "end_time": "2020-12-10T03:42:31.625252Z",
     "start_time": "2020-12-10T03:42:31.556142Z"
    }
   },
   "outputs": [
    {
     "name": "stdout",
     "output_type": "stream",
     "text": [
      "Zeigen per Boolean\n"
     ]
    },
    {
     "data": {
      "text/html": [
       "<div>\n",
       "<style scoped>\n",
       "    .dataframe tbody tr th:only-of-type {\n",
       "        vertical-align: middle;\n",
       "    }\n",
       "\n",
       "    .dataframe tbody tr th {\n",
       "        vertical-align: top;\n",
       "    }\n",
       "\n",
       "    .dataframe thead th {\n",
       "        text-align: right;\n",
       "    }\n",
       "</style>\n",
       "<table border=\"1\" class=\"dataframe\">\n",
       "  <thead>\n",
       "    <tr style=\"text-align: right;\">\n",
       "      <th></th>\n",
       "      <th>Name</th>\n",
       "      <th>Alter</th>\n",
       "      <th>Lebt</th>\n",
       "    </tr>\n",
       "  </thead>\n",
       "  <tbody>\n",
       "    <tr>\n",
       "      <th>0</th>\n",
       "      <td>Alan Turing</td>\n",
       "      <td>104</td>\n",
       "      <td>True</td>\n",
       "    </tr>\n",
       "    <tr>\n",
       "      <th>2</th>\n",
       "      <td>Marie Curie</td>\n",
       "      <td>140</td>\n",
       "      <td>False</td>\n",
       "    </tr>\n",
       "    <tr>\n",
       "      <th>3</th>\n",
       "      <td>Albert Einstein</td>\n",
       "      <td>150</td>\n",
       "      <td>False</td>\n",
       "    </tr>\n",
       "  </tbody>\n",
       "</table>\n",
       "</div>"
      ],
      "text/plain": [
       "              Name  Alter   Lebt\n",
       "0      Alan Turing    104   True\n",
       "2      Marie Curie    140  False\n",
       "3  Albert Einstein    150  False"
      ]
     },
     "execution_count": 50,
     "metadata": {},
     "output_type": "execute_result"
    }
   ],
   "source": [
    "print( 'Zeigen per Boolean' )\n",
    "df[ [ True, False, True, True, False ] ]"
   ]
  },
  {
   "cell_type": "code",
   "execution_count": 51,
   "metadata": {
    "ExecuteTime": {
     "end_time": "2020-12-10T03:42:31.784845Z",
     "start_time": "2020-12-10T03:42:31.634339Z"
    }
   },
   "outputs": [
    {
     "name": "stdout",
     "output_type": "stream",
     "text": [
      "Zeigen die ersten 2 Reihen\n"
     ]
    },
    {
     "data": {
      "text/html": [
       "<div>\n",
       "<style scoped>\n",
       "    .dataframe tbody tr th:only-of-type {\n",
       "        vertical-align: middle;\n",
       "    }\n",
       "\n",
       "    .dataframe tbody tr th {\n",
       "        vertical-align: top;\n",
       "    }\n",
       "\n",
       "    .dataframe thead th {\n",
       "        text-align: right;\n",
       "    }\n",
       "</style>\n",
       "<table border=\"1\" class=\"dataframe\">\n",
       "  <thead>\n",
       "    <tr style=\"text-align: right;\">\n",
       "      <th></th>\n",
       "      <th>Name</th>\n",
       "      <th>Alter</th>\n",
       "      <th>Lebt</th>\n",
       "    </tr>\n",
       "  </thead>\n",
       "  <tbody>\n",
       "    <tr>\n",
       "      <th>0</th>\n",
       "      <td>Alan Turing</td>\n",
       "      <td>104</td>\n",
       "      <td>True</td>\n",
       "    </tr>\n",
       "    <tr>\n",
       "      <th>1</th>\n",
       "      <td>George Orwell</td>\n",
       "      <td>110</td>\n",
       "      <td>False</td>\n",
       "    </tr>\n",
       "  </tbody>\n",
       "</table>\n",
       "</div>"
      ],
      "text/plain": [
       "            Name  Alter   Lebt\n",
       "0    Alan Turing    104   True\n",
       "1  George Orwell    110  False"
      ]
     },
     "execution_count": 51,
     "metadata": {},
     "output_type": "execute_result"
    }
   ],
   "source": [
    "print( 'Zeigen die ersten 2 Reihen' )\n",
    "df[ :2 ]"
   ]
  },
  {
   "cell_type": "code",
   "execution_count": 60,
   "metadata": {
    "ExecuteTime": {
     "end_time": "2020-12-10T04:15:49.147859Z",
     "start_time": "2020-12-10T04:15:49.131711Z"
    }
   },
   "outputs": [
    {
     "name": "stdout",
     "output_type": "stream",
     "text": [
      "Zeige die letzte Reihe\n"
     ]
    },
    {
     "data": {
      "text/html": [
       "<div>\n",
       "<style scoped>\n",
       "    .dataframe tbody tr th:only-of-type {\n",
       "        vertical-align: middle;\n",
       "    }\n",
       "\n",
       "    .dataframe tbody tr th {\n",
       "        vertical-align: top;\n",
       "    }\n",
       "\n",
       "    .dataframe thead th {\n",
       "        text-align: right;\n",
       "    }\n",
       "</style>\n",
       "<table border=\"1\" class=\"dataframe\">\n",
       "  <thead>\n",
       "    <tr style=\"text-align: right;\">\n",
       "      <th></th>\n",
       "      <th>Name</th>\n",
       "      <th>Alter</th>\n",
       "      <th>Lebt</th>\n",
       "    </tr>\n",
       "  </thead>\n",
       "  <tbody>\n",
       "    <tr>\n",
       "      <th>4</th>\n",
       "      <td>Otto Meier</td>\n",
       "      <td>20</td>\n",
       "      <td>True</td>\n",
       "    </tr>\n",
       "  </tbody>\n",
       "</table>\n",
       "</div>"
      ],
      "text/plain": [
       "         Name  Alter  Lebt\n",
       "4  Otto Meier     20  True"
      ]
     },
     "execution_count": 60,
     "metadata": {},
     "output_type": "execute_result"
    }
   ],
   "source": [
    "print( 'Zeige die letzte Reihe' )\n",
    "df[ -1: ]"
   ]
  },
  {
   "cell_type": "code",
   "execution_count": 61,
   "metadata": {
    "ExecuteTime": {
     "end_time": "2020-12-10T04:15:50.198554Z",
     "start_time": "2020-12-10T04:15:50.177979Z"
    }
   },
   "outputs": [
    {
     "name": "stdout",
     "output_type": "stream",
     "text": [
      "Zeige der Key\n"
     ]
    },
    {
     "data": {
      "text/html": [
       "<div>\n",
       "<style scoped>\n",
       "    .dataframe tbody tr th:only-of-type {\n",
       "        vertical-align: middle;\n",
       "    }\n",
       "\n",
       "    .dataframe tbody tr th {\n",
       "        vertical-align: top;\n",
       "    }\n",
       "\n",
       "    .dataframe thead th {\n",
       "        text-align: right;\n",
       "    }\n",
       "</style>\n",
       "<table border=\"1\" class=\"dataframe\">\n",
       "  <thead>\n",
       "    <tr style=\"text-align: right;\">\n",
       "      <th></th>\n",
       "      <th>Name</th>\n",
       "      <th>Alter</th>\n",
       "      <th>Lebt</th>\n",
       "    </tr>\n",
       "  </thead>\n",
       "  <tbody>\n",
       "    <tr>\n",
       "      <th>0</th>\n",
       "      <td>Alan Turing</td>\n",
       "      <td>104</td>\n",
       "      <td>True</td>\n",
       "    </tr>\n",
       "    <tr>\n",
       "      <th>1</th>\n",
       "      <td>George Orwell</td>\n",
       "      <td>110</td>\n",
       "      <td>False</td>\n",
       "    </tr>\n",
       "    <tr>\n",
       "      <th>2</th>\n",
       "      <td>Marie Curie</td>\n",
       "      <td>140</td>\n",
       "      <td>False</td>\n",
       "    </tr>\n",
       "    <tr>\n",
       "      <th>3</th>\n",
       "      <td>Albert Einstein</td>\n",
       "      <td>150</td>\n",
       "      <td>False</td>\n",
       "    </tr>\n",
       "  </tbody>\n",
       "</table>\n",
       "</div>"
      ],
      "text/plain": [
       "              Name  Alter   Lebt\n",
       "0      Alan Turing    104   True\n",
       "1    George Orwell    110  False\n",
       "2      Marie Curie    140  False\n",
       "3  Albert Einstein    150  False"
      ]
     },
     "execution_count": 61,
     "metadata": {},
     "output_type": "execute_result"
    }
   ],
   "source": [
    "print( 'Zeige der Key' )\n",
    "df[ df[\"Alter\"] > 90 ] "
   ]
  },
  {
   "cell_type": "markdown",
   "metadata": {},
   "source": [
    "### ```iloc```"
   ]
  },
  {
   "cell_type": "code",
   "execution_count": 54,
   "metadata": {
    "ExecuteTime": {
     "end_time": "2020-12-10T03:42:31.860279Z",
     "start_time": "2020-12-10T03:42:31.848228Z"
    }
   },
   "outputs": [
    {
     "data": {
      "text/html": [
       "<div>\n",
       "<style scoped>\n",
       "    .dataframe tbody tr th:only-of-type {\n",
       "        vertical-align: middle;\n",
       "    }\n",
       "\n",
       "    .dataframe tbody tr th {\n",
       "        vertical-align: top;\n",
       "    }\n",
       "\n",
       "    .dataframe thead th {\n",
       "        text-align: right;\n",
       "    }\n",
       "</style>\n",
       "<table border=\"1\" class=\"dataframe\">\n",
       "  <thead>\n",
       "    <tr style=\"text-align: right;\">\n",
       "      <th></th>\n",
       "      <th>Name</th>\n",
       "    </tr>\n",
       "  </thead>\n",
       "  <tbody>\n",
       "    <tr>\n",
       "      <th>0</th>\n",
       "      <td>Alan Turing</td>\n",
       "    </tr>\n",
       "    <tr>\n",
       "      <th>1</th>\n",
       "      <td>George Orwell</td>\n",
       "    </tr>\n",
       "    <tr>\n",
       "      <th>2</th>\n",
       "      <td>Marie Curie</td>\n",
       "    </tr>\n",
       "    <tr>\n",
       "      <th>3</th>\n",
       "      <td>Albert Einstein</td>\n",
       "    </tr>\n",
       "    <tr>\n",
       "      <th>4</th>\n",
       "      <td>Otto Meier</td>\n",
       "    </tr>\n",
       "  </tbody>\n",
       "</table>\n",
       "</div>"
      ],
      "text/plain": [
       "              Name\n",
       "0      Alan Turing\n",
       "1    George Orwell\n",
       "2      Marie Curie\n",
       "3  Albert Einstein\n",
       "4       Otto Meier"
      ]
     },
     "execution_count": 54,
     "metadata": {},
     "output_type": "execute_result"
    }
   ],
   "source": [
    "df.iloc[ :, 0:1  ]"
   ]
  },
  {
   "cell_type": "code",
   "execution_count": 55,
   "metadata": {
    "ExecuteTime": {
     "end_time": "2020-12-10T03:42:31.881319Z",
     "start_time": "2020-12-10T03:42:31.865710Z"
    }
   },
   "outputs": [
    {
     "data": {
      "text/html": [
       "<div>\n",
       "<style scoped>\n",
       "    .dataframe tbody tr th:only-of-type {\n",
       "        vertical-align: middle;\n",
       "    }\n",
       "\n",
       "    .dataframe tbody tr th {\n",
       "        vertical-align: top;\n",
       "    }\n",
       "\n",
       "    .dataframe thead th {\n",
       "        text-align: right;\n",
       "    }\n",
       "</style>\n",
       "<table border=\"1\" class=\"dataframe\">\n",
       "  <thead>\n",
       "    <tr style=\"text-align: right;\">\n",
       "      <th></th>\n",
       "      <th>Name</th>\n",
       "    </tr>\n",
       "  </thead>\n",
       "  <tbody>\n",
       "    <tr>\n",
       "      <th>0</th>\n",
       "      <td>Alan Turing</td>\n",
       "    </tr>\n",
       "    <tr>\n",
       "      <th>1</th>\n",
       "      <td>George Orwell</td>\n",
       "    </tr>\n",
       "  </tbody>\n",
       "</table>\n",
       "</div>"
      ],
      "text/plain": [
       "            Name\n",
       "0    Alan Turing\n",
       "1  George Orwell"
      ]
     },
     "execution_count": 55,
     "metadata": {},
     "output_type": "execute_result"
    }
   ],
   "source": [
    "df.iloc[ :2, 0:1 ]"
   ]
  },
  {
   "cell_type": "markdown",
   "metadata": {},
   "source": [
    "### ```loc```"
   ]
  },
  {
   "cell_type": "code",
   "execution_count": 65,
   "metadata": {
    "ExecuteTime": {
     "end_time": "2020-12-10T04:18:51.362746Z",
     "start_time": "2020-12-10T04:18:51.344025Z"
    }
   },
   "outputs": [
    {
     "data": {
      "text/html": [
       "<div>\n",
       "<style scoped>\n",
       "    .dataframe tbody tr th:only-of-type {\n",
       "        vertical-align: middle;\n",
       "    }\n",
       "\n",
       "    .dataframe tbody tr th {\n",
       "        vertical-align: top;\n",
       "    }\n",
       "\n",
       "    .dataframe thead th {\n",
       "        text-align: right;\n",
       "    }\n",
       "</style>\n",
       "<table border=\"1\" class=\"dataframe\">\n",
       "  <thead>\n",
       "    <tr style=\"text-align: right;\">\n",
       "      <th></th>\n",
       "      <th>Name</th>\n",
       "      <th>Lebt</th>\n",
       "    </tr>\n",
       "  </thead>\n",
       "  <tbody>\n",
       "    <tr>\n",
       "      <th>0</th>\n",
       "      <td>Alan Turing</td>\n",
       "      <td>True</td>\n",
       "    </tr>\n",
       "    <tr>\n",
       "      <th>2</th>\n",
       "      <td>Marie Curie</td>\n",
       "      <td>False</td>\n",
       "    </tr>\n",
       "    <tr>\n",
       "      <th>4</th>\n",
       "      <td>Otto Meier</td>\n",
       "      <td>True</td>\n",
       "    </tr>\n",
       "  </tbody>\n",
       "</table>\n",
       "</div>"
      ],
      "text/plain": [
       "          Name   Lebt\n",
       "0  Alan Turing   True\n",
       "2  Marie Curie  False\n",
       "4   Otto Meier   True"
      ]
     },
     "execution_count": 65,
     "metadata": {},
     "output_type": "execute_result"
    }
   ],
   "source": [
    "df.loc[ [ 0, 2, 4 ], [ \"Name\", \"Lebt\" ] ]"
   ]
  },
  {
   "cell_type": "markdown",
   "metadata": {},
   "source": [
    "### ```.read_csv```"
   ]
  },
  {
   "cell_type": "code",
   "execution_count": 59,
   "metadata": {
    "ExecuteTime": {
     "end_time": "2020-12-10T04:14:39.223678Z",
     "start_time": "2020-12-10T04:14:39.184063Z"
    }
   },
   "outputs": [],
   "source": [
    "path = \"./../../sources/death-rate--all.csv\"\n",
    "df2 = pd.read_csv( path, sep=\";\", header=3, decimal=',' )"
   ]
  }
 ],
 "metadata": {
  "kernelspec": {
   "display_name": "Python 3",
   "language": "python",
   "name": "python3"
  },
  "language_info": {
   "codemirror_mode": {
    "name": "ipython",
    "version": 3
   },
   "file_extension": ".py",
   "mimetype": "text/x-python",
   "name": "python",
   "nbconvert_exporter": "python",
   "pygments_lexer": "ipython3",
   "version": "3.6.10"
  },
  "toc": {
   "base_numbering": 1,
   "nav_menu": {},
   "number_sections": true,
   "sideBar": true,
   "skip_h1_title": false,
   "title_cell": "Table of Contents",
   "title_sidebar": "Contents",
   "toc_cell": false,
   "toc_position": {
    "height": "calc(100% - 180px)",
    "left": "10px",
    "top": "150px",
    "width": "269.59375px"
   },
   "toc_section_display": true,
   "toc_window_display": true
  }
 },
 "nbformat": 4,
 "nbformat_minor": 4
}
