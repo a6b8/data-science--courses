{
 "cells": [
  {
   "cell_type": "markdown",
   "metadata": {},
   "source": [
    "# WS 2015/2016"
   ]
  },
  {
   "cell_type": "markdown",
   "metadata": {},
   "source": [
    "## Aufgabe 1"
   ]
  },
  {
   "cell_type": "markdown",
   "metadata": {},
   "source": [
    "### (a)"
   ]
  },
  {
   "cell_type": "code",
   "execution_count": 1,
   "metadata": {
    "ExecuteTime": {
     "end_time": "2020-12-14T13:54:13.346487Z",
     "start_time": "2020-12-14T13:54:13.340856Z"
    }
   },
   "outputs": [
    {
     "name": "stdout",
     "output_type": "stream",
     "text": [
      "Result:\t\t['ad', 'ae', 'bd', 'be', 'cd', 'ce']\n"
     ]
    }
   ],
   "source": [
    "r = [ x + y for x in 'abc' for y in 'de' ]\n",
    "print( \"Result:\\t\\t\" + str( r ) )"
   ]
  },
  {
   "cell_type": "markdown",
   "metadata": {},
   "source": [
    "### (b)"
   ]
  },
  {
   "cell_type": "code",
   "execution_count": 10,
   "metadata": {
    "ExecuteTime": {
     "end_time": "2020-12-14T11:05:33.172440Z",
     "start_time": "2020-12-14T11:05:33.164377Z"
    }
   },
   "outputs": [
    {
     "name": "stdout",
     "output_type": "stream",
     "text": [
      "Result:\t\t[0, 0]\n",
      "Result:\t\t[1, 1]\n",
      "Result:\t\t[0, 0, 1, 1]\n"
     ]
    }
   ],
   "source": [
    "r = [ 0 ] * 2\n",
    "print( \"Result:\\t\\t\" + str( r ) )\n",
    "\n",
    "r = [ 1 ] * 2\n",
    "print( \"Result:\\t\\t\" + str( r ) )\n",
    "\n",
    "r = [ 0 ] * 2 + [ 1 ] * 2 \n",
    "print( \"Result:\\t\\t\" + str( r ) )"
   ]
  },
  {
   "cell_type": "markdown",
   "metadata": {},
   "source": [
    "### (c)"
   ]
  },
  {
   "cell_type": "code",
   "execution_count": 23,
   "metadata": {
    "ExecuteTime": {
     "end_time": "2020-12-14T11:08:23.368606Z",
     "start_time": "2020-12-14T11:08:23.353040Z"
    }
   },
   "outputs": [
    {
     "name": "stdout",
     "output_type": "stream",
     "text": [
      "Result:\t\trange(0, 10)\n",
      "Result (List):\t[0, 1, 2, 3, 4, 5, 6, 7, 8, 9]\n",
      "Result (List):\t[2, 3, 4, 5, 6, 7]\n",
      "Result:\t\trange(2, 8)\n"
     ]
    }
   ],
   "source": [
    "r = range( 10 )\n",
    "print( \"Result:\\t\\t\" + str( r ) )\n",
    "\n",
    "r = range( 10 )\n",
    "print( \"Result (List):\\t\" + str( list( r ) ) )\n",
    "\n",
    "r = range( 10 )[ 2:-2]\n",
    "print( \"Result (List):\\t\" + str( list( r ) ) )\n",
    "\n",
    "print( \"Result:\\t\\t\" + str( r  ) )"
   ]
  },
  {
   "cell_type": "markdown",
   "metadata": {},
   "source": [
    "### (d)"
   ]
  },
  {
   "cell_type": "code",
   "execution_count": 37,
   "metadata": {
    "ExecuteTime": {
     "end_time": "2020-12-14T11:14:21.182690Z",
     "start_time": "2020-12-14T11:14:21.169581Z"
    }
   },
   "outputs": [
    {
     "name": "stdout",
     "output_type": "stream",
     "text": [
      "Result:\t\trange(0, 5)\n",
      "Result (List):\t[0, 1, 2, 3, 4]\n",
      "Result (List):\t[4, 3, 2, 1, 0]\n",
      "Result:\t\trange(4, -1, -1)\n"
     ]
    }
   ],
   "source": [
    "r = range( 5 )\n",
    "print( \"Result:\\t\\t\" + str( r ) )\n",
    "\n",
    "r = range( 5 )\n",
    "print( \"Result (List):\\t\" + str( list( r )  ) )\n",
    "\n",
    "r = range( 5 )[::-1]\n",
    "print( \"Result (List):\\t\" + str( list( r ) ) )\n",
    "\n",
    "r = range( 5 )[::-1]\n",
    "print( \"Result:\\t\\t\" + str( r ) )"
   ]
  },
  {
   "cell_type": "markdown",
   "metadata": {},
   "source": [
    "### (e)"
   ]
  },
  {
   "cell_type": "code",
   "execution_count": 34,
   "metadata": {
    "ExecuteTime": {
     "end_time": "2020-12-14T11:13:49.923723Z",
     "start_time": "2020-12-14T11:13:49.914623Z"
    }
   },
   "outputs": [
    {
     "name": "stdout",
     "output_type": "stream",
     "text": [
      "Result:\t\thallo\n"
     ]
    }
   ],
   "source": [
    "r = 'hallon'[:-1]\n",
    "print( \"Result:\\t\\t\" + str( r ) )"
   ]
  },
  {
   "cell_type": "markdown",
   "metadata": {},
   "source": [
    "### (f)"
   ]
  },
  {
   "cell_type": "code",
   "execution_count": 41,
   "metadata": {
    "ExecuteTime": {
     "end_time": "2020-12-14T11:16:25.231637Z",
     "start_time": "2020-12-14T11:16:25.219708Z"
    }
   },
   "outputs": [
    {
     "name": "stdout",
     "output_type": "stream",
     "text": [
      "Result:\t\t5\n",
      "Result:\t\t[5, 0, 4, 0, 1]\n"
     ]
    }
   ],
   "source": [
    "r = len( 'hallo' )\n",
    "print( \"Result:\\t\\t\" + str( r ) )\n",
    "\n",
    "r = [ len( x ) for x in [ 'hallo', '', 'welt', '', '!' ] ]\n",
    "print( \"Result:\\t\\t\" + str( r ) )"
   ]
  },
  {
   "cell_type": "markdown",
   "metadata": {
    "ExecuteTime": {
     "end_time": "2020-12-14T11:15:35.933751Z",
     "start_time": "2020-12-14T11:15:35.924376Z"
    }
   },
   "source": [
    "### (g)"
   ]
  },
  {
   "cell_type": "code",
   "execution_count": 46,
   "metadata": {
    "ExecuteTime": {
     "end_time": "2020-12-14T11:18:39.460390Z",
     "start_time": "2020-12-14T11:18:39.447540Z"
    }
   },
   "outputs": [
    {
     "name": "stdout",
     "output_type": "stream",
     "text": [
      "Result:\t\t[1, 2]\n",
      "Result:\t\t1\n"
     ]
    }
   ],
   "source": [
    "r = [ [ 1, 2 ], [ 2 ], [] ][ 0 ]\n",
    "print( \"Result:\\t\\t\" + str( r ) )\n",
    "\n",
    "r = [ [ 1, 2 ], [ 2 ], [] ][ 0 ][ 0 ]\n",
    "print( \"Result:\\t\\t\" + str( r ) )"
   ]
  },
  {
   "cell_type": "markdown",
   "metadata": {},
   "source": [
    "## Aufgabe 2"
   ]
  },
  {
   "cell_type": "markdown",
   "metadata": {},
   "source": [
    "### (a)"
   ]
  },
  {
   "cell_type": "code",
   "execution_count": 7,
   "metadata": {
    "ExecuteTime": {
     "end_time": "2020-12-14T11:25:27.116897Z",
     "start_time": "2020-12-14T11:25:27.072Z"
    }
   },
   "outputs": [
    {
     "name": "stdout",
     "output_type": "stream",
     "text": [
      "Result:\t\t 1 2 3 4 5 6 7 8 9 10"
     ]
    }
   ],
   "source": [
    "r = 1:10\n",
    "cat( \"Result:\\t\\t\", r )"
   ]
  },
  {
   "cell_type": "markdown",
   "metadata": {},
   "source": [
    "### (b)"
   ]
  },
  {
   "cell_type": "code",
   "execution_count": 12,
   "metadata": {
    "ExecuteTime": {
     "end_time": "2020-12-14T11:26:46.093167Z",
     "start_time": "2020-12-14T11:26:45.980Z"
    }
   },
   "outputs": [
    {
     "name": "stdout",
     "output_type": "stream",
     "text": [
      "Result 1:\t\t 1 2 3 \n",
      "Result 2:\t\t 2 3 4 \n",
      "Result 3:\t\t 2 6 12 \n"
     ]
    }
   ],
   "source": [
    "r = 1:3\n",
    "cat( \"Result 1:\\t\\t\", r, \"\\n\" )\n",
    "\n",
    "r = 2:4\n",
    "cat( \"Result 2:\\t\\t\", r, \"\\n\" )\n",
    "\n",
    "r = 1:3 * 2:4\n",
    "cat( \"Result 3:\\t\\t\", r, \"\\n\" )"
   ]
  },
  {
   "cell_type": "markdown",
   "metadata": {},
   "source": [
    "### (c)"
   ]
  },
  {
   "cell_type": "code",
   "execution_count": 16,
   "metadata": {
    "ExecuteTime": {
     "end_time": "2020-12-14T11:27:57.803479Z",
     "start_time": "2020-12-14T11:27:57.773Z"
    }
   },
   "outputs": [
    {
     "ename": "ERROR",
     "evalue": "Error in rep(1:4, 1:2): ungültiges 'times' Argument\n",
     "output_type": "error",
     "traceback": [
      "Error in rep(1:4, 1:2): ungültiges 'times' Argument\nTraceback:\n"
     ]
    }
   ],
   "source": [
    "rep( 1:4, 1:2 )"
   ]
  },
  {
   "cell_type": "markdown",
   "metadata": {},
   "source": [
    "### (d)"
   ]
  },
  {
   "cell_type": "code",
   "execution_count": 20,
   "metadata": {
    "ExecuteTime": {
     "end_time": "2020-12-14T11:28:48.645792Z",
     "start_time": "2020-12-14T11:28:48.616Z"
    }
   },
   "outputs": [
    {
     "name": "stdout",
     "output_type": "stream",
     "text": [
      "Result:\t\t 1 1.5 2 2.5 3 3.5 4 \n"
     ]
    }
   ],
   "source": [
    "r = seq( 1, 4, 0.5 )\n",
    "cat( \"Result:\\t\\t\", r, \"\\n\" )"
   ]
  },
  {
   "cell_type": "markdown",
   "metadata": {},
   "source": [
    "### (e)"
   ]
  },
  {
   "cell_type": "code",
   "execution_count": 23,
   "metadata": {
    "ExecuteTime": {
     "end_time": "2020-12-14T11:30:50.395585Z",
     "start_time": "2020-12-14T11:30:50.360Z"
    }
   },
   "outputs": [
    {
     "name": "stdout",
     "output_type": "stream",
     "text": [
      "Result:\t\t 1 3 5 10 \n"
     ]
    }
   ],
   "source": [
    "r = sqrt( c( 1, 9, 25, 100 ) )\n",
    "cat( \"Result:\\t\\t\", r, \"\\n\" )"
   ]
  },
  {
   "cell_type": "markdown",
   "metadata": {},
   "source": [
    "### (f)"
   ]
  },
  {
   "cell_type": "code",
   "execution_count": 33,
   "metadata": {
    "ExecuteTime": {
     "end_time": "2020-12-14T11:34:24.617782Z",
     "start_time": "2020-12-14T11:34:24.501Z"
    }
   },
   "outputs": [
    {
     "name": "stdout",
     "output_type": "stream",
     "text": [
      "Result 1:\t\t 8 3 2 \n",
      "Result 2:\t\t 1 2 3 \n",
      "Result 3:\t\t 8 6 6 \n"
     ]
    }
   ],
   "source": [
    "r = c( 8, 3, 2 )\n",
    "cat( \"Result 1:\\t\\t\", r, \"\\n\" )\n",
    "\n",
    "r = 1:3\n",
    "cat( \"Result 2:\\t\\t\", r, \"\\n\" )\n",
    "\n",
    "r = c( 8, 3, 2 ) * 1:3\n",
    "cat( \"Result 3:\\t\\t\", r, \"\\n\" )"
   ]
  },
  {
   "cell_type": "markdown",
   "metadata": {},
   "source": [
    "### (g)"
   ]
  },
  {
   "cell_type": "code",
   "execution_count": 40,
   "metadata": {
    "ExecuteTime": {
     "end_time": "2020-12-14T11:37:35.956402Z",
     "start_time": "2020-12-14T11:37:35.908Z"
    }
   },
   "outputs": [
    {
     "name": "stdout",
     "output_type": "stream",
     "text": [
      "Result 1:\t\t 1 3 3 4 1 1 2 1 \n",
      "Result 2:\n"
     ]
    },
    {
     "data": {
      "text/plain": [
       "\n",
       "1 2 3 4 \n",
       "4 1 2 1 "
      ]
     },
     "metadata": {},
     "output_type": "display_data"
    }
   ],
   "source": [
    "r = c( 1, 3, 3, 4, 1, 1, 2, 1 )\n",
    "cat( \"Result 1:\\t\\t\", r, \"\\n\" )\n",
    "\n",
    "cat( \"Result 2:\\n\" )\n",
    "table( c( 1, 3, 3, 4, 1, 1, 2, 1 ) )"
   ]
  },
  {
   "cell_type": "markdown",
   "metadata": {},
   "source": [
    "### (h)"
   ]
  },
  {
   "cell_type": "code",
   "execution_count": 47,
   "metadata": {
    "ExecuteTime": {
     "end_time": "2020-12-14T11:39:21.309745Z",
     "start_time": "2020-12-14T11:39:21.203Z"
    }
   },
   "outputs": [
    {
     "name": "stdout",
     "output_type": "stream",
     "text": [
      "Result:\t\t 1 2 3 5 7 10 \n",
      "Result:\t\t 1 3 \n",
      "Result:\t\t 1 6 3 15 7 30"
     ]
    }
   ],
   "source": [
    "r = c( 1, 2, 3, 5, 7, 10 )\n",
    "cat( \"Result:\\t\\t\", r, \"\\n\"  )\n",
    "\n",
    "r = c( 1, 3 )\n",
    "cat( \"Result:\\t\\t\", r, \"\\n\"  )\n",
    "\n",
    "r = c( 1, 2, 3, 5, 7, 10 ) * c( 1, 3 )\n",
    "cat( \"Result:\\t\\t\", r  )"
   ]
  },
  {
   "cell_type": "markdown",
   "metadata": {},
   "source": [
    "### (i)"
   ]
  },
  {
   "cell_type": "code",
   "execution_count": 5,
   "metadata": {
    "ExecuteTime": {
     "end_time": "2020-12-14T13:56:43.065636Z",
     "start_time": "2020-12-14T13:56:43.020Z"
    }
   },
   "outputs": [
    {
     "name": "stdout",
     "output_type": "stream",
     "text": [
      "Result:\t\t 1 2 3 4 \n",
      "Result:\t\t"
     ]
    },
    {
     "data": {
      "text/html": [
       "<table>\n",
       "<tbody>\n",
       "\t<tr><td>1</td><td>3</td></tr>\n",
       "\t<tr><td>2</td><td>4</td></tr>\n",
       "</tbody>\n",
       "</table>\n"
      ],
      "text/latex": [
       "\\begin{tabular}{ll}\n",
       "\t 1 & 3\\\\\n",
       "\t 2 & 4\\\\\n",
       "\\end{tabular}\n"
      ],
      "text/markdown": [
       "\n",
       "| 1 | 3 |\n",
       "| 2 | 4 |\n",
       "\n"
      ],
      "text/plain": [
       "     [,1] [,2]\n",
       "[1,] 1    3   \n",
       "[2,] 2    4   "
      ]
     },
     "metadata": {},
     "output_type": "display_data"
    }
   ],
   "source": [
    "r = 1:4\n",
    "cat( \"Result:\\t\\t\", r, \"\\n\" )\n",
    "\n",
    "cat( \"Result:\\t\\t\" )\n",
    "matrix( 1:4, 2 )"
   ]
  },
  {
   "cell_type": "code",
   "execution_count": null,
   "metadata": {},
   "outputs": [],
   "source": []
  }
 ],
 "metadata": {
  "kernelspec": {
   "display_name": "R",
   "language": "R",
   "name": "ir"
  },
  "language_info": {
   "codemirror_mode": "r",
   "file_extension": ".r",
   "mimetype": "text/x-r-source",
   "name": "R",
   "pygments_lexer": "r",
   "version": "3.6.1"
  },
  "toc": {
   "base_numbering": 1,
   "nav_menu": {},
   "number_sections": true,
   "sideBar": true,
   "skip_h1_title": false,
   "title_cell": "Table of Contents",
   "title_sidebar": "Contents",
   "toc_cell": false,
   "toc_position": {},
   "toc_section_display": true,
   "toc_window_display": true
  }
 },
 "nbformat": 4,
 "nbformat_minor": 4
}
