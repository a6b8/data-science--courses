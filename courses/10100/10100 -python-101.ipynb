{
 "cells": [
  {
   "cell_type": "markdown",
   "metadata": {},
   "source": [
    "\n"
   ]
  },
  {
   "cell_type": "markdown",
   "metadata": {},
   "source": [
    "# Indexing"
   ]
  },
  {
   "cell_type": "markdown",
   "metadata": {},
   "source": [
    "## ```string```"
   ]
  },
  {
   "cell_type": "code",
   "execution_count": 1,
   "metadata": {
    "ExecuteTime": {
     "end_time": "2020-12-09T13:01:54.296728Z",
     "start_time": "2020-12-09T13:01:54.288331Z"
    }
   },
   "outputs": [
    {
     "name": "stdout",
     "output_type": "stream",
     "text": [
      "Firt 5 Characters 1: \t\t\tHello\n",
      "First 5 Characters 2: \t\t\tHello\n",
      "Last 6 Characters: \t\t\tWorld\n",
      "Last 6 Characters (2er Schritten): \tWrd\n",
      "All Characters Backwards: \t\tdlroW olleH\n"
     ]
    }
   ],
   "source": [
    "a = \"Hello World\"\n",
    "print( \"Firt 5 Characters 1: \\t\\t\\t\" + a[ 0:5 ] )\n",
    "print( \"First 5 Characters 2: \\t\\t\\t\" + a[ :5 ] )\n",
    "print( \"Last 6 Characters: \\t\\t\\t\" + a[ 6: ] )\n",
    "print( \"Last 6 Characters (2er Schritten): \\t\" + a[ 6::2 ] ) ## Schrittweite\n",
    "print( \"All Characters Backwards: \\t\\t\" + a[ ::-1 ] ) ## String Rückwärts"
   ]
  },
  {
   "cell_type": "markdown",
   "metadata": {},
   "source": [
    "## ```list```"
   ]
  },
  {
   "cell_type": "code",
   "execution_count": 2,
   "metadata": {
    "ExecuteTime": {
     "end_time": "2020-12-09T13:01:55.741199Z",
     "start_time": "2020-12-09T13:01:55.718635Z"
    }
   },
   "outputs": [
    {
     "name": "stdout",
     "output_type": "stream",
     "text": [
      "::-1 \t['dir?', 'es', 'geht', 'wie', 'Welt', 'Hallo']\n",
      "::-2\t['dir?', 'geht', 'Welt']\n"
     ]
    }
   ],
   "source": [
    "b = 'Hallo Welt wie geht es dir?'\n",
    "b = b.split()\n",
    "print( \"::-1 \\t\" + str( b[ ::-1] ) )  ## Rückwärts\n",
    "print( \"::-2\\t\" + str( b[ ::-2] ) )  ## Rückwärts jeder zweite Wert"
   ]
  },
  {
   "cell_type": "markdown",
   "metadata": {},
   "source": [
    "# Datentyp"
   ]
  },
  {
   "cell_type": "markdown",
   "metadata": {},
   "source": [
    "### `None`"
   ]
  },
  {
   "cell_type": "code",
   "execution_count": 3,
   "metadata": {
    "ExecuteTime": {
     "end_time": "2020-12-09T13:01:56.363813Z",
     "start_time": "2020-12-09T13:01:56.330800Z"
    }
   },
   "outputs": [
    {
     "name": "stdout",
     "output_type": "stream",
     "text": [
      "Class:\t<class 'NoneType'>\n",
      "Logic\n",
      " and\t-|\t\tNone\n",
      " and\t|-\t\tNone\n",
      " or\t-|\t\tTrue\n",
      " or\t|-\t\tTrue\n",
      " ==\t|-\t\tTrue\n",
      " ==\t-|\t\tTrue\n"
     ]
    }
   ],
   "source": [
    "a = None\n",
    "r = type( a )\n",
    "print( \"Class:\\t\" + str( r ) )\n",
    "\n",
    "print( 'Logic')\n",
    "\n",
    "tests = [ \n",
    "    ( \"and\\t-|\", True and a), \n",
    "    ( \"and\\t|-\", a and True ), \n",
    "    ( \"or\\t-|\", True or a), \n",
    "    ( \"or\\t|-\", a or True ),  \n",
    "    ( \"==\\t|-\", a == None ), \n",
    "    ( \"==\\t-|\", None == a ) \n",
    "]\n",
    "for i in range( 0, len( tests ) ):\n",
    "    print( ' ' + tests[ i ][ 0 ] + \"\\t\\t\" + str( tests[ i ][ 1 ] ) )"
   ]
  },
  {
   "cell_type": "markdown",
   "metadata": {
    "ExecuteTime": {
     "end_time": "2020-12-01T09:02:45.378370Z",
     "start_time": "2020-12-01T09:02:45.202870Z"
    }
   },
   "source": [
    "### `int`"
   ]
  },
  {
   "cell_type": "code",
   "execution_count": 4,
   "metadata": {
    "ExecuteTime": {
     "end_time": "2020-12-09T13:01:56.787968Z",
     "start_time": "2020-12-09T13:01:56.767050Z"
    }
   },
   "outputs": [
    {
     "name": "stdout",
     "output_type": "stream",
     "text": [
      "Class:\t\t<class 'int'>\n",
      "Length:\t\t4\n",
      "Result:\t\t1616.0\n",
      "Result:\t\t1616\n"
     ]
    }
   ],
   "source": [
    "value = 2**50000\n",
    "r = type( value )\n",
    "print( \"Class:\\t\\t\" + str ( r ) ) \n",
    "\n",
    "r = len( str( a ) )\n",
    "print( \"Length:\\t\\t\" + str( r ) )\n",
    "\n",
    "r = 3232 / 2\n",
    "print( \"Result:\\t\\t\" + str( r ) ) ## Division\n",
    "\n",
    "r = 3232 // 2\n",
    "print( \"Result:\\t\\t\" + str( r ) ) ## Ganzzahlen Division"
   ]
  },
  {
   "cell_type": "markdown",
   "metadata": {
    "ExecuteTime": {
     "end_time": "2020-12-01T09:17:40.403653Z",
     "start_time": "2020-12-01T09:17:40.399549Z"
    }
   },
   "source": [
    "### `float`"
   ]
  },
  {
   "cell_type": "code",
   "execution_count": 5,
   "metadata": {
    "ExecuteTime": {
     "end_time": "2020-12-09T13:01:57.151281Z",
     "start_time": "2020-12-09T13:01:57.133781Z"
    }
   },
   "outputs": [
    {
     "name": "stdout",
     "output_type": "stream",
     "text": [
      "Class:\t<class 'float'>\n"
     ]
    }
   ],
   "source": [
    "a = type( 1.34 )\n",
    "print( \"Class:\\t\" + str( a ) )"
   ]
  },
  {
   "cell_type": "markdown",
   "metadata": {
    "ExecuteTime": {
     "end_time": "2020-12-01T09:19:53.242706Z",
     "start_time": "2020-12-01T09:19:53.235798Z"
    }
   },
   "source": [
    "### `bool`"
   ]
  },
  {
   "cell_type": "code",
   "execution_count": 6,
   "metadata": {
    "ExecuteTime": {
     "end_time": "2020-12-09T13:01:57.677619Z",
     "start_time": "2020-12-09T13:01:57.647485Z"
    }
   },
   "outputs": [
    {
     "name": "stdout",
     "output_type": "stream",
     "text": [
      "Class: \t\t\t<class 'bool'>\n",
      "Logic\n",
      " And\n",
      "  0:\t\t\tFalse\n",
      "  1:\t\t\tFalse\n",
      "  2:\t\t\tFalse\n",
      "  3:\t\t\tTrue\n",
      " Or\n",
      "  0:\t\t\tFalse\n",
      "  1:\t\t\tTrue\n",
      "  2:\t\t\tTrue\n",
      "  3:\t\t\tTrue\n",
      "Lazy Evaluation: \tFalse\n"
     ]
    }
   ],
   "source": [
    "a = True\n",
    "print( \"Class: \\t\\t\\t\" + str( type( a ) ) )\n",
    "\n",
    "ands = [ False and False, True and False, False and True, True and True ] \n",
    "print( \"Logic\")\n",
    "print( \" And\")\n",
    "for i in range( 0, len( ands ) ):\n",
    "    print( '  ' + str( i ) + \":\\t\\t\\t\" + str( ands[ i ] ) ) \n",
    "\n",
    "ors = [ False or False, True or False, False or True, True or True ] \n",
    "print( \" Or\")\n",
    "for i in range( 0, len( ors ) ):\n",
    "    print( '  ' + str( i ) + \":\\t\\t\\t\" + str( ors[ i ] ) ) \n",
    "\n",
    "r = ( 3 > 4 ) and ( 1 / 0 > 10000 ) # Erste ist false, bricht ab und gibt false zurück. Sonst error\n",
    "print( \"Lazy Evaluation: \\t\" + str( r ) )"
   ]
  },
  {
   "cell_type": "markdown",
   "metadata": {
    "ExecuteTime": {
     "end_time": "2020-12-01T09:34:11.038382Z",
     "start_time": "2020-12-01T09:34:11.024914Z"
    }
   },
   "source": [
    "### `str`"
   ]
  },
  {
   "cell_type": "code",
   "execution_count": 7,
   "metadata": {
    "ExecuteTime": {
     "end_time": "2020-12-09T13:01:58.391074Z",
     "start_time": "2020-12-09T13:01:58.382676Z"
    }
   },
   "outputs": [
    {
     "name": "stdout",
     "output_type": "stream",
     "text": [
      "Class: \t\t\t<class 'str'>\n",
      "Letzter Buchstabe 1: \td\n",
      "Letzter Buchstabe 2: \td\n",
      "Split <-> Join: \th--e--l--l--o\n"
     ]
    }
   ],
   "source": [
    "a = \"Hello World\"\n",
    "print( \"Class: \\t\\t\\t\" + str( type( a ) ) )\n",
    "\n",
    "r = a[ len( a ) - 1 ]\n",
    "print( \"Letzter Buchstabe 1: \\t\" + str( r ) )\n",
    "\n",
    "r = a[ -1 ]\n",
    "print( \"Letzter Buchstabe 2: \\t\" + str( r ) )\n",
    "\n",
    "a = 'h e l l o'.split()\n",
    "r = '--'.join( [ str( x ) for x in a ] ) \n",
    "\n",
    "print( \"Split <-> Join: \\t\" + str( r ) )"
   ]
  },
  {
   "cell_type": "markdown",
   "metadata": {
    "ExecuteTime": {
     "end_time": "2020-12-01T10:08:45.146987Z",
     "start_time": "2020-12-01T10:08:45.140106Z"
    }
   },
   "source": [
    "### `list`"
   ]
  },
  {
   "cell_type": "code",
   "execution_count": 8,
   "metadata": {
    "ExecuteTime": {
     "end_time": "2020-12-09T13:01:58.910335Z",
     "start_time": "2020-12-09T13:01:58.900563Z"
    }
   },
   "outputs": [
    {
     "name": "stdout",
     "output_type": "stream",
     "text": [
      "Class: \t\t\t\t<class 'list'>\n",
      "List with Function inside 1: \to\n",
      "List with Function inside 2: \t5\n",
      "\n",
      "Start ID:\t\t\t140602553601872\n",
      " ID (.append ):\t\t\t140602553601872\n",
      " ID (+):\t\t\t140602553836080\n",
      " Result:\t\t\t[1, 2, 3, 4, 'append', 'plus']\n"
     ]
    }
   ],
   "source": [
    "a = [ 0, \"test\", False ] \n",
    "print( \"Class: \\t\\t\\t\\t\" + str( type( a ) ) )\n",
    "\n",
    "l = [ 1, 2, 'h e l l o'.split() ] \n",
    "r = l[ -1 ][ -1 ]\n",
    "print( \"List with Function inside 1: \\t\" + str( r ) )\n",
    "\n",
    "a = 'Hello'\n",
    "l = [ type, len, dir ]\n",
    "r = l[ 1 ]( a )\n",
    "print( \"List with Function inside 2: \\t\" + str( r ) )\n",
    "\n",
    "a = [ 1, 2, 3, 4 ]\n",
    "print( \"\\nStart ID:\\t\\t\\t\" + str( id( a ) ) )\n",
    "\n",
    "a.append( 'append' )\n",
    "print( ' ID (.append ):\\t\\t\\t' + str( id( a ) ) )\n",
    "\n",
    "a = a + [ 'plus' ]\n",
    "print( ' ID (+):\\t\\t\\t' + str( id( a ) ) )\n",
    "print( ' Result:\\t\\t\\t' + str ( a ) )"
   ]
  },
  {
   "cell_type": "markdown",
   "metadata": {
    "ExecuteTime": {
     "end_time": "2020-12-01T10:53:57.772835Z",
     "start_time": "2020-12-01T10:53:57.767583Z"
    }
   },
   "source": [
    "### `tuple`"
   ]
  },
  {
   "cell_type": "code",
   "execution_count": 9,
   "metadata": {
    "ExecuteTime": {
     "end_time": "2020-12-09T13:01:59.536755Z",
     "start_time": "2020-12-09T13:01:59.527806Z"
    }
   },
   "outputs": [
    {
     "name": "stdout",
     "output_type": "stream",
     "text": [
      "Tuple:\t\t\t\t(1, 2, ['h', 'e', 'l', 'l', 'o'])\n",
      "Class:\t\t\t\t<class 'tuple'>\n",
      "List with Function inside 1: \to\n"
     ]
    }
   ],
   "source": [
    "t = ( 1, 2, 'h e l l o'.split() )\n",
    "print( \"Tuple:\\t\\t\\t\\t\" + str( t ) )\n",
    "print( \"Class:\\t\\t\\t\\t\" + str( type( t ) ) )\n",
    "\n",
    "r = t[ -1 ][ -1 ]\n",
    "print( \"List with Function inside 1: \\t\" + str( r ) )"
   ]
  },
  {
   "cell_type": "markdown",
   "metadata": {},
   "source": [
    "### `dict`"
   ]
  },
  {
   "cell_type": "code",
   "execution_count": 10,
   "metadata": {
    "ExecuteTime": {
     "end_time": "2020-12-09T13:02:00.662610Z",
     "start_time": "2020-12-09T13:02:00.650209Z"
    }
   },
   "outputs": [
    {
     "name": "stdout",
     "output_type": "stream",
     "text": [
      "Class: \t\t\t<class 'dict'>\n",
      "Select: \t\ta\n",
      "Keys: \t\t\t['jack', 'guido', 'irv', 'children', 'array', 'array_w_objects']\n",
      "Select with Variable:\t412\n",
      "With Array: \t\t42\n"
     ]
    }
   ],
   "source": [
    "a = { \n",
    "    'jack': 4098, \n",
    "    'guido': 4127, \n",
    "    'irv': 412,\n",
    "    'children': {\n",
    "        'name': 'a',\n",
    "    },\n",
    "    'array': [ 1, 3, 4, 5, 6 ],\n",
    "    'array_w_objects': [ \n",
    "        {},\n",
    "        { \n",
    "            'test': 42\n",
    "        }\n",
    "    ]\n",
    "}\n",
    "\n",
    "print( \"Class: \\t\\t\\t\" + str( type( a ) ) )\n",
    "\n",
    "r = a['children']['name']\n",
    "print( \"Select: \\t\\t\" + str( r ) )\n",
    "\n",
    "r = [ *a ]\n",
    "print( \"Keys: \\t\\t\\t\" + str( r ) )\n",
    "\n",
    "rr = a[ r[ 2 ] ]\n",
    "print( \"Select with Variable:\\t\" + str( rr ) )\n",
    "\n",
    "r = a['array_w_objects'][ 1 ]['test']\n",
    "print( \"With Array: \\t\\t\" + str( r ) )"
   ]
  },
  {
   "cell_type": "markdown",
   "metadata": {},
   "source": [
    "# Funktionale Programmierung"
   ]
  },
  {
   "cell_type": "markdown",
   "metadata": {},
   "source": [
    "## `lambda`"
   ]
  },
  {
   "cell_type": "code",
   "execution_count": 14,
   "metadata": {
    "ExecuteTime": {
     "end_time": "2020-12-09T13:02:20.755753Z",
     "start_time": "2020-12-09T13:02:20.743757Z"
    }
   },
   "outputs": [
    {
     "name": "stdout",
     "output_type": "stream",
     "text": [
      "One Time\n",
      " Anyomous Function:\t\t\t7\n",
      " Anyomous Function - function inside:\t13\n",
      " Anyomous Function - lambda inside:\t 8\n",
      "\n",
      "Multiuse\n",
      " As variable:\t\t\t\t7\n",
      " As parameter:\t\t\t\t [4, 7, 10, 13]\n"
     ]
    }
   ],
   "source": [
    "print( 'One Time' )\n",
    "r = ( lambda x, y, z: x * y + z )( 1, 3, 4 )\n",
    "print( \" Anyomous Function:\\t\\t\\t\" + str( r ) )\n",
    "\n",
    "r = ( lambda x, y, z : x( y ) + z )( len, [ 1, 2, 3 ] , 10 )\n",
    "print( \" Anyomous Function - function inside:\\t\" + str( r ) )\n",
    "\n",
    "r = ( lambda x, y, z: z( x, x, y ) + y)( 1, 2, lambda x, y, z: 2 * x + 2 * y + z )\n",
    "print( \" Anyomous Function - lambda inside:\\t\", str( r ) )\n",
    "\n",
    "print( \"\\nMultiuse\" )\n",
    "lamb = lambda x, y, z: x * y + z\n",
    "r = lamb( 1, 3, 4 )\n",
    "print( \" As variable:\\t\\t\\t\\t\" + str( r ) )\n",
    "\n",
    "def mapL( f, *l ): \n",
    "    return list( map( f, *l ) )\n",
    "r = mapL( lambda x, y: 2 * x + y , [ 1, 2, 3, 4 ], [ 2, 3, 4, 5 ] )\n",
    "print( \" As parameter:\\t\\t\\t\\t\", str( r ) )"
   ]
  },
  {
   "cell_type": "markdown",
   "metadata": {
    "ExecuteTime": {
     "end_time": "2020-12-01T11:44:37.958049Z",
     "start_time": "2020-12-01T11:44:37.949052Z"
    }
   },
   "source": [
    "## `map`"
   ]
  },
  {
   "cell_type": "code",
   "execution_count": 15,
   "metadata": {
    "ExecuteTime": {
     "end_time": "2020-12-09T13:02:21.350740Z",
     "start_time": "2020-12-09T13:02:21.336550Z"
    }
   },
   "outputs": [
    {
     "name": "stdout",
     "output_type": "stream",
     "text": [
      "Values:\t\t[23, 45, 67, 89]\n",
      "Function:\t[33, 55, 77, 99]\n",
      "Lambda:\t\t[33, 55, 77, 99]\n",
      "\n",
      ".split() & .join()\n",
      " 1. das ist ein Text\n",
      " 2. der ueber mehere Zeilen \n",
      " 3. geht und somit keine\n",
      " 4. Bedeutung hat.\n",
      "\n",
      ".sum()\t\t37\n",
      ".max():\t\t9\n"
     ]
    }
   ],
   "source": [
    "values = [ 23, 45, 67, 89 ]\n",
    "print( \"Values:\\t\\t\" + str( values ) )\n",
    "\n",
    "def func( x ): \n",
    "    return x + 10\n",
    "\n",
    "r = list( map( func, values ) )\n",
    "print( \"Function:\\t\" +  str( r ) ) \n",
    "\n",
    "r = list( map( lambda x: x + 10, values) )\n",
    "print( \"Lambda:\\t\\t\" + str( r ) ) \n",
    "\n",
    "s = \"\"\"das ist ein Text\n",
    "der ueber mehere Zeilen \n",
    "geht und somit keine\n",
    "Bedeutung hat.\n",
    "\"\"\"\n",
    "\n",
    "lines = s.split( \"\\n\" )\n",
    "r = list( map( lambda zeile, i: ' ' + str( i ) + \". \" + zeile, lines, range( 1, len( lines ) ) ) )\n",
    "rr = \"\\n\".join( r )\n",
    "print( \"\\n.split() & .join()\" )\n",
    "print( rr )\n",
    "\n",
    "r1, r2 = [ 5, 2, 0, 1 ], [ 7, 0, 5, 2 ]\n",
    "r = sum( map( lambda x, y: x * y, r1, r2 ) )\n",
    "print( \"\\n.sum()\\t\\t\" + str( r ))\n",
    "\n",
    "r = max( list( map( len, s.split() ) ) )\n",
    "print(\".max():\\t\\t\" + str( r ))"
   ]
  },
  {
   "cell_type": "markdown",
   "metadata": {},
   "source": [
    "## `filter`"
   ]
  },
  {
   "cell_type": "code",
   "execution_count": 38,
   "metadata": {
    "ExecuteTime": {
     "end_time": "2020-12-09T13:05:51.946804Z",
     "start_time": "2020-12-09T13:05:51.650028Z"
    }
   },
   "outputs": [
    {
     "name": "stdout",
     "output_type": "stream",
     "text": [
      "Result:\t\t['tausendsiebenhundertfünfundsiebzig', 'tausendsiebenhundertfünfundsiebzig'] ...\n",
      "Len:\t\t2\n"
     ]
    }
   ],
   "source": [
    "path = \"./0-downloads/0-2020-09-26-downloads/2-beispieldaten/Bibel.txt\"\n",
    "file = open( path, \"r\", encoding=\"latin-1\" ).read()\n",
    "woerter = file.split()\n",
    "\n",
    "r = list( filter( lambda w: len( w ) > 32, woerter ) )\n",
    "print( \"Result:\\t\\t\" + str( r[:3] ) + ' ...' )\n",
    "\n",
    "r = len( r )\n",
    "print( \"Len:\\t\\t\" + str( r ) )"
   ]
  },
  {
   "cell_type": "markdown",
   "metadata": {
    "ExecuteTime": {
     "end_time": "2020-12-01T23:19:39.061770Z",
     "start_time": "2020-12-01T23:19:39.052087Z"
    }
   },
   "source": [
    "## `reduce`"
   ]
  },
  {
   "cell_type": "code",
   "execution_count": 39,
   "metadata": {
    "ExecuteTime": {
     "end_time": "2020-12-09T13:05:53.449561Z",
     "start_time": "2020-12-09T13:05:53.441785Z"
    }
   },
   "outputs": [
    {
     "name": "stdout",
     "output_type": "stream",
     "text": [
      "Result:\t\t10\n",
      "Result:\t\t10\n"
     ]
    }
   ],
   "source": [
    "from functools import reduce\n",
    "\n",
    "def add( x1, x2 ): \n",
    "    return x1 + x2\n",
    "r = reduce( add, [1, 2, 3, 4] )\n",
    "print( \"Result:\\t\\t\" + str( r ) )\n",
    "\n",
    "r = reduce( lambda x1, x2: x1 + x2, [1, 2, 3, 4] )\n",
    "print( \"Result:\\t\\t\" + str( r ) )"
   ]
  },
  {
   "cell_type": "markdown",
   "metadata": {},
   "source": [
    "## List Comprehensions"
   ]
  },
  {
   "cell_type": "markdown",
   "metadata": {},
   "source": [
    "### `sequ`"
   ]
  },
  {
   "cell_type": "markdown",
   "metadata": {
    "ExecuteTime": {
     "end_time": "2020-12-01T23:20:52.980922Z",
     "start_time": "2020-12-01T23:20:52.950917Z"
    }
   },
   "source": [
    "```python\n",
    "[ <expr> for <id> in <sequ> ]\n",
    "```"
   ]
  },
  {
   "cell_type": "code",
   "execution_count": 40,
   "metadata": {
    "ExecuteTime": {
     "end_time": "2020-12-09T13:06:00.959347Z",
     "start_time": "2020-12-09T13:06:00.952599Z"
    }
   },
   "outputs": [
    {
     "name": "stdout",
     "output_type": "stream",
     "text": [
      ".split(): \t\t[5, 5]\n",
      "range(10):\t\t[0, 1, 4, 9, 16, 25, 36, 49, 64, 81]\n"
     ]
    }
   ],
   "source": [
    "r = [ len( x ) for x in 'Hello World'.split() ]\n",
    "print( \".split(): \\t\\t\" + str( r ) ) \n",
    "\n",
    "r =  [ x**2 for x in range( 10 ) ]\n",
    "print( \"range(10):\\t\\t\" + str( r ) )"
   ]
  },
  {
   "cell_type": "markdown",
   "metadata": {},
   "source": [
    "### `boolEx`"
   ]
  },
  {
   "cell_type": "markdown",
   "metadata": {
    "ExecuteTime": {
     "end_time": "2020-12-01T23:28:03.991371Z",
     "start_time": "2020-12-01T23:28:03.978415Z"
    }
   },
   "source": [
    "```python\n",
    " [ <expr> for <id> in <sequ> [ if <boolExp> ] ]\n",
    "```"
   ]
  },
  {
   "cell_type": "code",
   "execution_count": 41,
   "metadata": {
    "ExecuteTime": {
     "end_time": "2020-12-09T13:06:04.172040Z",
     "start_time": "2020-12-09T13:06:04.161082Z"
    }
   },
   "outputs": [
    {
     "name": "stdout",
     "output_type": "stream",
     "text": [
      ".islower():\t\t['here', 'am']\n",
      ".islower() && len()\t[4, 2]\n"
     ]
    }
   ],
   "source": [
    "r = [ x for x in 'Hello World here I am'.split() if x.islower() ]\n",
    "print( \".islower():\\t\\t\" + str( r ) )\n",
    "\n",
    "r = [ len( x ) for x in 'Hello World here I am'.split()  if x.islower() ]\n",
    "print( \".islower() && len()\\t\" + str( r ) )"
   ]
  },
  {
   "cell_type": "markdown",
   "metadata": {
    "ExecuteTime": {
     "end_time": "2020-12-09T01:47:56.140845Z",
     "start_time": "2020-12-09T01:47:56.137285Z"
    }
   },
   "source": [
    "### `sequ && boolExp` ..."
   ]
  },
  {
   "cell_type": "markdown",
   "metadata": {
    "ExecuteTime": {
     "end_time": "2020-12-01T23:32:09.761661Z",
     "start_time": "2020-12-01T23:32:09.749016Z"
    }
   },
   "source": [
    "```python\n",
    "[ <expr> for <id> in <sequ> [ if <boolExp> ] [for <id> in <sequ> [if <boolExp> ] ]* ]\n",
    "```"
   ]
  },
  {
   "cell_type": "code",
   "execution_count": 42,
   "metadata": {
    "ExecuteTime": {
     "end_time": "2020-12-09T13:06:06.106734Z",
     "start_time": "2020-12-09T13:06:06.030953Z"
    }
   },
   "outputs": [
    {
     "name": "stdout",
     "output_type": "stream",
     "text": [
      "2 Dimensions\n",
      " First:\t\t['e', 'l', 'l', 'o']\n",
      " Second (1):\t[(1, 'e'), (1, 'l'), (1, 'l'), (1, 'o')]\n",
      " Second (2):\t[(1, 'e'), (1, 'l'), (1, 'l'), (1, 'o'), (2, 'e'), (2, 'l'), (2, 'l'), (2, 'o')]\n",
      " Result:\t[(1, 'e'), (1, 'l'), (1, 'l'), (1, 'o'), (2, 'e'), (2, 'l'), (2, 'l'), (2, 'o'), (3, 'e')] ...\n",
      "3 Dimensions\n",
      " First:\t\t[0, 1, 2, 3, 4, 5, 6, 7, 8, 9, 10, 11, 12, 13, 14, 15, 16, 17, 18, 19]\n",
      " Second:\t['H', 'H', 'H', 'H', 'H', 'H', 'H', 'H', 'H', 'H', 'H', 'H', 'H', 'H', 'H'] ...\n",
      " Third:\t\t[('H', 'W', 0), ('H', 'W', 1), ('H', 'W', 2), ('H', 'W', 3), ('H', 'W', 4)] ...\n",
      " Result:\t500\n"
     ]
    }
   ],
   "source": [
    "print( \"2 Dimensions\")\n",
    "\n",
    "r = [ y for y in \"Hello\" if y.islower() ]\n",
    "print(\" First:\\t\\t\" + str( r ) )\n",
    "\n",
    "r = [ ( x, y ) for x in [ 1 ] for y in \"Hello\" if y.islower() ]\n",
    "print( \" Second (1):\\t\" + str( r ) )\n",
    "\n",
    "r = [ ( x, y ) for x in [ 1, 2 ] for y in \"Hello\" if y.islower() ]\n",
    "print( \" Second (2):\\t\" + str( r ) )\n",
    "\n",
    "r = [ ( x, y ) for x in [ 1, 2, 3 ] for y in \"Hello\" if y.islower() ]\n",
    "print( \" Result:\\t\" + str( r[ :9 ] ) + ' ...'  )\n",
    "\n",
    "\n",
    "print( \"3 Dimensions\" )\n",
    "\n",
    "r = [ z for z in range( 20 ) ]\n",
    "print( \" First:\\t\\t\" + str( r ) )\n",
    "\n",
    "r = [ x for x in \"Hello\" for y in \"World\" for z in range( 20 ) ]\n",
    "print( \" Second:\\t\" + str( r[ :15 ] ) + ' ...' )\n",
    "\n",
    "r = [ (x, y, z ) for x in \"Hello\" for y in \"World\" for z in range( 20 ) ]\n",
    "print( \" Third:\\t\\t\" +  str( r[ :5 ] ) + ' ...' )\n",
    "\n",
    "r = len( [ (x, y, z ) for x in \"Hello\" for y in \"World\" for z in range( 20 ) ] )\n",
    "print( \" Result:\\t\" +  str( r ) )"
   ]
  },
  {
   "cell_type": "markdown",
   "metadata": {},
   "source": [
    "# Commands"
   ]
  },
  {
   "cell_type": "markdown",
   "metadata": {},
   "source": [
    "## `open`"
   ]
  },
  {
   "cell_type": "code",
   "execution_count": 43,
   "metadata": {
    "ExecuteTime": {
     "end_time": "2020-12-09T13:06:07.891388Z",
     "start_time": "2020-12-09T13:06:07.225585Z"
    }
   },
   "outputs": [
    {
     "name": "stdout",
     "output_type": "stream",
     "text": [
      "Max:\t\t34\n",
      "Word:\t\ttausendsiebenhundertfünfundsiebzig\n"
     ]
    }
   ],
   "source": [
    "path = \"./0-downloads/0-2020-09-26-downloads/2-beispieldaten/Bibel.txt\"\n",
    "file = open( path, \"r\", encoding=\"latin-1\" ).read()\n",
    "lines = file.split()\n",
    "\n",
    "r = max( list( map( len, lines ) ) )\n",
    "print( \"Max:\\t\\t\" + str( r ) )\n",
    "\n",
    "r = max( list( map( lambda w: ( len( w ) , w ), lines ) ) )[ 1 ] \n",
    "print( \"Word:\\t\\t\" + str( r ) )"
   ]
  },
  {
   "cell_type": "markdown",
   "metadata": {},
   "source": [
    "## `print`"
   ]
  },
  {
   "cell_type": "code",
   "execution_count": 44,
   "metadata": {
    "ExecuteTime": {
     "end_time": "2020-12-09T13:06:07.922158Z",
     "start_time": "2020-12-09T13:06:07.910391Z"
    }
   },
   "outputs": [
    {
     "name": "stdout",
     "output_type": "stream",
     "text": [
      "One Line: \t0 1 2 \n",
      "Multiline: \t\n",
      "\t\t0\n",
      "\t\t1\n",
      "\t\t2\n"
     ]
    }
   ],
   "source": [
    "print( \"One Line: \\t\", end=\"\")\n",
    "for i in range( 0, 3 ): \n",
    "    print( str( i ) + \" \" , end=\"\")\n",
    "\n",
    "print( \"\\nMultiline: \\t\")\n",
    "for i in range( 0, 3 ): \n",
    "    print( \"\\t\\t\" + str( i ) )"
   ]
  },
  {
   "cell_type": "markdown",
   "metadata": {},
   "source": [
    "## `max`"
   ]
  },
  {
   "cell_type": "code",
   "execution_count": 45,
   "metadata": {
    "ExecuteTime": {
     "end_time": "2020-12-09T13:06:09.122859Z",
     "start_time": "2020-12-09T13:06:09.113250Z"
    }
   },
   "outputs": [
    {
     "name": "stdout",
     "output_type": "stream",
     "text": [
      "List: \t\t\t\t\t34\n",
      "Tuple: \t\t\t\t\t434\n",
      "List of Tuples (default): \t\t(3323, 'sswsw')\n",
      "List of Tuples ( key = lambda): \t(2332, 'sswsw', 23324)\n"
     ]
    }
   ],
   "source": [
    "r = max( [ 1, 2, 34, 5, 5 ] )\n",
    "print( \"List: \\t\\t\\t\\t\\t\" + str( r ) )\n",
    "\n",
    "r = max( ( 2, 3, 4, 5, 6, 434, 89, 5 ) )\n",
    "print( \"Tuple: \\t\\t\\t\\t\\t\" + str( r ) )\n",
    "\n",
    "r = max( [ ( 23, \"sswsw\" ), ( 2233, \"sswsw\" ), ( 2332, \"sswsw\" ), ( 2322, \"sswsw\" ), ( 3323, \"sswsw\" ) ] )\n",
    "print( \"List of Tuples (default): \\t\\t\" + str ( r ) )\n",
    "\n",
    "r = max( [ ( 23, \"sswsw\",2 ), ( 2233, \"sswsw\",3 ), ( 2332, \"sswsw\",23324 ) ], key=lambda x:x[ 2 ] )\n",
    "print( \"List of Tuples ( key = lambda): \\t\" + str ( r ) )"
   ]
  },
  {
   "cell_type": "markdown",
   "metadata": {},
   "source": [
    "## `%timeit`"
   ]
  },
  {
   "cell_type": "code",
   "execution_count": 46,
   "metadata": {
    "ExecuteTime": {
     "end_time": "2020-12-09T13:06:18.537938Z",
     "start_time": "2020-12-09T13:06:09.929184Z"
    }
   },
   "outputs": [
    {
     "name": "stdout",
     "output_type": "stream",
     "text": [
      "10.9 ns ± 1.37 ns per loop (mean ± std. dev. of 7 runs, 100000000 loops each)\n"
     ]
    }
   ],
   "source": [
    "%timeit 2*10"
   ]
  },
  {
   "cell_type": "markdown",
   "metadata": {},
   "source": [
    "## `plt.plot`"
   ]
  },
  {
   "cell_type": "code",
   "execution_count": 47,
   "metadata": {
    "ExecuteTime": {
     "end_time": "2020-12-09T13:06:23.200147Z",
     "start_time": "2020-12-09T13:06:18.542304Z"
    }
   },
   "outputs": [
    {
     "data": {
      "text/plain": [
       "[<matplotlib.lines.Line2D at 0x7fe0824bec50>]"
      ]
     },
     "execution_count": 47,
     "metadata": {},
     "output_type": "execute_result"
    },
    {
     "data": {
      "image/png": "[encoded data removed]",
      "text/plain": [
       "<Figure size 432x288 with 1 Axes>"
      ]
     },
     "metadata": {
      "needs_background": "light"
     },
     "output_type": "display_data"
    }
   ],
   "source": [
    "import matplotlib.pyplot as plt\n",
    "\n",
    "plt.plot( [ 1, 2, 3, 4 ], [ 10, 4, 100, 12 ], 'x', color='red' )"
   ]
  },
  {
   "cell_type": "code",
   "execution_count": 48,
   "metadata": {
    "ExecuteTime": {
     "end_time": "2020-12-09T13:06:23.209897Z",
     "start_time": "2020-12-09T13:06:23.205369Z"
    }
   },
   "outputs": [],
   "source": [
    "s = \"\"\"das ist ein Text\n",
    "der ueber mehere Zeilen \n",
    "geht und somit keine\n",
    "Bedeutung hat.\n",
    "\"\"\""
   ]
  },
  {
   "cell_type": "code",
   "execution_count": 49,
   "metadata": {
    "ExecuteTime": {
     "end_time": "2020-12-09T13:06:23.276989Z",
     "start_time": "2020-12-09T13:06:23.217599Z"
    }
   },
   "outputs": [
    {
     "data": {
      "text/plain": [
       "'0. das ist ein Text\\n1. der ueber mehere Zeilen \\n2. geht und somit keine\\n3. Bedeutung hat.'"
      ]
     },
     "execution_count": 49,
     "metadata": {},
     "output_type": "execute_result"
    }
   ],
   "source": [
    "lines = s.splitlines()\n",
    "\"\\n\".join( list( map( lambda zeile, i: str( i ) + '. ' + zeile, lines, range( 0, len( lines ) ) ) ) )"
   ]
  },
  {
   "cell_type": "markdown",
   "metadata": {
    "ExecuteTime": {
     "end_time": "2020-12-01T11:09:28.741291Z",
     "start_time": "2020-12-01T11:09:28.737668Z"
    }
   },
   "source": [
    "## `for`"
   ]
  },
  {
   "cell_type": "code",
   "execution_count": 50,
   "metadata": {
    "ExecuteTime": {
     "end_time": "2020-12-09T13:06:29.670466Z",
     "start_time": "2020-12-09T13:06:29.660924Z"
    }
   },
   "outputs": [
    {
     "name": "stdout",
     "output_type": "stream",
     "text": [
      "Array: \t\t\t1 2 3 \n",
      "Array (range): \t\t233 234 \n",
      "Array (Tuple): \t\t(c:x, v:1) (c:y, v:2) (c:z, v:3) "
     ]
    }
   ],
   "source": [
    "print( \"Array: \\t\\t\\t\", end='' )\n",
    "for i in [ 1, 2, 3 ]: print( str( i ) + ' ', end='')\n",
    "\n",
    "print( \"\\nArray (range): \\t\\t\", end='' )\n",
    "for i in range( 233, 235 ): print( str( i ) + ' ', end='' )\n",
    "\n",
    "print( \"\\nArray (Tuple): \\t\\t\", end='' )\n",
    "for a, b in [ ( \"x\", 1 ), ( \"y\", 2 ), ( \"z\", 3 ) ]:\n",
    "    s = '(c:' +  a  + ', v:' + str( b ) + ') '\n",
    "    print( s, end=\"\" )"
   ]
  },
  {
   "cell_type": "markdown",
   "metadata": {},
   "source": [
    "## `if`"
   ]
  },
  {
   "cell_type": "code",
   "execution_count": 58,
   "metadata": {
    "ExecuteTime": {
     "end_time": "2020-12-09T13:11:08.039964Z",
     "start_time": "2020-12-09T13:11:08.021410Z"
    }
   },
   "outputs": [
    {
     "name": "stdout",
     "output_type": "stream",
     "text": [
      "One Line\n",
      " 0:\t100\n",
      " 1:\t20\n",
      "Multiline\n",
      " 0:\tB\n",
      " 1:\tA\n",
      " 2:\tC\n",
      " 3:\tC\n",
      " 4:\tA\n"
     ]
    }
   ],
   "source": [
    "texts = [ 'Hallo Welt ich bin hier und schreibe', 'Hallo Welt' ]\n",
    "\n",
    "print( 'One Line' )\n",
    "\n",
    "for i in range( 0, len( texts ) ):\n",
    "    r = ( 100 if len( texts[ i ] ) > 10 else 20 )\n",
    "    print( \" \" + str( i ) + \":\\t\" + str( r ) )\n",
    "\n",
    "tuples = [ (), ( 'g' ), ( 'g', 1 ), ( 'g', 1, 1, 3, 4, 5 ), ( 'g' ) ]\n",
    "print( \"Multiline\" )\n",
    "for i in range( 0, len( tuples ) ): \n",
    "    t = tuples[ i ]    \n",
    "    print( \" \" + str( i ) + \":\\t\", end='' )\n",
    "    if len( t ) == 1 :\n",
    "        print( 'A' )\n",
    "    elif len( t ) == 0:\n",
    "        print( 'B' )\n",
    "    else:\n",
    "        print( 'C' )"
   ]
  },
  {
   "cell_type": "markdown",
   "metadata": {},
   "source": [
    "## `def`"
   ]
  },
  {
   "cell_type": "code",
   "execution_count": 8,
   "metadata": {
    "ExecuteTime": {
     "end_time": "2020-12-09T01:39:11.328782Z",
     "start_time": "2020-12-09T01:39:11.316067Z"
    },
    "scrolled": false
   },
   "outputs": [
    {
     "name": "stdout",
     "output_type": "stream",
     "text": [
      "Arguments (Required):\t\t\toptions: [-1]\t val: -1\n",
      "Arguments (Required and options): \toptions: [10]\t val: -1\n",
      "Arguments (Required and val): \t\toptions: [-1]\t val: 50\n",
      "Arguments (Required, options and val): \toptions: [10]\t val: 50\n"
     ]
    }
   ],
   "source": [
    "def short( x ): return x + 10\n",
    "\n",
    "def test( x, y, z, options = [ -1 ], val = -1 ):\n",
    "    return \"options: \" + str( options ) + \"\\t val: \" + str( val )\n",
    "\n",
    "r = test( 2, 3, 4 )\n",
    "print( \"Arguments (Required):\\t\\t\\t\" + str ( r ) )\n",
    "\n",
    "r = test( 2, 3, 4, [ 10 ] )\n",
    "print( \"Arguments (Required and options): \\t\" + str( r ) )\n",
    "\n",
    "r = test( 2, 3, 4, val = 50 )\n",
    "print( \"Arguments (Required and val): \\t\\t\" + str( r ) )\n",
    "\n",
    "r = test( 2, 3, 4, options = [ 10 ], val = 50 )\n",
    "print( \"Arguments (Required, options and val): \\t\" + str( r ) )"
   ]
  },
  {
   "cell_type": "markdown",
   "metadata": {},
   "source": [
    "## ```enumerate```"
   ]
  },
  {
   "cell_type": "code",
   "execution_count": 152,
   "metadata": {
    "ExecuteTime": {
     "end_time": "2020-12-09T11:39:55.210743Z",
     "start_time": "2020-12-09T11:39:55.196547Z"
    }
   },
   "outputs": [
    {
     "ename": "TypeError",
     "evalue": "'list' object is not callable",
     "output_type": "error",
     "traceback": [
      "\u001b[0;31m---------------------------------------------------------------------------\u001b[0m",
      "\u001b[0;31mTypeError\u001b[0m                                 Traceback (most recent call last)",
      "\u001b[0;32m<ipython-input-152-1c15837a8b8a>\u001b[0m in \u001b[0;36m<module>\u001b[0;34m\u001b[0m\n\u001b[1;32m      1\u001b[0m \u001b[0mmy_list\u001b[0m \u001b[0;34m=\u001b[0m \u001b[0;34m[\u001b[0m \u001b[0;34m'apple'\u001b[0m\u001b[0;34m,\u001b[0m \u001b[0;34m'banana'\u001b[0m\u001b[0;34m,\u001b[0m \u001b[0;34m'grapes'\u001b[0m\u001b[0;34m,\u001b[0m \u001b[0;34m'pear'\u001b[0m \u001b[0;34m]\u001b[0m\u001b[0;34m\u001b[0m\u001b[0;34m\u001b[0m\u001b[0m\n\u001b[0;32m----> 2\u001b[0;31m \u001b[0mr\u001b[0m \u001b[0;34m=\u001b[0m \u001b[0mlist\u001b[0m\u001b[0;34m(\u001b[0m \u001b[0menumerate\u001b[0m\u001b[0;34m(\u001b[0m \u001b[0mmy_list\u001b[0m \u001b[0;34m)\u001b[0m \u001b[0;34m)\u001b[0m\u001b[0;34m\u001b[0m\u001b[0;34m\u001b[0m\u001b[0m\n\u001b[0m\u001b[1;32m      3\u001b[0m \u001b[0mprint\u001b[0m\u001b[0;34m(\u001b[0m \u001b[0;34m\"Enumerate List:\\t\\t\"\u001b[0m \u001b[0;34m+\u001b[0m \u001b[0mstr\u001b[0m\u001b[0;34m(\u001b[0m \u001b[0mr\u001b[0m \u001b[0;34m)\u001b[0m \u001b[0;34m)\u001b[0m\u001b[0;34m\u001b[0m\u001b[0;34m\u001b[0m\u001b[0m\n\u001b[1;32m      4\u001b[0m \u001b[0;34m\u001b[0m\u001b[0m\n\u001b[1;32m      5\u001b[0m \u001b[0mpath\u001b[0m \u001b[0;34m=\u001b[0m \u001b[0;34m\"./0-downloads/0-2020-09-26-downloads/2-beispieldaten/Bibel.txt\"\u001b[0m\u001b[0;34m\u001b[0m\u001b[0;34m\u001b[0m\u001b[0m\n",
      "\u001b[0;31mTypeError\u001b[0m: 'list' object is not callable"
     ]
    }
   ],
   "source": [
    "my_list = [ 'apple', 'banana', 'grapes', 'pear' ]\n",
    "r = list( enumerate( my_list ) )\n",
    "print( \"Enumerate List:\\t\\t\" + str( r ) ) \n",
    "\n",
    "path = \"./0-downloads/0-2020-09-26-downloads/2-beispieldaten/Bibel.txt\"\n",
    "r = [ i for i, zeile in enumerate( open( path, encoding=\"latin-1\" ) ) if len( zeile ) <= 1 ]\n",
    "print( \"Enumerate:\\t\\t\" + str( r ) )"
   ]
  },
  {
   "cell_type": "markdown",
   "metadata": {
    "ExecuteTime": {
     "end_time": "2020-12-01T23:57:49.787221Z",
     "start_time": "2020-12-01T23:57:49.455511Z"
    }
   },
   "source": [
    "## `zip`"
   ]
  },
  {
   "cell_type": "code",
   "execution_count": 129,
   "metadata": {
    "ExecuteTime": {
     "end_time": "2020-12-09T05:00:25.488260Z",
     "start_time": "2020-12-09T05:00:25.464103Z"
    }
   },
   "outputs": [
    {
     "name": "stdout",
     "output_type": "stream",
     "text": [
      "zip():\t\t\t[('H', 'W'), ('e', 'o'), ('l', 'r'), ('l', 'l'), ('o', 'd')]\n",
      "zip() short - long:\t[('a', 'a'), ('b', 'b'), ('c', 'c'), ('d', 'd'), ('e', 'e'), ('f', 'f'), ('g', 'g')]\n",
      "zip() long - short:\t[('a', 'a'), ('b', 'b'), ('c', 'c'), ('d', 'd'), ('e', 'e'), ('f', 'f'), ('g', 'g')]\n"
     ]
    }
   ],
   "source": [
    "r = list( zip( \"Hello\", \"World\" ) )\n",
    "print( \"zip():\\t\\t\\t\" + str( r ) )\n",
    "\n",
    "r = list( zip( \"abcdefg\", \"abcdefghijklmnopqrstuvwxyz\" ) )\n",
    "print( \"zip() short - long:\\t\" + str( r ) )\n",
    "\n",
    "r = list( zip( \"abcdefghijklmnopqrstuvwxyz\", \"abcdefg\" ) )\n",
    "print( \"zip() long - short:\\t\" + str( r ) )"
   ]
  },
  {
   "cell_type": "markdown",
   "metadata": {},
   "source": [
    "## `dir`"
   ]
  },
  {
   "cell_type": "code",
   "execution_count": 132,
   "metadata": {
    "ExecuteTime": {
     "end_time": "2020-12-09T05:07:29.557983Z",
     "start_time": "2020-12-09T05:07:29.548936Z"
    }
   },
   "outputs": [
    {
     "name": "stdout",
     "output_type": "stream",
     "text": [
      "All Methods (53): \t[ __add__, __class__, __contains__, __delattr__ ... ]\n",
      "Public Methods (45): \t[ capitalize, casefold, center, count ... ]\n"
     ]
    }
   ],
   "source": [
    "a = dir( str )\n",
    "\n",
    "aa = '[ '\n",
    "for i in range( 0, 4 ):\n",
    "    aa = aa + str( a[ i ] ) + ', '\n",
    "aa = aa[ 0 : len( aa ) - 2 ] + ' ... ]'\n",
    "\n",
    "print( \"All Methods (\" + str( len( aa ) ) + \"): \\t\" + aa ) \n",
    "\n",
    "r = [ item for item in a if not( item.startswith( '__' ) ) ]\n",
    "\n",
    "aa = '[ '\n",
    "for i in range( 0, 4 ):\n",
    "    aa = aa + str( r[ i ] ) + ', '\n",
    "aa = aa[ 0 : len( aa ) - 2 ] + ' ... ]'\n",
    "\n",
    "print( \"Public Methods (\" + str( len( r ) )  + \"): \\t\" + str( aa ) )"
   ]
  },
  {
   "cell_type": "code",
   "execution_count": null,
   "metadata": {},
   "outputs": [],
   "source": []
  }
 ],
 "metadata": {
  "kernelspec": {
   "display_name": "Python 3",
   "language": "python",
   "name": "python3"
  },
  "language_info": {
   "codemirror_mode": {
    "name": "ipython",
    "version": 3
   },
   "file_extension": ".py",
   "mimetype": "text/x-python",
   "name": "python",
   "nbconvert_exporter": "python",
   "pygments_lexer": "ipython3",
   "version": "3.7.6"
  },
  "toc": {
   "base_numbering": 1,
   "nav_menu": {},
   "number_sections": true,
   "sideBar": true,
   "skip_h1_title": false,
   "title_cell": "Table of Contents",
   "title_sidebar": "Contents",
   "toc_cell": false,
   "toc_position": {
    "height": "calc(100% - 180px)",
    "left": "10px",
    "top": "150px",
    "width": "269.59375px"
   },
   "toc_section_display": true,
   "toc_window_display": true
  }
 },
 "nbformat": 4,
 "nbformat_minor": 4
}
