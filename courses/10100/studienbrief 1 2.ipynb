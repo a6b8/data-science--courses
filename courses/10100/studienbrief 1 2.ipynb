{
 "cells": [
  {
   "cell_type": "markdown",
   "metadata": {},
   "source": [
    "# Studienbrief 1"
   ]
  },
  {
   "cell_type": "markdown",
   "metadata": {
    "ExecuteTime": {
     "end_time": "2020-12-16T04:42:57.117044Z",
     "start_time": "2020-12-16T04:42:56.859530Z"
    }
   },
   "source": [
    "## ausdruck vs. kommandos"
   ]
  },
  {
   "cell_type": "code",
   "execution_count": 118,
   "metadata": {
    "ExecuteTime": {
     "end_time": "2020-12-16T07:06:33.536660Z",
     "start_time": "2020-12-16T07:06:33.519601Z"
    }
   },
   "outputs": [
    {
     "name": "stdout",
     "output_type": "stream",
     "text": [
      "Value:\t\t[9, 74, 3, 1, 3, 10, 100, 1]\n",
      "sorted():\t[9, 74, 3, 1, 3, 10, 100, 1]\n",
      ".sort():\t[1, 1, 3, 3, 9, 10, 74, 100]\n"
     ]
    }
   ],
   "source": [
    "v = [ 9, 74, 3, 1, 3, 10, 100, 1 ]\n",
    "print( \"Value:\\t\\t\" + str( v ) )\n",
    "sorted( v )\n",
    "print( \"sorted():\\t\" + str( v ) )\n",
    "v.sort()\n",
    "print( \".sort():\\t\" + str( v ) )"
   ]
  },
  {
   "cell_type": "markdown",
   "metadata": {
    "ExecuteTime": {
     "end_time": "2020-12-16T04:49:48.550943Z",
     "start_time": "2020-12-16T04:49:48.534271Z"
    }
   },
   "source": [
    "## lambda\n",
    "\n",
    "\n"
   ]
  },
  {
   "cell_type": "code",
   "execution_count": 19,
   "metadata": {
    "ExecuteTime": {
     "end_time": "2020-12-16T04:51:52.835113Z",
     "start_time": "2020-12-16T04:51:52.822189Z"
    }
   },
   "outputs": [
    {
     "name": "stdout",
     "output_type": "stream",
     "text": [
      "Result:\t\t12strstr\n"
     ]
    }
   ],
   "source": [
    "f = lambda x, y, z: str( x ) + str( y ) + 2 * str( z )\n",
    "r = f( 1, 2, 'str' )\n",
    "print( \"Result:\\t\\t\" + str( r ) )"
   ]
  },
  {
   "cell_type": "code",
   "execution_count": 28,
   "metadata": {
    "ExecuteTime": {
     "end_time": "2020-12-16T04:56:26.626271Z",
     "start_time": "2020-12-16T04:56:26.618857Z"
    }
   },
   "outputs": [
    {
     "name": "stdout",
     "output_type": "stream",
     "text": [
      "Result:\t\t32\n"
     ]
    }
   ],
   "source": [
    "f = ( lambda x, y, z: x( y, z( y ) ) )( lambda x, y: x + 2 * y, 10, lambda x: x + 1 )\n",
    "print( \"Result:\\t\\t\" + str( f ) )"
   ]
  },
  {
   "cell_type": "markdown",
   "metadata": {
    "ExecuteTime": {
     "end_time": "2020-12-16T04:56:52.720673Z",
     "start_time": "2020-12-16T04:56:52.705439Z"
    }
   },
   "source": [
    "## map"
   ]
  },
  {
   "cell_type": "markdown",
   "metadata": {},
   "source": [
    "### default"
   ]
  },
  {
   "cell_type": "code",
   "execution_count": 53,
   "metadata": {
    "ExecuteTime": {
     "end_time": "2020-12-16T05:05:17.694375Z",
     "start_time": "2020-12-16T05:05:17.677306Z"
    }
   },
   "outputs": [
    {
     "name": "stdout",
     "output_type": "stream",
     "text": [
      "map():\t\t\t\t[102, 202, 302, 402]\n",
      "list copmprehension:\t\t[102, 202, 302, 402]\n",
      "list copmprehension (if):\t[302, 322]\n"
     ]
    }
   ],
   "source": [
    "r = map( lambda x: x + 2, [ 100, 200, 300, 400 ] )\n",
    "print( \"map():\\t\\t\\t\\t\" + str( list( r ) ) )\n",
    "\n",
    "f = lambda x: x + 2\n",
    "r = [ f( x ) for x in [ 100, 200, 300, 400 ] if x ]\n",
    "print( \"list copmprehension:\\t\\t\" + str( list( r ) ) )\n",
    "\n",
    "f = lambda x: x + 2\n",
    "r = [ f( x ) for x in [ 100, 200, 300, 320, 400 ] if x > 200 and x < 400 ]\n",
    "print( \"list copmprehension (if):\\t\" + str( list( r ) ) )"
   ]
  },
  {
   "cell_type": "markdown",
   "metadata": {
    "ExecuteTime": {
     "end_time": "2020-12-16T04:59:46.744433Z",
     "start_time": "2020-12-16T04:59:46.710721Z"
    }
   },
   "source": [
    "### *"
   ]
  },
  {
   "cell_type": "code",
   "execution_count": 63,
   "metadata": {
    "ExecuteTime": {
     "end_time": "2020-12-16T05:08:52.158655Z",
     "start_time": "2020-12-16T05:08:52.149299Z"
    }
   },
   "outputs": [
    {
     "name": "stdout",
     "output_type": "stream",
     "text": [
      "map list (one variable) :\t[2, 3, 5, 6]\n",
      "map list (multiple variables):\t[4, 6, 9, 11]\n"
     ]
    }
   ],
   "source": [
    "def mapL( f, *l ):\n",
    "    return list( map( f, *l ) )\n",
    "\n",
    "r = mapL( lambda x: x, [ 2, 3, 5, 6 ] )\n",
    "print( \"map list (one variable) :\\t\" + str( list( r ) ) )\n",
    "\n",
    "r = mapL( lambda x, y: x + y, [ 2, 3, 5, 6 ], [ 2, 3, 4, 5 ] )\n",
    "print( \"map list (multiple variables):\\t\" + str( list( r ) ) )"
   ]
  },
  {
   "cell_type": "markdown",
   "metadata": {
    "ExecuteTime": {
     "end_time": "2020-12-16T05:09:16.436638Z",
     "start_time": "2020-12-16T05:09:16.425921Z"
    }
   },
   "source": [
    "## open"
   ]
  },
  {
   "cell_type": "code",
   "execution_count": 21,
   "metadata": {
    "ExecuteTime": {
     "end_time": "2020-12-16T06:34:22.412117Z",
     "start_time": "2020-12-16T06:34:22.012822Z"
    }
   },
   "outputs": [
    {
     "name": "stdout",
     "output_type": "stream",
     "text": [
      "Lines:\t\t\t\t31175\n",
      "Words:\t\t\t\t697655\n",
      "Unique Words:\t\t\t45708\n"
     ]
    }
   ],
   "source": [
    "path = './../../sources/bibel.txt'\n",
    "f = open( path, \"r\", encoding=\"latin-1\" ).readlines()\n",
    "\n",
    "r = len( f )\n",
    "print( \"Lines:\\t\\t\\t\\t\" + str( r ) )\n",
    "\n",
    "tmp = [ line.split( ' ' ) for line in f ]\n",
    "flatten = lambda lines: [word for line in lines for word in line]\n",
    "words = flatten( tmp )\n",
    "r = len( words )\n",
    "print( \"Words:\\t\\t\\t\\t\" + str( r ) )\n",
    "\n",
    "unique = list( set( words ) )\n",
    "r = len( unique )\n",
    "print( \"Unique Words:\\t\\t\\t\" + str( r ) )"
   ]
  },
  {
   "cell_type": "markdown",
   "metadata": {
    "ExecuteTime": {
     "end_time": "2020-12-16T06:19:15.082149Z",
     "start_time": "2020-12-16T06:19:14.742956Z"
    }
   },
   "source": [
    "## string operatoren"
   ]
  },
  {
   "cell_type": "code",
   "execution_count": 22,
   "metadata": {
    "ExecuteTime": {
     "end_time": "2020-12-16T06:34:36.086235Z",
     "start_time": "2020-12-16T06:34:34.931479Z"
    }
   },
   "outputs": [
    {
     "name": "stdout",
     "output_type": "stream",
     "text": [
      "Mentions of 'Gott':\t\t1551\n",
      "Bigger then 20 Characters :\t206\n",
      "startwith 'Go' :\t\t4818\n",
      "endswith 'an' :\t\t\t5825\n",
      "isalpha? :\t\t\t586922\n",
      "isupper? :\t\t\t84\n",
      "islower? :\t\t\t503545\n"
     ]
    }
   ],
   "source": [
    "path = './../../sources/bibel.txt'\n",
    "f = open( path, \"r\", encoding=\"latin-1\" ).readlines()\n",
    "\n",
    "r = len( [ _ for line in f if 'Gott' in line.split(' ') ] )\n",
    "print( \"Mentions of 'Gott':\\t\\t\" + str( r ) )\n",
    "\n",
    "r = len( [ word for line in f for word in line.split( ' ' ) if len( word ) > 20 ] )\n",
    "print( \"Bigger then 20 Characters :\\t\" + str( r ) )\n",
    "\n",
    "r = len( [ word for line in f for word in line.split( ' ' ) if word.startswith( 'Go' ) ] ) \n",
    "print( \"startwith 'Go' :\\t\\t\" + str( r ) )\n",
    "\n",
    "r = len( [ word for line in f for word in line.split( ' ' ) if word.endswith( 'an' ) ] ) \n",
    "print( \"endswith 'an' :\\t\\t\\t\" + str( r ) )\n",
    "\n",
    "r = len( [ word for line in f for word in line.split( ' ' ) if word.isalpha() ] ) \n",
    "print( \"isalpha? :\\t\\t\\t\" + str( r ) )\n",
    "\n",
    "r = len( [ word for line in f for word in line.split( ' ' ) if word.isupper() ] ) \n",
    "print( \"isupper? :\\t\\t\\t\" + str( r ) )\n",
    "\n",
    "r = len( [ word for line in f for word in line.split( ' ' ) if word.islower() ] ) \n",
    "print( \"islower? :\\t\\t\\t\" + str( r ) )"
   ]
  },
  {
   "cell_type": "markdown",
   "metadata": {
    "ExecuteTime": {
     "end_time": "2020-12-16T06:29:39.282650Z",
     "start_time": "2020-12-16T06:29:39.270765Z"
    }
   },
   "source": [
    "## filter"
   ]
  },
  {
   "cell_type": "code",
   "execution_count": 36,
   "metadata": {
    "ExecuteTime": {
     "end_time": "2020-12-16T06:38:48.588001Z",
     "start_time": "2020-12-16T06:38:48.582100Z"
    }
   },
   "outputs": [
    {
     "name": "stdout",
     "output_type": "stream",
     "text": [
      "filter modulo2 :\t\t\t[3, 6, 9, 12]\n"
     ]
    }
   ],
   "source": [
    "r = list( filter( lambda x : x % 3 == 0, [ 1, 2, 3, 4, 5, 6, 7, 8, 9, 10, 11, 12, 13 ] ) )\n",
    "print( \"filter modulo2 :\\t\\t\\t\" + str( r ) )"
   ]
  },
  {
   "cell_type": "markdown",
   "metadata": {
    "ExecuteTime": {
     "end_time": "2020-12-16T06:39:47.174075Z",
     "start_time": "2020-12-16T06:39:47.170273Z"
    }
   },
   "source": [
    "## any"
   ]
  },
  {
   "cell_type": "code",
   "execution_count": 44,
   "metadata": {
    "ExecuteTime": {
     "end_time": "2020-12-16T06:42:51.947241Z",
     "start_time": "2020-12-16T06:42:51.905925Z"
    }
   },
   "outputs": [
    {
     "name": "stdout",
     "output_type": "stream",
     "text": [
      " all:\t\t\tTrue\n"
     ]
    }
   ],
   "source": [
    "path = './../../sources/bibel.txt'\n",
    "f = open( path, \"r\", encoding=\"latin-1\" ).readlines()\n",
    "r = all( list( map( lambda x: x.endswith('\\n'), f) ) ) \n",
    "print( \" all:\\t\\t\\t\" + str( r ) )"
   ]
  },
  {
   "cell_type": "markdown",
   "metadata": {},
   "source": [
    "## list comprehension"
   ]
  },
  {
   "cell_type": "code",
   "execution_count": 51,
   "metadata": {
    "ExecuteTime": {
     "end_time": "2020-12-16T06:46:22.714432Z",
     "start_time": "2020-12-16T06:46:22.704288Z"
    }
   },
   "outputs": [
    {
     "name": "stdout",
     "output_type": "stream",
     "text": [
      "Result 1:\t\t['h', 'a', 'l']\n",
      "Result 2:\t\t[('h', 1), ('h', 2), ('a', 1), ('a', 2), ('l', 1), ('l', 2)]\n"
     ]
    }
   ],
   "source": [
    "r = [ x for x in \"hal\" ] \n",
    "print( \"Result 1:\\t\\t\" + str( r ) )\n",
    "\n",
    "r = [ ( x, y ) for x in \"hal\" for y in [ 1, 2 ] ] \n",
    "print( \"Result 2:\\t\\t\" + str( r ) )"
   ]
  },
  {
   "cell_type": "code",
   "execution_count": 89,
   "metadata": {
    "ExecuteTime": {
     "end_time": "2020-12-16T06:56:52.013366Z",
     "start_time": "2020-12-16T06:56:52.000786Z"
    }
   },
   "outputs": [
    {
     "name": "stdout",
     "output_type": "stream",
     "text": [
      "Array:\t\t\t[[4, 1, 2], [4, 2, 10], [7, 4, 9]]\n",
      "Sort:\t\t\t[[1, 2, 4], [2, 4, 10], [4, 7, 9]]\n",
      "Flatten:\t\t[4, 1, 2, 4, 2, 10, 7, 4, 9]\n",
      "Flatten (if):\t\t[4, 2, 4, 2, 10, 4]\n",
      "Flatten (if & modify):\t[28, 14, 28, 14, 70, 28]\n"
     ]
    }
   ],
   "source": [
    "a = [ [ 4, 1, 2 ], [ 4, 2, 10 ], [ 7, 4, 9 ] ]\n",
    "print( \"Array:\\t\\t\\t\" + str( a ) )\n",
    "\n",
    "r = [ sorted( li ) for li in a ]\n",
    "print( \"Sort:\\t\\t\\t\" + str( r ) )\n",
    "\n",
    "r = [ sta for li in a for sta in li ]\n",
    "print( \"Flatten:\\t\\t\" + str( r ) )\n",
    "\n",
    "r = [ sta for li in a for sta in li if sta%2 == 0 ]\n",
    "print( \"Flatten (if):\\t\\t\" + str( r ) )\n",
    "\n",
    "r = [ sta * 7 for li in a for sta in li if sta%2 == 0 ]\n",
    "print( \"Flatten (if & modify):\\t\" + str( r ) )"
   ]
  },
  {
   "cell_type": "markdown",
   "metadata": {
    "ExecuteTime": {
     "end_time": "2020-12-16T06:53:00.344397Z",
     "start_time": "2020-12-16T06:53:00.338873Z"
    }
   },
   "source": [
    "## zip"
   ]
  },
  {
   "cell_type": "code",
   "execution_count": 105,
   "metadata": {
    "ExecuteTime": {
     "end_time": "2020-12-16T07:00:45.311671Z",
     "start_time": "2020-12-16T07:00:45.304662Z"
    }
   },
   "outputs": [
    {
     "name": "stdout",
     "output_type": "stream",
     "text": [
      "zip:\t\t\t[(1, 10), (2, 11), (3, 12), (4, 13)]\n",
      "zip (add lists):\t[11, 13, 15, 17]\n"
     ]
    }
   ],
   "source": [
    "a = [ 1, 2, 3, 4 ]\n",
    "b = [ 10, 11, 12, 13 ]\n",
    "\n",
    "r = list( zip( a, b ) )\n",
    "print( \"zip:\\t\\t\\t\" + str( r ) )\n",
    "\n",
    "r = [ x + y for x, y in zip( a, b )]\n",
    "print( \"zip (add lists):\\t\" + str( r ) )"
   ]
  },
  {
   "cell_type": "markdown",
   "metadata": {},
   "source": [
    "## reduce"
   ]
  },
  {
   "cell_type": "code",
   "execution_count": 109,
   "metadata": {
    "ExecuteTime": {
     "end_time": "2020-12-16T07:03:21.355109Z",
     "start_time": "2020-12-16T07:03:21.350201Z"
    }
   },
   "outputs": [],
   "source": [
    "from functools import reduce"
   ]
  },
  {
   "cell_type": "code",
   "execution_count": 119,
   "metadata": {
    "ExecuteTime": {
     "end_time": "2020-12-16T07:07:01.994721Z",
     "start_time": "2020-12-16T07:07:01.948290Z"
    }
   },
   "outputs": [
    {
     "name": "stdout",
     "output_type": "stream",
     "text": [
      "Result:\t\t55\n",
      "Result:\n",
      "Erste Zeile\n",
      "Zweite Zeile\n",
      "Dritte Zeile\n"
     ]
    }
   ],
   "source": [
    "a = [ 1, 2, 3, 4, 5, 6, 7, 8, 9, 10 ]\n",
    "r = reduce( lambda x, y: x+y, a )\n",
    "print( \"Result:\\t\\t\" + str( r ) )\n",
    "\n",
    "a = [ 'Erste Zeile', 'Zweite Zeile', 'Dritte Zeile' ]\n",
    "r = reduce( lambda x, y: x + \"\\n\" + y, a )\n",
    "print( \"Result:\\n\" + str( r ) )"
   ]
  },
  {
   "cell_type": "markdown",
   "metadata": {},
   "source": [
    "## max"
   ]
  },
  {
   "cell_type": "code",
   "execution_count": 135,
   "metadata": {
    "ExecuteTime": {
     "end_time": "2020-12-16T07:12:16.670794Z",
     "start_time": "2020-12-16T07:12:16.659219Z"
    }
   },
   "outputs": [
    {
     "name": "stdout",
     "output_type": "stream",
     "text": [
      "max (int plus):\t\t10\n",
      "max (int minus):\t-1\n",
      "max (string):\t\tz\n"
     ]
    }
   ],
   "source": [
    "a = [ 1, 2, 3, 4, 5, 6, 7, 8, 9, 10 ]\n",
    "r = max( a )\n",
    "print( \"max (int plus):\\t\\t\" + str( r ) )\n",
    "\n",
    "a = [ -1, -2, -3, -4, -5, -6, -7, -8, -9, -10 ]\n",
    "r = max( a )\n",
    "print( \"max (int minus):\\t\" + str( r ) )\n",
    "\n",
    "a = [ 'z', 'a','f','Z', 'A','F' ]\n",
    "r = max( a )\n",
    "print( \"max (string):\\t\\t\" + str( r ) )"
   ]
  },
  {
   "cell_type": "markdown",
   "metadata": {},
   "source": [
    "## min"
   ]
  },
  {
   "cell_type": "code",
   "execution_count": 136,
   "metadata": {
    "ExecuteTime": {
     "end_time": "2020-12-16T07:12:19.328218Z",
     "start_time": "2020-12-16T07:12:19.312439Z"
    }
   },
   "outputs": [
    {
     "name": "stdout",
     "output_type": "stream",
     "text": [
      "min (int plus):\t\t1\n",
      "min (int minus):\t-10\n",
      "min (string):\t\tA\n"
     ]
    }
   ],
   "source": [
    "a = [ 1, 2, 3, 4, 5, 6, 7, 8, 9, 10 ]\n",
    "r = min( a )\n",
    "print( \"min (int plus):\\t\\t\" + str( r ) )\n",
    "\n",
    "a = [ -1, -2, -3, -4, -5, -6, -7, -8, -9, -10 ]\n",
    "r = min( a )\n",
    "print( \"min (int minus):\\t\" + str( r ) )\n",
    "\n",
    "a = [ 'z', 'a','f','Z', 'A','F' ]\n",
    "r = min( a )\n",
    "print( \"min (string):\\t\\t\" + str( r ) )"
   ]
  },
  {
   "cell_type": "markdown",
   "metadata": {},
   "source": [
    "## advanced"
   ]
  },
  {
   "cell_type": "code",
   "execution_count": 138,
   "metadata": {
    "ExecuteTime": {
     "end_time": "2020-12-16T07:14:20.826046Z",
     "start_time": "2020-12-16T07:14:20.815848Z"
    }
   },
   "outputs": [],
   "source": [
    "a = [ [ 1, 2 ], [ 3, 4 ], [ 10, 11 ] ]\n",
    "\n",
    "map( lambda )"
   ]
  },
  {
   "cell_type": "markdown",
   "metadata": {},
   "source": [
    "# Studienbrief 2"
   ]
  },
  {
   "cell_type": "markdown",
   "metadata": {},
   "source": [
    "## numpy"
   ]
  },
  {
   "cell_type": "code",
   "execution_count": 139,
   "metadata": {
    "ExecuteTime": {
     "end_time": "2020-12-16T08:58:15.013260Z",
     "start_time": "2020-12-16T08:58:14.525897Z"
    }
   },
   "outputs": [],
   "source": [
    "import numpy as np"
   ]
  },
  {
   "cell_type": "code",
   "execution_count": 157,
   "metadata": {
    "ExecuteTime": {
     "end_time": "2020-12-16T09:04:38.420738Z",
     "start_time": "2020-12-16T09:04:38.407360Z"
    }
   },
   "outputs": [
    {
     "name": "stdout",
     "output_type": "stream",
     "text": [
      "Array:\t\t[4 1 3 4 5 6]\n",
      "Type:\t\tint64\n",
      "Float:\t\t[0.4 0.1 0.3 0.4 0.5 0.6]\n",
      "Type:\t\tfloat64\n",
      "Bool:\t\t[False  True False False False False]\n",
      "Type:\t\tbool\n",
      "add:\t\t[14 12 15 17 19 21]\n"
     ]
    }
   ],
   "source": [
    "a = np.array( [ 4, 1, 3, 4, 5, 6 ] )\n",
    "print( \"Array:\\t\\t\" + str( a ) )\n",
    "\n",
    "r = a.dtype\n",
    "print( \"Type:\\t\\t\" + str( r ) )\n",
    "\n",
    "r = a * 0.1\n",
    "print( \"Float:\\t\\t\" + str( r ) )\n",
    "\n",
    "r = r.dtype\n",
    "print( \"Type:\\t\\t\" + str( r ) )\n",
    "\n",
    "r = a == 1\n",
    "print( \"Bool:\\t\\t\" + str( r ) )\n",
    "\n",
    "r = r.dtype\n",
    "print( \"Type:\\t\\t\" + str( r ) )\n",
    "\n",
    "b = np.array( [ 10, 11, 12, 13, 14, 15 ] )\n",
    "r = a + b\n",
    "print( \"add:\\t\\t\" + str( r ) )"
   ]
  },
  {
   "cell_type": "markdown",
   "metadata": {
    "ExecuteTime": {
     "end_time": "2020-12-16T09:05:28.830138Z",
     "start_time": "2020-12-16T09:05:28.824304Z"
    }
   },
   "source": [
    "### compare"
   ]
  },
  {
   "cell_type": "code",
   "execution_count": 178,
   "metadata": {
    "ExecuteTime": {
     "end_time": "2020-12-16T09:11:28.356072Z",
     "start_time": "2020-12-16T09:11:28.330609Z"
    }
   },
   "outputs": [
    {
     "name": "stdout",
     "output_type": "stream",
     "text": [
      "Result:\t\t\t[ 1  2  3  4  5  6  7  8  9 10]\n",
      "Mod 3:\t\t\t[False  True False  True False  True False  True False  True]\n",
      "Mod 5:\t\t\t[False False  True False False  True False False  True False]\n",
      "Mod 3 or Mod 5:\t\t[False  True  True  True False  True False  True  True  True]\n",
      "Mod 3 and Mod 5:\t[False False False False False  True False False False False]\n"
     ]
    }
   ],
   "source": [
    "a = np.array( [ 1, 2, 3, 4, 5, 6, 7, 8, 9, 10 ] )\n",
    "print( \"Result:\\t\\t\\t\" + str( a ) )\n",
    "\n",
    "r = ( a%2==0 )\n",
    "print( \"Mod 3:\\t\\t\\t\" + str( r ) )\n",
    "\n",
    "r = ( a%3==0 )\n",
    "print( \"Mod 5:\\t\\t\\t\" + str( r ) )\n",
    "\n",
    "r = ( a%2==0 ) | ( a%3==0 )\n",
    "print( \"Mod 3 or Mod 5:\\t\\t\" + str( r ) )\n",
    "\n",
    "r = ( a%2==0 ) & ( a%3==0 )\n",
    "print( \"Mod 3 and Mod 5:\\t\" + str( r ) )"
   ]
  },
  {
   "cell_type": "markdown",
   "metadata": {
    "ExecuteTime": {
     "end_time": "2020-12-16T09:03:38.955795Z",
     "start_time": "2020-12-16T09:03:38.948609Z"
    }
   },
   "source": [
    "### argwhere"
   ]
  },
  {
   "cell_type": "code",
   "execution_count": 191,
   "metadata": {
    "ExecuteTime": {
     "end_time": "2020-12-16T09:16:01.572277Z",
     "start_time": "2020-12-16T09:16:01.565097Z"
    }
   },
   "outputs": [
    {
     "name": "stdout",
     "output_type": "stream",
     "text": [
      "argwhere - return index:\n",
      "[[2]\n",
      " [5]\n",
      " [8]]\n",
      "argwhere - first result:\t3\n",
      "selektion:\t\t\t[3 6 9]\n"
     ]
    }
   ],
   "source": [
    "a = np.array( [ 1, 2, 3, 4, 5, 6, 7, 8, 9, 10 ] )\n",
    "r = np.argwhere( a%3==0 )\n",
    "print( \"argwhere - return index:\\n\" + str( r ) )\n",
    "\n",
    "r = a[ r[ 0 ][ 0 ]]\n",
    "print( \"argwhere - first result:\\t\" + str( r ) )\n",
    "\n",
    "r = a[ a%3==0 ]\n",
    "print( \"selektion:\\t\\t\\t\" + str( r ) )"
   ]
  },
  {
   "cell_type": "markdown",
   "metadata": {
    "ExecuteTime": {
     "end_time": "2020-12-16T09:16:53.609764Z",
     "start_time": "2020-12-16T09:16:53.605730Z"
    }
   },
   "source": [
    "### isnan"
   ]
  },
  {
   "cell_type": "code",
   "execution_count": 256,
   "metadata": {
    "ExecuteTime": {
     "end_time": "2020-12-16T09:35:45.884380Z",
     "start_time": "2020-12-16T09:35:45.869889Z"
    }
   },
   "outputs": [
    {
     "name": "stdout",
     "output_type": "stream",
     "text": [
      "nan:\t\t\t\t\t[ 2  3 10]\n",
      "Type:\t\t\t\t\tint64\n",
      "nan:\t\t\t\t\t[nan  2.  3. nan 10.]\n",
      "Type:\t\t\t\t\tfloat64\n",
      "isnan? (boolean)\t\t\t[ True False False  True False]\n",
      "a == np.nan? (value)\t\t\t[nan nan]\n",
      "a == np.nan? (value invert)\t\t[ 2.  3. 10.]\n"
     ]
    }
   ],
   "source": [
    "a = np.array( [ 2, 3, 10 ] )\n",
    "print( \"nan:\\t\\t\\t\\t\\t\" + str( a ) )\n",
    "\n",
    "r = a.dtype\n",
    "print( \"Type:\\t\\t\\t\\t\\t\" + str( r ) )\n",
    "\n",
    "a = np.array( [ np.nan, 2, 3, np.nan, 10 ] )\n",
    "print( \"nan:\\t\\t\\t\\t\\t\" + str( a ) )\n",
    "\n",
    "r = a.dtype\n",
    "print( \"Type:\\t\\t\\t\\t\\t\" + str( r ) )\n",
    "      \n",
    "r = np.isnan( a )\n",
    "print( \"isnan? (boolean)\\t\\t\\t\" + str( r ) )\n",
    "\n",
    "r = a[ np.isnan( a ) ]\n",
    "print( \"a == np.nan? (value)\\t\\t\\t\" + str( r ) )\n",
    "\n",
    "r = a[ np.invert( np.isnan( a ) ) ]\n",
    "print( \"a == np.nan? (value invert)\\t\\t\" + str( r ) )"
   ]
  },
  {
   "cell_type": "markdown",
   "metadata": {},
   "source": [
    "### max"
   ]
  },
  {
   "cell_type": "code",
   "execution_count": 244,
   "metadata": {
    "ExecuteTime": {
     "end_time": "2020-12-16T09:30:32.144410Z",
     "start_time": "2020-12-16T09:30:32.138040Z"
    }
   },
   "outputs": [
    {
     "name": "stdout",
     "output_type": "stream",
     "text": [
      ".max:\t\tnan\n",
      ".nanmax:\t\t10.0\n"
     ]
    }
   ],
   "source": [
    "a = np.array( [ np.nan, 2, 3, np.nan, 10 ] )\n",
    "r = np.max( a )\n",
    "print( \".max:\\t\\t\" + str( r ) )\n",
    "\n",
    "r = np.nanmax( a )\n",
    "print( \".nanmax:\\t\\t\" + str( r ) )"
   ]
  },
  {
   "cell_type": "markdown",
   "metadata": {},
   "source": [
    "### min"
   ]
  },
  {
   "cell_type": "code",
   "execution_count": 246,
   "metadata": {
    "ExecuteTime": {
     "end_time": "2020-12-16T09:31:40.453040Z",
     "start_time": "2020-12-16T09:31:40.447418Z"
    }
   },
   "outputs": [
    {
     "name": "stdout",
     "output_type": "stream",
     "text": [
      ".min:\t\tnan\n",
      ".min nan: \t2.0\n"
     ]
    }
   ],
   "source": [
    "a = np.array( [ np.nan, 2, 3, np.nan, 10 ] )\n",
    "r = np.min( a )\n",
    "print( \".min:\\t\\t\" + str( r ) )\n",
    "\n",
    "r = np.nanmin( a )\n",
    "print( \".min nan: \\t\" + str( r ) )"
   ]
  },
  {
   "cell_type": "markdown",
   "metadata": {},
   "source": [
    "### mean"
   ]
  },
  {
   "cell_type": "code",
   "execution_count": 249,
   "metadata": {
    "ExecuteTime": {
     "end_time": "2020-12-16T09:32:25.561974Z",
     "start_time": "2020-12-16T09:32:25.555744Z"
    }
   },
   "outputs": [
    {
     "name": "stdout",
     "output_type": "stream",
     "text": [
      ".mean:\t\tnan\n",
      ".mean:\t\t5.0\n"
     ]
    }
   ],
   "source": [
    "a = np.array( [ np.nan, 2, 3, np.nan, 10 ] )\n",
    "r = np.mean( a )\n",
    "print( \".mean:\\t\\t\" + str( r ) )\n",
    "\n",
    "r = np.nanmean( a )\n",
    "print( \".mean:\\t\\t\" + str( r ) )"
   ]
  },
  {
   "cell_type": "markdown",
   "metadata": {},
   "source": [
    "### sum"
   ]
  },
  {
   "cell_type": "code",
   "execution_count": 283,
   "metadata": {
    "ExecuteTime": {
     "end_time": "2020-12-16T09:50:55.213059Z",
     "start_time": "2020-12-16T09:50:55.206285Z"
    }
   },
   "outputs": [
    {
     "name": "stdout",
     "output_type": "stream",
     "text": [
      ".sum:\t\tnan\n",
      ".sum:\t\t15.0\n"
     ]
    }
   ],
   "source": [
    "a = np.array( [ np.nan, 2, 3, np.nan, 10 ] )\n",
    "r = np.sum( a )\n",
    "print( \".sum:\\t\\t\" + str( r ) )\n",
    "\n",
    "r = np.nansum( a )\n",
    "print( \".sum:\\t\\t\" + str( r ) )"
   ]
  },
  {
   "cell_type": "markdown",
   "metadata": {},
   "source": [
    "### indexing"
   ]
  },
  {
   "cell_type": "code",
   "execution_count": 281,
   "metadata": {
    "ExecuteTime": {
     "end_time": "2020-12-16T09:43:57.983457Z",
     "start_time": "2020-12-16T09:43:57.969255Z"
    }
   },
   "outputs": [
    {
     "name": "stdout",
     "output_type": "stream",
     "text": [
      "value:\t\t\t[10.  1. nan  1.  2.  3.  5.  6.]\n",
      "index [1]:\t\t1.0\n",
      "[-1] result :\t\t6.0\n",
      "[:-1] result :\t\t[10.  1. nan  1.  2.  3.  5.]\n",
      "[-1:] result :\t\t[6.]\n",
      "[:2] result:\t\t[10.  1.]\n",
      "[2:] result:\t\t[nan  1.  2.  3.  5.  6.]\n"
     ]
    }
   ],
   "source": [
    "a = np.array( [ 10,1, np.nan, 1, 2, 3, 5, 6 ] )\n",
    "print( \"value:\\t\\t\\t\" + str( a ) )\n",
    "\n",
    "r = a[ 1 ]\n",
    "print( \"index [1]:\\t\\t\" + str( r ) )\n",
    "\n",
    "r = a[ -1 ]\n",
    "print( \"[-1] result :\\t\\t\" + str( r ) )\n",
    "\n",
    "r = a[ :-1 ]\n",
    "print( \"[:-1] result :\\t\\t\" + str( r ) )\n",
    "\n",
    "r = a[ -1: ]\n",
    "print( \"[-1:] result :\\t\\t\" + str( r ) )\n",
    "\n",
    "r = a[ :2 ]\n",
    "print( \"[:2] result:\\t\\t\" + str( r ) )\n",
    "\n",
    "r = a[ 2: ]\n",
    "print( \"[2:] result:\\t\\t\" + str( r ) )"
   ]
  },
  {
   "cell_type": "markdown",
   "metadata": {},
   "source": [
    "### arange"
   ]
  },
  {
   "cell_type": "code",
   "execution_count": 301,
   "metadata": {
    "ExecuteTime": {
     "end_time": "2020-12-16T09:57:09.078080Z",
     "start_time": "2020-12-16T09:57:09.066783Z"
    }
   },
   "outputs": [
    {
     "name": "stdout",
     "output_type": "stream",
     "text": [
      "arange 1:\t\t[1.   1.25 1.5  1.75 2.   2.25 2.5  2.75]\n",
      "arange 2:\t\t[10.  10.5 11.  11.5 12.  12.5]\n",
      "arange & mean:\t\t2.25\n",
      ">2 & <4 boolean:\t[False False False False False  True  True  True False False]\n",
      ">2 & <4 value:\t\t[2.5 3.  3.5]\n"
     ]
    }
   ],
   "source": [
    "r = np.arange( 1, 3, 0.25)\n",
    "print( \"arange 1:\\t\\t\" + str( r ) )\n",
    "\n",
    "r = np.arange( 10, 13, 0.5)\n",
    "print( \"arange 2:\\t\\t\" + str( r ) )\n",
    "\n",
    "r = ( np.arange( 0, 5, 0.5 ) ).mean()\n",
    "print( \"arange & mean:\\t\\t\" + str( r ) )\n",
    "\n",
    "a = ( np.arange( 0, 5, 0.5 ) )\n",
    "r = ( a > 2 ) & ( a < 4 )\n",
    "print( \">2 & <4 boolean:\\t\" + str( r ) )\n",
    "\n",
    "r = a[ r ]\n",
    "print( \">2 & <4 value:\\t\\t\" + str( r ) )"
   ]
  },
  {
   "cell_type": "markdown",
   "metadata": {
    "ExecuteTime": {
     "end_time": "2020-12-16T09:53:50.539452Z",
     "start_time": "2020-12-16T09:53:50.529993Z"
    }
   },
   "source": [
    "### reshape"
   ]
  },
  {
   "cell_type": "code",
   "execution_count": 327,
   "metadata": {
    "ExecuteTime": {
     "end_time": "2020-12-16T10:04:13.027608Z",
     "start_time": "2020-12-16T10:04:13.017592Z"
    }
   },
   "outputs": [
    {
     "name": "stdout",
     "output_type": "stream",
     "text": [
      "arange:\t\t[0.  0.5 1.  1.5 2.  2.5 3.  3.5 4.  4.5]\n",
      "dimensionen:\t1\n",
      "shape:\t\t(10,)\n",
      "reshape:\n",
      "[[0.  0.5]\n",
      " [1.  1.5]\n",
      " [2.  2.5]\n",
      " [3.  3.5]\n",
      " [4.  4.5]]\n",
      "dimensionen:\t2\n",
      "shape:\t\t(5, 2)\n",
      "transpose:\n",
      "[[0.  1.  2.  3.  4. ]\n",
      " [0.5 1.5 2.5 3.5 4.5]]\n"
     ]
    }
   ],
   "source": [
    "a = np.arange( 0, 5, 0.5 )\n",
    "print( \"arange:\\t\\t\" + str( a ) )\n",
    "\n",
    "r = a.ndim\n",
    "print( \"dimensionen:\\t\" + str( r ) )\n",
    "\n",
    "r = a.shape\n",
    "print( \"shape:\\t\\t\" + str( r ) )\n",
    "\n",
    "a = a.reshape( 5, 2 )\n",
    "print( \"reshape:\\n\" + str( a ) )\n",
    "\n",
    "r = a.ndim\n",
    "print( \"dimensionen:\\t\" + str( r ) )\n",
    "\n",
    "r = a.shape\n",
    "print( \"shape:\\t\\t\" + str( r ) )\n",
    "\n",
    "a = a.T\n",
    "print( \"transpose:\\n\" + str( a ) )"
   ]
  },
  {
   "cell_type": "markdown",
   "metadata": {},
   "source": [
    "### apply along axis"
   ]
  },
  {
   "cell_type": "code",
   "execution_count": 336,
   "metadata": {
    "ExecuteTime": {
     "end_time": "2020-12-16T14:41:29.253274Z",
     "start_time": "2020-12-16T14:41:29.242454Z"
    }
   },
   "outputs": [
    {
     "name": "stdout",
     "output_type": "stream",
     "text": [
      "Shape:\n",
      "[[0.  0.5]\n",
      " [1.  1.5]\n",
      " [2.  2.5]\n",
      " [3.  3.5]\n",
      " [4.  4.5]]\n",
      "Entlang der Spalten (0):\t[4.  4.5]\n",
      "Entlang der Zeilen (1):\t\t[0.5 1.5 2.5 3.5 4.5]\n"
     ]
    }
   ],
   "source": [
    "a = np.arange( 0, 5, 0.5 )\n",
    "a = a.reshape( 5, 2 )\n",
    "print( \"Shape:\\n\" + str( a ) )\n",
    "\n",
    "r = np.apply_along_axis( np.max, 0, a )\n",
    "print( \"Entlang der Spalten (0):\\t\" + str( r ) )\n",
    "\n",
    "r = np.apply_along_axis( np.max, 1, a )\n",
    "print( \"Entlang der Zeilen (1):\\t\\t\" + str( r ) )"
   ]
  },
  {
   "cell_type": "markdown",
   "metadata": {},
   "source": [
    "### broadcasting"
   ]
  },
  {
   "cell_type": "markdown",
   "metadata": {},
   "source": [
    "#### same length"
   ]
  },
  {
   "cell_type": "code",
   "execution_count": 350,
   "metadata": {
    "ExecuteTime": {
     "end_time": "2020-12-16T14:47:25.842498Z",
     "start_time": "2020-12-16T14:47:25.830661Z"
    }
   },
   "outputs": [
    {
     "name": "stdout",
     "output_type": "stream",
     "text": [
      "Array 1:\n",
      "[[  0   1]\n",
      " [ 10  11]\n",
      " [100 101]]\n",
      "\n",
      "Array 2:\n",
      "[[1 2]\n",
      " [2 3]\n",
      " [3 4]]\n",
      "\n",
      "Result:\n",
      "[[  1   3]\n",
      " [ 12  14]\n",
      " [103 105]]\n",
      "\n",
      "Flatten:\t\t[  1   3  12  14 103 105]\n"
     ]
    }
   ],
   "source": [
    "a = np.array( [ [ 0, 1 ], [ 10, 11 ], [ 100, 101 ] ] )\n",
    "print( \"Array 1:\\n\" + str( a ) + \"\\n\" )\n",
    "\n",
    "b = np.array( [ [1, 2], [ 2, 3 ], [ 3, 4 ] ] )\n",
    "print( \"Array 2:\\n\" + str( b ) + \"\\n\" )\n",
    "\n",
    "r = (a + b)\n",
    "print( \"Result:\\n\" + str( r ) + \"\\n\" )\n",
    "\n",
    "r = (a + b).flatten()\n",
    "print( \"Flatten:\\t\\t\" + str( r ) )"
   ]
  },
  {
   "cell_type": "markdown",
   "metadata": {},
   "source": [
    "#### stretching"
   ]
  },
  {
   "cell_type": "code",
   "execution_count": 356,
   "metadata": {
    "ExecuteTime": {
     "end_time": "2020-12-16T14:53:56.807659Z",
     "start_time": "2020-12-16T14:53:56.802102Z"
    }
   },
   "outputs": [
    {
     "name": "stdout",
     "output_type": "stream",
     "text": [
      "Array 1:\n",
      "[[  0   1]\n",
      " [ 10  11]\n",
      " [100 101]]\n",
      "\n",
      "Array 2:\n",
      "[[1 2]]\n",
      "\n",
      "Result:\n",
      "[[  1   3]\n",
      " [ 11  13]\n",
      " [101 103]]\n",
      "\n"
     ]
    }
   ],
   "source": [
    "a = np.array( [ [ 0, 1 ], [ 10, 11 ], [ 100, 101 ] ] )\n",
    "print( \"Array 1:\\n\" + str( a ) + \"\\n\" )\n",
    "\n",
    "b = np.array( [ [1, 2] ] )\n",
    "print( \"Array 2:\\n\" + str( b ) + \"\\n\" )\n",
    "\n",
    "r = ( a + b )\n",
    "print( \"Result:\\n\" + str( r ) + \"\\n\" )"
   ]
  },
  {
   "cell_type": "markdown",
   "metadata": {},
   "source": [
    "#### multidimensional"
   ]
  },
  {
   "cell_type": "code",
   "execution_count": 359,
   "metadata": {
    "ExecuteTime": {
     "end_time": "2020-12-16T14:54:26.715999Z",
     "start_time": "2020-12-16T14:54:26.706996Z"
    }
   },
   "outputs": [
    {
     "name": "stdout",
     "output_type": "stream",
     "text": [
      "Array 1:\n",
      "[[[2. 2.]]\n",
      "\n",
      " [[2. 2.]]\n",
      "\n",
      " [[2. 2.]]]\n",
      "\n",
      "Array 2:\n",
      "[[[0]\n",
      "  [1]\n",
      "  [2]]\n",
      "\n",
      " [[3]\n",
      "  [4]\n",
      "  [5]]\n",
      "\n",
      " [[6]\n",
      "  [7]\n",
      "  [8]]]\n",
      "\n",
      "Result:\n",
      "[[[ 2.  2.]\n",
      "  [ 3.  3.]\n",
      "  [ 4.  4.]]\n",
      "\n",
      " [[ 5.  5.]\n",
      "  [ 6.  6.]\n",
      "  [ 7.  7.]]\n",
      "\n",
      " [[ 8.  8.]\n",
      "  [ 9.  9.]\n",
      "  [10. 10.]]]\n",
      "\n"
     ]
    }
   ],
   "source": [
    "c = np.ones( ( 3, 1, 2 ) ) + 1\n",
    "print( \"Array 1:\\n\" + str( c ) + \"\\n\" )\n",
    "\n",
    "d = np.arange( 9 ).reshape( 3, 3, 1 )\n",
    "print( \"Array 2:\\n\" + str( d ) + \"\\n\" )\n",
    "\n",
    "r = ( c + d )\n",
    "print( \"Result:\\n\" + str( r ) + \"\\n\" )"
   ]
  },
  {
   "cell_type": "markdown",
   "metadata": {},
   "source": [
    "### 2d plotting"
   ]
  },
  {
   "cell_type": "code",
   "execution_count": 369,
   "metadata": {
    "ExecuteTime": {
     "end_time": "2020-12-16T15:00:42.155778Z",
     "start_time": "2020-12-16T15:00:41.648589Z"
    }
   },
   "outputs": [],
   "source": [
    "%matplotlib inline\n",
    "from matplotlib import pyplot as plt"
   ]
  },
  {
   "cell_type": "code",
   "execution_count": 370,
   "metadata": {
    "ExecuteTime": {
     "end_time": "2020-12-16T15:00:44.055437Z",
     "start_time": "2020-12-16T15:00:43.820503Z"
    }
   },
   "outputs": [
    {
     "name": "stdout",
     "output_type": "stream",
     "text": [
      "x:\t\t[0.  0.5 1. ]\n",
      "y:\t\t[-2.  -1.5 -1.  -0.5  0. ]\n"
     ]
    },
    {
     "data": {
      "text/plain": [
       "<matplotlib.image.AxesImage at 0x7fa5168eb240>"
      ]
     },
     "execution_count": 370,
     "metadata": {},
     "output_type": "execute_result"
    },
    {
     "data": {
      "image/png": "[encoded data removed]",
      "text/plain": [
       "<Figure size 432x288 with 1 Axes>"
      ]
     },
     "metadata": {
      "needs_background": "light"
     },
     "output_type": "display_data"
    }
   ],
   "source": [
    "x = np.linspace( 0, 1, 3 ) \n",
    "print( \"x:\\t\\t\" + str( x ) )\n",
    "\n",
    "y = np.linspace( -2, 0, 5 )\n",
    "print( \"y:\\t\\t\" + str( y ) )\n",
    "\n",
    "xx, yy = np.meshgrid( x, y )\n",
    "\n",
    "plt.imshow( xx**2 - yy**2, interpolation=\"none\")"
   ]
  },
  {
   "cell_type": "code",
   "execution_count": 375,
   "metadata": {
    "ExecuteTime": {
     "end_time": "2020-12-16T15:09:27.651288Z",
     "start_time": "2020-12-16T15:09:27.135165Z"
    }
   },
   "outputs": [
    {
     "data": {
      "text/plain": [
       "<matplotlib.image.AxesImage at 0x7fa516a38828>"
      ]
     },
     "execution_count": 375,
     "metadata": {},
     "output_type": "execute_result"
    },
    {
     "data": {
      "image/png": "[encoded data removed]",
      "text/plain": [
       "<Figure size 432x288 with 1 Axes>"
      ]
     },
     "metadata": {
      "needs_background": "light"
     },
     "output_type": "display_data"
    }
   ],
   "source": [
    "xx,yy = np.meshgrid( \n",
    "    np.linspace( -2*np.pi, 2*np.pi, 1000 ),\n",
    "    np.linspace( -2*np.pi, 2*np.pi, 1000 ) )\n",
    "\n",
    "plt.imshow( \n",
    "    np.sin( xx ) + np.sin( yy ), \n",
    "    interpolation=\"none\",\n",
    "    extent=[ -2*np.pi, 2*np.pi, -2*np.pi, 2*np.pi]\n",
    ")"
   ]
  },
  {
   "cell_type": "markdown",
   "metadata": {},
   "source": [
    "## Pandas"
   ]
  },
  {
   "cell_type": "code",
   "execution_count": 376,
   "metadata": {
    "ExecuteTime": {
     "end_time": "2020-12-16T15:11:40.779741Z",
     "start_time": "2020-12-16T15:11:40.306765Z"
    }
   },
   "outputs": [],
   "source": [
    "import pandas as pd"
   ]
  },
  {
   "cell_type": "markdown",
   "metadata": {},
   "source": [
    "### Series"
   ]
  },
  {
   "cell_type": "code",
   "execution_count": 395,
   "metadata": {
    "ExecuteTime": {
     "end_time": "2020-12-16T15:16:22.020518Z",
     "start_time": "2020-12-16T15:16:22.013174Z"
    }
   },
   "outputs": [
    {
     "name": "stdout",
     "output_type": "stream",
     "text": [
      "CDU      10\n",
      "SPD      55\n",
      "Grüne    20\n",
      "FDP      12\n",
      "dtype: object\n",
      "\n",
      "\n",
      "CDU      10\n",
      "SPD      55\n",
      "Grüne    20\n",
      "FDP      12\n",
      "dtype: int64\n"
     ]
    }
   ],
   "source": [
    "a = pd.Series( [ 10, 55, 20, 12 ], dtype='object' )\n",
    "a.index = [ 'CDU', 'SPD', 'Grüne', 'FDP']\n",
    "print( a )\n",
    "print( \"\\n\" )\n",
    "b = pd.Series( [ 10, 55, 20, 12 ], index=[ 'CDU', 'SPD', 'Grüne', 'FDP'] )\n",
    "print( b )"
   ]
  },
  {
   "cell_type": "markdown",
   "metadata": {},
   "source": [
    "### plot"
   ]
  },
  {
   "cell_type": "code",
   "execution_count": 400,
   "metadata": {
    "ExecuteTime": {
     "end_time": "2020-12-16T15:17:38.637213Z",
     "start_time": "2020-12-16T15:17:38.441974Z"
    }
   },
   "outputs": [
    {
     "data": {
      "text/plain": [
       "<AxesSubplot:ylabel='None'>"
      ]
     },
     "execution_count": 400,
     "metadata": {},
     "output_type": "execute_result"
    },
    {
     "data": {
      "image/png": "[encoded data removed]",
      "text/plain": [
       "<Figure size 432x288 with 1 Axes>"
      ]
     },
     "metadata": {},
     "output_type": "display_data"
    }
   ],
   "source": [
    "a.plot( kind='pie' )"
   ]
  },
  {
   "cell_type": "markdown",
   "metadata": {},
   "source": [
    "### Dataframe"
   ]
  },
  {
   "cell_type": "code",
   "execution_count": 406,
   "metadata": {
    "ExecuteTime": {
     "end_time": "2020-12-16T15:29:13.182619Z",
     "start_time": "2020-12-16T15:29:13.170316Z"
    }
   },
   "outputs": [
    {
     "data": {
      "text/html": [
       "<div>\n",
       "<style scoped>\n",
       "    .dataframe tbody tr th:only-of-type {\n",
       "        vertical-align: middle;\n",
       "    }\n",
       "\n",
       "    .dataframe tbody tr th {\n",
       "        vertical-align: top;\n",
       "    }\n",
       "\n",
       "    .dataframe thead th {\n",
       "        text-align: right;\n",
       "    }\n",
       "</style>\n",
       "<table border=\"1\" class=\"dataframe\">\n",
       "  <thead>\n",
       "    <tr style=\"text-align: right;\">\n",
       "      <th></th>\n",
       "      <th>Note</th>\n",
       "      <th>Stg</th>\n",
       "      <th>Erstversuch</th>\n",
       "    </tr>\n",
       "  </thead>\n",
       "  <tbody>\n",
       "    <tr>\n",
       "      <th>0</th>\n",
       "      <td>1.3</td>\n",
       "      <td>BWL</td>\n",
       "      <td>True</td>\n",
       "    </tr>\n",
       "    <tr>\n",
       "      <th>1</th>\n",
       "      <td>2.0</td>\n",
       "      <td>Inf</td>\n",
       "      <td>False</td>\n",
       "    </tr>\n",
       "    <tr>\n",
       "      <th>2</th>\n",
       "      <td>1.7</td>\n",
       "      <td>Inf</td>\n",
       "      <td>True</td>\n",
       "    </tr>\n",
       "    <tr>\n",
       "      <th>3</th>\n",
       "      <td>2.7</td>\n",
       "      <td>MAB</td>\n",
       "      <td>False</td>\n",
       "    </tr>\n",
       "  </tbody>\n",
       "</table>\n",
       "</div>"
      ],
      "text/plain": [
       "   Note  Stg  Erstversuch\n",
       "0   1.3  BWL         True\n",
       "1   2.0  Inf        False\n",
       "2   1.7  Inf         True\n",
       "3   2.7  MAB        False"
      ]
     },
     "execution_count": 406,
     "metadata": {},
     "output_type": "execute_result"
    }
   ],
   "source": [
    "studis = pd.DataFrame( {\n",
    "    'Note': [ 1.3, 2.0, 1.7, 2.7 ],\n",
    "    'Stg': [ 'BWL', 'Inf', 'Inf', 'MAB'],\n",
    "    'Erstversuch': [ True, False, True, False ]\n",
    "} )\n",
    "studis"
   ]
  },
  {
   "cell_type": "code",
   "execution_count": 410,
   "metadata": {
    "ExecuteTime": {
     "end_time": "2020-12-16T15:30:11.871175Z",
     "start_time": "2020-12-16T15:30:11.858484Z"
    }
   },
   "outputs": [
    {
     "data": {
      "text/html": [
       "<div>\n",
       "<style scoped>\n",
       "    .dataframe tbody tr th:only-of-type {\n",
       "        vertical-align: middle;\n",
       "    }\n",
       "\n",
       "    .dataframe tbody tr th {\n",
       "        vertical-align: top;\n",
       "    }\n",
       "\n",
       "    .dataframe thead th {\n",
       "        text-align: right;\n",
       "    }\n",
       "</style>\n",
       "<table border=\"1\" class=\"dataframe\">\n",
       "  <thead>\n",
       "    <tr style=\"text-align: right;\">\n",
       "      <th></th>\n",
       "      <th>Note</th>\n",
       "      <th>Stg</th>\n",
       "      <th>Erstversuch</th>\n",
       "    </tr>\n",
       "    <tr>\n",
       "      <th>ID</th>\n",
       "      <th></th>\n",
       "      <th></th>\n",
       "      <th></th>\n",
       "    </tr>\n",
       "  </thead>\n",
       "  <tbody>\n",
       "    <tr>\n",
       "      <th>0</th>\n",
       "      <td>1.3</td>\n",
       "      <td>BWL</td>\n",
       "      <td>True</td>\n",
       "    </tr>\n",
       "    <tr>\n",
       "      <th>1</th>\n",
       "      <td>2.0</td>\n",
       "      <td>Inf</td>\n",
       "      <td>False</td>\n",
       "    </tr>\n",
       "    <tr>\n",
       "      <th>2</th>\n",
       "      <td>1.7</td>\n",
       "      <td>Inf</td>\n",
       "      <td>True</td>\n",
       "    </tr>\n",
       "    <tr>\n",
       "      <th>3</th>\n",
       "      <td>2.7</td>\n",
       "      <td>MAB</td>\n",
       "      <td>False</td>\n",
       "    </tr>\n",
       "  </tbody>\n",
       "</table>\n",
       "</div>"
      ],
      "text/plain": [
       "    Note  Stg  Erstversuch\n",
       "ID                        \n",
       "0    1.3  BWL         True\n",
       "1    2.0  Inf        False\n",
       "2    1.7  Inf         True\n",
       "3    2.7  MAB        False"
      ]
     },
     "execution_count": 410,
     "metadata": {},
     "output_type": "execute_result"
    }
   ],
   "source": [
    "studis.index.name = 'ID'\n",
    "studis"
   ]
  },
  {
   "cell_type": "code",
   "execution_count": 412,
   "metadata": {
    "ExecuteTime": {
     "end_time": "2020-12-16T15:30:47.220997Z",
     "start_time": "2020-12-16T15:30:47.206944Z"
    }
   },
   "outputs": [
    {
     "data": {
      "text/html": [
       "<div>\n",
       "<style scoped>\n",
       "    .dataframe tbody tr th:only-of-type {\n",
       "        vertical-align: middle;\n",
       "    }\n",
       "\n",
       "    .dataframe tbody tr th {\n",
       "        vertical-align: top;\n",
       "    }\n",
       "\n",
       "    .dataframe thead th {\n",
       "        text-align: right;\n",
       "    }\n",
       "</style>\n",
       "<table border=\"1\" class=\"dataframe\">\n",
       "  <thead>\n",
       "    <tr style=\"text-align: right;\">\n",
       "      <th>Eigenschaften</th>\n",
       "      <th>Note</th>\n",
       "      <th>Stg</th>\n",
       "      <th>Erstversuch</th>\n",
       "    </tr>\n",
       "    <tr>\n",
       "      <th>ID</th>\n",
       "      <th></th>\n",
       "      <th></th>\n",
       "      <th></th>\n",
       "    </tr>\n",
       "  </thead>\n",
       "  <tbody>\n",
       "    <tr>\n",
       "      <th>0</th>\n",
       "      <td>1.3</td>\n",
       "      <td>BWL</td>\n",
       "      <td>True</td>\n",
       "    </tr>\n",
       "    <tr>\n",
       "      <th>1</th>\n",
       "      <td>2.0</td>\n",
       "      <td>Inf</td>\n",
       "      <td>False</td>\n",
       "    </tr>\n",
       "    <tr>\n",
       "      <th>2</th>\n",
       "      <td>1.7</td>\n",
       "      <td>Inf</td>\n",
       "      <td>True</td>\n",
       "    </tr>\n",
       "    <tr>\n",
       "      <th>3</th>\n",
       "      <td>2.7</td>\n",
       "      <td>MAB</td>\n",
       "      <td>False</td>\n",
       "    </tr>\n",
       "  </tbody>\n",
       "</table>\n",
       "</div>"
      ],
      "text/plain": [
       "Eigenschaften  Note  Stg  Erstversuch\n",
       "ID                                   \n",
       "0               1.3  BWL         True\n",
       "1               2.0  Inf        False\n",
       "2               1.7  Inf         True\n",
       "3               2.7  MAB        False"
      ]
     },
     "execution_count": 412,
     "metadata": {},
     "output_type": "execute_result"
    }
   ],
   "source": [
    "studis.columns.name = 'Eigenschaften'\n",
    "studis"
   ]
  },
  {
   "cell_type": "markdown",
   "metadata": {},
   "source": [
    "#### loc"
   ]
  },
  {
   "cell_type": "code",
   "execution_count": 418,
   "metadata": {
    "ExecuteTime": {
     "end_time": "2020-12-16T15:33:07.254733Z",
     "start_time": "2020-12-16T15:33:07.246176Z"
    }
   },
   "outputs": [
    {
     "data": {
      "text/plain": [
       "ID\n",
       "0    BWL\n",
       "1    Inf\n",
       "2    Inf\n",
       "3    MAB\n",
       "Name: Stg, dtype: object"
      ]
     },
     "execution_count": 418,
     "metadata": {},
     "output_type": "execute_result"
    }
   ],
   "source": [
    "studis[ 'Stg' ]"
   ]
  },
  {
   "cell_type": "code",
   "execution_count": 417,
   "metadata": {
    "ExecuteTime": {
     "end_time": "2020-12-16T15:32:44.812145Z",
     "start_time": "2020-12-16T15:32:44.799603Z"
    }
   },
   "outputs": [
    {
     "data": {
      "text/html": [
       "<div>\n",
       "<style scoped>\n",
       "    .dataframe tbody tr th:only-of-type {\n",
       "        vertical-align: middle;\n",
       "    }\n",
       "\n",
       "    .dataframe tbody tr th {\n",
       "        vertical-align: top;\n",
       "    }\n",
       "\n",
       "    .dataframe thead th {\n",
       "        text-align: right;\n",
       "    }\n",
       "</style>\n",
       "<table border=\"1\" class=\"dataframe\">\n",
       "  <thead>\n",
       "    <tr style=\"text-align: right;\">\n",
       "      <th>Eigenschaften</th>\n",
       "      <th>Stg</th>\n",
       "      <th>Note</th>\n",
       "    </tr>\n",
       "    <tr>\n",
       "      <th>ID</th>\n",
       "      <th></th>\n",
       "      <th></th>\n",
       "    </tr>\n",
       "  </thead>\n",
       "  <tbody>\n",
       "    <tr>\n",
       "      <th>0</th>\n",
       "      <td>BWL</td>\n",
       "      <td>1.3</td>\n",
       "    </tr>\n",
       "    <tr>\n",
       "      <th>1</th>\n",
       "      <td>Inf</td>\n",
       "      <td>2.0</td>\n",
       "    </tr>\n",
       "    <tr>\n",
       "      <th>2</th>\n",
       "      <td>Inf</td>\n",
       "      <td>1.7</td>\n",
       "    </tr>\n",
       "    <tr>\n",
       "      <th>3</th>\n",
       "      <td>MAB</td>\n",
       "      <td>2.7</td>\n",
       "    </tr>\n",
       "  </tbody>\n",
       "</table>\n",
       "</div>"
      ],
      "text/plain": [
       "Eigenschaften  Stg  Note\n",
       "ID                      \n",
       "0              BWL   1.3\n",
       "1              Inf   2.0\n",
       "2              Inf   1.7\n",
       "3              MAB   2.7"
      ]
     },
     "execution_count": 417,
     "metadata": {},
     "output_type": "execute_result"
    }
   ],
   "source": [
    "studis[ ['Stg', 'Note'] ]"
   ]
  },
  {
   "cell_type": "code",
   "execution_count": 428,
   "metadata": {
    "ExecuteTime": {
     "end_time": "2020-12-16T15:34:27.820313Z",
     "start_time": "2020-12-16T15:34:27.805882Z"
    }
   },
   "outputs": [
    {
     "data": {
      "text/html": [
       "<div>\n",
       "<style scoped>\n",
       "    .dataframe tbody tr th:only-of-type {\n",
       "        vertical-align: middle;\n",
       "    }\n",
       "\n",
       "    .dataframe tbody tr th {\n",
       "        vertical-align: top;\n",
       "    }\n",
       "\n",
       "    .dataframe thead th {\n",
       "        text-align: right;\n",
       "    }\n",
       "</style>\n",
       "<table border=\"1\" class=\"dataframe\">\n",
       "  <thead>\n",
       "    <tr style=\"text-align: right;\">\n",
       "      <th>Eigenschaften</th>\n",
       "      <th>Note</th>\n",
       "      <th>Stg</th>\n",
       "      <th>Erstversuch</th>\n",
       "    </tr>\n",
       "    <tr>\n",
       "      <th>ID</th>\n",
       "      <th></th>\n",
       "      <th></th>\n",
       "      <th></th>\n",
       "    </tr>\n",
       "  </thead>\n",
       "  <tbody>\n",
       "    <tr>\n",
       "      <th>0</th>\n",
       "      <td>1.3</td>\n",
       "      <td>BWL</td>\n",
       "      <td>True</td>\n",
       "    </tr>\n",
       "    <tr>\n",
       "      <th>1</th>\n",
       "      <td>2.0</td>\n",
       "      <td>Inf</td>\n",
       "      <td>False</td>\n",
       "    </tr>\n",
       "    <tr>\n",
       "      <th>2</th>\n",
       "      <td>1.7</td>\n",
       "      <td>Inf</td>\n",
       "      <td>True</td>\n",
       "    </tr>\n",
       "  </tbody>\n",
       "</table>\n",
       "</div>"
      ],
      "text/plain": [
       "Eigenschaften  Note  Stg  Erstversuch\n",
       "ID                                   \n",
       "0               1.3  BWL         True\n",
       "1               2.0  Inf        False\n",
       "2               1.7  Inf         True"
      ]
     },
     "execution_count": 428,
     "metadata": {},
     "output_type": "execute_result"
    }
   ],
   "source": [
    "studis[ :3 ]"
   ]
  },
  {
   "cell_type": "code",
   "execution_count": 439,
   "metadata": {
    "ExecuteTime": {
     "end_time": "2020-12-16T15:38:43.802974Z",
     "start_time": "2020-12-16T15:38:43.781200Z"
    }
   },
   "outputs": [
    {
     "data": {
      "text/html": [
       "<div>\n",
       "<style scoped>\n",
       "    .dataframe tbody tr th:only-of-type {\n",
       "        vertical-align: middle;\n",
       "    }\n",
       "\n",
       "    .dataframe tbody tr th {\n",
       "        vertical-align: top;\n",
       "    }\n",
       "\n",
       "    .dataframe thead th {\n",
       "        text-align: right;\n",
       "    }\n",
       "</style>\n",
       "<table border=\"1\" class=\"dataframe\">\n",
       "  <thead>\n",
       "    <tr style=\"text-align: right;\">\n",
       "      <th>Eigenschaften</th>\n",
       "      <th>Note</th>\n",
       "      <th>Stg</th>\n",
       "      <th>Erstversuch</th>\n",
       "    </tr>\n",
       "    <tr>\n",
       "      <th>ID</th>\n",
       "      <th></th>\n",
       "      <th></th>\n",
       "      <th></th>\n",
       "    </tr>\n",
       "  </thead>\n",
       "  <tbody>\n",
       "    <tr>\n",
       "      <th>2</th>\n",
       "      <td>1.7</td>\n",
       "      <td>Inf</td>\n",
       "      <td>True</td>\n",
       "    </tr>\n",
       "  </tbody>\n",
       "</table>\n",
       "</div>"
      ],
      "text/plain": [
       "Eigenschaften  Note  Stg  Erstversuch\n",
       "ID                                   \n",
       "2               1.7  Inf         True"
      ]
     },
     "execution_count": 439,
     "metadata": {},
     "output_type": "execute_result"
    }
   ],
   "source": [
    "studis[ ( studis.Note > 1.4 ) & ( studis.Note < 2.0 ) ]"
   ]
  },
  {
   "cell_type": "code",
   "execution_count": 438,
   "metadata": {
    "ExecuteTime": {
     "end_time": "2020-12-16T15:37:55.557283Z",
     "start_time": "2020-12-16T15:37:55.544938Z"
    }
   },
   "outputs": [
    {
     "data": {
      "text/plain": [
       "ID\n",
       "0    1.3\n",
       "1    2.0\n",
       "2    1.7\n",
       "Name: Note, dtype: float64"
      ]
     },
     "execution_count": 438,
     "metadata": {},
     "output_type": "execute_result"
    }
   ],
   "source": [
    "studis.loc[ :2, \"Note\" ]"
   ]
  },
  {
   "cell_type": "markdown",
   "metadata": {},
   "source": [
    "#### loc"
   ]
  },
  {
   "cell_type": "code",
   "execution_count": 451,
   "metadata": {
    "ExecuteTime": {
     "end_time": "2020-12-16T15:42:52.518806Z",
     "start_time": "2020-12-16T15:42:52.500791Z"
    }
   },
   "outputs": [
    {
     "data": {
      "text/html": [
       "<div>\n",
       "<style scoped>\n",
       "    .dataframe tbody tr th:only-of-type {\n",
       "        vertical-align: middle;\n",
       "    }\n",
       "\n",
       "    .dataframe tbody tr th {\n",
       "        vertical-align: top;\n",
       "    }\n",
       "\n",
       "    .dataframe thead th {\n",
       "        text-align: right;\n",
       "    }\n",
       "</style>\n",
       "<table border=\"1\" class=\"dataframe\">\n",
       "  <thead>\n",
       "    <tr style=\"text-align: right;\">\n",
       "      <th></th>\n",
       "      <th>Note</th>\n",
       "      <th>Stg</th>\n",
       "      <th>Erstversuch</th>\n",
       "    </tr>\n",
       "  </thead>\n",
       "  <tbody>\n",
       "    <tr>\n",
       "      <th>A</th>\n",
       "      <td>1.3</td>\n",
       "      <td>BWL</td>\n",
       "      <td>True</td>\n",
       "    </tr>\n",
       "    <tr>\n",
       "      <th>C</th>\n",
       "      <td>1.7</td>\n",
       "      <td>Inf</td>\n",
       "      <td>True</td>\n",
       "    </tr>\n",
       "  </tbody>\n",
       "</table>\n",
       "</div>"
      ],
      "text/plain": [
       "   Note  Stg  Erstversuch\n",
       "A   1.3  BWL         True\n",
       "C   1.7  Inf         True"
      ]
     },
     "execution_count": 451,
     "metadata": {},
     "output_type": "execute_result"
    }
   ],
   "source": [
    "studis2 = pd.DataFrame( {\n",
    "    'Note': [ 1.3, 2.0, 1.7, 2.7 ],\n",
    "    'Stg': [ 'BWL', 'Inf', 'Inf', 'MAB'],\n",
    "    'Erstversuch': [ True, False, True, False ]\n",
    "} )\n",
    "studis2.index = [ 'A', 'B', 'C', 'D' ]\n",
    "studis2.loc[ [ 'A', 'C' ] ]"
   ]
  },
  {
   "cell_type": "markdown",
   "metadata": {
    "ExecuteTime": {
     "end_time": "2020-12-16T15:41:42.490695Z",
     "start_time": "2020-12-16T15:41:42.467488Z"
    }
   },
   "source": [
    "### iloc"
   ]
  },
  {
   "cell_type": "code",
   "execution_count": 457,
   "metadata": {
    "ExecuteTime": {
     "end_time": "2020-12-16T15:44:29.696196Z",
     "start_time": "2020-12-16T15:44:29.683938Z"
    }
   },
   "outputs": [
    {
     "data": {
      "text/html": [
       "<div>\n",
       "<style scoped>\n",
       "    .dataframe tbody tr th:only-of-type {\n",
       "        vertical-align: middle;\n",
       "    }\n",
       "\n",
       "    .dataframe tbody tr th {\n",
       "        vertical-align: top;\n",
       "    }\n",
       "\n",
       "    .dataframe thead th {\n",
       "        text-align: right;\n",
       "    }\n",
       "</style>\n",
       "<table border=\"1\" class=\"dataframe\">\n",
       "  <thead>\n",
       "    <tr style=\"text-align: right;\">\n",
       "      <th></th>\n",
       "      <th>Note</th>\n",
       "      <th>Stg</th>\n",
       "      <th>Erstversuch</th>\n",
       "    </tr>\n",
       "  </thead>\n",
       "  <tbody>\n",
       "    <tr>\n",
       "      <th>A</th>\n",
       "      <td>1.3</td>\n",
       "      <td>BWL</td>\n",
       "      <td>True</td>\n",
       "    </tr>\n",
       "    <tr>\n",
       "      <th>B</th>\n",
       "      <td>2.0</td>\n",
       "      <td>Inf</td>\n",
       "      <td>False</td>\n",
       "    </tr>\n",
       "    <tr>\n",
       "      <th>C</th>\n",
       "      <td>1.7</td>\n",
       "      <td>Inf</td>\n",
       "      <td>True</td>\n",
       "    </tr>\n",
       "    <tr>\n",
       "      <th>D</th>\n",
       "      <td>2.7</td>\n",
       "      <td>MAB</td>\n",
       "      <td>False</td>\n",
       "    </tr>\n",
       "  </tbody>\n",
       "</table>\n",
       "</div>"
      ],
      "text/plain": [
       "   Note  Stg  Erstversuch\n",
       "A   1.3  BWL         True\n",
       "B   2.0  Inf        False\n",
       "C   1.7  Inf         True\n",
       "D   2.7  MAB        False"
      ]
     },
     "execution_count": 457,
     "metadata": {},
     "output_type": "execute_result"
    }
   ],
   "source": [
    "studis2"
   ]
  },
  {
   "cell_type": "code",
   "execution_count": 465,
   "metadata": {
    "ExecuteTime": {
     "end_time": "2020-12-16T15:45:53.353372Z",
     "start_time": "2020-12-16T15:45:53.344818Z"
    }
   },
   "outputs": [
    {
     "data": {
      "text/plain": [
       "'Inf'"
      ]
     },
     "execution_count": 465,
     "metadata": {},
     "output_type": "execute_result"
    }
   ],
   "source": [
    "studis2.iloc[ 1, 1 ]"
   ]
  },
  {
   "cell_type": "code",
   "execution_count": 480,
   "metadata": {
    "ExecuteTime": {
     "end_time": "2020-12-16T15:51:46.409849Z",
     "start_time": "2020-12-16T15:51:46.171802Z"
    }
   },
   "outputs": [
    {
     "name": "stdout",
     "output_type": "stream",
     "text": [
      "10100--introduction-r.ipynb  ws-2015-2016.ipynb\r\n",
      "10100--python-101.ipynb      ws-2016-2017.ipynb\r\n",
      "studienbriefe.ipynb          ws-2020-2021.ipynb\r\n"
     ]
    }
   ],
   "source": [
    "ls"
   ]
  },
  {
   "cell_type": "markdown",
   "metadata": {
    "ExecuteTime": {
     "end_time": "2020-12-16T15:47:36.145703Z",
     "start_time": "2020-12-16T15:47:36.142311Z"
    }
   },
   "source": [
    "### read_csv"
   ]
  },
  {
   "cell_type": "code",
   "execution_count": 482,
   "metadata": {
    "ExecuteTime": {
     "end_time": "2020-12-16T15:52:15.508082Z",
     "start_time": "2020-12-16T15:52:15.460522Z"
    }
   },
   "outputs": [
    {
     "ename": "ParserError",
     "evalue": "Error tokenizing data. C error: Expected 1 fields in line 5, saw 62\n",
     "output_type": "error",
     "traceback": [
      "\u001b[0;31m---------------------------------------------------------------------------\u001b[0m",
      "\u001b[0;31mParserError\u001b[0m                               Traceback (most recent call last)",
      "\u001b[0;32m<ipython-input-482-3c621ad98f86>\u001b[0m in \u001b[0;36m<module>\u001b[0;34m\u001b[0m\n\u001b[1;32m      1\u001b[0m \u001b[0mpath\u001b[0m \u001b[0;34m=\u001b[0m \u001b[0;34m\"./../../sources/death-rate--all.csv\"\u001b[0m\u001b[0;34m\u001b[0m\u001b[0;34m\u001b[0m\u001b[0m\n\u001b[0;32m----> 2\u001b[0;31m \u001b[0mpd\u001b[0m\u001b[0;34m.\u001b[0m\u001b[0mread_csv\u001b[0m\u001b[0;34m(\u001b[0m \u001b[0mpath\u001b[0m \u001b[0;34m)\u001b[0m\u001b[0;34m\u001b[0m\u001b[0;34m\u001b[0m\u001b[0m\n\u001b[0m",
      "\u001b[0;32m~/anaconda3/envs/data-science/lib/python3.6/site-packages/pandas/io/parsers.py\u001b[0m in \u001b[0;36mread_csv\u001b[0;34m(filepath_or_buffer, sep, delimiter, header, names, index_col, usecols, squeeze, prefix, mangle_dupe_cols, dtype, engine, converters, true_values, false_values, skipinitialspace, skiprows, skipfooter, nrows, na_values, keep_default_na, na_filter, verbose, skip_blank_lines, parse_dates, infer_datetime_format, keep_date_col, date_parser, dayfirst, cache_dates, iterator, chunksize, compression, thousands, decimal, lineterminator, quotechar, quoting, doublequote, escapechar, comment, encoding, dialect, error_bad_lines, warn_bad_lines, delim_whitespace, low_memory, memory_map, float_precision)\u001b[0m\n\u001b[1;32m    686\u001b[0m     )\n\u001b[1;32m    687\u001b[0m \u001b[0;34m\u001b[0m\u001b[0m\n\u001b[0;32m--> 688\u001b[0;31m     \u001b[0;32mreturn\u001b[0m \u001b[0m_read\u001b[0m\u001b[0;34m(\u001b[0m\u001b[0mfilepath_or_buffer\u001b[0m\u001b[0;34m,\u001b[0m \u001b[0mkwds\u001b[0m\u001b[0;34m)\u001b[0m\u001b[0;34m\u001b[0m\u001b[0;34m\u001b[0m\u001b[0m\n\u001b[0m\u001b[1;32m    689\u001b[0m \u001b[0;34m\u001b[0m\u001b[0m\n\u001b[1;32m    690\u001b[0m \u001b[0;34m\u001b[0m\u001b[0m\n",
      "\u001b[0;32m~/anaconda3/envs/data-science/lib/python3.6/site-packages/pandas/io/parsers.py\u001b[0m in \u001b[0;36m_read\u001b[0;34m(filepath_or_buffer, kwds)\u001b[0m\n\u001b[1;32m    458\u001b[0m \u001b[0;34m\u001b[0m\u001b[0m\n\u001b[1;32m    459\u001b[0m     \u001b[0;32mtry\u001b[0m\u001b[0;34m:\u001b[0m\u001b[0;34m\u001b[0m\u001b[0;34m\u001b[0m\u001b[0m\n\u001b[0;32m--> 460\u001b[0;31m         \u001b[0mdata\u001b[0m \u001b[0;34m=\u001b[0m \u001b[0mparser\u001b[0m\u001b[0;34m.\u001b[0m\u001b[0mread\u001b[0m\u001b[0;34m(\u001b[0m\u001b[0mnrows\u001b[0m\u001b[0;34m)\u001b[0m\u001b[0;34m\u001b[0m\u001b[0;34m\u001b[0m\u001b[0m\n\u001b[0m\u001b[1;32m    461\u001b[0m     \u001b[0;32mfinally\u001b[0m\u001b[0;34m:\u001b[0m\u001b[0;34m\u001b[0m\u001b[0;34m\u001b[0m\u001b[0m\n\u001b[1;32m    462\u001b[0m         \u001b[0mparser\u001b[0m\u001b[0;34m.\u001b[0m\u001b[0mclose\u001b[0m\u001b[0;34m(\u001b[0m\u001b[0;34m)\u001b[0m\u001b[0;34m\u001b[0m\u001b[0;34m\u001b[0m\u001b[0m\n",
      "\u001b[0;32m~/anaconda3/envs/data-science/lib/python3.6/site-packages/pandas/io/parsers.py\u001b[0m in \u001b[0;36mread\u001b[0;34m(self, nrows)\u001b[0m\n\u001b[1;32m   1196\u001b[0m     \u001b[0;32mdef\u001b[0m \u001b[0mread\u001b[0m\u001b[0;34m(\u001b[0m\u001b[0mself\u001b[0m\u001b[0;34m,\u001b[0m \u001b[0mnrows\u001b[0m\u001b[0;34m=\u001b[0m\u001b[0;32mNone\u001b[0m\u001b[0;34m)\u001b[0m\u001b[0;34m:\u001b[0m\u001b[0;34m\u001b[0m\u001b[0;34m\u001b[0m\u001b[0m\n\u001b[1;32m   1197\u001b[0m         \u001b[0mnrows\u001b[0m \u001b[0;34m=\u001b[0m \u001b[0m_validate_integer\u001b[0m\u001b[0;34m(\u001b[0m\u001b[0;34m\"nrows\"\u001b[0m\u001b[0;34m,\u001b[0m \u001b[0mnrows\u001b[0m\u001b[0;34m)\u001b[0m\u001b[0;34m\u001b[0m\u001b[0;34m\u001b[0m\u001b[0m\n\u001b[0;32m-> 1198\u001b[0;31m         \u001b[0mret\u001b[0m \u001b[0;34m=\u001b[0m \u001b[0mself\u001b[0m\u001b[0;34m.\u001b[0m\u001b[0m_engine\u001b[0m\u001b[0;34m.\u001b[0m\u001b[0mread\u001b[0m\u001b[0;34m(\u001b[0m\u001b[0mnrows\u001b[0m\u001b[0;34m)\u001b[0m\u001b[0;34m\u001b[0m\u001b[0;34m\u001b[0m\u001b[0m\n\u001b[0m\u001b[1;32m   1199\u001b[0m \u001b[0;34m\u001b[0m\u001b[0m\n\u001b[1;32m   1200\u001b[0m         \u001b[0;31m# May alter columns / col_dict\u001b[0m\u001b[0;34m\u001b[0m\u001b[0;34m\u001b[0m\u001b[0;34m\u001b[0m\u001b[0m\n",
      "\u001b[0;32m~/anaconda3/envs/data-science/lib/python3.6/site-packages/pandas/io/parsers.py\u001b[0m in \u001b[0;36mread\u001b[0;34m(self, nrows)\u001b[0m\n\u001b[1;32m   2155\u001b[0m     \u001b[0;32mdef\u001b[0m \u001b[0mread\u001b[0m\u001b[0;34m(\u001b[0m\u001b[0mself\u001b[0m\u001b[0;34m,\u001b[0m \u001b[0mnrows\u001b[0m\u001b[0;34m=\u001b[0m\u001b[0;32mNone\u001b[0m\u001b[0;34m)\u001b[0m\u001b[0;34m:\u001b[0m\u001b[0;34m\u001b[0m\u001b[0;34m\u001b[0m\u001b[0m\n\u001b[1;32m   2156\u001b[0m         \u001b[0;32mtry\u001b[0m\u001b[0;34m:\u001b[0m\u001b[0;34m\u001b[0m\u001b[0;34m\u001b[0m\u001b[0m\n\u001b[0;32m-> 2157\u001b[0;31m             \u001b[0mdata\u001b[0m \u001b[0;34m=\u001b[0m \u001b[0mself\u001b[0m\u001b[0;34m.\u001b[0m\u001b[0m_reader\u001b[0m\u001b[0;34m.\u001b[0m\u001b[0mread\u001b[0m\u001b[0;34m(\u001b[0m\u001b[0mnrows\u001b[0m\u001b[0;34m)\u001b[0m\u001b[0;34m\u001b[0m\u001b[0;34m\u001b[0m\u001b[0m\n\u001b[0m\u001b[1;32m   2158\u001b[0m         \u001b[0;32mexcept\u001b[0m \u001b[0mStopIteration\u001b[0m\u001b[0;34m:\u001b[0m\u001b[0;34m\u001b[0m\u001b[0;34m\u001b[0m\u001b[0m\n\u001b[1;32m   2159\u001b[0m             \u001b[0;32mif\u001b[0m \u001b[0mself\u001b[0m\u001b[0;34m.\u001b[0m\u001b[0m_first_chunk\u001b[0m\u001b[0;34m:\u001b[0m\u001b[0;34m\u001b[0m\u001b[0;34m\u001b[0m\u001b[0m\n",
      "\u001b[0;32mpandas/_libs/parsers.pyx\u001b[0m in \u001b[0;36mpandas._libs.parsers.TextReader.read\u001b[0;34m()\u001b[0m\n",
      "\u001b[0;32mpandas/_libs/parsers.pyx\u001b[0m in \u001b[0;36mpandas._libs.parsers.TextReader._read_low_memory\u001b[0;34m()\u001b[0m\n",
      "\u001b[0;32mpandas/_libs/parsers.pyx\u001b[0m in \u001b[0;36mpandas._libs.parsers.TextReader._read_rows\u001b[0;34m()\u001b[0m\n",
      "\u001b[0;32mpandas/_libs/parsers.pyx\u001b[0m in \u001b[0;36mpandas._libs.parsers.TextReader._tokenize_rows\u001b[0;34m()\u001b[0m\n",
      "\u001b[0;32mpandas/_libs/parsers.pyx\u001b[0m in \u001b[0;36mpandas._libs.parsers.raise_parser_error\u001b[0;34m()\u001b[0m\n",
      "\u001b[0;31mParserError\u001b[0m: Error tokenizing data. C error: Expected 1 fields in line 5, saw 62\n"
     ]
    }
   ],
   "source": [
    "path = \"./../../sources/death-rate--all.csv\"\n",
    "pd.read_csv( path )"
   ]
  },
  {
   "cell_type": "code",
   "execution_count": null,
   "metadata": {},
   "outputs": [],
   "source": []
  }
 ],
 "metadata": {
  "kernelspec": {
   "display_name": "Python 3",
   "language": "python",
   "name": "python3"
  },
  "language_info": {
   "codemirror_mode": {
    "name": "ipython",
    "version": 3
   },
   "file_extension": ".py",
   "mimetype": "text/x-python",
   "name": "python",
   "nbconvert_exporter": "python",
   "pygments_lexer": "ipython3",
   "version": "3.6.10"
  },
  "toc": {
   "base_numbering": 1,
   "nav_menu": {},
   "number_sections": true,
   "sideBar": true,
   "skip_h1_title": false,
   "title_cell": "Table of Contents",
   "title_sidebar": "Contents",
   "toc_cell": false,
   "toc_position": {},
   "toc_section_display": true,
   "toc_window_display": true
  }
 },
 "nbformat": 4,
 "nbformat_minor": 4
}
