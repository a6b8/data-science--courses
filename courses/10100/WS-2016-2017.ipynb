{
 "cells": [
  {
   "cell_type": "markdown",
   "metadata": {},
   "source": [
    "# WS 2016-2017"
   ]
  },
  {
   "cell_type": "markdown",
   "metadata": {},
   "source": [
    "## Aufgabe 1"
   ]
  },
  {
   "cell_type": "markdown",
   "metadata": {},
   "source": [
    "### (a)"
   ]
  },
  {
   "cell_type": "code",
   "execution_count": 2,
   "metadata": {
    "ExecuteTime": {
     "end_time": "2020-12-14T14:15:07.077912Z",
     "start_time": "2020-12-14T14:15:07.070164Z"
    }
   },
   "outputs": [
    {
     "name": "stdout",
     "output_type": "stream",
     "text": [
      "Result:\t\t['o', 't', '!']\n"
     ]
    }
   ],
   "source": [
    "r = [ x[ -1 ] for x in [ \"Hallo\", \"Welt\", \"!\" ] ]\n",
    "print( \"Result:\\t\\t\" + str( r ) )"
   ]
  },
  {
   "cell_type": "markdown",
   "metadata": {},
   "source": [
    "### (b)"
   ]
  },
  {
   "cell_type": "code",
   "execution_count": 4,
   "metadata": {
    "ExecuteTime": {
     "end_time": "2020-12-14T14:16:43.539008Z",
     "start_time": "2020-12-14T14:16:43.532323Z"
    }
   },
   "outputs": [
    {
     "name": "stdout",
     "output_type": "stream",
     "text": [
      "Result:\t\t['ollaH', 'tleW', '!']\n"
     ]
    }
   ],
   "source": [
    "r = map( lambda x: x[::-1], [ \"Hallo\", \"Welt\", \"!\" ] )\n",
    "print( \"Result:\\t\\t\" + str( list( r ) ) )"
   ]
  },
  {
   "cell_type": "markdown",
   "metadata": {},
   "source": [
    "### (c)"
   ]
  },
  {
   "cell_type": "code",
   "execution_count": 6,
   "metadata": {
    "ExecuteTime": {
     "end_time": "2020-12-14T14:17:12.047559Z",
     "start_time": "2020-12-14T14:17:12.041480Z"
    }
   },
   "outputs": [
    {
     "name": "stdout",
     "output_type": "stream",
     "text": [
      "Result:\t\t[[0]]\n"
     ]
    }
   ],
   "source": [
    "r = [[[0]]][ 0 ]\n",
    "print( \"Result:\\t\\t\" + str( r ) )"
   ]
  },
  {
   "cell_type": "markdown",
   "metadata": {},
   "source": [
    "### (d)"
   ]
  },
  {
   "cell_type": "code",
   "execution_count": 15,
   "metadata": {
    "ExecuteTime": {
     "end_time": "2020-12-14T14:18:30.626997Z",
     "start_time": "2020-12-14T14:18:30.611215Z"
    }
   },
   "outputs": [
    {
     "name": "stdout",
     "output_type": "stream",
     "text": [
      "Result:\t\thallo\n"
     ]
    }
   ],
   "source": [
    "r = 'hallo\\n'[:-1]\n",
    "print( \"Result:\\t\\t\" + str( r ) )"
   ]
  },
  {
   "cell_type": "markdown",
   "metadata": {
    "ExecuteTime": {
     "end_time": "2020-12-14T14:18:39.935136Z",
     "start_time": "2020-12-14T14:18:39.929508Z"
    }
   },
   "source": [
    "### (e)"
   ]
  },
  {
   "cell_type": "code",
   "execution_count": 33,
   "metadata": {
    "ExecuteTime": {
     "end_time": "2020-12-14T14:23:15.469055Z",
     "start_time": "2020-12-14T14:23:15.452165Z"
    }
   },
   "outputs": [
    {
     "name": "stdout",
     "output_type": "stream",
     "text": [
      "Result:\t\t['a', 'b', 'c']\n",
      "Result (list):\t[['a', 'b', 'c'], ['d', 'e', 'f']]\n",
      "Result (list):\te\n"
     ]
    },
    {
     "ename": "TypeError",
     "evalue": "'map' object is not subscriptable",
     "output_type": "error",
     "traceback": [
      "\u001b[0;31m---------------------------------------------------------------------------\u001b[0m",
      "\u001b[0;31mTypeError\u001b[0m                                 Traceback (most recent call last)",
      "\u001b[0;32m<ipython-input-33-d5e897e966d5>\u001b[0m in \u001b[0;36m<module>\u001b[0;34m\u001b[0m\n\u001b[1;32m      8\u001b[0m \u001b[0mprint\u001b[0m\u001b[0;34m(\u001b[0m \u001b[0;34m\"Result (list):\\t\"\u001b[0m \u001b[0;34m+\u001b[0m \u001b[0mstr\u001b[0m\u001b[0;34m(\u001b[0m \u001b[0mr\u001b[0m \u001b[0;34m)\u001b[0m \u001b[0;34m)\u001b[0m\u001b[0;34m\u001b[0m\u001b[0;34m\u001b[0m\u001b[0m\n\u001b[1;32m      9\u001b[0m \u001b[0;34m\u001b[0m\u001b[0m\n\u001b[0;32m---> 10\u001b[0;31m \u001b[0mr\u001b[0m \u001b[0;34m=\u001b[0m\u001b[0mmap\u001b[0m\u001b[0;34m(\u001b[0m \u001b[0mlist\u001b[0m\u001b[0;34m,\u001b[0m \u001b[0;34m[\u001b[0m \u001b[0;34m\"abc\"\u001b[0m\u001b[0;34m,\u001b[0m \u001b[0;34m\"def\"\u001b[0m \u001b[0;34m]\u001b[0m \u001b[0;34m)\u001b[0m\u001b[0;34m[\u001b[0m \u001b[0;36m1\u001b[0m \u001b[0;34m]\u001b[0m\u001b[0;34m[\u001b[0m \u001b[0;36m1\u001b[0m \u001b[0;34m]\u001b[0m\u001b[0;34m\u001b[0m\u001b[0;34m\u001b[0m\u001b[0m\n\u001b[0m\u001b[1;32m     11\u001b[0m \u001b[0mprint\u001b[0m\u001b[0;34m(\u001b[0m \u001b[0;34m\"Result (list):\\t\"\u001b[0m \u001b[0;34m+\u001b[0m \u001b[0mstr\u001b[0m\u001b[0;34m(\u001b[0m \u001b[0mlist\u001b[0m\u001b[0;34m(\u001b[0m \u001b[0mr\u001b[0m \u001b[0;34m)\u001b[0m \u001b[0;34m)\u001b[0m \u001b[0;34m)\u001b[0m\u001b[0;34m\u001b[0m\u001b[0;34m\u001b[0m\u001b[0m\n",
      "\u001b[0;31mTypeError\u001b[0m: 'map' object is not subscriptable"
     ]
    }
   ],
   "source": [
    "r = list( 'abc' )\n",
    "print( \"Result:\\t\\t\" + str( r ) )\n",
    "\n",
    "r = map( list, [ \"abc\", \"def\" ] )\n",
    "print( \"Result (list):\\t\" + str( list( r ) ) )\n",
    "\n",
    "r = list( map( list, [ \"abc\", \"def\" ] ) )[ 1 ][ 1 ]\n",
    "print( \"Result (list):\\t\" + str( r ) )\n",
    "\n",
    "r = map( list, [ \"abc\", \"def\" ] )[ 1 ][ 1 ]\n",
    "print( \"Result (list):\\t\" + str( list( r ) ) )"
   ]
  },
  {
   "cell_type": "markdown",
   "metadata": {},
   "source": [
    "### (f)"
   ]
  },
  {
   "cell_type": "code",
   "execution_count": 42,
   "metadata": {
    "ExecuteTime": {
     "end_time": "2020-12-14T14:27:40.500212Z",
     "start_time": "2020-12-14T14:27:40.495008Z"
    }
   },
   "outputs": [
    {
     "name": "stdout",
     "output_type": "stream",
     "text": [
      "Result:\t\tHallo| Welt| da| bin| ich| heute\n"
     ]
    }
   ],
   "source": [
    "from functools import reduce\n",
    "r = reduce( lambda x, y: x + '| ' + y, \"Hallo Welt da bin ich heute\".split() )\n",
    "print( \"Result:\\t\\t\" + str( r ) )"
   ]
  },
  {
   "cell_type": "markdown",
   "metadata": {},
   "source": [
    "### (g)"
   ]
  },
  {
   "cell_type": "code",
   "execution_count": 43,
   "metadata": {
    "ExecuteTime": {
     "end_time": "2020-12-14T14:27:42.747684Z",
     "start_time": "2020-12-14T14:27:42.741975Z"
    }
   },
   "outputs": [
    {
     "name": "stdout",
     "output_type": "stream",
     "text": [
      "Result:\t\t['Hallo', 'Welt', 'heute']\n"
     ]
    }
   ],
   "source": [
    "r = filter( lambda x: len( x ) > 3, \"Hallo Welt da bin ich heute\".split() )\n",
    "print( \"Result:\\t\\t\" + str( list( r ) ) )"
   ]
  },
  {
   "cell_type": "markdown",
   "metadata": {},
   "source": [
    "### (h)"
   ]
  },
  {
   "cell_type": "code",
   "execution_count": 45,
   "metadata": {
    "ExecuteTime": {
     "end_time": "2020-12-14T14:28:25.475229Z",
     "start_time": "2020-12-14T14:28:25.469406Z"
    }
   },
   "outputs": [
    {
     "name": "stdout",
     "output_type": "stream",
     "text": [
      "Result:\t\t024\n"
     ]
    }
   ],
   "source": [
    "r = str( 1024 )[1:]\n",
    "print( \"Result:\\t\\t\" + str( r ) )"
   ]
  },
  {
   "cell_type": "markdown",
   "metadata": {},
   "source": [
    "## Aufgabe 3"
   ]
  },
  {
   "cell_type": "markdown",
   "metadata": {},
   "source": [
    "### (a)"
   ]
  },
  {
   "cell_type": "code",
   "execution_count": 3,
   "metadata": {
    "ExecuteTime": {
     "end_time": "2020-12-14T14:30:48.151208Z",
     "start_time": "2020-12-14T14:30:48.123Z"
    }
   },
   "outputs": [
    {
     "name": "stdout",
     "output_type": "stream",
     "text": [
      "Result:\t\t 13 16"
     ]
    }
   ],
   "source": [
    "r = c( 3, 5 ) + c( 10, 11 )\n",
    "cat( \"Result:\\t\\t\", r )"
   ]
  },
  {
   "cell_type": "markdown",
   "metadata": {},
   "source": [
    "### (b)"
   ]
  },
  {
   "cell_type": "code",
   "execution_count": 5,
   "metadata": {
    "ExecuteTime": {
     "end_time": "2020-12-14T14:31:22.731643Z",
     "start_time": "2020-12-14T14:31:22.700Z"
    }
   },
   "outputs": [
    {
     "name": "stdout",
     "output_type": "stream",
     "text": [
      "Result:\t\t TRUE FALSE"
     ]
    }
   ],
   "source": [
    "r = c( 1, 5 ) %in% c( 1, 2, 0, 4, 1 )\n",
    "cat( \"Result:\\t\\t\", r )"
   ]
  },
  {
   "cell_type": "markdown",
   "metadata": {},
   "source": [
    "### (c)"
   ]
  },
  {
   "cell_type": "code",
   "execution_count": 10,
   "metadata": {
    "ExecuteTime": {
     "end_time": "2020-12-14T14:32:42.421790Z",
     "start_time": "2020-12-14T14:32:42.393Z"
    }
   },
   "outputs": [
    {
     "name": "stderr",
     "output_type": "stream",
     "text": [
      "Warning message in c(1, 2, 3, 11, 12) * c(2, 3):\n",
      "“Länge des längeren Objektes\n",
      " \t ist kein Vielfaches der Länge des kürzeren Objektes”"
     ]
    },
    {
     "name": "stdout",
     "output_type": "stream",
     "text": [
      "Result:\t\t 2 6 6 33 24"
     ]
    }
   ],
   "source": [
    "r = c( 1, 2, 3, 11, 12 ) * c( 2, 3 )\n",
    "cat( \"Result:\\t\\t\", r )"
   ]
  },
  {
   "cell_type": "markdown",
   "metadata": {},
   "source": [
    "### (d)"
   ]
  },
  {
   "cell_type": "code",
   "execution_count": 25,
   "metadata": {
    "ExecuteTime": {
     "end_time": "2020-12-14T14:38:53.916779Z",
     "start_time": "2020-12-14T14:38:53.879Z"
    }
   },
   "outputs": [
    {
     "name": "stdout",
     "output_type": "stream",
     "text": [
      "Result:\t\t 1 2 3 4 5 6 7 8 9 10 \n",
      "Result:\t\t 2 4 6 8 10 \n",
      "Result:\t\t 2 4 6 8 10 \n"
     ]
    }
   ],
   "source": [
    "r = c( 1:10 )\n",
    "cat( \"Result:\\t\\t\", r, \"\\n\" )\n",
    "\n",
    "r = 1:5 * 2\n",
    "cat( \"Result:\\t\\t\", r, \"\\n\"  )\n",
    "\n",
    "r = c( 1:10 )[ 1:5 * 2 ]\n",
    "cat( \"Result:\\t\\t\", r, \"\\n\"  )"
   ]
  },
  {
   "cell_type": "markdown",
   "metadata": {},
   "source": [
    "### (e)"
   ]
  },
  {
   "cell_type": "code",
   "execution_count": 26,
   "metadata": {
    "ExecuteTime": {
     "end_time": "2020-12-14T14:38:58.230013Z",
     "start_time": "2020-12-14T14:38:58.206Z"
    }
   },
   "outputs": [
    {
     "name": "stdout",
     "output_type": "stream",
     "text": [
      "Result:\t\t 4 8 12 16 20"
     ]
    }
   ],
   "source": [
    "r = ( 1:10 * 2 )[ 1:5 * 2 ]\n",
    "cat( \"Result:\\t\\t\", r )"
   ]
  },
  {
   "cell_type": "markdown",
   "metadata": {},
   "source": [
    "### (f)"
   ]
  },
  {
   "cell_type": "code",
   "execution_count": 28,
   "metadata": {
    "ExecuteTime": {
     "end_time": "2020-12-14T14:39:35.861450Z",
     "start_time": "2020-12-14T14:39:35.840Z"
    }
   },
   "outputs": [
    {
     "name": "stdout",
     "output_type": "stream",
     "text": [
      "Result:\t\t 1 1 1 1 1 1 1 1 1 1"
     ]
    }
   ],
   "source": [
    "r = 1:10 / 1:10\n",
    "cat( \"Result:\\t\\t\", r )"
   ]
  },
  {
   "cell_type": "markdown",
   "metadata": {},
   "source": [
    "### (g)"
   ]
  },
  {
   "cell_type": "code",
   "execution_count": 39,
   "metadata": {
    "ExecuteTime": {
     "end_time": "2020-12-14T14:44:18.940824Z",
     "start_time": "2020-12-14T14:44:18.867Z"
    }
   },
   "outputs": [
    {
     "name": "stdout",
     "output_type": "stream",
     "text": [
      "Result:\t\t c(\"a\", \"b\", \"c\", \"d\", \"e\", \"f\", \"g\", \"l\", \"m\", \"n\")"
     ]
    },
    {
     "data": {
      "text/plain": [
       "\n",
       "a b c d e f g l m n \n",
       "1 1 1 1 1 1 1 1 1 1 "
      ]
     },
     "metadata": {},
     "output_type": "display_data"
    },
    {
     "name": "stdout",
     "output_type": "stream",
     "text": [
      "Result:\t\t c(\"H\", \"a\", \"l\", \"l\", \"i\", \"H\", \"a\", \"l\", \"l\", \"o\")"
     ]
    },
    {
     "data": {
      "text/plain": [
       "\n",
       "H a i l o \n",
       "2 2 1 4 1 "
      ]
     },
     "metadata": {},
     "output_type": "display_data"
    }
   ],
   "source": [
    "r = strsplit( \"abcdefglmn\", \"\" )\n",
    "cat( \"Result:\\t\\t\", toString( r ) )\n",
    "\n",
    "table( strsplit( \"abcdefglmn\", \"\" ) )\n",
    "\n",
    "r = strsplit( \"HalliHallo\", \"\" )\n",
    "cat( \"Result:\\t\\t\", toString( r ) )\n",
    "\n",
    "table( strsplit( \"HalliHallo\", \"\" ) )"
   ]
  },
  {
   "cell_type": "markdown",
   "metadata": {},
   "source": [
    "### (h)"
   ]
  },
  {
   "cell_type": "code",
   "execution_count": 43,
   "metadata": {
    "ExecuteTime": {
     "end_time": "2020-12-14T14:45:12.492133Z",
     "start_time": "2020-12-14T14:45:12.423Z"
    }
   },
   "outputs": [
    {
     "name": "stdout",
     "output_type": "stream",
     "text": [
      "Result:\t\t 3 6 9 12 15 18 21 24 \n",
      "Result:\n"
     ]
    },
    {
     "data": {
      "text/html": [
       "<table>\n",
       "<tbody>\n",
       "\t<tr><td> 3</td><td>15</td></tr>\n",
       "\t<tr><td> 6</td><td>18</td></tr>\n",
       "\t<tr><td> 9</td><td>21</td></tr>\n",
       "\t<tr><td>12</td><td>24</td></tr>\n",
       "</tbody>\n",
       "</table>\n"
      ],
      "text/latex": [
       "\\begin{tabular}{ll}\n",
       "\t  3 & 15\\\\\n",
       "\t  6 & 18\\\\\n",
       "\t  9 & 21\\\\\n",
       "\t 12 & 24\\\\\n",
       "\\end{tabular}\n"
      ],
      "text/markdown": [
       "\n",
       "|  3 | 15 |\n",
       "|  6 | 18 |\n",
       "|  9 | 21 |\n",
       "| 12 | 24 |\n",
       "\n"
      ],
      "text/plain": [
       "     [,1] [,2]\n",
       "[1,]  3   15  \n",
       "[2,]  6   18  \n",
       "[3,]  9   21  \n",
       "[4,] 12   24  "
      ]
     },
     "metadata": {},
     "output_type": "display_data"
    }
   ],
   "source": [
    "r = 1:8 * 3 \n",
    "cat( \"Result:\\t\\t\", r, \"\\n\" )\n",
    "\n",
    "cat( \"Result:\\n\" )\n",
    "matrix( 1:8 * 3, ncol=2 )"
   ]
  },
  {
   "cell_type": "markdown",
   "metadata": {},
   "source": [
    "### (i)"
   ]
  },
  {
   "cell_type": "code",
   "execution_count": 52,
   "metadata": {
    "ExecuteTime": {
     "end_time": "2020-12-14T14:46:20.697735Z",
     "start_time": "2020-12-14T14:46:20.631Z"
    }
   },
   "outputs": [
    {
     "name": "stdout",
     "output_type": "stream",
     "text": [
      "Result:\t\t 1 2 3 4 \n",
      "Result:\t\t 1 2 3 4 1 2 3 4"
     ]
    }
   ],
   "source": [
    "r = rep( 1:4, 1 )\n",
    "cat( \"Result:\\t\\t\", r, \"\\n\" )\n",
    "\n",
    "r = rep( 1:4, 2 )\n",
    "cat( \"Result:\\t\\t\", r )"
   ]
  },
  {
   "cell_type": "markdown",
   "metadata": {},
   "source": [
    "### (j)"
   ]
  },
  {
   "cell_type": "code",
   "execution_count": 58,
   "metadata": {
    "ExecuteTime": {
     "end_time": "2020-12-14T14:47:53.923625Z",
     "start_time": "2020-12-14T14:47:53.889Z"
    }
   },
   "outputs": [
    {
     "name": "stdout",
     "output_type": "stream",
     "text": [
      "Result:\t\t 1 2 3 1 2 2 \n",
      "Result:\n"
     ]
    },
    {
     "data": {
      "text/plain": [
       "\n",
       "1 2 3 \n",
       "2 3 1 "
      ]
     },
     "metadata": {},
     "output_type": "display_data"
    },
    {
     "name": "stdout",
     "output_type": "stream",
     "text": [
      "Result:\n"
     ]
    },
    {
     "data": {
      "text/plain": [
       "\n",
       "1 2 3 \n",
       "6 9 3 "
      ]
     },
     "metadata": {},
     "output_type": "display_data"
    }
   ],
   "source": [
    "r = c( 1, 2, 3, 1, 2, 2 )\n",
    "cat( \"Result:\\t\\t\", r, \"\\n\" )\n",
    "\n",
    "cat( \"Result:\\n\" )\n",
    "table( c( 1, 2, 3, 1, 2, 2 ) )\n",
    "\n",
    "cat( \"Result:\\n\" )\n",
    "table( c( 1, 2, 3, 1, 2, 2 ) ) * 3"
   ]
  },
  {
   "cell_type": "code",
   "execution_count": null,
   "metadata": {},
   "outputs": [],
   "source": []
  }
 ],
 "metadata": {
  "kernelspec": {
   "display_name": "R",
   "language": "R",
   "name": "ir"
  },
  "language_info": {
   "codemirror_mode": "r",
   "file_extension": ".r",
   "mimetype": "text/x-r-source",
   "name": "R",
   "pygments_lexer": "r",
   "version": "3.6.1"
  },
  "toc": {
   "base_numbering": 1,
   "nav_menu": {},
   "number_sections": true,
   "sideBar": true,
   "skip_h1_title": false,
   "title_cell": "Table of Contents",
   "title_sidebar": "Contents",
   "toc_cell": false,
   "toc_position": {},
   "toc_section_display": true,
   "toc_window_display": false
  }
 },
 "nbformat": 4,
 "nbformat_minor": 4
}
